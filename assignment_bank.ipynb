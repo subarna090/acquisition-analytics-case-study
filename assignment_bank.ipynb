{
 "cells": [
  {
   "cell_type": "markdown",
   "metadata": {},
   "source": [
    "## Acquisition Analytics Assignment: Bank Marketing\n",
    "\n",
    "We will understand the business objective and understand the data using univariate and multivariate analysis. Then we'll build supervised learning models, choose the best among them and analyze the financial benefits of the analytics project.\n",
    "\n",
    "- Data Understanding\n",
    "- Data Cleaning\n",
    "- Data Preparation\n",
    "- Data Modelling\n",
    "- Model Evaluation"
   ]
  },
  {
   "cell_type": "markdown",
   "metadata": {},
   "source": [
    "The objective is to reduce the customer acquisition cost by targeting the ones who are likely to buy and to improve the response rate, i.e. the fraction of prospects who respond to the campaign."
   ]
  },
  {
   "cell_type": "markdown",
   "metadata": {},
   "source": [
    "### Data Understanding\n",
    "\n",
    "The first step in solving any machine learning problem is data understanding. We will import the requisite libraries and apply univariate and multivariate analysis."
   ]
  },
  {
   "cell_type": "code",
   "execution_count": 1,
   "metadata": {},
   "outputs": [],
   "source": [
    "import warnings\n",
    "warnings.filterwarnings('ignore')"
   ]
  },
  {
   "cell_type": "code",
   "execution_count": 2,
   "metadata": {},
   "outputs": [
    {
     "name": "stdout",
     "output_type": "stream",
     "text": [
      "<class 'pandas.core.frame.DataFrame'>\n",
      "RangeIndex: 41188 entries, 0 to 41187\n",
      "Data columns (total 21 columns):\n",
      "age               41188 non-null int64\n",
      "job               41188 non-null object\n",
      "marital           41188 non-null object\n",
      "education         41188 non-null object\n",
      "default           41188 non-null object\n",
      "housing           41188 non-null object\n",
      "loan              41188 non-null object\n",
      "contact           41188 non-null object\n",
      "month             41188 non-null object\n",
      "day_of_week       41188 non-null object\n",
      "duration          41188 non-null int64\n",
      "campaign          41188 non-null int64\n",
      "pdays             41188 non-null int64\n",
      "previous          41188 non-null int64\n",
      "poutcome          41188 non-null object\n",
      "emp.var.rate      41188 non-null float64\n",
      "cons.price.idx    41188 non-null float64\n",
      "cons.conf.idx     41188 non-null float64\n",
      "euribor3m         41188 non-null float64\n",
      "nr.employed       41188 non-null float64\n",
      "response          41188 non-null object\n",
      "dtypes: float64(5), int64(5), object(11)\n",
      "memory usage: 6.6+ MB\n"
     ]
    }
   ],
   "source": [
    "import numpy as np\n",
    "import pandas as pd\n",
    "import matplotlib.pyplot as plt\n",
    "import seaborn as sns\n",
    "\n",
    "loan = pd.read_csv(\"bank_marketing.csv\", sep=\",\")\n",
    "loan.info()"
   ]
  },
  {
   "cell_type": "code",
   "execution_count": 3,
   "metadata": {},
   "outputs": [
    {
     "data": {
      "text/plain": [
       "age               0\n",
       "job               0\n",
       "marital           0\n",
       "education         0\n",
       "default           0\n",
       "housing           0\n",
       "loan              0\n",
       "contact           0\n",
       "month             0\n",
       "day_of_week       0\n",
       "duration          0\n",
       "campaign          0\n",
       "pdays             0\n",
       "previous          0\n",
       "poutcome          0\n",
       "emp.var.rate      0\n",
       "cons.price.idx    0\n",
       "cons.conf.idx     0\n",
       "euribor3m         0\n",
       "nr.employed       0\n",
       "response          0\n",
       "dtype: int64"
      ]
     },
     "execution_count": 3,
     "metadata": {},
     "output_type": "execute_result"
    }
   ],
   "source": [
    "loan.isnull().sum()"
   ]
  },
  {
   "cell_type": "markdown",
   "metadata": {},
   "source": [
    "We can note that the dataset has 41188 data entries across 21 columns, one of them being the response (Target variable). Another thing to note is that there are no null values. That is, the dataset is completely clean."
   ]
  },
  {
   "cell_type": "code",
   "execution_count": 4,
   "metadata": {},
   "outputs": [
    {
     "data": {
      "text/html": [
       "<div>\n",
       "<style scoped>\n",
       "    .dataframe tbody tr th:only-of-type {\n",
       "        vertical-align: middle;\n",
       "    }\n",
       "\n",
       "    .dataframe tbody tr th {\n",
       "        vertical-align: top;\n",
       "    }\n",
       "\n",
       "    .dataframe thead th {\n",
       "        text-align: right;\n",
       "    }\n",
       "</style>\n",
       "<table border=\"1\" class=\"dataframe\">\n",
       "  <thead>\n",
       "    <tr style=\"text-align: right;\">\n",
       "      <th></th>\n",
       "      <th>age</th>\n",
       "      <th>job</th>\n",
       "      <th>marital</th>\n",
       "      <th>education</th>\n",
       "      <th>default</th>\n",
       "      <th>housing</th>\n",
       "      <th>loan</th>\n",
       "      <th>contact</th>\n",
       "      <th>month</th>\n",
       "      <th>day_of_week</th>\n",
       "      <th>...</th>\n",
       "      <th>campaign</th>\n",
       "      <th>pdays</th>\n",
       "      <th>previous</th>\n",
       "      <th>poutcome</th>\n",
       "      <th>emp.var.rate</th>\n",
       "      <th>cons.price.idx</th>\n",
       "      <th>cons.conf.idx</th>\n",
       "      <th>euribor3m</th>\n",
       "      <th>nr.employed</th>\n",
       "      <th>response</th>\n",
       "    </tr>\n",
       "  </thead>\n",
       "  <tbody>\n",
       "    <tr>\n",
       "      <th>0</th>\n",
       "      <td>56</td>\n",
       "      <td>housemaid</td>\n",
       "      <td>married</td>\n",
       "      <td>basic.4y</td>\n",
       "      <td>no</td>\n",
       "      <td>no</td>\n",
       "      <td>no</td>\n",
       "      <td>telephone</td>\n",
       "      <td>may</td>\n",
       "      <td>mon</td>\n",
       "      <td>...</td>\n",
       "      <td>1</td>\n",
       "      <td>999</td>\n",
       "      <td>0</td>\n",
       "      <td>nonexistent</td>\n",
       "      <td>1.1</td>\n",
       "      <td>93.994</td>\n",
       "      <td>-36.4</td>\n",
       "      <td>4.857</td>\n",
       "      <td>5191.0</td>\n",
       "      <td>no</td>\n",
       "    </tr>\n",
       "    <tr>\n",
       "      <th>1</th>\n",
       "      <td>57</td>\n",
       "      <td>services</td>\n",
       "      <td>married</td>\n",
       "      <td>high.school</td>\n",
       "      <td>unknown</td>\n",
       "      <td>no</td>\n",
       "      <td>no</td>\n",
       "      <td>telephone</td>\n",
       "      <td>may</td>\n",
       "      <td>mon</td>\n",
       "      <td>...</td>\n",
       "      <td>1</td>\n",
       "      <td>999</td>\n",
       "      <td>0</td>\n",
       "      <td>nonexistent</td>\n",
       "      <td>1.1</td>\n",
       "      <td>93.994</td>\n",
       "      <td>-36.4</td>\n",
       "      <td>4.857</td>\n",
       "      <td>5191.0</td>\n",
       "      <td>no</td>\n",
       "    </tr>\n",
       "    <tr>\n",
       "      <th>2</th>\n",
       "      <td>37</td>\n",
       "      <td>services</td>\n",
       "      <td>married</td>\n",
       "      <td>high.school</td>\n",
       "      <td>no</td>\n",
       "      <td>yes</td>\n",
       "      <td>no</td>\n",
       "      <td>telephone</td>\n",
       "      <td>may</td>\n",
       "      <td>mon</td>\n",
       "      <td>...</td>\n",
       "      <td>1</td>\n",
       "      <td>999</td>\n",
       "      <td>0</td>\n",
       "      <td>nonexistent</td>\n",
       "      <td>1.1</td>\n",
       "      <td>93.994</td>\n",
       "      <td>-36.4</td>\n",
       "      <td>4.857</td>\n",
       "      <td>5191.0</td>\n",
       "      <td>no</td>\n",
       "    </tr>\n",
       "    <tr>\n",
       "      <th>3</th>\n",
       "      <td>40</td>\n",
       "      <td>admin.</td>\n",
       "      <td>married</td>\n",
       "      <td>basic.6y</td>\n",
       "      <td>no</td>\n",
       "      <td>no</td>\n",
       "      <td>no</td>\n",
       "      <td>telephone</td>\n",
       "      <td>may</td>\n",
       "      <td>mon</td>\n",
       "      <td>...</td>\n",
       "      <td>1</td>\n",
       "      <td>999</td>\n",
       "      <td>0</td>\n",
       "      <td>nonexistent</td>\n",
       "      <td>1.1</td>\n",
       "      <td>93.994</td>\n",
       "      <td>-36.4</td>\n",
       "      <td>4.857</td>\n",
       "      <td>5191.0</td>\n",
       "      <td>no</td>\n",
       "    </tr>\n",
       "    <tr>\n",
       "      <th>4</th>\n",
       "      <td>56</td>\n",
       "      <td>services</td>\n",
       "      <td>married</td>\n",
       "      <td>high.school</td>\n",
       "      <td>no</td>\n",
       "      <td>no</td>\n",
       "      <td>yes</td>\n",
       "      <td>telephone</td>\n",
       "      <td>may</td>\n",
       "      <td>mon</td>\n",
       "      <td>...</td>\n",
       "      <td>1</td>\n",
       "      <td>999</td>\n",
       "      <td>0</td>\n",
       "      <td>nonexistent</td>\n",
       "      <td>1.1</td>\n",
       "      <td>93.994</td>\n",
       "      <td>-36.4</td>\n",
       "      <td>4.857</td>\n",
       "      <td>5191.0</td>\n",
       "      <td>no</td>\n",
       "    </tr>\n",
       "  </tbody>\n",
       "</table>\n",
       "<p>5 rows × 21 columns</p>\n",
       "</div>"
      ],
      "text/plain": [
       "   age        job  marital    education  default housing loan    contact  \\\n",
       "0   56  housemaid  married     basic.4y       no      no   no  telephone   \n",
       "1   57   services  married  high.school  unknown      no   no  telephone   \n",
       "2   37   services  married  high.school       no     yes   no  telephone   \n",
       "3   40     admin.  married     basic.6y       no      no   no  telephone   \n",
       "4   56   services  married  high.school       no      no  yes  telephone   \n",
       "\n",
       "  month day_of_week    ...     campaign  pdays  previous     poutcome  \\\n",
       "0   may         mon    ...            1    999         0  nonexistent   \n",
       "1   may         mon    ...            1    999         0  nonexistent   \n",
       "2   may         mon    ...            1    999         0  nonexistent   \n",
       "3   may         mon    ...            1    999         0  nonexistent   \n",
       "4   may         mon    ...            1    999         0  nonexistent   \n",
       "\n",
       "  emp.var.rate  cons.price.idx  cons.conf.idx  euribor3m  nr.employed  \\\n",
       "0          1.1          93.994          -36.4      4.857       5191.0   \n",
       "1          1.1          93.994          -36.4      4.857       5191.0   \n",
       "2          1.1          93.994          -36.4      4.857       5191.0   \n",
       "3          1.1          93.994          -36.4      4.857       5191.0   \n",
       "4          1.1          93.994          -36.4      4.857       5191.0   \n",
       "\n",
       "   response  \n",
       "0        no  \n",
       "1        no  \n",
       "2        no  \n",
       "3        no  \n",
       "4        no  \n",
       "\n",
       "[5 rows x 21 columns]"
      ]
     },
     "execution_count": 4,
     "metadata": {},
     "output_type": "execute_result"
    }
   ],
   "source": [
    "# let's look at the first few rows of the dataframe\n",
    "loan.head()"
   ]
  },
  {
   "cell_type": "code",
   "execution_count": 5,
   "metadata": {},
   "outputs": [
    {
     "data": {
      "text/plain": [
       "Index(['age', 'job', 'marital', 'education', 'default', 'housing', 'loan',\n",
       "       'contact', 'month', 'day_of_week', 'duration', 'campaign', 'pdays',\n",
       "       'previous', 'poutcome', 'emp.var.rate', 'cons.price.idx',\n",
       "       'cons.conf.idx', 'euribor3m', 'nr.employed', 'response'],\n",
       "      dtype='object')"
      ]
     },
     "execution_count": 5,
     "metadata": {},
     "output_type": "execute_result"
    }
   ],
   "source": [
    "# Looking at all the column names\n",
    "loan.columns"
   ]
  },
  {
   "cell_type": "code",
   "execution_count": 6,
   "metadata": {},
   "outputs": [
    {
     "data": {
      "text/plain": [
       "no     36548\n",
       "yes     4640\n",
       "Name: response, dtype: int64"
      ]
     },
     "execution_count": 6,
     "metadata": {},
     "output_type": "execute_result"
    }
   ],
   "source": [
    "loan['response'].value_counts()"
   ]
  },
  {
   "cell_type": "markdown",
   "metadata": {},
   "source": [
    "As we note that the response variable has 'yes' and 'no' responses, we will convert it to 1 and 0 respectively"
   ]
  },
  {
   "cell_type": "code",
   "execution_count": 7,
   "metadata": {},
   "outputs": [],
   "source": [
    "loan['response'] = loan['response'].map({'yes': 1, 'no': 0})"
   ]
  },
  {
   "cell_type": "code",
   "execution_count": 8,
   "metadata": {},
   "outputs": [
    {
     "data": {
      "text/plain": [
       "0    0\n",
       "1    0\n",
       "2    0\n",
       "3    0\n",
       "4    0\n",
       "Name: response, dtype: int64"
      ]
     },
     "execution_count": 8,
     "metadata": {},
     "output_type": "execute_result"
    }
   ],
   "source": [
    "loan['response'].head()"
   ]
  },
  {
   "cell_type": "code",
   "execution_count": 9,
   "metadata": {},
   "outputs": [
    {
     "data": {
      "text/plain": [
       "0    36548\n",
       "1     4640\n",
       "Name: response, dtype: int64"
      ]
     },
     "execution_count": 9,
     "metadata": {},
     "output_type": "execute_result"
    }
   ],
   "source": [
    "loan['response'].value_counts()"
   ]
  },
  {
   "cell_type": "code",
   "execution_count": 10,
   "metadata": {},
   "outputs": [],
   "source": [
    "# Copy the dataset into a back up dataframe for future use\n",
    "\n",
    "loan_copy = loan"
   ]
  },
  {
   "cell_type": "code",
   "execution_count": 11,
   "metadata": {},
   "outputs": [
    {
     "data": {
      "text/plain": [
       "11.27"
      ]
     },
     "execution_count": 11,
     "metadata": {},
     "output_type": "execute_result"
    }
   ],
   "source": [
    "# Determine the percentage of people who have bought the investment product, that is those who have the response varibale as 1\n",
    "\n",
    "100*(loan['response'].sum()/loan['response'].count()).round(4)"
   ]
  },
  {
   "cell_type": "markdown",
   "metadata": {},
   "source": [
    "### Exploratory Data Analysis\n",
    "\n",
    "Now, we will do Exploratory Data Analysis on individual features and look for patterns."
   ]
  },
  {
   "cell_type": "markdown",
   "metadata": {},
   "source": [
    "First, we will look at the client data.\n",
    "\n",
    "- Age\n",
    "- Job : type of job\n",
    "- Marital : marital status\n",
    "- Education\n",
    "- Default: has credit in default?\n",
    "- Housing: has housing loan?\n",
    "- Loan: has personal loan?\n",
    "\n",
    "#### Age"
   ]
  },
  {
   "cell_type": "code",
   "execution_count": 12,
   "metadata": {},
   "outputs": [
    {
     "data": {
      "image/png": "[encoded data removed]",
      "text/plain": [
       "<Figure size 432x288 with 1 Axes>"
      ]
     },
     "metadata": {},
     "output_type": "display_data"
    }
   ],
   "source": [
    "sns.boxplot(x='age', data=loan)\n",
    "plt.show()"
   ]
  },
  {
   "cell_type": "code",
   "execution_count": 13,
   "metadata": {},
   "outputs": [],
   "source": [
    "# Since there are a fair few data entries with age > 71, we will club all of those ages at 71 (since we can assume \n",
    "# that the behaviour will not change significantly with age at age above 70)\n",
    "\n",
    "loan['age'][loan['age']>71] =71"
   ]
  },
  {
   "cell_type": "code",
   "execution_count": 14,
   "metadata": {},
   "outputs": [
    {
     "data": {
      "image/png": "[encoded data removed]",
      "text/plain": [
       "<Figure size 432x288 with 1 Axes>"
      ]
     },
     "metadata": {},
     "output_type": "display_data"
    }
   ],
   "source": [
    "sns.boxplot(x='age', data=loan)\n",
    "plt.show()"
   ]
  },
  {
   "cell_type": "code",
   "execution_count": 15,
   "metadata": {},
   "outputs": [],
   "source": [
    "# To understand the behaviour of people with age, we are going to bucket the age groups into brackets of 10 and \n",
    "# study the response rates\n",
    "\n",
    "bins = np.arange(10,loan['age'].max() + 10, 10)\n",
    "loan['age_bins'] = pd.cut(loan['age'], bins, include_lowest=True)"
   ]
  },
  {
   "cell_type": "code",
   "execution_count": 16,
   "metadata": {},
   "outputs": [],
   "source": [
    "No_of_prospect = loan.groupby('age_bins')['response'].count().reset_index(name = 'No.of_prospect')"
   ]
  },
  {
   "cell_type": "code",
   "execution_count": 17,
   "metadata": {},
   "outputs": [],
   "source": [
    "count_prospects = loan[loan['response']==1].groupby('age_bins')['response'].count().reset_index(name = 'count_prospects')"
   ]
  },
  {
   "cell_type": "code",
   "execution_count": 18,
   "metadata": {},
   "outputs": [],
   "source": [
    "agg_age = No_of_prospect.merge(count_prospects, on='age_bins')"
   ]
  },
  {
   "cell_type": "code",
   "execution_count": 19,
   "metadata": {},
   "outputs": [],
   "source": [
    "agg_age['response_rate'] = 100*(agg_age['count_prospects']/agg_age['No.of_prospect']).round(3)"
   ]
  },
  {
   "cell_type": "code",
   "execution_count": 20,
   "metadata": {},
   "outputs": [
    {
     "data": {
      "text/html": [
       "<div>\n",
       "<style scoped>\n",
       "    .dataframe tbody tr th:only-of-type {\n",
       "        vertical-align: middle;\n",
       "    }\n",
       "\n",
       "    .dataframe tbody tr th {\n",
       "        vertical-align: top;\n",
       "    }\n",
       "\n",
       "    .dataframe thead th {\n",
       "        text-align: right;\n",
       "    }\n",
       "</style>\n",
       "<table border=\"1\" class=\"dataframe\">\n",
       "  <thead>\n",
       "    <tr style=\"text-align: right;\">\n",
       "      <th></th>\n",
       "      <th>age_bins</th>\n",
       "      <th>No.of_prospect</th>\n",
       "      <th>count_prospects</th>\n",
       "      <th>response_rate</th>\n",
       "    </tr>\n",
       "  </thead>\n",
       "  <tbody>\n",
       "    <tr>\n",
       "      <th>0</th>\n",
       "      <td>(9.999, 20.0]</td>\n",
       "      <td>140</td>\n",
       "      <td>57</td>\n",
       "      <td>40.7</td>\n",
       "    </tr>\n",
       "    <tr>\n",
       "      <th>1</th>\n",
       "      <td>(20.0, 30.0]</td>\n",
       "      <td>7243</td>\n",
       "      <td>1067</td>\n",
       "      <td>14.7</td>\n",
       "    </tr>\n",
       "    <tr>\n",
       "      <th>2</th>\n",
       "      <td>(30.0, 40.0]</td>\n",
       "      <td>16385</td>\n",
       "      <td>1597</td>\n",
       "      <td>9.7</td>\n",
       "    </tr>\n",
       "    <tr>\n",
       "      <th>3</th>\n",
       "      <td>(40.0, 50.0]</td>\n",
       "      <td>10240</td>\n",
       "      <td>837</td>\n",
       "      <td>8.2</td>\n",
       "    </tr>\n",
       "    <tr>\n",
       "      <th>4</th>\n",
       "      <td>(50.0, 60.0]</td>\n",
       "      <td>6270</td>\n",
       "      <td>668</td>\n",
       "      <td>10.7</td>\n",
       "    </tr>\n",
       "    <tr>\n",
       "      <th>5</th>\n",
       "      <td>(60.0, 70.0]</td>\n",
       "      <td>488</td>\n",
       "      <td>212</td>\n",
       "      <td>43.4</td>\n",
       "    </tr>\n",
       "    <tr>\n",
       "      <th>6</th>\n",
       "      <td>(70.0, 80.0]</td>\n",
       "      <td>422</td>\n",
       "      <td>202</td>\n",
       "      <td>47.9</td>\n",
       "    </tr>\n",
       "  </tbody>\n",
       "</table>\n",
       "</div>"
      ],
      "text/plain": [
       "        age_bins  No.of_prospect  count_prospects  response_rate\n",
       "0  (9.999, 20.0]             140               57           40.7\n",
       "1   (20.0, 30.0]            7243             1067           14.7\n",
       "2   (30.0, 40.0]           16385             1597            9.7\n",
       "3   (40.0, 50.0]           10240              837            8.2\n",
       "4   (50.0, 60.0]            6270              668           10.7\n",
       "5   (60.0, 70.0]             488              212           43.4\n",
       "6   (70.0, 80.0]             422              202           47.9"
      ]
     },
     "execution_count": 20,
     "metadata": {},
     "output_type": "execute_result"
    }
   ],
   "source": [
    "agg_age"
   ]
  },
  {
   "cell_type": "code",
   "execution_count": 21,
   "metadata": {},
   "outputs": [
    {
     "data": {
      "image/png": "[encoded data removed]",
      "text/plain": [
       "<Figure size 432x288 with 1 Axes>"
      ]
     },
     "metadata": {},
     "output_type": "display_data"
    }
   ],
   "source": [
    "ax = sns.barplot(x='age_bins', y='response_rate', data=agg_age)\n",
    "ax.set_xticklabels(ax.get_xticklabels(),rotation=30)\n",
    "plt.show()"
   ]
  },
  {
   "cell_type": "markdown",
   "metadata": {},
   "source": [
    "As we can see, the youngest and the eldest are the most likely to buy the investment product being offered by the bank."
   ]
  },
  {
   "cell_type": "code",
   "execution_count": 22,
   "metadata": {},
   "outputs": [
    {
     "data": {
      "text/html": [
       "<div>\n",
       "<style scoped>\n",
       "    .dataframe tbody tr th:only-of-type {\n",
       "        vertical-align: middle;\n",
       "    }\n",
       "\n",
       "    .dataframe tbody tr th {\n",
       "        vertical-align: top;\n",
       "    }\n",
       "\n",
       "    .dataframe thead th {\n",
       "        text-align: right;\n",
       "    }\n",
       "</style>\n",
       "<table border=\"1\" class=\"dataframe\">\n",
       "  <thead>\n",
       "    <tr style=\"text-align: right;\">\n",
       "      <th></th>\n",
       "      <th>age</th>\n",
       "      <th>job</th>\n",
       "      <th>marital</th>\n",
       "      <th>education</th>\n",
       "      <th>default</th>\n",
       "      <th>housing</th>\n",
       "      <th>loan</th>\n",
       "      <th>contact</th>\n",
       "      <th>month</th>\n",
       "      <th>day_of_week</th>\n",
       "      <th>...</th>\n",
       "      <th>pdays</th>\n",
       "      <th>previous</th>\n",
       "      <th>poutcome</th>\n",
       "      <th>emp.var.rate</th>\n",
       "      <th>cons.price.idx</th>\n",
       "      <th>cons.conf.idx</th>\n",
       "      <th>euribor3m</th>\n",
       "      <th>nr.employed</th>\n",
       "      <th>response</th>\n",
       "      <th>age_bins</th>\n",
       "    </tr>\n",
       "  </thead>\n",
       "  <tbody>\n",
       "    <tr>\n",
       "      <th>0</th>\n",
       "      <td>56</td>\n",
       "      <td>housemaid</td>\n",
       "      <td>married</td>\n",
       "      <td>basic.4y</td>\n",
       "      <td>no</td>\n",
       "      <td>no</td>\n",
       "      <td>no</td>\n",
       "      <td>telephone</td>\n",
       "      <td>may</td>\n",
       "      <td>mon</td>\n",
       "      <td>...</td>\n",
       "      <td>999</td>\n",
       "      <td>0</td>\n",
       "      <td>nonexistent</td>\n",
       "      <td>1.1</td>\n",
       "      <td>93.994</td>\n",
       "      <td>-36.4</td>\n",
       "      <td>4.857</td>\n",
       "      <td>5191.0</td>\n",
       "      <td>0</td>\n",
       "      <td>(50.0, 60.0]</td>\n",
       "    </tr>\n",
       "    <tr>\n",
       "      <th>1</th>\n",
       "      <td>57</td>\n",
       "      <td>services</td>\n",
       "      <td>married</td>\n",
       "      <td>high.school</td>\n",
       "      <td>unknown</td>\n",
       "      <td>no</td>\n",
       "      <td>no</td>\n",
       "      <td>telephone</td>\n",
       "      <td>may</td>\n",
       "      <td>mon</td>\n",
       "      <td>...</td>\n",
       "      <td>999</td>\n",
       "      <td>0</td>\n",
       "      <td>nonexistent</td>\n",
       "      <td>1.1</td>\n",
       "      <td>93.994</td>\n",
       "      <td>-36.4</td>\n",
       "      <td>4.857</td>\n",
       "      <td>5191.0</td>\n",
       "      <td>0</td>\n",
       "      <td>(50.0, 60.0]</td>\n",
       "    </tr>\n",
       "    <tr>\n",
       "      <th>2</th>\n",
       "      <td>37</td>\n",
       "      <td>services</td>\n",
       "      <td>married</td>\n",
       "      <td>high.school</td>\n",
       "      <td>no</td>\n",
       "      <td>yes</td>\n",
       "      <td>no</td>\n",
       "      <td>telephone</td>\n",
       "      <td>may</td>\n",
       "      <td>mon</td>\n",
       "      <td>...</td>\n",
       "      <td>999</td>\n",
       "      <td>0</td>\n",
       "      <td>nonexistent</td>\n",
       "      <td>1.1</td>\n",
       "      <td>93.994</td>\n",
       "      <td>-36.4</td>\n",
       "      <td>4.857</td>\n",
       "      <td>5191.0</td>\n",
       "      <td>0</td>\n",
       "      <td>(30.0, 40.0]</td>\n",
       "    </tr>\n",
       "    <tr>\n",
       "      <th>3</th>\n",
       "      <td>40</td>\n",
       "      <td>admin.</td>\n",
       "      <td>married</td>\n",
       "      <td>basic.6y</td>\n",
       "      <td>no</td>\n",
       "      <td>no</td>\n",
       "      <td>no</td>\n",
       "      <td>telephone</td>\n",
       "      <td>may</td>\n",
       "      <td>mon</td>\n",
       "      <td>...</td>\n",
       "      <td>999</td>\n",
       "      <td>0</td>\n",
       "      <td>nonexistent</td>\n",
       "      <td>1.1</td>\n",
       "      <td>93.994</td>\n",
       "      <td>-36.4</td>\n",
       "      <td>4.857</td>\n",
       "      <td>5191.0</td>\n",
       "      <td>0</td>\n",
       "      <td>(30.0, 40.0]</td>\n",
       "    </tr>\n",
       "    <tr>\n",
       "      <th>4</th>\n",
       "      <td>56</td>\n",
       "      <td>services</td>\n",
       "      <td>married</td>\n",
       "      <td>high.school</td>\n",
       "      <td>no</td>\n",
       "      <td>no</td>\n",
       "      <td>yes</td>\n",
       "      <td>telephone</td>\n",
       "      <td>may</td>\n",
       "      <td>mon</td>\n",
       "      <td>...</td>\n",
       "      <td>999</td>\n",
       "      <td>0</td>\n",
       "      <td>nonexistent</td>\n",
       "      <td>1.1</td>\n",
       "      <td>93.994</td>\n",
       "      <td>-36.4</td>\n",
       "      <td>4.857</td>\n",
       "      <td>5191.0</td>\n",
       "      <td>0</td>\n",
       "      <td>(50.0, 60.0]</td>\n",
       "    </tr>\n",
       "  </tbody>\n",
       "</table>\n",
       "<p>5 rows × 22 columns</p>\n",
       "</div>"
      ],
      "text/plain": [
       "   age        job  marital    education  default housing loan    contact  \\\n",
       "0   56  housemaid  married     basic.4y       no      no   no  telephone   \n",
       "1   57   services  married  high.school  unknown      no   no  telephone   \n",
       "2   37   services  married  high.school       no     yes   no  telephone   \n",
       "3   40     admin.  married     basic.6y       no      no   no  telephone   \n",
       "4   56   services  married  high.school       no      no  yes  telephone   \n",
       "\n",
       "  month day_of_week      ...       pdays  previous     poutcome  emp.var.rate  \\\n",
       "0   may         mon      ...         999         0  nonexistent           1.1   \n",
       "1   may         mon      ...         999         0  nonexistent           1.1   \n",
       "2   may         mon      ...         999         0  nonexistent           1.1   \n",
       "3   may         mon      ...         999         0  nonexistent           1.1   \n",
       "4   may         mon      ...         999         0  nonexistent           1.1   \n",
       "\n",
       "  cons.price.idx  cons.conf.idx  euribor3m  nr.employed  response  \\\n",
       "0         93.994          -36.4      4.857       5191.0         0   \n",
       "1         93.994          -36.4      4.857       5191.0         0   \n",
       "2         93.994          -36.4      4.857       5191.0         0   \n",
       "3         93.994          -36.4      4.857       5191.0         0   \n",
       "4         93.994          -36.4      4.857       5191.0         0   \n",
       "\n",
       "       age_bins  \n",
       "0  (50.0, 60.0]  \n",
       "1  (50.0, 60.0]  \n",
       "2  (30.0, 40.0]  \n",
       "3  (30.0, 40.0]  \n",
       "4  (50.0, 60.0]  \n",
       "\n",
       "[5 rows x 22 columns]"
      ]
     },
     "execution_count": 22,
     "metadata": {},
     "output_type": "execute_result"
    }
   ],
   "source": [
    "# Note that we have added a new column named age bucket to the table\n",
    "\n",
    "loan.head()"
   ]
  },
  {
   "cell_type": "markdown",
   "metadata": {},
   "source": [
    "Similarly, we will look at the relation between response rate and job. Note that since job is already a categorical variable, we don't need to bucket the data"
   ]
  },
  {
   "cell_type": "markdown",
   "metadata": {},
   "source": [
    "#### Job"
   ]
  },
  {
   "cell_type": "code",
   "execution_count": 23,
   "metadata": {},
   "outputs": [
    {
     "data": {
      "text/plain": [
       "admin.           10422\n",
       "blue-collar       9254\n",
       "technician        6743\n",
       "services          3969\n",
       "management        2924\n",
       "retired           1720\n",
       "entrepreneur      1456\n",
       "self-employed     1421\n",
       "housemaid         1060\n",
       "unemployed        1014\n",
       "student            875\n",
       "unknown            330\n",
       "Name: job, dtype: int64"
      ]
     },
     "execution_count": 23,
     "metadata": {},
     "output_type": "execute_result"
    }
   ],
   "source": [
    "loan['job'].value_counts()"
   ]
  },
  {
   "cell_type": "code",
   "execution_count": 24,
   "metadata": {},
   "outputs": [],
   "source": [
    "count_prospects_job = loan.groupby('job')['response'].sum().reset_index(name = 'count_prospects')"
   ]
  },
  {
   "cell_type": "code",
   "execution_count": 25,
   "metadata": {},
   "outputs": [],
   "source": [
    "No_of_prospect_job = loan.groupby('job')['response'].count().reset_index(name = 'No_of_prospects')"
   ]
  },
  {
   "cell_type": "code",
   "execution_count": 26,
   "metadata": {},
   "outputs": [],
   "source": [
    "agg_job = count_prospects_job.merge(No_of_prospect_job, on = 'job')"
   ]
  },
  {
   "cell_type": "code",
   "execution_count": 27,
   "metadata": {},
   "outputs": [],
   "source": [
    "agg_job['response_rate'] = 100*(agg_job['count_prospects']/agg_job['No_of_prospects']).round(4)"
   ]
  },
  {
   "cell_type": "code",
   "execution_count": 28,
   "metadata": {},
   "outputs": [
    {
     "data": {
      "text/html": [
       "<div>\n",
       "<style scoped>\n",
       "    .dataframe tbody tr th:only-of-type {\n",
       "        vertical-align: middle;\n",
       "    }\n",
       "\n",
       "    .dataframe tbody tr th {\n",
       "        vertical-align: top;\n",
       "    }\n",
       "\n",
       "    .dataframe thead th {\n",
       "        text-align: right;\n",
       "    }\n",
       "</style>\n",
       "<table border=\"1\" class=\"dataframe\">\n",
       "  <thead>\n",
       "    <tr style=\"text-align: right;\">\n",
       "      <th></th>\n",
       "      <th>job</th>\n",
       "      <th>count_prospects</th>\n",
       "      <th>No_of_prospects</th>\n",
       "      <th>response_rate</th>\n",
       "    </tr>\n",
       "  </thead>\n",
       "  <tbody>\n",
       "    <tr>\n",
       "      <th>0</th>\n",
       "      <td>admin.</td>\n",
       "      <td>1352</td>\n",
       "      <td>10422</td>\n",
       "      <td>12.97</td>\n",
       "    </tr>\n",
       "    <tr>\n",
       "      <th>1</th>\n",
       "      <td>blue-collar</td>\n",
       "      <td>638</td>\n",
       "      <td>9254</td>\n",
       "      <td>6.89</td>\n",
       "    </tr>\n",
       "    <tr>\n",
       "      <th>2</th>\n",
       "      <td>entrepreneur</td>\n",
       "      <td>124</td>\n",
       "      <td>1456</td>\n",
       "      <td>8.52</td>\n",
       "    </tr>\n",
       "    <tr>\n",
       "      <th>3</th>\n",
       "      <td>housemaid</td>\n",
       "      <td>106</td>\n",
       "      <td>1060</td>\n",
       "      <td>10.00</td>\n",
       "    </tr>\n",
       "    <tr>\n",
       "      <th>4</th>\n",
       "      <td>management</td>\n",
       "      <td>328</td>\n",
       "      <td>2924</td>\n",
       "      <td>11.22</td>\n",
       "    </tr>\n",
       "    <tr>\n",
       "      <th>5</th>\n",
       "      <td>retired</td>\n",
       "      <td>434</td>\n",
       "      <td>1720</td>\n",
       "      <td>25.23</td>\n",
       "    </tr>\n",
       "    <tr>\n",
       "      <th>6</th>\n",
       "      <td>self-employed</td>\n",
       "      <td>149</td>\n",
       "      <td>1421</td>\n",
       "      <td>10.49</td>\n",
       "    </tr>\n",
       "    <tr>\n",
       "      <th>7</th>\n",
       "      <td>services</td>\n",
       "      <td>323</td>\n",
       "      <td>3969</td>\n",
       "      <td>8.14</td>\n",
       "    </tr>\n",
       "    <tr>\n",
       "      <th>8</th>\n",
       "      <td>student</td>\n",
       "      <td>275</td>\n",
       "      <td>875</td>\n",
       "      <td>31.43</td>\n",
       "    </tr>\n",
       "    <tr>\n",
       "      <th>9</th>\n",
       "      <td>technician</td>\n",
       "      <td>730</td>\n",
       "      <td>6743</td>\n",
       "      <td>10.83</td>\n",
       "    </tr>\n",
       "    <tr>\n",
       "      <th>10</th>\n",
       "      <td>unemployed</td>\n",
       "      <td>144</td>\n",
       "      <td>1014</td>\n",
       "      <td>14.20</td>\n",
       "    </tr>\n",
       "    <tr>\n",
       "      <th>11</th>\n",
       "      <td>unknown</td>\n",
       "      <td>37</td>\n",
       "      <td>330</td>\n",
       "      <td>11.21</td>\n",
       "    </tr>\n",
       "  </tbody>\n",
       "</table>\n",
       "</div>"
      ],
      "text/plain": [
       "              job  count_prospects  No_of_prospects  response_rate\n",
       "0          admin.             1352            10422          12.97\n",
       "1     blue-collar              638             9254           6.89\n",
       "2    entrepreneur              124             1456           8.52\n",
       "3       housemaid              106             1060          10.00\n",
       "4      management              328             2924          11.22\n",
       "5         retired              434             1720          25.23\n",
       "6   self-employed              149             1421          10.49\n",
       "7        services              323             3969           8.14\n",
       "8         student              275              875          31.43\n",
       "9      technician              730             6743          10.83\n",
       "10     unemployed              144             1014          14.20\n",
       "11        unknown               37              330          11.21"
      ]
     },
     "execution_count": 28,
     "metadata": {},
     "output_type": "execute_result"
    }
   ],
   "source": [
    "agg_job"
   ]
  },
  {
   "cell_type": "code",
   "execution_count": 29,
   "metadata": {},
   "outputs": [
    {
     "data": {
      "image/png": "[encoded data removed]",
      "text/plain": [
       "<Figure size 432x288 with 1 Axes>"
      ]
     },
     "metadata": {},
     "output_type": "display_data"
    }
   ],
   "source": [
    "ax = sns.barplot(x='job', y='response_rate', data=agg_job)\n",
    "ax.set_xticklabels(ax.get_xticklabels(),rotation=90)\n",
    "plt.show()"
   ]
  },
  {
   "cell_type": "markdown",
   "metadata": {},
   "source": [
    "We can draw similarities from the age response analysis where we found that the youngest and eldest were most likely to respond in a positive manner. It is rreiterated by the above analysis, where we notice that student and retired have the highest response rates."
   ]
  },
  {
   "cell_type": "markdown",
   "metadata": {},
   "source": [
    "#### Marital"
   ]
  },
  {
   "cell_type": "code",
   "execution_count": 30,
   "metadata": {},
   "outputs": [
    {
     "data": {
      "text/plain": [
       "married     24928\n",
       "single      11568\n",
       "divorced     4612\n",
       "unknown        80\n",
       "Name: marital, dtype: int64"
      ]
     },
     "execution_count": 30,
     "metadata": {},
     "output_type": "execute_result"
    }
   ],
   "source": [
    "loan['marital'].value_counts()"
   ]
  },
  {
   "cell_type": "markdown",
   "metadata": {},
   "source": [
    "Since there are 80 entries which list marital status as 'unknown', we will assign them to the biggest group, which is, 'married'."
   ]
  },
  {
   "cell_type": "code",
   "execution_count": 31,
   "metadata": {},
   "outputs": [],
   "source": [
    "loan.replace({'marital' : { 'unknown' : 'married'}}, inplace=True)"
   ]
  },
  {
   "cell_type": "code",
   "execution_count": 32,
   "metadata": {},
   "outputs": [],
   "source": [
    "count_prospects_marital = loan.groupby('marital')['response'].sum().reset_index(name = 'count_prospects')"
   ]
  },
  {
   "cell_type": "code",
   "execution_count": 33,
   "metadata": {},
   "outputs": [],
   "source": [
    "No_of_prospect_job = loan.groupby('marital')['response'].count().reset_index(name = 'No_of_prospects')"
   ]
  },
  {
   "cell_type": "code",
   "execution_count": 34,
   "metadata": {},
   "outputs": [],
   "source": [
    "agg_marital = count_prospects_marital.merge(No_of_prospect_job, on = 'marital')"
   ]
  },
  {
   "cell_type": "code",
   "execution_count": 35,
   "metadata": {},
   "outputs": [],
   "source": [
    "agg_marital['response_rate'] = 100*(agg_marital['count_prospects']/agg_marital['No_of_prospects']).round(4)"
   ]
  },
  {
   "cell_type": "code",
   "execution_count": 36,
   "metadata": {},
   "outputs": [
    {
     "data": {
      "text/html": [
       "<div>\n",
       "<style scoped>\n",
       "    .dataframe tbody tr th:only-of-type {\n",
       "        vertical-align: middle;\n",
       "    }\n",
       "\n",
       "    .dataframe tbody tr th {\n",
       "        vertical-align: top;\n",
       "    }\n",
       "\n",
       "    .dataframe thead th {\n",
       "        text-align: right;\n",
       "    }\n",
       "</style>\n",
       "<table border=\"1\" class=\"dataframe\">\n",
       "  <thead>\n",
       "    <tr style=\"text-align: right;\">\n",
       "      <th></th>\n",
       "      <th>marital</th>\n",
       "      <th>count_prospects</th>\n",
       "      <th>No_of_prospects</th>\n",
       "      <th>response_rate</th>\n",
       "    </tr>\n",
       "  </thead>\n",
       "  <tbody>\n",
       "    <tr>\n",
       "      <th>0</th>\n",
       "      <td>divorced</td>\n",
       "      <td>476</td>\n",
       "      <td>4612</td>\n",
       "      <td>10.32</td>\n",
       "    </tr>\n",
       "    <tr>\n",
       "      <th>1</th>\n",
       "      <td>married</td>\n",
       "      <td>2544</td>\n",
       "      <td>25008</td>\n",
       "      <td>10.17</td>\n",
       "    </tr>\n",
       "    <tr>\n",
       "      <th>2</th>\n",
       "      <td>single</td>\n",
       "      <td>1620</td>\n",
       "      <td>11568</td>\n",
       "      <td>14.00</td>\n",
       "    </tr>\n",
       "  </tbody>\n",
       "</table>\n",
       "</div>"
      ],
      "text/plain": [
       "    marital  count_prospects  No_of_prospects  response_rate\n",
       "0  divorced              476             4612          10.32\n",
       "1   married             2544            25008          10.17\n",
       "2    single             1620            11568          14.00"
      ]
     },
     "execution_count": 36,
     "metadata": {},
     "output_type": "execute_result"
    }
   ],
   "source": [
    "agg_marital"
   ]
  },
  {
   "cell_type": "code",
   "execution_count": 37,
   "metadata": {},
   "outputs": [
    {
     "data": {
      "image/png": "[encoded data removed]",
      "text/plain": [
       "<Figure size 432x288 with 1 Axes>"
      ]
     },
     "metadata": {},
     "output_type": "display_data"
    }
   ],
   "source": [
    "ax = sns.barplot(x='marital', y='response_rate', data=agg_marital)\n",
    "ax.set_xticklabels(ax.get_xticklabels(),rotation=0)\n",
    "plt.show()"
   ]
  },
  {
   "cell_type": "markdown",
   "metadata": {},
   "source": [
    "You may note that there is a slight uptick in response rate for single customers, this can be attributed in part to the fact that people under the age of 20 have a very high response rate. "
   ]
  },
  {
   "cell_type": "markdown",
   "metadata": {},
   "source": [
    "#### Education"
   ]
  },
  {
   "cell_type": "code",
   "execution_count": 38,
   "metadata": {},
   "outputs": [
    {
     "data": {
      "text/plain": [
       "university.degree      12168\n",
       "high.school             9515\n",
       "basic.9y                6045\n",
       "professional.course     5243\n",
       "basic.4y                4176\n",
       "basic.6y                2292\n",
       "unknown                 1731\n",
       "illiterate                18\n",
       "Name: education, dtype: int64"
      ]
     },
     "execution_count": 38,
     "metadata": {},
     "output_type": "execute_result"
    }
   ],
   "source": [
    "loan['education'].value_counts()"
   ]
  },
  {
   "cell_type": "markdown",
   "metadata": {},
   "source": [
    "To simplify the problem, we are going to convert the educational qualifications to simple buckets of primary educations, secondary education, tertiary education and professional courses. Also note that there are 18 entries listing the educational status as illiterate. Since the closest group to them is primary education, we are going to assign all entries with educational status as illiterate to primary education."
   ]
  },
  {
   "cell_type": "code",
   "execution_count": 39,
   "metadata": {},
   "outputs": [],
   "source": [
    "loan.replace({'education' : { 'basic.9y' : 'Primary_Education', 'basic.4y' : 'Primary_Education','basic.6y' : 'Primary_Education','illiterate' : 'Primary_Education',\n",
    "                             'high.school' : 'Secondary_Education', 'university.degree' : 'Tertiary_Education' }}, inplace=True)"
   ]
  },
  {
   "cell_type": "code",
   "execution_count": 40,
   "metadata": {},
   "outputs": [
    {
     "data": {
      "text/plain": [
       "Primary_Education      12531\n",
       "Tertiary_Education     12168\n",
       "Secondary_Education     9515\n",
       "professional.course     5243\n",
       "unknown                 1731\n",
       "Name: education, dtype: int64"
      ]
     },
     "execution_count": 40,
     "metadata": {},
     "output_type": "execute_result"
    }
   ],
   "source": [
    "loan['education'].value_counts()"
   ]
  },
  {
   "cell_type": "code",
   "execution_count": 41,
   "metadata": {},
   "outputs": [],
   "source": [
    "count_prospects_education = loan.groupby('education')['response'].sum().reset_index(name = 'count_prospects')"
   ]
  },
  {
   "cell_type": "code",
   "execution_count": 42,
   "metadata": {},
   "outputs": [],
   "source": [
    "No_of_prospect_education = loan.groupby('education')['response'].count().reset_index(name = 'No_of_prospects')"
   ]
  },
  {
   "cell_type": "code",
   "execution_count": 43,
   "metadata": {},
   "outputs": [],
   "source": [
    "agg_education = count_prospects_education.merge(No_of_prospect_education, on = 'education')"
   ]
  },
  {
   "cell_type": "code",
   "execution_count": 44,
   "metadata": {},
   "outputs": [],
   "source": [
    "agg_education['response_rate'] = 100*(agg_education['count_prospects']/agg_education['No_of_prospects']).round(4)"
   ]
  },
  {
   "cell_type": "code",
   "execution_count": 45,
   "metadata": {},
   "outputs": [
    {
     "data": {
      "text/html": [
       "<div>\n",
       "<style scoped>\n",
       "    .dataframe tbody tr th:only-of-type {\n",
       "        vertical-align: middle;\n",
       "    }\n",
       "\n",
       "    .dataframe tbody tr th {\n",
       "        vertical-align: top;\n",
       "    }\n",
       "\n",
       "    .dataframe thead th {\n",
       "        text-align: right;\n",
       "    }\n",
       "</style>\n",
       "<table border=\"1\" class=\"dataframe\">\n",
       "  <thead>\n",
       "    <tr style=\"text-align: right;\">\n",
       "      <th></th>\n",
       "      <th>education</th>\n",
       "      <th>count_prospects</th>\n",
       "      <th>No_of_prospects</th>\n",
       "      <th>response_rate</th>\n",
       "    </tr>\n",
       "  </thead>\n",
       "  <tbody>\n",
       "    <tr>\n",
       "      <th>0</th>\n",
       "      <td>Primary_Education</td>\n",
       "      <td>1093</td>\n",
       "      <td>12531</td>\n",
       "      <td>8.72</td>\n",
       "    </tr>\n",
       "    <tr>\n",
       "      <th>1</th>\n",
       "      <td>Secondary_Education</td>\n",
       "      <td>1031</td>\n",
       "      <td>9515</td>\n",
       "      <td>10.84</td>\n",
       "    </tr>\n",
       "    <tr>\n",
       "      <th>2</th>\n",
       "      <td>Tertiary_Education</td>\n",
       "      <td>1670</td>\n",
       "      <td>12168</td>\n",
       "      <td>13.72</td>\n",
       "    </tr>\n",
       "    <tr>\n",
       "      <th>3</th>\n",
       "      <td>professional.course</td>\n",
       "      <td>595</td>\n",
       "      <td>5243</td>\n",
       "      <td>11.35</td>\n",
       "    </tr>\n",
       "    <tr>\n",
       "      <th>4</th>\n",
       "      <td>unknown</td>\n",
       "      <td>251</td>\n",
       "      <td>1731</td>\n",
       "      <td>14.50</td>\n",
       "    </tr>\n",
       "  </tbody>\n",
       "</table>\n",
       "</div>"
      ],
      "text/plain": [
       "             education  count_prospects  No_of_prospects  response_rate\n",
       "0    Primary_Education             1093            12531           8.72\n",
       "1  Secondary_Education             1031             9515          10.84\n",
       "2   Tertiary_Education             1670            12168          13.72\n",
       "3  professional.course              595             5243          11.35\n",
       "4              unknown              251             1731          14.50"
      ]
     },
     "execution_count": 45,
     "metadata": {},
     "output_type": "execute_result"
    }
   ],
   "source": [
    "agg_education"
   ]
  },
  {
   "cell_type": "code",
   "execution_count": 46,
   "metadata": {},
   "outputs": [
    {
     "data": {
      "image/png": "[encoded data removed]",
      "text/plain": [
       "<Figure size 432x288 with 1 Axes>"
      ]
     },
     "metadata": {},
     "output_type": "display_data"
    }
   ],
   "source": [
    "ax = sns.barplot(x='education', y='response_rate', data=agg_education)\n",
    "ax.set_xticklabels(ax.get_xticklabels(),rotation=30)\n",
    "plt.show()"
   ]
  },
  {
   "cell_type": "markdown",
   "metadata": {},
   "source": [
    "You can note that the response rate is lowest for people with highest education qualification as primary education, which may be attributed, in part, to lack of awareness and a lack of trust between the bank and the customer. It is the highest for people with tertiary education."
   ]
  },
  {
   "cell_type": "markdown",
   "metadata": {},
   "source": [
    "#### Previous Default"
   ]
  },
  {
   "cell_type": "code",
   "execution_count": 47,
   "metadata": {},
   "outputs": [
    {
     "data": {
      "text/plain": [
       "no         32588\n",
       "unknown     8597\n",
       "yes            3\n",
       "Name: default, dtype: int64"
      ]
     },
     "execution_count": 47,
     "metadata": {},
     "output_type": "execute_result"
    }
   ],
   "source": [
    "loan['default'].value_counts()"
   ]
  },
  {
   "cell_type": "code",
   "execution_count": 48,
   "metadata": {},
   "outputs": [],
   "source": [
    "count_prospects_default = loan.groupby('default')['response'].sum().reset_index(name = 'count_prospects')"
   ]
  },
  {
   "cell_type": "code",
   "execution_count": 49,
   "metadata": {},
   "outputs": [],
   "source": [
    "No_of_prospect_default = loan.groupby('default')['response'].count().reset_index(name = 'No_of_prospects')"
   ]
  },
  {
   "cell_type": "code",
   "execution_count": 50,
   "metadata": {},
   "outputs": [],
   "source": [
    "agg_default = count_prospects_default.merge(No_of_prospect_default, on = 'default')"
   ]
  },
  {
   "cell_type": "code",
   "execution_count": 51,
   "metadata": {},
   "outputs": [],
   "source": [
    "agg_default['response_rate'] = 100*(agg_default['count_prospects']/agg_default['No_of_prospects']).round(4)"
   ]
  },
  {
   "cell_type": "code",
   "execution_count": 52,
   "metadata": {},
   "outputs": [
    {
     "data": {
      "text/html": [
       "<div>\n",
       "<style scoped>\n",
       "    .dataframe tbody tr th:only-of-type {\n",
       "        vertical-align: middle;\n",
       "    }\n",
       "\n",
       "    .dataframe tbody tr th {\n",
       "        vertical-align: top;\n",
       "    }\n",
       "\n",
       "    .dataframe thead th {\n",
       "        text-align: right;\n",
       "    }\n",
       "</style>\n",
       "<table border=\"1\" class=\"dataframe\">\n",
       "  <thead>\n",
       "    <tr style=\"text-align: right;\">\n",
       "      <th></th>\n",
       "      <th>default</th>\n",
       "      <th>count_prospects</th>\n",
       "      <th>No_of_prospects</th>\n",
       "      <th>response_rate</th>\n",
       "    </tr>\n",
       "  </thead>\n",
       "  <tbody>\n",
       "    <tr>\n",
       "      <th>0</th>\n",
       "      <td>no</td>\n",
       "      <td>4197</td>\n",
       "      <td>32588</td>\n",
       "      <td>12.88</td>\n",
       "    </tr>\n",
       "    <tr>\n",
       "      <th>1</th>\n",
       "      <td>unknown</td>\n",
       "      <td>443</td>\n",
       "      <td>8597</td>\n",
       "      <td>5.15</td>\n",
       "    </tr>\n",
       "    <tr>\n",
       "      <th>2</th>\n",
       "      <td>yes</td>\n",
       "      <td>0</td>\n",
       "      <td>3</td>\n",
       "      <td>0.00</td>\n",
       "    </tr>\n",
       "  </tbody>\n",
       "</table>\n",
       "</div>"
      ],
      "text/plain": [
       "   default  count_prospects  No_of_prospects  response_rate\n",
       "0       no             4197            32588          12.88\n",
       "1  unknown              443             8597           5.15\n",
       "2      yes                0                3           0.00"
      ]
     },
     "execution_count": 52,
     "metadata": {},
     "output_type": "execute_result"
    }
   ],
   "source": [
    "agg_default"
   ]
  },
  {
   "cell_type": "code",
   "execution_count": 53,
   "metadata": {},
   "outputs": [
    {
     "data": {
      "image/png": "[encoded data removed]",
      "text/plain": [
       "<Figure size 432x288 with 1 Axes>"
      ]
     },
     "metadata": {},
     "output_type": "display_data"
    }
   ],
   "source": [
    "ax = sns.barplot(x='default', y='response_rate', data=agg_default)\n",
    "ax.set_xticklabels(ax.get_xticklabels(),rotation=0)\n",
    "plt.show()"
   ]
  },
  {
   "cell_type": "markdown",
   "metadata": {},
   "source": [
    "#### Housing"
   ]
  },
  {
   "cell_type": "code",
   "execution_count": 54,
   "metadata": {},
   "outputs": [
    {
     "data": {
      "text/plain": [
       "yes        21576\n",
       "no         18622\n",
       "unknown      990\n",
       "Name: housing, dtype: int64"
      ]
     },
     "execution_count": 54,
     "metadata": {},
     "output_type": "execute_result"
    }
   ],
   "source": [
    "loan['housing'].value_counts()"
   ]
  },
  {
   "cell_type": "code",
   "execution_count": 55,
   "metadata": {},
   "outputs": [],
   "source": [
    "count_prospects_housing = loan.groupby('housing')['response'].sum().reset_index(name = 'count_prospects')"
   ]
  },
  {
   "cell_type": "code",
   "execution_count": 56,
   "metadata": {},
   "outputs": [],
   "source": [
    "No_of_prospect_housing = loan.groupby('housing')['response'].count().reset_index(name = 'No_of_prospects')"
   ]
  },
  {
   "cell_type": "code",
   "execution_count": 57,
   "metadata": {},
   "outputs": [],
   "source": [
    "agg_housing = count_prospects_housing.merge(No_of_prospect_housing, on = 'housing')"
   ]
  },
  {
   "cell_type": "code",
   "execution_count": 58,
   "metadata": {},
   "outputs": [],
   "source": [
    "agg_housing['response_rate'] = 100*(agg_housing['count_prospects']/agg_housing['No_of_prospects']).round(4)"
   ]
  },
  {
   "cell_type": "code",
   "execution_count": 59,
   "metadata": {},
   "outputs": [
    {
     "data": {
      "text/html": [
       "<div>\n",
       "<style scoped>\n",
       "    .dataframe tbody tr th:only-of-type {\n",
       "        vertical-align: middle;\n",
       "    }\n",
       "\n",
       "    .dataframe tbody tr th {\n",
       "        vertical-align: top;\n",
       "    }\n",
       "\n",
       "    .dataframe thead th {\n",
       "        text-align: right;\n",
       "    }\n",
       "</style>\n",
       "<table border=\"1\" class=\"dataframe\">\n",
       "  <thead>\n",
       "    <tr style=\"text-align: right;\">\n",
       "      <th></th>\n",
       "      <th>housing</th>\n",
       "      <th>count_prospects</th>\n",
       "      <th>No_of_prospects</th>\n",
       "      <th>response_rate</th>\n",
       "    </tr>\n",
       "  </thead>\n",
       "  <tbody>\n",
       "    <tr>\n",
       "      <th>0</th>\n",
       "      <td>no</td>\n",
       "      <td>2026</td>\n",
       "      <td>18622</td>\n",
       "      <td>10.88</td>\n",
       "    </tr>\n",
       "    <tr>\n",
       "      <th>1</th>\n",
       "      <td>unknown</td>\n",
       "      <td>107</td>\n",
       "      <td>990</td>\n",
       "      <td>10.81</td>\n",
       "    </tr>\n",
       "    <tr>\n",
       "      <th>2</th>\n",
       "      <td>yes</td>\n",
       "      <td>2507</td>\n",
       "      <td>21576</td>\n",
       "      <td>11.62</td>\n",
       "    </tr>\n",
       "  </tbody>\n",
       "</table>\n",
       "</div>"
      ],
      "text/plain": [
       "   housing  count_prospects  No_of_prospects  response_rate\n",
       "0       no             2026            18622          10.88\n",
       "1  unknown              107              990          10.81\n",
       "2      yes             2507            21576          11.62"
      ]
     },
     "execution_count": 59,
     "metadata": {},
     "output_type": "execute_result"
    }
   ],
   "source": [
    "agg_housing"
   ]
  },
  {
   "cell_type": "code",
   "execution_count": 60,
   "metadata": {},
   "outputs": [
    {
     "data": {
      "image/png": "[encoded data removed]",
      "text/plain": [
       "<Figure size 432x288 with 1 Axes>"
      ]
     },
     "metadata": {},
     "output_type": "display_data"
    }
   ],
   "source": [
    "ax = sns.barplot(x='housing', y='response_rate', data=agg_housing)\n",
    "ax.set_xticklabels(ax.get_xticklabels(),rotation=0)\n",
    "plt.show()"
   ]
  },
  {
   "cell_type": "markdown",
   "metadata": {},
   "source": [
    "You can see that there is a slight uptick in the response rate for people with housing, though it is probably not very significant"
   ]
  },
  {
   "cell_type": "markdown",
   "metadata": {},
   "source": [
    "#### Loan"
   ]
  },
  {
   "cell_type": "code",
   "execution_count": 61,
   "metadata": {},
   "outputs": [
    {
     "data": {
      "text/plain": [
       "no         33950\n",
       "yes         6248\n",
       "unknown      990\n",
       "Name: loan, dtype: int64"
      ]
     },
     "execution_count": 61,
     "metadata": {},
     "output_type": "execute_result"
    }
   ],
   "source": [
    "loan['loan'].value_counts()"
   ]
  },
  {
   "cell_type": "code",
   "execution_count": 62,
   "metadata": {},
   "outputs": [],
   "source": [
    "count_prospects_loan = loan.groupby('loan')['response'].sum().reset_index(name = 'count_prospects')"
   ]
  },
  {
   "cell_type": "code",
   "execution_count": 63,
   "metadata": {},
   "outputs": [],
   "source": [
    "No_of_prospect_loan = loan.groupby('loan')['response'].count().reset_index(name = 'No_of_prospects')"
   ]
  },
  {
   "cell_type": "code",
   "execution_count": 64,
   "metadata": {},
   "outputs": [],
   "source": [
    "agg_loan = count_prospects_loan.merge(No_of_prospect_loan, on = 'loan')"
   ]
  },
  {
   "cell_type": "code",
   "execution_count": 65,
   "metadata": {},
   "outputs": [],
   "source": [
    "agg_loan['response_rate'] = 100*(agg_loan['count_prospects']/agg_loan['No_of_prospects']).round(4)"
   ]
  },
  {
   "cell_type": "code",
   "execution_count": 66,
   "metadata": {},
   "outputs": [
    {
     "data": {
      "text/html": [
       "<div>\n",
       "<style scoped>\n",
       "    .dataframe tbody tr th:only-of-type {\n",
       "        vertical-align: middle;\n",
       "    }\n",
       "\n",
       "    .dataframe tbody tr th {\n",
       "        vertical-align: top;\n",
       "    }\n",
       "\n",
       "    .dataframe thead th {\n",
       "        text-align: right;\n",
       "    }\n",
       "</style>\n",
       "<table border=\"1\" class=\"dataframe\">\n",
       "  <thead>\n",
       "    <tr style=\"text-align: right;\">\n",
       "      <th></th>\n",
       "      <th>loan</th>\n",
       "      <th>count_prospects</th>\n",
       "      <th>No_of_prospects</th>\n",
       "      <th>response_rate</th>\n",
       "    </tr>\n",
       "  </thead>\n",
       "  <tbody>\n",
       "    <tr>\n",
       "      <th>0</th>\n",
       "      <td>no</td>\n",
       "      <td>3850</td>\n",
       "      <td>33950</td>\n",
       "      <td>11.34</td>\n",
       "    </tr>\n",
       "    <tr>\n",
       "      <th>1</th>\n",
       "      <td>unknown</td>\n",
       "      <td>107</td>\n",
       "      <td>990</td>\n",
       "      <td>10.81</td>\n",
       "    </tr>\n",
       "    <tr>\n",
       "      <th>2</th>\n",
       "      <td>yes</td>\n",
       "      <td>683</td>\n",
       "      <td>6248</td>\n",
       "      <td>10.93</td>\n",
       "    </tr>\n",
       "  </tbody>\n",
       "</table>\n",
       "</div>"
      ],
      "text/plain": [
       "      loan  count_prospects  No_of_prospects  response_rate\n",
       "0       no             3850            33950          11.34\n",
       "1  unknown              107              990          10.81\n",
       "2      yes              683             6248          10.93"
      ]
     },
     "execution_count": 66,
     "metadata": {},
     "output_type": "execute_result"
    }
   ],
   "source": [
    "agg_loan"
   ]
  },
  {
   "cell_type": "code",
   "execution_count": 67,
   "metadata": {},
   "outputs": [
    {
     "data": {
      "image/png": "[encoded data removed]",
      "text/plain": [
       "<Figure size 432x288 with 1 Axes>"
      ]
     },
     "metadata": {},
     "output_type": "display_data"
    }
   ],
   "source": [
    "ax = sns.barplot(x='loan', y='response_rate', data=agg_loan)\n",
    "ax.set_xticklabels(ax.get_xticklabels(),rotation=0)\n",
    "plt.show()"
   ]
  },
  {
   "cell_type": "markdown",
   "metadata": {},
   "source": [
    "As you can see there seems to be very little correlation between a prospect having a personal loan and the likelihood of him/her responding positively to the investment product"
   ]
  },
  {
   "cell_type": "markdown",
   "metadata": {},
   "source": [
    "Now that we have had a look at the client data, we will move to the last contact information.\n",
    "\n",
    "There are four features in the given dataset which cover this information. (Refer to the data dictionary for the same)\n",
    "\n",
    "- Contact: contact communication type\n",
    "- Month: last contact month of year\n",
    "- Day_of_week: last contact day of the week\n",
    "- Duration: last contact duration, in seconds \n",
    "\n",
    "Please note that the attribute, duration highly affects the output target (e.g., if duration=0 then y='no'). Yet, the duration is not known before a call is performed. Also, after the end of the call y is obviously known. Thus, this input should only be included for benchmark purposes and should be discarded if the intention is to have a realistic predictive model."
   ]
  },
  {
   "cell_type": "markdown",
   "metadata": {},
   "source": [
    "#### Contact"
   ]
  },
  {
   "cell_type": "code",
   "execution_count": 68,
   "metadata": {},
   "outputs": [
    {
     "data": {
      "text/plain": [
       "cellular     26144\n",
       "telephone    15044\n",
       "Name: contact, dtype: int64"
      ]
     },
     "execution_count": 68,
     "metadata": {},
     "output_type": "execute_result"
    }
   ],
   "source": [
    "loan['contact'].value_counts()"
   ]
  },
  {
   "cell_type": "code",
   "execution_count": 69,
   "metadata": {},
   "outputs": [],
   "source": [
    "count_prospects_contact = loan.groupby('contact')['response'].sum().reset_index(name = 'count_prospects')"
   ]
  },
  {
   "cell_type": "code",
   "execution_count": 70,
   "metadata": {},
   "outputs": [],
   "source": [
    "No_of_prospect_contact = loan.groupby('contact')['response'].count().reset_index(name = 'No_of_prospects')"
   ]
  },
  {
   "cell_type": "code",
   "execution_count": 71,
   "metadata": {},
   "outputs": [],
   "source": [
    "agg_contact = count_prospects_contact.merge(No_of_prospect_contact, on = 'contact')"
   ]
  },
  {
   "cell_type": "code",
   "execution_count": 72,
   "metadata": {},
   "outputs": [],
   "source": [
    "agg_contact['response_rate'] = 100*(agg_contact['count_prospects']/agg_contact['No_of_prospects']).round(4)"
   ]
  },
  {
   "cell_type": "code",
   "execution_count": 73,
   "metadata": {},
   "outputs": [
    {
     "data": {
      "text/html": [
       "<div>\n",
       "<style scoped>\n",
       "    .dataframe tbody tr th:only-of-type {\n",
       "        vertical-align: middle;\n",
       "    }\n",
       "\n",
       "    .dataframe tbody tr th {\n",
       "        vertical-align: top;\n",
       "    }\n",
       "\n",
       "    .dataframe thead th {\n",
       "        text-align: right;\n",
       "    }\n",
       "</style>\n",
       "<table border=\"1\" class=\"dataframe\">\n",
       "  <thead>\n",
       "    <tr style=\"text-align: right;\">\n",
       "      <th></th>\n",
       "      <th>contact</th>\n",
       "      <th>count_prospects</th>\n",
       "      <th>No_of_prospects</th>\n",
       "      <th>response_rate</th>\n",
       "    </tr>\n",
       "  </thead>\n",
       "  <tbody>\n",
       "    <tr>\n",
       "      <th>0</th>\n",
       "      <td>cellular</td>\n",
       "      <td>3853</td>\n",
       "      <td>26144</td>\n",
       "      <td>14.74</td>\n",
       "    </tr>\n",
       "    <tr>\n",
       "      <th>1</th>\n",
       "      <td>telephone</td>\n",
       "      <td>787</td>\n",
       "      <td>15044</td>\n",
       "      <td>5.23</td>\n",
       "    </tr>\n",
       "  </tbody>\n",
       "</table>\n",
       "</div>"
      ],
      "text/plain": [
       "     contact  count_prospects  No_of_prospects  response_rate\n",
       "0   cellular             3853            26144          14.74\n",
       "1  telephone              787            15044           5.23"
      ]
     },
     "execution_count": 73,
     "metadata": {},
     "output_type": "execute_result"
    }
   ],
   "source": [
    "agg_contact"
   ]
  },
  {
   "cell_type": "code",
   "execution_count": 74,
   "metadata": {},
   "outputs": [
    {
     "data": {
      "image/png": "[encoded data removed]",
      "text/plain": [
       "<Figure size 432x288 with 1 Axes>"
      ]
     },
     "metadata": {},
     "output_type": "display_data"
    }
   ],
   "source": [
    "ax = sns.barplot(x='contact', y='response_rate', data=agg_contact)\n",
    "ax.set_xticklabels(ax.get_xticklabels(),rotation=0)\n",
    "plt.show()"
   ]
  },
  {
   "cell_type": "markdown",
   "metadata": {},
   "source": [
    "You can see that the prospective customers contacted through cellular medium are significantly ore likely to opt in to the investment scheme compared to customers contacted through telephonic medium."
   ]
  },
  {
   "cell_type": "markdown",
   "metadata": {},
   "source": [
    "#### Month"
   ]
  },
  {
   "cell_type": "code",
   "execution_count": 75,
   "metadata": {},
   "outputs": [
    {
     "data": {
      "text/plain": [
       "may    13769\n",
       "jul     7174\n",
       "aug     6178\n",
       "jun     5318\n",
       "nov     4101\n",
       "apr     2632\n",
       "oct      718\n",
       "sep      570\n",
       "mar      546\n",
       "dec      182\n",
       "Name: month, dtype: int64"
      ]
     },
     "execution_count": 75,
     "metadata": {},
     "output_type": "execute_result"
    }
   ],
   "source": [
    "loan['month'].value_counts()"
   ]
  },
  {
   "cell_type": "code",
   "execution_count": 76,
   "metadata": {},
   "outputs": [],
   "source": [
    "count_prospects_month = loan.groupby('month')['response'].sum().reset_index(name = 'count_prospects')"
   ]
  },
  {
   "cell_type": "code",
   "execution_count": 77,
   "metadata": {},
   "outputs": [],
   "source": [
    "No_of_prospect_month = loan.groupby('month')['response'].count().reset_index(name = 'No_of_prospects')"
   ]
  },
  {
   "cell_type": "code",
   "execution_count": 78,
   "metadata": {},
   "outputs": [],
   "source": [
    "agg_month = count_prospects_month.merge(No_of_prospect_month, on = 'month')"
   ]
  },
  {
   "cell_type": "code",
   "execution_count": 79,
   "metadata": {},
   "outputs": [],
   "source": [
    "agg_month['response_rate'] = 100*(agg_month['count_prospects']/agg_month['No_of_prospects']).round(4)"
   ]
  },
  {
   "cell_type": "code",
   "execution_count": 80,
   "metadata": {},
   "outputs": [
    {
     "data": {
      "text/html": [
       "<div>\n",
       "<style scoped>\n",
       "    .dataframe tbody tr th:only-of-type {\n",
       "        vertical-align: middle;\n",
       "    }\n",
       "\n",
       "    .dataframe tbody tr th {\n",
       "        vertical-align: top;\n",
       "    }\n",
       "\n",
       "    .dataframe thead th {\n",
       "        text-align: right;\n",
       "    }\n",
       "</style>\n",
       "<table border=\"1\" class=\"dataframe\">\n",
       "  <thead>\n",
       "    <tr style=\"text-align: right;\">\n",
       "      <th></th>\n",
       "      <th>month</th>\n",
       "      <th>count_prospects</th>\n",
       "      <th>No_of_prospects</th>\n",
       "      <th>response_rate</th>\n",
       "    </tr>\n",
       "  </thead>\n",
       "  <tbody>\n",
       "    <tr>\n",
       "      <th>0</th>\n",
       "      <td>apr</td>\n",
       "      <td>539</td>\n",
       "      <td>2632</td>\n",
       "      <td>20.48</td>\n",
       "    </tr>\n",
       "    <tr>\n",
       "      <th>1</th>\n",
       "      <td>aug</td>\n",
       "      <td>655</td>\n",
       "      <td>6178</td>\n",
       "      <td>10.60</td>\n",
       "    </tr>\n",
       "    <tr>\n",
       "      <th>2</th>\n",
       "      <td>dec</td>\n",
       "      <td>89</td>\n",
       "      <td>182</td>\n",
       "      <td>48.90</td>\n",
       "    </tr>\n",
       "    <tr>\n",
       "      <th>3</th>\n",
       "      <td>jul</td>\n",
       "      <td>649</td>\n",
       "      <td>7174</td>\n",
       "      <td>9.05</td>\n",
       "    </tr>\n",
       "    <tr>\n",
       "      <th>4</th>\n",
       "      <td>jun</td>\n",
       "      <td>559</td>\n",
       "      <td>5318</td>\n",
       "      <td>10.51</td>\n",
       "    </tr>\n",
       "    <tr>\n",
       "      <th>5</th>\n",
       "      <td>mar</td>\n",
       "      <td>276</td>\n",
       "      <td>546</td>\n",
       "      <td>50.55</td>\n",
       "    </tr>\n",
       "    <tr>\n",
       "      <th>6</th>\n",
       "      <td>may</td>\n",
       "      <td>886</td>\n",
       "      <td>13769</td>\n",
       "      <td>6.43</td>\n",
       "    </tr>\n",
       "    <tr>\n",
       "      <th>7</th>\n",
       "      <td>nov</td>\n",
       "      <td>416</td>\n",
       "      <td>4101</td>\n",
       "      <td>10.14</td>\n",
       "    </tr>\n",
       "    <tr>\n",
       "      <th>8</th>\n",
       "      <td>oct</td>\n",
       "      <td>315</td>\n",
       "      <td>718</td>\n",
       "      <td>43.87</td>\n",
       "    </tr>\n",
       "    <tr>\n",
       "      <th>9</th>\n",
       "      <td>sep</td>\n",
       "      <td>256</td>\n",
       "      <td>570</td>\n",
       "      <td>44.91</td>\n",
       "    </tr>\n",
       "  </tbody>\n",
       "</table>\n",
       "</div>"
      ],
      "text/plain": [
       "  month  count_prospects  No_of_prospects  response_rate\n",
       "0   apr              539             2632          20.48\n",
       "1   aug              655             6178          10.60\n",
       "2   dec               89              182          48.90\n",
       "3   jul              649             7174           9.05\n",
       "4   jun              559             5318          10.51\n",
       "5   mar              276              546          50.55\n",
       "6   may              886            13769           6.43\n",
       "7   nov              416             4101          10.14\n",
       "8   oct              315              718          43.87\n",
       "9   sep              256              570          44.91"
      ]
     },
     "execution_count": 80,
     "metadata": {},
     "output_type": "execute_result"
    }
   ],
   "source": [
    "agg_month"
   ]
  },
  {
   "cell_type": "code",
   "execution_count": 81,
   "metadata": {},
   "outputs": [
    {
     "data": {
      "image/png": "[encoded data removed]",
      "text/plain": [
       "<Figure size 432x288 with 1 Axes>"
      ]
     },
     "metadata": {},
     "output_type": "display_data"
    }
   ],
   "source": [
    "ax = sns.barplot(x='month', y='response_rate', data=agg_month)\n",
    "ax.set_xticklabels(ax.get_xticklabels(),rotation=0)\n",
    "plt.show()"
   ]
  },
  {
   "cell_type": "markdown",
   "metadata": {},
   "source": [
    "We can note that the four months of december, march, october and september appear to be the best to contact the potential customers. However, please note that these our months have the fewest data entries as well, so it is not certain, how well it would behave when calls are made at a high volume."
   ]
  },
  {
   "cell_type": "markdown",
   "metadata": {},
   "source": [
    "#### Day of the week"
   ]
  },
  {
   "cell_type": "code",
   "execution_count": 82,
   "metadata": {},
   "outputs": [
    {
     "data": {
      "text/plain": [
       "thu    8623\n",
       "mon    8514\n",
       "wed    8134\n",
       "tue    8090\n",
       "fri    7827\n",
       "Name: day_of_week, dtype: int64"
      ]
     },
     "execution_count": 82,
     "metadata": {},
     "output_type": "execute_result"
    }
   ],
   "source": [
    "loan['day_of_week'].value_counts()"
   ]
  },
  {
   "cell_type": "code",
   "execution_count": 83,
   "metadata": {},
   "outputs": [],
   "source": [
    "count_prospects_day = loan.groupby('day_of_week')['response'].sum().reset_index(name = 'count_prospects')"
   ]
  },
  {
   "cell_type": "code",
   "execution_count": 84,
   "metadata": {},
   "outputs": [],
   "source": [
    "No_of_prospect_day = loan.groupby('day_of_week')['response'].count().reset_index(name = 'No_of_prospects')"
   ]
  },
  {
   "cell_type": "code",
   "execution_count": 85,
   "metadata": {},
   "outputs": [],
   "source": [
    "agg_day = count_prospects_day.merge(No_of_prospect_day, on = 'day_of_week')"
   ]
  },
  {
   "cell_type": "code",
   "execution_count": 86,
   "metadata": {},
   "outputs": [],
   "source": [
    "agg_day['response_rate'] = 100*(agg_day['count_prospects']/agg_day['No_of_prospects']).round(4)"
   ]
  },
  {
   "cell_type": "code",
   "execution_count": 87,
   "metadata": {},
   "outputs": [
    {
     "data": {
      "text/html": [
       "<div>\n",
       "<style scoped>\n",
       "    .dataframe tbody tr th:only-of-type {\n",
       "        vertical-align: middle;\n",
       "    }\n",
       "\n",
       "    .dataframe tbody tr th {\n",
       "        vertical-align: top;\n",
       "    }\n",
       "\n",
       "    .dataframe thead th {\n",
       "        text-align: right;\n",
       "    }\n",
       "</style>\n",
       "<table border=\"1\" class=\"dataframe\">\n",
       "  <thead>\n",
       "    <tr style=\"text-align: right;\">\n",
       "      <th></th>\n",
       "      <th>day_of_week</th>\n",
       "      <th>count_prospects</th>\n",
       "      <th>No_of_prospects</th>\n",
       "      <th>response_rate</th>\n",
       "    </tr>\n",
       "  </thead>\n",
       "  <tbody>\n",
       "    <tr>\n",
       "      <th>0</th>\n",
       "      <td>fri</td>\n",
       "      <td>846</td>\n",
       "      <td>7827</td>\n",
       "      <td>10.81</td>\n",
       "    </tr>\n",
       "    <tr>\n",
       "      <th>1</th>\n",
       "      <td>mon</td>\n",
       "      <td>847</td>\n",
       "      <td>8514</td>\n",
       "      <td>9.95</td>\n",
       "    </tr>\n",
       "    <tr>\n",
       "      <th>2</th>\n",
       "      <td>thu</td>\n",
       "      <td>1045</td>\n",
       "      <td>8623</td>\n",
       "      <td>12.12</td>\n",
       "    </tr>\n",
       "    <tr>\n",
       "      <th>3</th>\n",
       "      <td>tue</td>\n",
       "      <td>953</td>\n",
       "      <td>8090</td>\n",
       "      <td>11.78</td>\n",
       "    </tr>\n",
       "    <tr>\n",
       "      <th>4</th>\n",
       "      <td>wed</td>\n",
       "      <td>949</td>\n",
       "      <td>8134</td>\n",
       "      <td>11.67</td>\n",
       "    </tr>\n",
       "  </tbody>\n",
       "</table>\n",
       "</div>"
      ],
      "text/plain": [
       "  day_of_week  count_prospects  No_of_prospects  response_rate\n",
       "0         fri              846             7827          10.81\n",
       "1         mon              847             8514           9.95\n",
       "2         thu             1045             8623          12.12\n",
       "3         tue              953             8090          11.78\n",
       "4         wed              949             8134          11.67"
      ]
     },
     "execution_count": 87,
     "metadata": {},
     "output_type": "execute_result"
    }
   ],
   "source": [
    "agg_day"
   ]
  },
  {
   "cell_type": "code",
   "execution_count": 88,
   "metadata": {},
   "outputs": [
    {
     "data": {
      "image/png": "[encoded data removed]",
      "text/plain": [
       "<Figure size 432x288 with 1 Axes>"
      ]
     },
     "metadata": {},
     "output_type": "display_data"
    }
   ],
   "source": [
    "ax = sns.barplot(x='day_of_week', y='response_rate', data=agg_day)\n",
    "ax.set_xticklabels(ax.get_xticklabels(),rotation=0)\n",
    "plt.show()"
   ]
  },
  {
   "cell_type": "markdown",
   "metadata": {},
   "source": [
    "As you can note that response rate is lowest on monday, while being highest on thursday. However, the gap isn't very big."
   ]
  },
  {
   "cell_type": "markdown",
   "metadata": {},
   "source": [
    "#### Duration of the call"
   ]
  },
  {
   "cell_type": "code",
   "execution_count": 89,
   "metadata": {},
   "outputs": [
    {
     "data": {
      "image/png": "[encoded data removed]",
      "text/plain": [
       "<Figure size 432x288 with 1 Axes>"
      ]
     },
     "metadata": {},
     "output_type": "display_data"
    }
   ],
   "source": [
    "sns.distplot(loan['duration'])\n",
    "plt.show()"
   ]
  },
  {
   "cell_type": "markdown",
   "metadata": {},
   "source": [
    "As we know that this is a continuos variable, we will create a box plot"
   ]
  },
  {
   "cell_type": "code",
   "execution_count": 90,
   "metadata": {},
   "outputs": [
    {
     "data": {
      "text/plain": [
       "count    41188.000000\n",
       "mean       258.285010\n",
       "std        259.279249\n",
       "min          0.000000\n",
       "25%        102.000000\n",
       "50%        180.000000\n",
       "75%        319.000000\n",
       "95%        752.650000\n",
       "99%       1271.130000\n",
       "max       4918.000000\n",
       "Name: duration, dtype: float64"
      ]
     },
     "execution_count": 90,
     "metadata": {},
     "output_type": "execute_result"
    }
   ],
   "source": [
    "loan['duration'].describe(percentiles = [0.25,0.50,0.75,0.95,0.99])"
   ]
  },
  {
   "cell_type": "code",
   "execution_count": 91,
   "metadata": {},
   "outputs": [
    {
     "data": {
      "image/png": "[encoded data removed]",
      "text/plain": [
       "<Figure size 432x288 with 1 Axes>"
      ]
     },
     "metadata": {},
     "output_type": "display_data"
    }
   ],
   "source": [
    "sns.boxplot(x='duration', data=loan)\n",
    "plt.show()"
   ]
  },
  {
   "cell_type": "markdown",
   "metadata": {},
   "source": [
    "Since less than one percent of entires have duration greater than 1271, we can assume all entries with duration greater than 1271 as having duration as 1271."
   ]
  },
  {
   "cell_type": "code",
   "execution_count": 92,
   "metadata": {},
   "outputs": [],
   "source": [
    "loan['duration'][loan['duration']>1271] =1271"
   ]
  },
  {
   "cell_type": "code",
   "execution_count": 93,
   "metadata": {},
   "outputs": [
    {
     "data": {
      "image/png": "[encoded data removed]",
      "text/plain": [
       "<Figure size 432x288 with 1 Axes>"
      ]
     },
     "metadata": {},
     "output_type": "display_data"
    }
   ],
   "source": [
    "sns.boxplot(x='duration', data=loan)\n",
    "plt.show()"
   ]
  },
  {
   "cell_type": "code",
   "execution_count": 94,
   "metadata": {},
   "outputs": [
    {
     "data": {
      "image/png": "[encoded data removed]",
      "text/plain": [
       "<Figure size 432x288 with 1 Axes>"
      ]
     },
     "metadata": {},
     "output_type": "display_data"
    }
   ],
   "source": [
    "sns.distplot(loan['duration'])\n",
    "plt.show()"
   ]
  },
  {
   "cell_type": "markdown",
   "metadata": {},
   "source": [
    "Now that we have looked at client data and the data related to last contact, we will look at some of the other attributes.\n",
    "\n",
    "- Campaign: number of contacts performed during this campaign and for this client\n",
    "- Pdays: number of days that passed by after the client was last contacted from a previous campaign\n",
    "- Previous: number of contacts performed before this campaign and for this client\n",
    "- Poutcome: outcome of the previous marketing campaign"
   ]
  },
  {
   "cell_type": "markdown",
   "metadata": {},
   "source": [
    "#### Campaign"
   ]
  },
  {
   "cell_type": "code",
   "execution_count": 95,
   "metadata": {},
   "outputs": [
    {
     "data": {
      "text/plain": [
       "1     17642\n",
       "2     10570\n",
       "3      5341\n",
       "4      2651\n",
       "5      1599\n",
       "6       979\n",
       "7       629\n",
       "8       400\n",
       "9       283\n",
       "10      225\n",
       "11      177\n",
       "12      125\n",
       "13       92\n",
       "14       69\n",
       "17       58\n",
       "15       51\n",
       "16       51\n",
       "18       33\n",
       "20       30\n",
       "19       26\n",
       "21       24\n",
       "22       17\n",
       "23       16\n",
       "24       15\n",
       "27       11\n",
       "29       10\n",
       "25        8\n",
       "26        8\n",
       "28        8\n",
       "30        7\n",
       "31        7\n",
       "35        5\n",
       "33        4\n",
       "32        4\n",
       "34        3\n",
       "40        2\n",
       "42        2\n",
       "43        2\n",
       "37        1\n",
       "39        1\n",
       "41        1\n",
       "56        1\n",
       "Name: campaign, dtype: int64"
      ]
     },
     "execution_count": 95,
     "metadata": {},
     "output_type": "execute_result"
    }
   ],
   "source": [
    "loan['campaign'].value_counts()"
   ]
  },
  {
   "cell_type": "code",
   "execution_count": 96,
   "metadata": {},
   "outputs": [
    {
     "data": {
      "image/png": "[encoded data removed]",
      "text/plain": [
       "<Figure size 432x288 with 1 Axes>"
      ]
     },
     "metadata": {},
     "output_type": "display_data"
    }
   ],
   "source": [
    "sns.distplot(loan['campaign'])\n",
    "plt.show()"
   ]
  },
  {
   "cell_type": "code",
   "execution_count": 97,
   "metadata": {},
   "outputs": [
    {
     "data": {
      "image/png": "[encoded data removed]",
      "text/plain": [
       "<Figure size 432x288 with 1 Axes>"
      ]
     },
     "metadata": {},
     "output_type": "display_data"
    }
   ],
   "source": [
    "# We will create a box plot\n",
    "\n",
    "sns.boxplot(x='campaign', data=loan)\n",
    "plt.show()"
   ]
  },
  {
   "cell_type": "code",
   "execution_count": 98,
   "metadata": {},
   "outputs": [
    {
     "data": {
      "text/plain": [
       "count    41188.000000\n",
       "mean         2.567593\n",
       "std          2.770014\n",
       "min          1.000000\n",
       "25%          1.000000\n",
       "50%          2.000000\n",
       "75%          3.000000\n",
       "95%          7.000000\n",
       "99%         14.000000\n",
       "max         56.000000\n",
       "Name: campaign, dtype: float64"
      ]
     },
     "execution_count": 98,
     "metadata": {},
     "output_type": "execute_result"
    }
   ],
   "source": [
    "loan['campaign'].describe(percentiles = [0.25,0.50,0.75,0.95,0.99])"
   ]
  },
  {
   "cell_type": "markdown",
   "metadata": {},
   "source": [
    "Once again, we can merga all data entries with contacts greater than 14 as having campaign contact as 14"
   ]
  },
  {
   "cell_type": "code",
   "execution_count": 99,
   "metadata": {},
   "outputs": [],
   "source": [
    "loan['campaign'][loan['campaign']>14] =14"
   ]
  },
  {
   "cell_type": "code",
   "execution_count": 100,
   "metadata": {},
   "outputs": [
    {
     "data": {
      "image/png": "[encoded data removed]",
      "text/plain": [
       "<Figure size 432x288 with 1 Axes>"
      ]
     },
     "metadata": {},
     "output_type": "display_data"
    }
   ],
   "source": [
    "sns.countplot(loan['campaign'])\n",
    "plt.show()"
   ]
  },
  {
   "cell_type": "code",
   "execution_count": 101,
   "metadata": {},
   "outputs": [],
   "source": [
    "count_prospects_campaign = loan.groupby('campaign')['response'].sum().reset_index(name = 'count_prospects')"
   ]
  },
  {
   "cell_type": "code",
   "execution_count": 102,
   "metadata": {},
   "outputs": [],
   "source": [
    "No_of_prospect_campaign = loan.groupby('campaign')['response'].count().reset_index(name = 'No_of_prospects')"
   ]
  },
  {
   "cell_type": "code",
   "execution_count": 103,
   "metadata": {},
   "outputs": [],
   "source": [
    "agg_campaign = count_prospects_campaign.merge(No_of_prospect_campaign, on = 'campaign')"
   ]
  },
  {
   "cell_type": "code",
   "execution_count": 104,
   "metadata": {},
   "outputs": [],
   "source": [
    "agg_campaign['response_rate'] = 100*(agg_campaign['count_prospects']/agg_campaign['No_of_prospects']).round(4)"
   ]
  },
  {
   "cell_type": "code",
   "execution_count": 105,
   "metadata": {},
   "outputs": [
    {
     "data": {
      "text/html": [
       "<div>\n",
       "<style scoped>\n",
       "    .dataframe tbody tr th:only-of-type {\n",
       "        vertical-align: middle;\n",
       "    }\n",
       "\n",
       "    .dataframe tbody tr th {\n",
       "        vertical-align: top;\n",
       "    }\n",
       "\n",
       "    .dataframe thead th {\n",
       "        text-align: right;\n",
       "    }\n",
       "</style>\n",
       "<table border=\"1\" class=\"dataframe\">\n",
       "  <thead>\n",
       "    <tr style=\"text-align: right;\">\n",
       "      <th></th>\n",
       "      <th>campaign</th>\n",
       "      <th>count_prospects</th>\n",
       "      <th>No_of_prospects</th>\n",
       "      <th>response_rate</th>\n",
       "    </tr>\n",
       "  </thead>\n",
       "  <tbody>\n",
       "    <tr>\n",
       "      <th>0</th>\n",
       "      <td>1</td>\n",
       "      <td>2300</td>\n",
       "      <td>17642</td>\n",
       "      <td>13.04</td>\n",
       "    </tr>\n",
       "    <tr>\n",
       "      <th>1</th>\n",
       "      <td>2</td>\n",
       "      <td>1211</td>\n",
       "      <td>10570</td>\n",
       "      <td>11.46</td>\n",
       "    </tr>\n",
       "    <tr>\n",
       "      <th>2</th>\n",
       "      <td>3</td>\n",
       "      <td>574</td>\n",
       "      <td>5341</td>\n",
       "      <td>10.75</td>\n",
       "    </tr>\n",
       "    <tr>\n",
       "      <th>3</th>\n",
       "      <td>4</td>\n",
       "      <td>249</td>\n",
       "      <td>2651</td>\n",
       "      <td>9.39</td>\n",
       "    </tr>\n",
       "    <tr>\n",
       "      <th>4</th>\n",
       "      <td>5</td>\n",
       "      <td>120</td>\n",
       "      <td>1599</td>\n",
       "      <td>7.50</td>\n",
       "    </tr>\n",
       "    <tr>\n",
       "      <th>5</th>\n",
       "      <td>6</td>\n",
       "      <td>75</td>\n",
       "      <td>979</td>\n",
       "      <td>7.66</td>\n",
       "    </tr>\n",
       "    <tr>\n",
       "      <th>6</th>\n",
       "      <td>7</td>\n",
       "      <td>38</td>\n",
       "      <td>629</td>\n",
       "      <td>6.04</td>\n",
       "    </tr>\n",
       "    <tr>\n",
       "      <th>7</th>\n",
       "      <td>8</td>\n",
       "      <td>17</td>\n",
       "      <td>400</td>\n",
       "      <td>4.25</td>\n",
       "    </tr>\n",
       "    <tr>\n",
       "      <th>8</th>\n",
       "      <td>9</td>\n",
       "      <td>17</td>\n",
       "      <td>283</td>\n",
       "      <td>6.01</td>\n",
       "    </tr>\n",
       "    <tr>\n",
       "      <th>9</th>\n",
       "      <td>10</td>\n",
       "      <td>12</td>\n",
       "      <td>225</td>\n",
       "      <td>5.33</td>\n",
       "    </tr>\n",
       "    <tr>\n",
       "      <th>10</th>\n",
       "      <td>11</td>\n",
       "      <td>12</td>\n",
       "      <td>177</td>\n",
       "      <td>6.78</td>\n",
       "    </tr>\n",
       "    <tr>\n",
       "      <th>11</th>\n",
       "      <td>12</td>\n",
       "      <td>3</td>\n",
       "      <td>125</td>\n",
       "      <td>2.40</td>\n",
       "    </tr>\n",
       "    <tr>\n",
       "      <th>12</th>\n",
       "      <td>13</td>\n",
       "      <td>4</td>\n",
       "      <td>92</td>\n",
       "      <td>4.35</td>\n",
       "    </tr>\n",
       "    <tr>\n",
       "      <th>13</th>\n",
       "      <td>14</td>\n",
       "      <td>8</td>\n",
       "      <td>475</td>\n",
       "      <td>1.68</td>\n",
       "    </tr>\n",
       "  </tbody>\n",
       "</table>\n",
       "</div>"
      ],
      "text/plain": [
       "    campaign  count_prospects  No_of_prospects  response_rate\n",
       "0          1             2300            17642          13.04\n",
       "1          2             1211            10570          11.46\n",
       "2          3              574             5341          10.75\n",
       "3          4              249             2651           9.39\n",
       "4          5              120             1599           7.50\n",
       "5          6               75              979           7.66\n",
       "6          7               38              629           6.04\n",
       "7          8               17              400           4.25\n",
       "8          9               17              283           6.01\n",
       "9         10               12              225           5.33\n",
       "10        11               12              177           6.78\n",
       "11        12                3              125           2.40\n",
       "12        13                4               92           4.35\n",
       "13        14                8              475           1.68"
      ]
     },
     "execution_count": 105,
     "metadata": {},
     "output_type": "execute_result"
    }
   ],
   "source": [
    "agg_campaign"
   ]
  },
  {
   "cell_type": "code",
   "execution_count": 106,
   "metadata": {},
   "outputs": [
    {
     "data": {
      "image/png": "[encoded data removed]",
      "text/plain": [
       "<Figure size 432x288 with 1 Axes>"
      ]
     },
     "metadata": {},
     "output_type": "display_data"
    }
   ],
   "source": [
    "ax = sns.barplot(x='campaign', y='response_rate', data=agg_campaign)\n",
    "ax.set_xticklabels(ax.get_xticklabels(),rotation=0)\n",
    "plt.show()"
   ]
  },
  {
   "cell_type": "markdown",
   "metadata": {},
   "source": [
    "Interesting to note, that the response rate gradually decreases as the number of campaign contacts increases."
   ]
  },
  {
   "cell_type": "markdown",
   "metadata": {},
   "source": [
    "#### Gap after the last contact"
   ]
  },
  {
   "cell_type": "code",
   "execution_count": 107,
   "metadata": {},
   "outputs": [
    {
     "data": {
      "text/plain": [
       "999    39673\n",
       "3        439\n",
       "6        412\n",
       "4        118\n",
       "9         64\n",
       "2         61\n",
       "7         60\n",
       "12        58\n",
       "10        52\n",
       "5         46\n",
       "13        36\n",
       "11        28\n",
       "1         26\n",
       "15        24\n",
       "14        20\n",
       "8         18\n",
       "0         15\n",
       "16        11\n",
       "17         8\n",
       "18         7\n",
       "19         3\n",
       "22         3\n",
       "21         2\n",
       "26         1\n",
       "20         1\n",
       "25         1\n",
       "27         1\n",
       "Name: pdays, dtype: int64"
      ]
     },
     "execution_count": 107,
     "metadata": {},
     "output_type": "execute_result"
    }
   ],
   "source": [
    "loan['pdays'].value_counts()"
   ]
  },
  {
   "cell_type": "markdown",
   "metadata": {},
   "source": [
    "We are going to divide the pdays into three buckets, that is contacted within the first ten days, contacted after first ten days and first time contacted. Note that the pdays value of 999 means client was bot previously contacted."
   ]
  },
  {
   "cell_type": "code",
   "execution_count": 108,
   "metadata": {},
   "outputs": [],
   "source": [
    "loan['pdays'][loan['pdays'].isin([0,1,2,3,4,5,6,7,8,9,10])]='Contacted_in_first_10days'\n",
    "\n",
    "loan['pdays'][loan['pdays'].isin([999])]='First_time_contacted'\n",
    "\n",
    "loan['pdays'][~loan['pdays'].isin(['Contacted_in_first_10days','First_time_contacted'])]='Contacted_after_10days'"
   ]
  },
  {
   "cell_type": "code",
   "execution_count": 109,
   "metadata": {},
   "outputs": [
    {
     "data": {
      "text/plain": [
       "First_time_contacted         39673\n",
       "Contacted_in_first_10days     1311\n",
       "Contacted_after_10days         204\n",
       "Name: pdays, dtype: int64"
      ]
     },
     "execution_count": 109,
     "metadata": {},
     "output_type": "execute_result"
    }
   ],
   "source": [
    "loan['pdays'].value_counts()"
   ]
  },
  {
   "cell_type": "code",
   "execution_count": 110,
   "metadata": {},
   "outputs": [],
   "source": [
    "count_prospects_pdays = loan.groupby('pdays')['response'].sum().reset_index(name = 'count_prospects')"
   ]
  },
  {
   "cell_type": "code",
   "execution_count": 111,
   "metadata": {},
   "outputs": [],
   "source": [
    "No_of_prospect_pdays = loan.groupby('pdays')['response'].count().reset_index(name = 'No_of_prospects')"
   ]
  },
  {
   "cell_type": "code",
   "execution_count": 112,
   "metadata": {},
   "outputs": [],
   "source": [
    "agg_pdays = count_prospects_pdays.merge(No_of_prospect_pdays, on = 'pdays')"
   ]
  },
  {
   "cell_type": "code",
   "execution_count": 113,
   "metadata": {},
   "outputs": [],
   "source": [
    "agg_pdays['response_rate'] = 100*(agg_pdays['count_prospects']/agg_pdays['No_of_prospects']).round(4)"
   ]
  },
  {
   "cell_type": "code",
   "execution_count": 114,
   "metadata": {},
   "outputs": [
    {
     "data": {
      "text/html": [
       "<div>\n",
       "<style scoped>\n",
       "    .dataframe tbody tr th:only-of-type {\n",
       "        vertical-align: middle;\n",
       "    }\n",
       "\n",
       "    .dataframe tbody tr th {\n",
       "        vertical-align: top;\n",
       "    }\n",
       "\n",
       "    .dataframe thead th {\n",
       "        text-align: right;\n",
       "    }\n",
       "</style>\n",
       "<table border=\"1\" class=\"dataframe\">\n",
       "  <thead>\n",
       "    <tr style=\"text-align: right;\">\n",
       "      <th></th>\n",
       "      <th>pdays</th>\n",
       "      <th>count_prospects</th>\n",
       "      <th>No_of_prospects</th>\n",
       "      <th>response_rate</th>\n",
       "    </tr>\n",
       "  </thead>\n",
       "  <tbody>\n",
       "    <tr>\n",
       "      <th>0</th>\n",
       "      <td>Contacted_after_10days</td>\n",
       "      <td>116</td>\n",
       "      <td>204</td>\n",
       "      <td>56.86</td>\n",
       "    </tr>\n",
       "    <tr>\n",
       "      <th>1</th>\n",
       "      <td>Contacted_in_first_10days</td>\n",
       "      <td>851</td>\n",
       "      <td>1311</td>\n",
       "      <td>64.91</td>\n",
       "    </tr>\n",
       "    <tr>\n",
       "      <th>2</th>\n",
       "      <td>First_time_contacted</td>\n",
       "      <td>3673</td>\n",
       "      <td>39673</td>\n",
       "      <td>9.26</td>\n",
       "    </tr>\n",
       "  </tbody>\n",
       "</table>\n",
       "</div>"
      ],
      "text/plain": [
       "                       pdays  count_prospects  No_of_prospects  response_rate\n",
       "0     Contacted_after_10days              116              204          56.86\n",
       "1  Contacted_in_first_10days              851             1311          64.91\n",
       "2       First_time_contacted             3673            39673           9.26"
      ]
     },
     "execution_count": 114,
     "metadata": {},
     "output_type": "execute_result"
    }
   ],
   "source": [
    "agg_pdays"
   ]
  },
  {
   "cell_type": "code",
   "execution_count": 115,
   "metadata": {},
   "outputs": [
    {
     "data": {
      "image/png": "[encoded data removed]",
      "text/plain": [
       "<Figure size 432x288 with 1 Axes>"
      ]
     },
     "metadata": {},
     "output_type": "display_data"
    }
   ],
   "source": [
    "ax = sns.barplot(x='pdays', y='response_rate', data=agg_pdays)\n",
    "ax.set_xticklabels(ax.get_xticklabels(),rotation=10)\n",
    "plt.show()"
   ]
  },
  {
   "cell_type": "markdown",
   "metadata": {},
   "source": [
    "Though there is a huge difference in the response rates of the three categories, it is important to note that there is also a huge difference in the volume of data entries in these categories"
   ]
  },
  {
   "cell_type": "markdown",
   "metadata": {},
   "source": [
    "#### Previous"
   ]
  },
  {
   "cell_type": "code",
   "execution_count": 116,
   "metadata": {},
   "outputs": [
    {
     "data": {
      "text/plain": [
       "0    35563\n",
       "1     4561\n",
       "2      754\n",
       "3      216\n",
       "4       70\n",
       "5       18\n",
       "6        5\n",
       "7        1\n",
       "Name: previous, dtype: int64"
      ]
     },
     "execution_count": 116,
     "metadata": {},
     "output_type": "execute_result"
    }
   ],
   "source": [
    "loan['previous'].value_counts()"
   ]
  },
  {
   "cell_type": "markdown",
   "metadata": {},
   "source": [
    "Since the data ranges from 0 to 7, we are going to break it into three categories, that is never contacted, contacted less than three times and contacted greater than three times"
   ]
  },
  {
   "cell_type": "code",
   "execution_count": 117,
   "metadata": {},
   "outputs": [],
   "source": [
    "loan['previous'][loan['previous'].isin([0])]='Never contacted'\n",
    "loan['previous'][loan['previous'].isin([1,2,3])]='Less_than_3_times'\n",
    "loan['previous'][loan['previous'].isin([4,5,6,7])]='More than_3_times'"
   ]
  },
  {
   "cell_type": "code",
   "execution_count": 118,
   "metadata": {},
   "outputs": [
    {
     "data": {
      "text/plain": [
       "Never contacted      35563\n",
       "Less_than_3_times     5531\n",
       "More than_3_times       94\n",
       "Name: previous, dtype: int64"
      ]
     },
     "execution_count": 118,
     "metadata": {},
     "output_type": "execute_result"
    }
   ],
   "source": [
    "loan['previous'].value_counts()"
   ]
  },
  {
   "cell_type": "code",
   "execution_count": 119,
   "metadata": {},
   "outputs": [],
   "source": [
    "count_prospects_previous = loan.groupby('previous')['response'].sum().reset_index(name = 'count_prospects')"
   ]
  },
  {
   "cell_type": "code",
   "execution_count": 120,
   "metadata": {},
   "outputs": [],
   "source": [
    "No_of_prospect_previous = loan.groupby('previous')['response'].count().reset_index(name = 'No_of_prospects')"
   ]
  },
  {
   "cell_type": "code",
   "execution_count": 121,
   "metadata": {},
   "outputs": [],
   "source": [
    "agg_previous = count_prospects_previous.merge(No_of_prospect_previous, on = 'previous')"
   ]
  },
  {
   "cell_type": "code",
   "execution_count": 122,
   "metadata": {},
   "outputs": [],
   "source": [
    "agg_previous['response_rate'] = 100*(agg_previous['count_prospects']/agg_previous['No_of_prospects']).round(4)"
   ]
  },
  {
   "cell_type": "code",
   "execution_count": 123,
   "metadata": {},
   "outputs": [
    {
     "data": {
      "text/html": [
       "<div>\n",
       "<style scoped>\n",
       "    .dataframe tbody tr th:only-of-type {\n",
       "        vertical-align: middle;\n",
       "    }\n",
       "\n",
       "    .dataframe tbody tr th {\n",
       "        vertical-align: top;\n",
       "    }\n",
       "\n",
       "    .dataframe thead th {\n",
       "        text-align: right;\n",
       "    }\n",
       "</style>\n",
       "<table border=\"1\" class=\"dataframe\">\n",
       "  <thead>\n",
       "    <tr style=\"text-align: right;\">\n",
       "      <th></th>\n",
       "      <th>previous</th>\n",
       "      <th>count_prospects</th>\n",
       "      <th>No_of_prospects</th>\n",
       "      <th>response_rate</th>\n",
       "    </tr>\n",
       "  </thead>\n",
       "  <tbody>\n",
       "    <tr>\n",
       "      <th>0</th>\n",
       "      <td>Less_than_3_times</td>\n",
       "      <td>1445</td>\n",
       "      <td>5531</td>\n",
       "      <td>26.13</td>\n",
       "    </tr>\n",
       "    <tr>\n",
       "      <th>1</th>\n",
       "      <td>More than_3_times</td>\n",
       "      <td>54</td>\n",
       "      <td>94</td>\n",
       "      <td>57.45</td>\n",
       "    </tr>\n",
       "    <tr>\n",
       "      <th>2</th>\n",
       "      <td>Never contacted</td>\n",
       "      <td>3141</td>\n",
       "      <td>35563</td>\n",
       "      <td>8.83</td>\n",
       "    </tr>\n",
       "  </tbody>\n",
       "</table>\n",
       "</div>"
      ],
      "text/plain": [
       "            previous  count_prospects  No_of_prospects  response_rate\n",
       "0  Less_than_3_times             1445             5531          26.13\n",
       "1  More than_3_times               54               94          57.45\n",
       "2    Never contacted             3141            35563           8.83"
      ]
     },
     "execution_count": 123,
     "metadata": {},
     "output_type": "execute_result"
    }
   ],
   "source": [
    "agg_previous"
   ]
  },
  {
   "cell_type": "code",
   "execution_count": 124,
   "metadata": {},
   "outputs": [
    {
     "data": {
      "image/png": "[encoded data removed]",
      "text/plain": [
       "<Figure size 432x288 with 1 Axes>"
      ]
     },
     "metadata": {},
     "output_type": "display_data"
    }
   ],
   "source": [
    "ax = sns.barplot(x='previous', y='response_rate', data=agg_previous)\n",
    "ax.set_xticklabels(ax.get_xticklabels(),rotation=0)\n",
    "plt.show()"
   ]
  },
  {
   "cell_type": "markdown",
   "metadata": {},
   "source": [
    "We can note that the response rate is greatest for the the potential customers having previous contact of more than three. However, please note that  the number of data entries is very low for such cases, hence it's difficult to draw any inferences."
   ]
  },
  {
   "cell_type": "markdown",
   "metadata": {},
   "source": [
    "Now that we have analysed all the client related information, we will move to the wider social and economic variables, which gives us a clue of the conditions when a client is more likely to buy the product.\n",
    "\n",
    "- emp.var.rate: Employment Variation Rate - Quarterly Indicator\n",
    "- cons.price.idx: Consumer Price Index - Monthly Indicator \n",
    "- cons.conf.idx: Consumer Confidence Index - Monthly Indicator \n",
    "- euribor3m: Euribor 3 Month Rate - Daily Indicator\n",
    "- nr.employed: Number of Employees - Quarterly Indicator"
   ]
  },
  {
   "cell_type": "code",
   "execution_count": 125,
   "metadata": {},
   "outputs": [
    {
     "data": {
      "text/plain": [
       "Index(['age', 'job', 'marital', 'education', 'default', 'housing', 'loan',\n",
       "       'contact', 'month', 'day_of_week', 'duration', 'campaign', 'pdays',\n",
       "       'previous', 'poutcome', 'emp.var.rate', 'cons.price.idx',\n",
       "       'cons.conf.idx', 'euribor3m', 'nr.employed', 'response', 'age_bins'],\n",
       "      dtype='object')"
      ]
     },
     "execution_count": 125,
     "metadata": {},
     "output_type": "execute_result"
    }
   ],
   "source": [
    "loan.columns"
   ]
  },
  {
   "cell_type": "markdown",
   "metadata": {},
   "source": [
    "#### Employment Variation Rate"
   ]
  },
  {
   "cell_type": "code",
   "execution_count": 126,
   "metadata": {},
   "outputs": [
    {
     "data": {
      "image/png": "[encoded data removed]",
      "text/plain": [
       "<Figure size 432x288 with 1 Axes>"
      ]
     },
     "metadata": {},
     "output_type": "display_data"
    }
   ],
   "source": [
    "sns.distplot(loan['emp.var.rate'])\n",
    "plt.show()"
   ]
  },
  {
   "cell_type": "code",
   "execution_count": 127,
   "metadata": {},
   "outputs": [
    {
     "data": {
      "text/plain": [
       "count    41188.000000\n",
       "mean         0.081886\n",
       "std          1.570960\n",
       "min         -3.400000\n",
       "25%         -1.800000\n",
       "50%          1.100000\n",
       "75%          1.400000\n",
       "95%          1.400000\n",
       "99%          1.400000\n",
       "max          1.400000\n",
       "Name: emp.var.rate, dtype: float64"
      ]
     },
     "execution_count": 127,
     "metadata": {},
     "output_type": "execute_result"
    }
   ],
   "source": [
    "loan['emp.var.rate'].describe(percentiles = [0.25,0.50,0.75,0.95,0.99])"
   ]
  },
  {
   "cell_type": "code",
   "execution_count": 128,
   "metadata": {},
   "outputs": [
    {
     "data": {
      "text/plain": [
       " 1.4    16234\n",
       "-1.8     9184\n",
       " 1.1     7763\n",
       "-0.1     3683\n",
       "-2.9     1663\n",
       "-3.4     1071\n",
       "-1.7      773\n",
       "-1.1      635\n",
       "-3.0      172\n",
       "-0.2       10\n",
       "Name: emp.var.rate, dtype: int64"
      ]
     },
     "execution_count": 128,
     "metadata": {},
     "output_type": "execute_result"
    }
   ],
   "source": [
    "loan['emp.var.rate'].value_counts()"
   ]
  },
  {
   "cell_type": "code",
   "execution_count": 129,
   "metadata": {},
   "outputs": [],
   "source": [
    "count_prospects_emp_var_rate = loan.groupby('emp.var.rate')['response'].sum().reset_index(name = 'count_prospects')"
   ]
  },
  {
   "cell_type": "code",
   "execution_count": 130,
   "metadata": {},
   "outputs": [],
   "source": [
    "No_of_prospect_emp_var_rate = loan.groupby('emp.var.rate')['response'].count().reset_index(name = 'No_of_prospects')"
   ]
  },
  {
   "cell_type": "code",
   "execution_count": 131,
   "metadata": {},
   "outputs": [],
   "source": [
    "agg_emp_var_rate = count_prospects_emp_var_rate.merge(No_of_prospect_emp_var_rate, on = 'emp.var.rate')"
   ]
  },
  {
   "cell_type": "code",
   "execution_count": 132,
   "metadata": {},
   "outputs": [],
   "source": [
    "agg_emp_var_rate['response_rate'] = 100*(agg_emp_var_rate['count_prospects']/agg_emp_var_rate['No_of_prospects']).round(4)"
   ]
  },
  {
   "cell_type": "code",
   "execution_count": 133,
   "metadata": {},
   "outputs": [
    {
     "data": {
      "text/html": [
       "<div>\n",
       "<style scoped>\n",
       "    .dataframe tbody tr th:only-of-type {\n",
       "        vertical-align: middle;\n",
       "    }\n",
       "\n",
       "    .dataframe tbody tr th {\n",
       "        vertical-align: top;\n",
       "    }\n",
       "\n",
       "    .dataframe thead th {\n",
       "        text-align: right;\n",
       "    }\n",
       "</style>\n",
       "<table border=\"1\" class=\"dataframe\">\n",
       "  <thead>\n",
       "    <tr style=\"text-align: right;\">\n",
       "      <th></th>\n",
       "      <th>emp.var.rate</th>\n",
       "      <th>count_prospects</th>\n",
       "      <th>No_of_prospects</th>\n",
       "      <th>response_rate</th>\n",
       "    </tr>\n",
       "  </thead>\n",
       "  <tbody>\n",
       "    <tr>\n",
       "      <th>0</th>\n",
       "      <td>-3.4</td>\n",
       "      <td>454</td>\n",
       "      <td>1071</td>\n",
       "      <td>42.39</td>\n",
       "    </tr>\n",
       "    <tr>\n",
       "      <th>1</th>\n",
       "      <td>-3.0</td>\n",
       "      <td>88</td>\n",
       "      <td>172</td>\n",
       "      <td>51.16</td>\n",
       "    </tr>\n",
       "    <tr>\n",
       "      <th>2</th>\n",
       "      <td>-2.9</td>\n",
       "      <td>594</td>\n",
       "      <td>1663</td>\n",
       "      <td>35.72</td>\n",
       "    </tr>\n",
       "    <tr>\n",
       "      <th>3</th>\n",
       "      <td>-1.8</td>\n",
       "      <td>1461</td>\n",
       "      <td>9184</td>\n",
       "      <td>15.91</td>\n",
       "    </tr>\n",
       "    <tr>\n",
       "      <th>4</th>\n",
       "      <td>-1.7</td>\n",
       "      <td>403</td>\n",
       "      <td>773</td>\n",
       "      <td>52.13</td>\n",
       "    </tr>\n",
       "    <tr>\n",
       "      <th>5</th>\n",
       "      <td>-1.1</td>\n",
       "      <td>301</td>\n",
       "      <td>635</td>\n",
       "      <td>47.40</td>\n",
       "    </tr>\n",
       "    <tr>\n",
       "      <th>6</th>\n",
       "      <td>-0.2</td>\n",
       "      <td>1</td>\n",
       "      <td>10</td>\n",
       "      <td>10.00</td>\n",
       "    </tr>\n",
       "    <tr>\n",
       "      <th>7</th>\n",
       "      <td>-0.1</td>\n",
       "      <td>232</td>\n",
       "      <td>3683</td>\n",
       "      <td>6.30</td>\n",
       "    </tr>\n",
       "    <tr>\n",
       "      <th>8</th>\n",
       "      <td>1.1</td>\n",
       "      <td>240</td>\n",
       "      <td>7763</td>\n",
       "      <td>3.09</td>\n",
       "    </tr>\n",
       "    <tr>\n",
       "      <th>9</th>\n",
       "      <td>1.4</td>\n",
       "      <td>866</td>\n",
       "      <td>16234</td>\n",
       "      <td>5.33</td>\n",
       "    </tr>\n",
       "  </tbody>\n",
       "</table>\n",
       "</div>"
      ],
      "text/plain": [
       "   emp.var.rate  count_prospects  No_of_prospects  response_rate\n",
       "0          -3.4              454             1071          42.39\n",
       "1          -3.0               88              172          51.16\n",
       "2          -2.9              594             1663          35.72\n",
       "3          -1.8             1461             9184          15.91\n",
       "4          -1.7              403              773          52.13\n",
       "5          -1.1              301              635          47.40\n",
       "6          -0.2                1               10          10.00\n",
       "7          -0.1              232             3683           6.30\n",
       "8           1.1              240             7763           3.09\n",
       "9           1.4              866            16234           5.33"
      ]
     },
     "execution_count": 133,
     "metadata": {},
     "output_type": "execute_result"
    }
   ],
   "source": [
    "agg_emp_var_rate"
   ]
  },
  {
   "cell_type": "code",
   "execution_count": 134,
   "metadata": {},
   "outputs": [
    {
     "data": {
      "image/png": "[encoded data removed]",
      "text/plain": [
       "<Figure size 432x288 with 1 Axes>"
      ]
     },
     "metadata": {},
     "output_type": "display_data"
    }
   ],
   "source": [
    "ax = sns.barplot(x='emp.var.rate', y='response_rate', data=agg_emp_var_rate)\n",
    "ax.set_xticklabels(ax.get_xticklabels(),rotation=0)\n",
    "plt.show()"
   ]
  },
  {
   "cell_type": "markdown",
   "metadata": {},
   "source": [
    "You can note that a negative employment variation rate seems to be related to higher response rates."
   ]
  },
  {
   "cell_type": "markdown",
   "metadata": {},
   "source": [
    "#### Consumer Price Index"
   ]
  },
  {
   "cell_type": "code",
   "execution_count": 135,
   "metadata": {},
   "outputs": [
    {
     "data": {
      "image/png": "[encoded data removed]",
      "text/plain": [
       "<Figure size 432x288 with 1 Axes>"
      ]
     },
     "metadata": {},
     "output_type": "display_data"
    }
   ],
   "source": [
    "sns.distplot(loan['cons.price.idx'])\n",
    "plt.show()"
   ]
  },
  {
   "cell_type": "code",
   "execution_count": 136,
   "metadata": {},
   "outputs": [
    {
     "data": {
      "text/plain": [
       "count    41188.000000\n",
       "mean        93.575664\n",
       "std          0.578840\n",
       "min         92.201000\n",
       "25%         93.075000\n",
       "50%         93.749000\n",
       "75%         93.994000\n",
       "95%         94.465000\n",
       "99%         94.465000\n",
       "max         94.767000\n",
       "Name: cons.price.idx, dtype: float64"
      ]
     },
     "execution_count": 136,
     "metadata": {},
     "output_type": "execute_result"
    }
   ],
   "source": [
    "loan['cons.price.idx'].describe(percentiles = [0.25,0.50,0.75,0.95,0.99])"
   ]
  },
  {
   "cell_type": "code",
   "execution_count": 137,
   "metadata": {},
   "outputs": [
    {
     "data": {
      "text/plain": [
       "-36.4    7763\n",
       "-42.7    6685\n",
       "-46.2    5794\n",
       "-36.1    5175\n",
       "-41.8    4374\n",
       "-42.0    3616\n",
       "-47.1    2458\n",
       "-31.4     770\n",
       "-40.8     715\n",
       "-26.9     447\n",
       "-30.1     357\n",
       "-40.3     311\n",
       "-37.5     303\n",
       "-50.0     282\n",
       "-29.8     267\n",
       "-34.8     264\n",
       "-38.3     233\n",
       "-39.8     229\n",
       "-40.0     212\n",
       "-49.5     204\n",
       "-33.6     178\n",
       "-34.6     174\n",
       "-33.0     172\n",
       "-50.8     128\n",
       "-40.4      67\n",
       "-45.9      10\n",
       "Name: cons.conf.idx, dtype: int64"
      ]
     },
     "execution_count": 137,
     "metadata": {},
     "output_type": "execute_result"
    }
   ],
   "source": [
    "loan['cons.conf.idx'].value_counts()"
   ]
  },
  {
   "cell_type": "markdown",
   "metadata": {},
   "source": [
    "#### Euribor three month rate"
   ]
  },
  {
   "cell_type": "code",
   "execution_count": 138,
   "metadata": {},
   "outputs": [
    {
     "data": {
      "image/png": "[encoded data removed]",
      "text/plain": [
       "<Figure size 432x288 with 1 Axes>"
      ]
     },
     "metadata": {},
     "output_type": "display_data"
    }
   ],
   "source": [
    "sns.distplot(loan['euribor3m'])\n",
    "plt.show()"
   ]
  },
  {
   "cell_type": "code",
   "execution_count": 139,
   "metadata": {},
   "outputs": [
    {
     "data": {
      "text/plain": [
       "count    41188.000000\n",
       "mean         3.621291\n",
       "std          1.734447\n",
       "min          0.634000\n",
       "25%          1.344000\n",
       "50%          4.857000\n",
       "75%          4.961000\n",
       "95%          4.966000\n",
       "99%          4.968000\n",
       "max          5.045000\n",
       "Name: euribor3m, dtype: float64"
      ]
     },
     "execution_count": 139,
     "metadata": {},
     "output_type": "execute_result"
    }
   ],
   "source": [
    "loan['euribor3m'].describe(percentiles = [0.25,0.50,0.75,0.95,0.99])"
   ]
  },
  {
   "cell_type": "markdown",
   "metadata": {},
   "source": [
    "#### Number of employeees"
   ]
  },
  {
   "cell_type": "code",
   "execution_count": 140,
   "metadata": {},
   "outputs": [
    {
     "data": {
      "image/png": "[encoded data removed]",
      "text/plain": [
       "<Figure size 432x288 with 1 Axes>"
      ]
     },
     "metadata": {},
     "output_type": "display_data"
    }
   ],
   "source": [
    "sns.distplot(loan['nr.employed'])\n",
    "plt.show()"
   ]
  },
  {
   "cell_type": "code",
   "execution_count": 141,
   "metadata": {},
   "outputs": [
    {
     "data": {
      "text/plain": [
       "5228.1    16234\n",
       "5099.1     8534\n",
       "5191.0     7763\n",
       "5195.8     3683\n",
       "5076.2     1663\n",
       "5017.5     1071\n",
       "4991.6      773\n",
       "5008.7      650\n",
       "4963.6      635\n",
       "5023.5      172\n",
       "5176.3       10\n",
       "Name: nr.employed, dtype: int64"
      ]
     },
     "execution_count": 141,
     "metadata": {},
     "output_type": "execute_result"
    }
   ],
   "source": [
    "loan['nr.employed'].value_counts()"
   ]
  },
  {
   "cell_type": "code",
   "execution_count": 142,
   "metadata": {},
   "outputs": [
    {
     "data": {
      "text/plain": [
       "count    41188.000000\n",
       "mean      5167.035911\n",
       "std         72.251528\n",
       "min       4963.600000\n",
       "25%       5099.100000\n",
       "50%       5191.000000\n",
       "75%       5228.100000\n",
       "95%       5228.100000\n",
       "99%       5228.100000\n",
       "max       5228.100000\n",
       "Name: nr.employed, dtype: float64"
      ]
     },
     "execution_count": 142,
     "metadata": {},
     "output_type": "execute_result"
    }
   ],
   "source": [
    "loan['nr.employed'].describe(percentiles = [0.25,0.50,0.75,0.95,0.99])"
   ]
  },
  {
   "cell_type": "markdown",
   "metadata": {},
   "source": [
    "Now that we have completed basic exploratory analysis, we can move to the next stage, that is data cleaning and data preparation"
   ]
  },
  {
   "cell_type": "markdown",
   "metadata": {},
   "source": [
    "#### Data Preparation\n",
    "\n",
    "Once Exploratory Data anlysis has been performed, we move to data preparation for the purpose of modelling."
   ]
  },
  {
   "cell_type": "code",
   "execution_count": 143,
   "metadata": {},
   "outputs": [
    {
     "data": {
      "text/plain": [
       "Index(['age', 'job', 'marital', 'education', 'default', 'housing', 'loan',\n",
       "       'contact', 'month', 'day_of_week', 'duration', 'campaign', 'pdays',\n",
       "       'previous', 'poutcome', 'emp.var.rate', 'cons.price.idx',\n",
       "       'cons.conf.idx', 'euribor3m', 'nr.employed', 'response', 'age_bins'],\n",
       "      dtype='object')"
      ]
     },
     "execution_count": 143,
     "metadata": {},
     "output_type": "execute_result"
    }
   ],
   "source": [
    "# inspect the columns\n",
    "\n",
    "loan.columns"
   ]
  },
  {
   "cell_type": "code",
   "execution_count": 144,
   "metadata": {},
   "outputs": [],
   "source": [
    "# Droping the column age_bins we had created for the purpose of data visualisation\n",
    "\n",
    "loan.drop(columns = 'age_bins', inplace = True)"
   ]
  },
  {
   "cell_type": "code",
   "execution_count": 145,
   "metadata": {},
   "outputs": [],
   "source": [
    "# Creating a dummy variable for the variable 'job' and dropping the first one.\n",
    "\n",
    "job = pd.get_dummies(loan['job'],prefix='job',drop_first=True)\n",
    "\n",
    "#Adding the results to the master dataframe\n",
    "\n",
    "loan = pd.concat([loan,job],axis=1)"
   ]
  },
  {
   "cell_type": "code",
   "execution_count": 146,
   "metadata": {},
   "outputs": [
    {
     "data": {
      "text/html": [
       "<div>\n",
       "<style scoped>\n",
       "    .dataframe tbody tr th:only-of-type {\n",
       "        vertical-align: middle;\n",
       "    }\n",
       "\n",
       "    .dataframe tbody tr th {\n",
       "        vertical-align: top;\n",
       "    }\n",
       "\n",
       "    .dataframe thead th {\n",
       "        text-align: right;\n",
       "    }\n",
       "</style>\n",
       "<table border=\"1\" class=\"dataframe\">\n",
       "  <thead>\n",
       "    <tr style=\"text-align: right;\">\n",
       "      <th></th>\n",
       "      <th>age</th>\n",
       "      <th>job</th>\n",
       "      <th>marital</th>\n",
       "      <th>education</th>\n",
       "      <th>default</th>\n",
       "      <th>housing</th>\n",
       "      <th>loan</th>\n",
       "      <th>contact</th>\n",
       "      <th>month</th>\n",
       "      <th>day_of_week</th>\n",
       "      <th>...</th>\n",
       "      <th>job_entrepreneur</th>\n",
       "      <th>job_housemaid</th>\n",
       "      <th>job_management</th>\n",
       "      <th>job_retired</th>\n",
       "      <th>job_self-employed</th>\n",
       "      <th>job_services</th>\n",
       "      <th>job_student</th>\n",
       "      <th>job_technician</th>\n",
       "      <th>job_unemployed</th>\n",
       "      <th>job_unknown</th>\n",
       "    </tr>\n",
       "  </thead>\n",
       "  <tbody>\n",
       "    <tr>\n",
       "      <th>0</th>\n",
       "      <td>56</td>\n",
       "      <td>housemaid</td>\n",
       "      <td>married</td>\n",
       "      <td>Primary_Education</td>\n",
       "      <td>no</td>\n",
       "      <td>no</td>\n",
       "      <td>no</td>\n",
       "      <td>telephone</td>\n",
       "      <td>may</td>\n",
       "      <td>mon</td>\n",
       "      <td>...</td>\n",
       "      <td>0</td>\n",
       "      <td>1</td>\n",
       "      <td>0</td>\n",
       "      <td>0</td>\n",
       "      <td>0</td>\n",
       "      <td>0</td>\n",
       "      <td>0</td>\n",
       "      <td>0</td>\n",
       "      <td>0</td>\n",
       "      <td>0</td>\n",
       "    </tr>\n",
       "    <tr>\n",
       "      <th>1</th>\n",
       "      <td>57</td>\n",
       "      <td>services</td>\n",
       "      <td>married</td>\n",
       "      <td>Secondary_Education</td>\n",
       "      <td>unknown</td>\n",
       "      <td>no</td>\n",
       "      <td>no</td>\n",
       "      <td>telephone</td>\n",
       "      <td>may</td>\n",
       "      <td>mon</td>\n",
       "      <td>...</td>\n",
       "      <td>0</td>\n",
       "      <td>0</td>\n",
       "      <td>0</td>\n",
       "      <td>0</td>\n",
       "      <td>0</td>\n",
       "      <td>1</td>\n",
       "      <td>0</td>\n",
       "      <td>0</td>\n",
       "      <td>0</td>\n",
       "      <td>0</td>\n",
       "    </tr>\n",
       "    <tr>\n",
       "      <th>2</th>\n",
       "      <td>37</td>\n",
       "      <td>services</td>\n",
       "      <td>married</td>\n",
       "      <td>Secondary_Education</td>\n",
       "      <td>no</td>\n",
       "      <td>yes</td>\n",
       "      <td>no</td>\n",
       "      <td>telephone</td>\n",
       "      <td>may</td>\n",
       "      <td>mon</td>\n",
       "      <td>...</td>\n",
       "      <td>0</td>\n",
       "      <td>0</td>\n",
       "      <td>0</td>\n",
       "      <td>0</td>\n",
       "      <td>0</td>\n",
       "      <td>1</td>\n",
       "      <td>0</td>\n",
       "      <td>0</td>\n",
       "      <td>0</td>\n",
       "      <td>0</td>\n",
       "    </tr>\n",
       "    <tr>\n",
       "      <th>3</th>\n",
       "      <td>40</td>\n",
       "      <td>admin.</td>\n",
       "      <td>married</td>\n",
       "      <td>Primary_Education</td>\n",
       "      <td>no</td>\n",
       "      <td>no</td>\n",
       "      <td>no</td>\n",
       "      <td>telephone</td>\n",
       "      <td>may</td>\n",
       "      <td>mon</td>\n",
       "      <td>...</td>\n",
       "      <td>0</td>\n",
       "      <td>0</td>\n",
       "      <td>0</td>\n",
       "      <td>0</td>\n",
       "      <td>0</td>\n",
       "      <td>0</td>\n",
       "      <td>0</td>\n",
       "      <td>0</td>\n",
       "      <td>0</td>\n",
       "      <td>0</td>\n",
       "    </tr>\n",
       "    <tr>\n",
       "      <th>4</th>\n",
       "      <td>56</td>\n",
       "      <td>services</td>\n",
       "      <td>married</td>\n",
       "      <td>Secondary_Education</td>\n",
       "      <td>no</td>\n",
       "      <td>no</td>\n",
       "      <td>yes</td>\n",
       "      <td>telephone</td>\n",
       "      <td>may</td>\n",
       "      <td>mon</td>\n",
       "      <td>...</td>\n",
       "      <td>0</td>\n",
       "      <td>0</td>\n",
       "      <td>0</td>\n",
       "      <td>0</td>\n",
       "      <td>0</td>\n",
       "      <td>1</td>\n",
       "      <td>0</td>\n",
       "      <td>0</td>\n",
       "      <td>0</td>\n",
       "      <td>0</td>\n",
       "    </tr>\n",
       "  </tbody>\n",
       "</table>\n",
       "<p>5 rows × 32 columns</p>\n",
       "</div>"
      ],
      "text/plain": [
       "   age        job  marital            education  default housing loan  \\\n",
       "0   56  housemaid  married    Primary_Education       no      no   no   \n",
       "1   57   services  married  Secondary_Education  unknown      no   no   \n",
       "2   37   services  married  Secondary_Education       no     yes   no   \n",
       "3   40     admin.  married    Primary_Education       no      no   no   \n",
       "4   56   services  married  Secondary_Education       no      no  yes   \n",
       "\n",
       "     contact month day_of_week     ...       job_entrepreneur  job_housemaid  \\\n",
       "0  telephone   may         mon     ...                      0              1   \n",
       "1  telephone   may         mon     ...                      0              0   \n",
       "2  telephone   may         mon     ...                      0              0   \n",
       "3  telephone   may         mon     ...                      0              0   \n",
       "4  telephone   may         mon     ...                      0              0   \n",
       "\n",
       "  job_management job_retired job_self-employed  job_services  job_student  \\\n",
       "0              0           0                 0             0            0   \n",
       "1              0           0                 0             1            0   \n",
       "2              0           0                 0             1            0   \n",
       "3              0           0                 0             0            0   \n",
       "4              0           0                 0             1            0   \n",
       "\n",
       "   job_technician  job_unemployed  job_unknown  \n",
       "0               0               0            0  \n",
       "1               0               0            0  \n",
       "2               0               0            0  \n",
       "3               0               0            0  \n",
       "4               0               0            0  \n",
       "\n",
       "[5 rows x 32 columns]"
      ]
     },
     "execution_count": 146,
     "metadata": {},
     "output_type": "execute_result"
    }
   ],
   "source": [
    "loan.head()"
   ]
  },
  {
   "cell_type": "markdown",
   "metadata": {},
   "source": [
    "Notice that we have created a set of dummy columns for the feature job. Similarly, we are going to do the same for other categorical variables."
   ]
  },
  {
   "cell_type": "code",
   "execution_count": 147,
   "metadata": {},
   "outputs": [],
   "source": [
    "# Creating dummy variable for marital column\n",
    "\n",
    "marital = pd.get_dummies(loan['marital'],prefix='marital',drop_first=True)\n",
    "loan = pd.concat([loan,marital],axis=1)"
   ]
  },
  {
   "cell_type": "code",
   "execution_count": 148,
   "metadata": {},
   "outputs": [],
   "source": [
    "# Creating dummy variable for education column\n",
    "\n",
    "education = pd.get_dummies(loan['education'],prefix='education',drop_first=True)\n",
    "loan = pd.concat([loan,education],axis=1)"
   ]
  },
  {
   "cell_type": "code",
   "execution_count": 149,
   "metadata": {},
   "outputs": [],
   "source": [
    "# Creating dummy variable for default column\n",
    "\n",
    "default = pd.get_dummies(loan['default'],prefix='default',drop_first=True)\n",
    "loan = pd.concat([loan,default],axis=1)"
   ]
  },
  {
   "cell_type": "code",
   "execution_count": 150,
   "metadata": {},
   "outputs": [],
   "source": [
    "# Creating dummy variable for housing column\n",
    "\n",
    "housing = pd.get_dummies(loan['housing'],prefix='housing',drop_first=True)\n",
    "loan = pd.concat([loan,housing],axis=1)"
   ]
  },
  {
   "cell_type": "code",
   "execution_count": 151,
   "metadata": {},
   "outputs": [],
   "source": [
    "# Creating dummy variable for loan column\n",
    "\n",
    "loan_v= pd.get_dummies(loan['loan'],prefix='loan',drop_first=True)\n",
    "loan = pd.concat([loan,loan_v],axis=1)"
   ]
  },
  {
   "cell_type": "code",
   "execution_count": 152,
   "metadata": {},
   "outputs": [],
   "source": [
    "# Creating dummy variable for contact column\n",
    "\n",
    "contact = pd.get_dummies(loan['contact'],prefix='contact',drop_first=True)\n",
    "loan = pd.concat([loan,contact],axis=1)"
   ]
  },
  {
   "cell_type": "code",
   "execution_count": 153,
   "metadata": {},
   "outputs": [],
   "source": [
    "# Creating dummy variable for month column\n",
    "\n",
    "month = pd.get_dummies(loan['month'],prefix='month',drop_first=True)\n",
    "loan = pd.concat([loan,month],axis=1)"
   ]
  },
  {
   "cell_type": "code",
   "execution_count": 154,
   "metadata": {},
   "outputs": [],
   "source": [
    "# Creating dummy variable for day_of_week column\n",
    "\n",
    "day_of_week = pd.get_dummies(loan['day_of_week'],prefix='day_of_week',drop_first=True)\n",
    "loan = pd.concat([loan,day_of_week],axis=1)"
   ]
  },
  {
   "cell_type": "code",
   "execution_count": 155,
   "metadata": {},
   "outputs": [],
   "source": [
    "# Creating dummy variable for pdays column\n",
    "\n",
    "pdays = pd.get_dummies(loan['pdays'],prefix='pdays',drop_first=True)\n",
    "loan = pd.concat([loan,pdays],axis=1)"
   ]
  },
  {
   "cell_type": "code",
   "execution_count": 156,
   "metadata": {},
   "outputs": [],
   "source": [
    "# Creating dummy variable for previous column\n",
    "\n",
    "previous = pd.get_dummies(loan['previous'],prefix='previous',drop_first=True)\n",
    "loan = pd.concat([loan,previous],axis=1)"
   ]
  },
  {
   "cell_type": "code",
   "execution_count": 157,
   "metadata": {},
   "outputs": [],
   "source": [
    "# Creating dummy variable for poutcome column\n",
    "\n",
    "poutcome = pd.get_dummies(loan['poutcome'],prefix='poutcome',drop_first=True)\n",
    "loan = pd.concat([loan,poutcome],axis=1)"
   ]
  },
  {
   "cell_type": "code",
   "execution_count": 158,
   "metadata": {},
   "outputs": [
    {
     "data": {
      "text/html": [
       "<div>\n",
       "<style scoped>\n",
       "    .dataframe tbody tr th:only-of-type {\n",
       "        vertical-align: middle;\n",
       "    }\n",
       "\n",
       "    .dataframe tbody tr th {\n",
       "        vertical-align: top;\n",
       "    }\n",
       "\n",
       "    .dataframe thead th {\n",
       "        text-align: right;\n",
       "    }\n",
       "</style>\n",
       "<table border=\"1\" class=\"dataframe\">\n",
       "  <thead>\n",
       "    <tr style=\"text-align: right;\">\n",
       "      <th></th>\n",
       "      <th>age</th>\n",
       "      <th>job</th>\n",
       "      <th>marital</th>\n",
       "      <th>education</th>\n",
       "      <th>default</th>\n",
       "      <th>housing</th>\n",
       "      <th>loan</th>\n",
       "      <th>contact</th>\n",
       "      <th>month</th>\n",
       "      <th>day_of_week</th>\n",
       "      <th>...</th>\n",
       "      <th>day_of_week_mon</th>\n",
       "      <th>day_of_week_thu</th>\n",
       "      <th>day_of_week_tue</th>\n",
       "      <th>day_of_week_wed</th>\n",
       "      <th>pdays_Contacted_in_first_10days</th>\n",
       "      <th>pdays_First_time_contacted</th>\n",
       "      <th>previous_More than_3_times</th>\n",
       "      <th>previous_Never contacted</th>\n",
       "      <th>poutcome_nonexistent</th>\n",
       "      <th>poutcome_success</th>\n",
       "    </tr>\n",
       "  </thead>\n",
       "  <tbody>\n",
       "    <tr>\n",
       "      <th>0</th>\n",
       "      <td>56</td>\n",
       "      <td>housemaid</td>\n",
       "      <td>married</td>\n",
       "      <td>Primary_Education</td>\n",
       "      <td>no</td>\n",
       "      <td>no</td>\n",
       "      <td>no</td>\n",
       "      <td>telephone</td>\n",
       "      <td>may</td>\n",
       "      <td>mon</td>\n",
       "      <td>...</td>\n",
       "      <td>1</td>\n",
       "      <td>0</td>\n",
       "      <td>0</td>\n",
       "      <td>0</td>\n",
       "      <td>0</td>\n",
       "      <td>1</td>\n",
       "      <td>0</td>\n",
       "      <td>1</td>\n",
       "      <td>1</td>\n",
       "      <td>0</td>\n",
       "    </tr>\n",
       "    <tr>\n",
       "      <th>1</th>\n",
       "      <td>57</td>\n",
       "      <td>services</td>\n",
       "      <td>married</td>\n",
       "      <td>Secondary_Education</td>\n",
       "      <td>unknown</td>\n",
       "      <td>no</td>\n",
       "      <td>no</td>\n",
       "      <td>telephone</td>\n",
       "      <td>may</td>\n",
       "      <td>mon</td>\n",
       "      <td>...</td>\n",
       "      <td>1</td>\n",
       "      <td>0</td>\n",
       "      <td>0</td>\n",
       "      <td>0</td>\n",
       "      <td>0</td>\n",
       "      <td>1</td>\n",
       "      <td>0</td>\n",
       "      <td>1</td>\n",
       "      <td>1</td>\n",
       "      <td>0</td>\n",
       "    </tr>\n",
       "    <tr>\n",
       "      <th>2</th>\n",
       "      <td>37</td>\n",
       "      <td>services</td>\n",
       "      <td>married</td>\n",
       "      <td>Secondary_Education</td>\n",
       "      <td>no</td>\n",
       "      <td>yes</td>\n",
       "      <td>no</td>\n",
       "      <td>telephone</td>\n",
       "      <td>may</td>\n",
       "      <td>mon</td>\n",
       "      <td>...</td>\n",
       "      <td>1</td>\n",
       "      <td>0</td>\n",
       "      <td>0</td>\n",
       "      <td>0</td>\n",
       "      <td>0</td>\n",
       "      <td>1</td>\n",
       "      <td>0</td>\n",
       "      <td>1</td>\n",
       "      <td>1</td>\n",
       "      <td>0</td>\n",
       "    </tr>\n",
       "    <tr>\n",
       "      <th>3</th>\n",
       "      <td>40</td>\n",
       "      <td>admin.</td>\n",
       "      <td>married</td>\n",
       "      <td>Primary_Education</td>\n",
       "      <td>no</td>\n",
       "      <td>no</td>\n",
       "      <td>no</td>\n",
       "      <td>telephone</td>\n",
       "      <td>may</td>\n",
       "      <td>mon</td>\n",
       "      <td>...</td>\n",
       "      <td>1</td>\n",
       "      <td>0</td>\n",
       "      <td>0</td>\n",
       "      <td>0</td>\n",
       "      <td>0</td>\n",
       "      <td>1</td>\n",
       "      <td>0</td>\n",
       "      <td>1</td>\n",
       "      <td>1</td>\n",
       "      <td>0</td>\n",
       "    </tr>\n",
       "    <tr>\n",
       "      <th>4</th>\n",
       "      <td>56</td>\n",
       "      <td>services</td>\n",
       "      <td>married</td>\n",
       "      <td>Secondary_Education</td>\n",
       "      <td>no</td>\n",
       "      <td>no</td>\n",
       "      <td>yes</td>\n",
       "      <td>telephone</td>\n",
       "      <td>may</td>\n",
       "      <td>mon</td>\n",
       "      <td>...</td>\n",
       "      <td>1</td>\n",
       "      <td>0</td>\n",
       "      <td>0</td>\n",
       "      <td>0</td>\n",
       "      <td>0</td>\n",
       "      <td>1</td>\n",
       "      <td>0</td>\n",
       "      <td>1</td>\n",
       "      <td>1</td>\n",
       "      <td>0</td>\n",
       "    </tr>\n",
       "  </tbody>\n",
       "</table>\n",
       "<p>5 rows × 64 columns</p>\n",
       "</div>"
      ],
      "text/plain": [
       "   age        job  marital            education  default housing loan  \\\n",
       "0   56  housemaid  married    Primary_Education       no      no   no   \n",
       "1   57   services  married  Secondary_Education  unknown      no   no   \n",
       "2   37   services  married  Secondary_Education       no     yes   no   \n",
       "3   40     admin.  married    Primary_Education       no      no   no   \n",
       "4   56   services  married  Secondary_Education       no      no  yes   \n",
       "\n",
       "     contact month day_of_week        ...         day_of_week_mon  \\\n",
       "0  telephone   may         mon        ...                       1   \n",
       "1  telephone   may         mon        ...                       1   \n",
       "2  telephone   may         mon        ...                       1   \n",
       "3  telephone   may         mon        ...                       1   \n",
       "4  telephone   may         mon        ...                       1   \n",
       "\n",
       "   day_of_week_thu day_of_week_tue day_of_week_wed  \\\n",
       "0                0               0               0   \n",
       "1                0               0               0   \n",
       "2                0               0               0   \n",
       "3                0               0               0   \n",
       "4                0               0               0   \n",
       "\n",
       "  pdays_Contacted_in_first_10days  pdays_First_time_contacted  \\\n",
       "0                               0                           1   \n",
       "1                               0                           1   \n",
       "2                               0                           1   \n",
       "3                               0                           1   \n",
       "4                               0                           1   \n",
       "\n",
       "   previous_More than_3_times  previous_Never contacted  poutcome_nonexistent  \\\n",
       "0                           0                         1                     1   \n",
       "1                           0                         1                     1   \n",
       "2                           0                         1                     1   \n",
       "3                           0                         1                     1   \n",
       "4                           0                         1                     1   \n",
       "\n",
       "   poutcome_success  \n",
       "0                 0  \n",
       "1                 0  \n",
       "2                 0  \n",
       "3                 0  \n",
       "4                 0  \n",
       "\n",
       "[5 rows x 64 columns]"
      ]
     },
     "execution_count": 158,
     "metadata": {},
     "output_type": "execute_result"
    }
   ],
   "source": [
    "# inspect the dataframe\n",
    "\n",
    "loan.head()"
   ]
  },
  {
   "cell_type": "code",
   "execution_count": 159,
   "metadata": {},
   "outputs": [],
   "source": [
    "# Drop all features for whom dummy variable has been created\n",
    "\n",
    "loan.drop(columns = ['job','marital','education','default','housing','loan','contact','month','day_of_week','pdays',\n",
    "                     'previous','poutcome'], inplace=True)"
   ]
  },
  {
   "cell_type": "code",
   "execution_count": 160,
   "metadata": {},
   "outputs": [
    {
     "data": {
      "text/html": [
       "<div>\n",
       "<style scoped>\n",
       "    .dataframe tbody tr th:only-of-type {\n",
       "        vertical-align: middle;\n",
       "    }\n",
       "\n",
       "    .dataframe tbody tr th {\n",
       "        vertical-align: top;\n",
       "    }\n",
       "\n",
       "    .dataframe thead th {\n",
       "        text-align: right;\n",
       "    }\n",
       "</style>\n",
       "<table border=\"1\" class=\"dataframe\">\n",
       "  <thead>\n",
       "    <tr style=\"text-align: right;\">\n",
       "      <th></th>\n",
       "      <th>age</th>\n",
       "      <th>duration</th>\n",
       "      <th>campaign</th>\n",
       "      <th>emp.var.rate</th>\n",
       "      <th>cons.price.idx</th>\n",
       "      <th>cons.conf.idx</th>\n",
       "      <th>euribor3m</th>\n",
       "      <th>nr.employed</th>\n",
       "      <th>response</th>\n",
       "      <th>job_blue-collar</th>\n",
       "      <th>...</th>\n",
       "      <th>day_of_week_mon</th>\n",
       "      <th>day_of_week_thu</th>\n",
       "      <th>day_of_week_tue</th>\n",
       "      <th>day_of_week_wed</th>\n",
       "      <th>pdays_Contacted_in_first_10days</th>\n",
       "      <th>pdays_First_time_contacted</th>\n",
       "      <th>previous_More than_3_times</th>\n",
       "      <th>previous_Never contacted</th>\n",
       "      <th>poutcome_nonexistent</th>\n",
       "      <th>poutcome_success</th>\n",
       "    </tr>\n",
       "  </thead>\n",
       "  <tbody>\n",
       "    <tr>\n",
       "      <th>0</th>\n",
       "      <td>56</td>\n",
       "      <td>261</td>\n",
       "      <td>1</td>\n",
       "      <td>1.1</td>\n",
       "      <td>93.994</td>\n",
       "      <td>-36.4</td>\n",
       "      <td>4.857</td>\n",
       "      <td>5191.0</td>\n",
       "      <td>0</td>\n",
       "      <td>0</td>\n",
       "      <td>...</td>\n",
       "      <td>1</td>\n",
       "      <td>0</td>\n",
       "      <td>0</td>\n",
       "      <td>0</td>\n",
       "      <td>0</td>\n",
       "      <td>1</td>\n",
       "      <td>0</td>\n",
       "      <td>1</td>\n",
       "      <td>1</td>\n",
       "      <td>0</td>\n",
       "    </tr>\n",
       "    <tr>\n",
       "      <th>1</th>\n",
       "      <td>57</td>\n",
       "      <td>149</td>\n",
       "      <td>1</td>\n",
       "      <td>1.1</td>\n",
       "      <td>93.994</td>\n",
       "      <td>-36.4</td>\n",
       "      <td>4.857</td>\n",
       "      <td>5191.0</td>\n",
       "      <td>0</td>\n",
       "      <td>0</td>\n",
       "      <td>...</td>\n",
       "      <td>1</td>\n",
       "      <td>0</td>\n",
       "      <td>0</td>\n",
       "      <td>0</td>\n",
       "      <td>0</td>\n",
       "      <td>1</td>\n",
       "      <td>0</td>\n",
       "      <td>1</td>\n",
       "      <td>1</td>\n",
       "      <td>0</td>\n",
       "    </tr>\n",
       "    <tr>\n",
       "      <th>2</th>\n",
       "      <td>37</td>\n",
       "      <td>226</td>\n",
       "      <td>1</td>\n",
       "      <td>1.1</td>\n",
       "      <td>93.994</td>\n",
       "      <td>-36.4</td>\n",
       "      <td>4.857</td>\n",
       "      <td>5191.0</td>\n",
       "      <td>0</td>\n",
       "      <td>0</td>\n",
       "      <td>...</td>\n",
       "      <td>1</td>\n",
       "      <td>0</td>\n",
       "      <td>0</td>\n",
       "      <td>0</td>\n",
       "      <td>0</td>\n",
       "      <td>1</td>\n",
       "      <td>0</td>\n",
       "      <td>1</td>\n",
       "      <td>1</td>\n",
       "      <td>0</td>\n",
       "    </tr>\n",
       "    <tr>\n",
       "      <th>3</th>\n",
       "      <td>40</td>\n",
       "      <td>151</td>\n",
       "      <td>1</td>\n",
       "      <td>1.1</td>\n",
       "      <td>93.994</td>\n",
       "      <td>-36.4</td>\n",
       "      <td>4.857</td>\n",
       "      <td>5191.0</td>\n",
       "      <td>0</td>\n",
       "      <td>0</td>\n",
       "      <td>...</td>\n",
       "      <td>1</td>\n",
       "      <td>0</td>\n",
       "      <td>0</td>\n",
       "      <td>0</td>\n",
       "      <td>0</td>\n",
       "      <td>1</td>\n",
       "      <td>0</td>\n",
       "      <td>1</td>\n",
       "      <td>1</td>\n",
       "      <td>0</td>\n",
       "    </tr>\n",
       "    <tr>\n",
       "      <th>4</th>\n",
       "      <td>56</td>\n",
       "      <td>307</td>\n",
       "      <td>1</td>\n",
       "      <td>1.1</td>\n",
       "      <td>93.994</td>\n",
       "      <td>-36.4</td>\n",
       "      <td>4.857</td>\n",
       "      <td>5191.0</td>\n",
       "      <td>0</td>\n",
       "      <td>0</td>\n",
       "      <td>...</td>\n",
       "      <td>1</td>\n",
       "      <td>0</td>\n",
       "      <td>0</td>\n",
       "      <td>0</td>\n",
       "      <td>0</td>\n",
       "      <td>1</td>\n",
       "      <td>0</td>\n",
       "      <td>1</td>\n",
       "      <td>1</td>\n",
       "      <td>0</td>\n",
       "    </tr>\n",
       "  </tbody>\n",
       "</table>\n",
       "<p>5 rows × 52 columns</p>\n",
       "</div>"
      ],
      "text/plain": [
       "   age  duration  campaign  emp.var.rate  cons.price.idx  cons.conf.idx  \\\n",
       "0   56       261         1           1.1          93.994          -36.4   \n",
       "1   57       149         1           1.1          93.994          -36.4   \n",
       "2   37       226         1           1.1          93.994          -36.4   \n",
       "3   40       151         1           1.1          93.994          -36.4   \n",
       "4   56       307         1           1.1          93.994          -36.4   \n",
       "\n",
       "   euribor3m  nr.employed  response  job_blue-collar        ...         \\\n",
       "0      4.857       5191.0         0                0        ...          \n",
       "1      4.857       5191.0         0                0        ...          \n",
       "2      4.857       5191.0         0                0        ...          \n",
       "3      4.857       5191.0         0                0        ...          \n",
       "4      4.857       5191.0         0                0        ...          \n",
       "\n",
       "   day_of_week_mon  day_of_week_thu  day_of_week_tue  day_of_week_wed  \\\n",
       "0                1                0                0                0   \n",
       "1                1                0                0                0   \n",
       "2                1                0                0                0   \n",
       "3                1                0                0                0   \n",
       "4                1                0                0                0   \n",
       "\n",
       "   pdays_Contacted_in_first_10days  pdays_First_time_contacted  \\\n",
       "0                                0                           1   \n",
       "1                                0                           1   \n",
       "2                                0                           1   \n",
       "3                                0                           1   \n",
       "4                                0                           1   \n",
       "\n",
       "   previous_More than_3_times  previous_Never contacted  poutcome_nonexistent  \\\n",
       "0                           0                         1                     1   \n",
       "1                           0                         1                     1   \n",
       "2                           0                         1                     1   \n",
       "3                           0                         1                     1   \n",
       "4                           0                         1                     1   \n",
       "\n",
       "   poutcome_success  \n",
       "0                 0  \n",
       "1                 0  \n",
       "2                 0  \n",
       "3                 0  \n",
       "4                 0  \n",
       "\n",
       "[5 rows x 52 columns]"
      ]
     },
     "execution_count": 160,
     "metadata": {},
     "output_type": "execute_result"
    }
   ],
   "source": [
    "loan.head()"
   ]
  },
  {
   "cell_type": "code",
   "execution_count": 161,
   "metadata": {},
   "outputs": [
    {
     "data": {
      "text/plain": [
       "(41188, 52)"
      ]
     },
     "execution_count": 161,
     "metadata": {},
     "output_type": "execute_result"
    }
   ],
   "source": [
    "loan.shape"
   ]
  },
  {
   "cell_type": "code",
   "execution_count": 162,
   "metadata": {},
   "outputs": [],
   "source": [
    "# drop duplicate rows\n",
    "loan=loan.drop_duplicates()"
   ]
  },
  {
   "cell_type": "code",
   "execution_count": 163,
   "metadata": {},
   "outputs": [
    {
     "data": {
      "text/plain": [
       "(41173, 52)"
      ]
     },
     "execution_count": 163,
     "metadata": {},
     "output_type": "execute_result"
    }
   ],
   "source": [
    "loan.shape"
   ]
  },
  {
   "cell_type": "code",
   "execution_count": 164,
   "metadata": {},
   "outputs": [],
   "source": [
    "# add unique id to each prospect\n",
    "loan[\"prospect_id\"]=np.arange(1,len(loan)+1)"
   ]
  },
  {
   "cell_type": "code",
   "execution_count": 165,
   "metadata": {},
   "outputs": [
    {
     "data": {
      "text/html": [
       "<div>\n",
       "<style scoped>\n",
       "    .dataframe tbody tr th:only-of-type {\n",
       "        vertical-align: middle;\n",
       "    }\n",
       "\n",
       "    .dataframe tbody tr th {\n",
       "        vertical-align: top;\n",
       "    }\n",
       "\n",
       "    .dataframe thead th {\n",
       "        text-align: right;\n",
       "    }\n",
       "</style>\n",
       "<table border=\"1\" class=\"dataframe\">\n",
       "  <thead>\n",
       "    <tr style=\"text-align: right;\">\n",
       "      <th></th>\n",
       "      <th>age</th>\n",
       "      <th>duration</th>\n",
       "      <th>campaign</th>\n",
       "      <th>emp.var.rate</th>\n",
       "      <th>cons.price.idx</th>\n",
       "      <th>cons.conf.idx</th>\n",
       "      <th>euribor3m</th>\n",
       "      <th>nr.employed</th>\n",
       "      <th>response</th>\n",
       "      <th>job_blue-collar</th>\n",
       "      <th>...</th>\n",
       "      <th>day_of_week_thu</th>\n",
       "      <th>day_of_week_tue</th>\n",
       "      <th>day_of_week_wed</th>\n",
       "      <th>pdays_Contacted_in_first_10days</th>\n",
       "      <th>pdays_First_time_contacted</th>\n",
       "      <th>previous_More than_3_times</th>\n",
       "      <th>previous_Never contacted</th>\n",
       "      <th>poutcome_nonexistent</th>\n",
       "      <th>poutcome_success</th>\n",
       "      <th>prospect_id</th>\n",
       "    </tr>\n",
       "  </thead>\n",
       "  <tbody>\n",
       "    <tr>\n",
       "      <th>0</th>\n",
       "      <td>56</td>\n",
       "      <td>261</td>\n",
       "      <td>1</td>\n",
       "      <td>1.1</td>\n",
       "      <td>93.994</td>\n",
       "      <td>-36.4</td>\n",
       "      <td>4.857</td>\n",
       "      <td>5191.0</td>\n",
       "      <td>0</td>\n",
       "      <td>0</td>\n",
       "      <td>...</td>\n",
       "      <td>0</td>\n",
       "      <td>0</td>\n",
       "      <td>0</td>\n",
       "      <td>0</td>\n",
       "      <td>1</td>\n",
       "      <td>0</td>\n",
       "      <td>1</td>\n",
       "      <td>1</td>\n",
       "      <td>0</td>\n",
       "      <td>1</td>\n",
       "    </tr>\n",
       "    <tr>\n",
       "      <th>1</th>\n",
       "      <td>57</td>\n",
       "      <td>149</td>\n",
       "      <td>1</td>\n",
       "      <td>1.1</td>\n",
       "      <td>93.994</td>\n",
       "      <td>-36.4</td>\n",
       "      <td>4.857</td>\n",
       "      <td>5191.0</td>\n",
       "      <td>0</td>\n",
       "      <td>0</td>\n",
       "      <td>...</td>\n",
       "      <td>0</td>\n",
       "      <td>0</td>\n",
       "      <td>0</td>\n",
       "      <td>0</td>\n",
       "      <td>1</td>\n",
       "      <td>0</td>\n",
       "      <td>1</td>\n",
       "      <td>1</td>\n",
       "      <td>0</td>\n",
       "      <td>2</td>\n",
       "    </tr>\n",
       "    <tr>\n",
       "      <th>2</th>\n",
       "      <td>37</td>\n",
       "      <td>226</td>\n",
       "      <td>1</td>\n",
       "      <td>1.1</td>\n",
       "      <td>93.994</td>\n",
       "      <td>-36.4</td>\n",
       "      <td>4.857</td>\n",
       "      <td>5191.0</td>\n",
       "      <td>0</td>\n",
       "      <td>0</td>\n",
       "      <td>...</td>\n",
       "      <td>0</td>\n",
       "      <td>0</td>\n",
       "      <td>0</td>\n",
       "      <td>0</td>\n",
       "      <td>1</td>\n",
       "      <td>0</td>\n",
       "      <td>1</td>\n",
       "      <td>1</td>\n",
       "      <td>0</td>\n",
       "      <td>3</td>\n",
       "    </tr>\n",
       "    <tr>\n",
       "      <th>3</th>\n",
       "      <td>40</td>\n",
       "      <td>151</td>\n",
       "      <td>1</td>\n",
       "      <td>1.1</td>\n",
       "      <td>93.994</td>\n",
       "      <td>-36.4</td>\n",
       "      <td>4.857</td>\n",
       "      <td>5191.0</td>\n",
       "      <td>0</td>\n",
       "      <td>0</td>\n",
       "      <td>...</td>\n",
       "      <td>0</td>\n",
       "      <td>0</td>\n",
       "      <td>0</td>\n",
       "      <td>0</td>\n",
       "      <td>1</td>\n",
       "      <td>0</td>\n",
       "      <td>1</td>\n",
       "      <td>1</td>\n",
       "      <td>0</td>\n",
       "      <td>4</td>\n",
       "    </tr>\n",
       "    <tr>\n",
       "      <th>4</th>\n",
       "      <td>56</td>\n",
       "      <td>307</td>\n",
       "      <td>1</td>\n",
       "      <td>1.1</td>\n",
       "      <td>93.994</td>\n",
       "      <td>-36.4</td>\n",
       "      <td>4.857</td>\n",
       "      <td>5191.0</td>\n",
       "      <td>0</td>\n",
       "      <td>0</td>\n",
       "      <td>...</td>\n",
       "      <td>0</td>\n",
       "      <td>0</td>\n",
       "      <td>0</td>\n",
       "      <td>0</td>\n",
       "      <td>1</td>\n",
       "      <td>0</td>\n",
       "      <td>1</td>\n",
       "      <td>1</td>\n",
       "      <td>0</td>\n",
       "      <td>5</td>\n",
       "    </tr>\n",
       "  </tbody>\n",
       "</table>\n",
       "<p>5 rows × 53 columns</p>\n",
       "</div>"
      ],
      "text/plain": [
       "   age  duration  campaign  emp.var.rate  cons.price.idx  cons.conf.idx  \\\n",
       "0   56       261         1           1.1          93.994          -36.4   \n",
       "1   57       149         1           1.1          93.994          -36.4   \n",
       "2   37       226         1           1.1          93.994          -36.4   \n",
       "3   40       151         1           1.1          93.994          -36.4   \n",
       "4   56       307         1           1.1          93.994          -36.4   \n",
       "\n",
       "   euribor3m  nr.employed  response  job_blue-collar     ...       \\\n",
       "0      4.857       5191.0         0                0     ...        \n",
       "1      4.857       5191.0         0                0     ...        \n",
       "2      4.857       5191.0         0                0     ...        \n",
       "3      4.857       5191.0         0                0     ...        \n",
       "4      4.857       5191.0         0                0     ...        \n",
       "\n",
       "   day_of_week_thu  day_of_week_tue  day_of_week_wed  \\\n",
       "0                0                0                0   \n",
       "1                0                0                0   \n",
       "2                0                0                0   \n",
       "3                0                0                0   \n",
       "4                0                0                0   \n",
       "\n",
       "   pdays_Contacted_in_first_10days  pdays_First_time_contacted  \\\n",
       "0                                0                           1   \n",
       "1                                0                           1   \n",
       "2                                0                           1   \n",
       "3                                0                           1   \n",
       "4                                0                           1   \n",
       "\n",
       "   previous_More than_3_times  previous_Never contacted  poutcome_nonexistent  \\\n",
       "0                           0                         1                     1   \n",
       "1                           0                         1                     1   \n",
       "2                           0                         1                     1   \n",
       "3                           0                         1                     1   \n",
       "4                           0                         1                     1   \n",
       "\n",
       "   poutcome_success  prospect_id  \n",
       "0                 0            1  \n",
       "1                 0            2  \n",
       "2                 0            3  \n",
       "3                 0            4  \n",
       "4                 0            5  \n",
       "\n",
       "[5 rows x 53 columns]"
      ]
     },
     "execution_count": 165,
     "metadata": {},
     "output_type": "execute_result"
    }
   ],
   "source": [
    "loan.head()"
   ]
  },
  {
   "cell_type": "markdown",
   "metadata": {},
   "source": [
    "### Pre modelling steps"
   ]
  },
  {
   "cell_type": "code",
   "execution_count": 166,
   "metadata": {},
   "outputs": [],
   "source": [
    "loan1=loan"
   ]
  },
  {
   "cell_type": "code",
   "execution_count": 167,
   "metadata": {},
   "outputs": [],
   "source": [
    "# Import library to split the dataset into test and train\n",
    "\n",
    "from sklearn.model_selection import train_test_split"
   ]
  },
  {
   "cell_type": "code",
   "execution_count": 168,
   "metadata": {},
   "outputs": [],
   "source": [
    "#as per problem description dropping the column \"duration\"\n",
    "duration=loan1['duration']\n",
    "prospect_id=loan1['prospect_id']\n",
    "loan1.drop(columns=[\"duration\",\"prospect_id\"],inplace=True)\n",
    "# Putting feature variable to X\n",
    "X = loan1.drop(['response'],axis=1)\n",
    "\n",
    "# Putting response variable to y\n",
    "y = loan1['response']"
   ]
  },
  {
   "cell_type": "code",
   "execution_count": 169,
   "metadata": {},
   "outputs": [],
   "source": [
    "# Splitting the data into train and test\n",
    "X_train, X_test, y_train, y_test = train_test_split(X,y, train_size=0.7,test_size=0.3,random_state=100)"
   ]
  },
  {
   "cell_type": "markdown",
   "metadata": {},
   "source": [
    "#### Standardisation"
   ]
  },
  {
   "cell_type": "code",
   "execution_count": 170,
   "metadata": {
    "scrolled": true
   },
   "outputs": [
    {
     "data": {
      "text/html": [
       "<div>\n",
       "<style scoped>\n",
       "    .dataframe tbody tr th:only-of-type {\n",
       "        vertical-align: middle;\n",
       "    }\n",
       "\n",
       "    .dataframe tbody tr th {\n",
       "        vertical-align: top;\n",
       "    }\n",
       "\n",
       "    .dataframe thead th {\n",
       "        text-align: right;\n",
       "    }\n",
       "</style>\n",
       "<table border=\"1\" class=\"dataframe\">\n",
       "  <thead>\n",
       "    <tr style=\"text-align: right;\">\n",
       "      <th></th>\n",
       "      <th>age</th>\n",
       "      <th>campaign</th>\n",
       "      <th>emp.var.rate</th>\n",
       "      <th>cons.price.idx</th>\n",
       "      <th>cons.conf.idx</th>\n",
       "      <th>euribor3m</th>\n",
       "      <th>nr.employed</th>\n",
       "      <th>job_blue-collar</th>\n",
       "      <th>job_entrepreneur</th>\n",
       "      <th>job_housemaid</th>\n",
       "      <th>...</th>\n",
       "      <th>day_of_week_mon</th>\n",
       "      <th>day_of_week_thu</th>\n",
       "      <th>day_of_week_tue</th>\n",
       "      <th>day_of_week_wed</th>\n",
       "      <th>pdays_Contacted_in_first_10days</th>\n",
       "      <th>pdays_First_time_contacted</th>\n",
       "      <th>previous_More than_3_times</th>\n",
       "      <th>previous_Never contacted</th>\n",
       "      <th>poutcome_nonexistent</th>\n",
       "      <th>poutcome_success</th>\n",
       "    </tr>\n",
       "  </thead>\n",
       "  <tbody>\n",
       "    <tr>\n",
       "      <th>40266</th>\n",
       "      <td>52</td>\n",
       "      <td>1</td>\n",
       "      <td>-1.7</td>\n",
       "      <td>94.215</td>\n",
       "      <td>-40.3</td>\n",
       "      <td>0.893</td>\n",
       "      <td>4991.6</td>\n",
       "      <td>0</td>\n",
       "      <td>0</td>\n",
       "      <td>0</td>\n",
       "      <td>...</td>\n",
       "      <td>0</td>\n",
       "      <td>0</td>\n",
       "      <td>1</td>\n",
       "      <td>0</td>\n",
       "      <td>0</td>\n",
       "      <td>1</td>\n",
       "      <td>0</td>\n",
       "      <td>1</td>\n",
       "      <td>1</td>\n",
       "      <td>0</td>\n",
       "    </tr>\n",
       "    <tr>\n",
       "      <th>3810</th>\n",
       "      <td>33</td>\n",
       "      <td>11</td>\n",
       "      <td>1.1</td>\n",
       "      <td>93.994</td>\n",
       "      <td>-36.4</td>\n",
       "      <td>4.859</td>\n",
       "      <td>5191.0</td>\n",
       "      <td>0</td>\n",
       "      <td>0</td>\n",
       "      <td>0</td>\n",
       "      <td>...</td>\n",
       "      <td>0</td>\n",
       "      <td>0</td>\n",
       "      <td>0</td>\n",
       "      <td>0</td>\n",
       "      <td>0</td>\n",
       "      <td>1</td>\n",
       "      <td>0</td>\n",
       "      <td>1</td>\n",
       "      <td>1</td>\n",
       "      <td>0</td>\n",
       "    </tr>\n",
       "    <tr>\n",
       "      <th>36282</th>\n",
       "      <td>24</td>\n",
       "      <td>1</td>\n",
       "      <td>-2.9</td>\n",
       "      <td>92.963</td>\n",
       "      <td>-40.8</td>\n",
       "      <td>1.266</td>\n",
       "      <td>5076.2</td>\n",
       "      <td>1</td>\n",
       "      <td>0</td>\n",
       "      <td>0</td>\n",
       "      <td>...</td>\n",
       "      <td>1</td>\n",
       "      <td>0</td>\n",
       "      <td>0</td>\n",
       "      <td>0</td>\n",
       "      <td>1</td>\n",
       "      <td>0</td>\n",
       "      <td>0</td>\n",
       "      <td>0</td>\n",
       "      <td>0</td>\n",
       "      <td>1</td>\n",
       "    </tr>\n",
       "    <tr>\n",
       "      <th>13041</th>\n",
       "      <td>49</td>\n",
       "      <td>2</td>\n",
       "      <td>1.4</td>\n",
       "      <td>93.918</td>\n",
       "      <td>-42.7</td>\n",
       "      <td>4.962</td>\n",
       "      <td>5228.1</td>\n",
       "      <td>0</td>\n",
       "      <td>0</td>\n",
       "      <td>0</td>\n",
       "      <td>...</td>\n",
       "      <td>0</td>\n",
       "      <td>0</td>\n",
       "      <td>1</td>\n",
       "      <td>0</td>\n",
       "      <td>0</td>\n",
       "      <td>1</td>\n",
       "      <td>0</td>\n",
       "      <td>1</td>\n",
       "      <td>1</td>\n",
       "      <td>0</td>\n",
       "    </tr>\n",
       "    <tr>\n",
       "      <th>3535</th>\n",
       "      <td>34</td>\n",
       "      <td>6</td>\n",
       "      <td>1.1</td>\n",
       "      <td>93.994</td>\n",
       "      <td>-36.4</td>\n",
       "      <td>4.859</td>\n",
       "      <td>5191.0</td>\n",
       "      <td>1</td>\n",
       "      <td>0</td>\n",
       "      <td>0</td>\n",
       "      <td>...</td>\n",
       "      <td>0</td>\n",
       "      <td>0</td>\n",
       "      <td>0</td>\n",
       "      <td>0</td>\n",
       "      <td>0</td>\n",
       "      <td>1</td>\n",
       "      <td>0</td>\n",
       "      <td>1</td>\n",
       "      <td>1</td>\n",
       "      <td>0</td>\n",
       "    </tr>\n",
       "  </tbody>\n",
       "</table>\n",
       "<p>5 rows × 50 columns</p>\n",
       "</div>"
      ],
      "text/plain": [
       "       age  campaign  emp.var.rate  cons.price.idx  cons.conf.idx  euribor3m  \\\n",
       "40266   52         1          -1.7          94.215          -40.3      0.893   \n",
       "3810    33        11           1.1          93.994          -36.4      4.859   \n",
       "36282   24         1          -2.9          92.963          -40.8      1.266   \n",
       "13041   49         2           1.4          93.918          -42.7      4.962   \n",
       "3535    34         6           1.1          93.994          -36.4      4.859   \n",
       "\n",
       "       nr.employed  job_blue-collar  job_entrepreneur  job_housemaid  \\\n",
       "40266       4991.6                0                 0              0   \n",
       "3810        5191.0                0                 0              0   \n",
       "36282       5076.2                1                 0              0   \n",
       "13041       5228.1                0                 0              0   \n",
       "3535        5191.0                1                 0              0   \n",
       "\n",
       "             ...         day_of_week_mon  day_of_week_thu  day_of_week_tue  \\\n",
       "40266        ...                       0                0                1   \n",
       "3810         ...                       0                0                0   \n",
       "36282        ...                       1                0                0   \n",
       "13041        ...                       0                0                1   \n",
       "3535         ...                       0                0                0   \n",
       "\n",
       "       day_of_week_wed  pdays_Contacted_in_first_10days  \\\n",
       "40266                0                                0   \n",
       "3810                 0                                0   \n",
       "36282                0                                1   \n",
       "13041                0                                0   \n",
       "3535                 0                                0   \n",
       "\n",
       "       pdays_First_time_contacted  previous_More than_3_times  \\\n",
       "40266                           1                           0   \n",
       "3810                            1                           0   \n",
       "36282                           0                           0   \n",
       "13041                           1                           0   \n",
       "3535                            1                           0   \n",
       "\n",
       "       previous_Never contacted  poutcome_nonexistent  poutcome_success  \n",
       "40266                         1                     1                 0  \n",
       "3810                          1                     1                 0  \n",
       "36282                         0                     0                 1  \n",
       "13041                         1                     1                 0  \n",
       "3535                          1                     1                 0  \n",
       "\n",
       "[5 rows x 50 columns]"
      ]
     },
     "execution_count": 170,
     "metadata": {},
     "output_type": "execute_result"
    }
   ],
   "source": [
    "X_train.head()"
   ]
  },
  {
   "cell_type": "code",
   "execution_count": 171,
   "metadata": {},
   "outputs": [],
   "source": [
    "# Standardisation continuous features for X_train\n",
    "\n",
    "X_train_df= X_train[['age','campaign','emp.var.rate','cons.price.idx','cons.conf.idx',\n",
    "           'euribor3m','nr.employed']]"
   ]
  },
  {
   "cell_type": "code",
   "execution_count": 172,
   "metadata": {},
   "outputs": [],
   "source": [
    "std_X_train_df=(X_train_df-X_train_df.mean())/X_train_df.std()"
   ]
  },
  {
   "cell_type": "code",
   "execution_count": 173,
   "metadata": {},
   "outputs": [],
   "source": [
    "X_train = X_train.drop(['age','campaign','emp.var.rate','cons.price.idx','cons.conf.idx',\n",
    "                        'euribor3m','nr.employed'], 1)"
   ]
  },
  {
   "cell_type": "code",
   "execution_count": 174,
   "metadata": {},
   "outputs": [],
   "source": [
    "X_train = pd.concat([X_train,std_X_train_df],axis=1)"
   ]
  },
  {
   "cell_type": "code",
   "execution_count": 175,
   "metadata": {
    "scrolled": true
   },
   "outputs": [
    {
     "data": {
      "text/html": [
       "<div>\n",
       "<style scoped>\n",
       "    .dataframe tbody tr th:only-of-type {\n",
       "        vertical-align: middle;\n",
       "    }\n",
       "\n",
       "    .dataframe tbody tr th {\n",
       "        vertical-align: top;\n",
       "    }\n",
       "\n",
       "    .dataframe thead th {\n",
       "        text-align: right;\n",
       "    }\n",
       "</style>\n",
       "<table border=\"1\" class=\"dataframe\">\n",
       "  <thead>\n",
       "    <tr style=\"text-align: right;\">\n",
       "      <th></th>\n",
       "      <th>job_blue-collar</th>\n",
       "      <th>job_entrepreneur</th>\n",
       "      <th>job_housemaid</th>\n",
       "      <th>job_management</th>\n",
       "      <th>job_retired</th>\n",
       "      <th>job_self-employed</th>\n",
       "      <th>job_services</th>\n",
       "      <th>job_student</th>\n",
       "      <th>job_technician</th>\n",
       "      <th>job_unemployed</th>\n",
       "      <th>...</th>\n",
       "      <th>previous_Never contacted</th>\n",
       "      <th>poutcome_nonexistent</th>\n",
       "      <th>poutcome_success</th>\n",
       "      <th>age</th>\n",
       "      <th>campaign</th>\n",
       "      <th>emp.var.rate</th>\n",
       "      <th>cons.price.idx</th>\n",
       "      <th>cons.conf.idx</th>\n",
       "      <th>euribor3m</th>\n",
       "      <th>nr.employed</th>\n",
       "    </tr>\n",
       "  </thead>\n",
       "  <tbody>\n",
       "    <tr>\n",
       "      <th>40266</th>\n",
       "      <td>0</td>\n",
       "      <td>0</td>\n",
       "      <td>0</td>\n",
       "      <td>0</td>\n",
       "      <td>0</td>\n",
       "      <td>0</td>\n",
       "      <td>0</td>\n",
       "      <td>0</td>\n",
       "      <td>0</td>\n",
       "      <td>0</td>\n",
       "      <td>...</td>\n",
       "      <td>1</td>\n",
       "      <td>1</td>\n",
       "      <td>0</td>\n",
       "      <td>1.185580</td>\n",
       "      <td>-0.653353</td>\n",
       "      <td>-1.140575</td>\n",
       "      <td>1.103257</td>\n",
       "      <td>0.047113</td>\n",
       "      <td>-1.575965</td>\n",
       "      <td>-2.421780</td>\n",
       "    </tr>\n",
       "    <tr>\n",
       "      <th>3810</th>\n",
       "      <td>0</td>\n",
       "      <td>0</td>\n",
       "      <td>0</td>\n",
       "      <td>1</td>\n",
       "      <td>0</td>\n",
       "      <td>0</td>\n",
       "      <td>0</td>\n",
       "      <td>0</td>\n",
       "      <td>0</td>\n",
       "      <td>0</td>\n",
       "      <td>...</td>\n",
       "      <td>1</td>\n",
       "      <td>1</td>\n",
       "      <td>0</td>\n",
       "      <td>-0.680838</td>\n",
       "      <td>3.677641</td>\n",
       "      <td>0.647401</td>\n",
       "      <td>0.719814</td>\n",
       "      <td>0.892724</td>\n",
       "      <td>0.712517</td>\n",
       "      <td>0.331423</td>\n",
       "    </tr>\n",
       "    <tr>\n",
       "      <th>36282</th>\n",
       "      <td>1</td>\n",
       "      <td>0</td>\n",
       "      <td>0</td>\n",
       "      <td>0</td>\n",
       "      <td>0</td>\n",
       "      <td>0</td>\n",
       "      <td>0</td>\n",
       "      <td>0</td>\n",
       "      <td>0</td>\n",
       "      <td>0</td>\n",
       "      <td>...</td>\n",
       "      <td>0</td>\n",
       "      <td>0</td>\n",
       "      <td>1</td>\n",
       "      <td>-1.564931</td>\n",
       "      <td>-0.653353</td>\n",
       "      <td>-1.906851</td>\n",
       "      <td>-1.069009</td>\n",
       "      <td>-0.061299</td>\n",
       "      <td>-1.360734</td>\n",
       "      <td>-1.253671</td>\n",
       "    </tr>\n",
       "    <tr>\n",
       "      <th>13041</th>\n",
       "      <td>0</td>\n",
       "      <td>0</td>\n",
       "      <td>0</td>\n",
       "      <td>0</td>\n",
       "      <td>0</td>\n",
       "      <td>0</td>\n",
       "      <td>1</td>\n",
       "      <td>0</td>\n",
       "      <td>0</td>\n",
       "      <td>0</td>\n",
       "      <td>...</td>\n",
       "      <td>1</td>\n",
       "      <td>1</td>\n",
       "      <td>0</td>\n",
       "      <td>0.890882</td>\n",
       "      <td>-0.220254</td>\n",
       "      <td>0.838970</td>\n",
       "      <td>0.587951</td>\n",
       "      <td>-0.473264</td>\n",
       "      <td>0.771951</td>\n",
       "      <td>0.843679</td>\n",
       "    </tr>\n",
       "    <tr>\n",
       "      <th>3535</th>\n",
       "      <td>1</td>\n",
       "      <td>0</td>\n",
       "      <td>0</td>\n",
       "      <td>0</td>\n",
       "      <td>0</td>\n",
       "      <td>0</td>\n",
       "      <td>0</td>\n",
       "      <td>0</td>\n",
       "      <td>0</td>\n",
       "      <td>0</td>\n",
       "      <td>...</td>\n",
       "      <td>1</td>\n",
       "      <td>1</td>\n",
       "      <td>0</td>\n",
       "      <td>-0.582606</td>\n",
       "      <td>1.512144</td>\n",
       "      <td>0.647401</td>\n",
       "      <td>0.719814</td>\n",
       "      <td>0.892724</td>\n",
       "      <td>0.712517</td>\n",
       "      <td>0.331423</td>\n",
       "    </tr>\n",
       "  </tbody>\n",
       "</table>\n",
       "<p>5 rows × 50 columns</p>\n",
       "</div>"
      ],
      "text/plain": [
       "       job_blue-collar  job_entrepreneur  job_housemaid  job_management  \\\n",
       "40266                0                 0              0               0   \n",
       "3810                 0                 0              0               1   \n",
       "36282                1                 0              0               0   \n",
       "13041                0                 0              0               0   \n",
       "3535                 1                 0              0               0   \n",
       "\n",
       "       job_retired  job_self-employed  job_services  job_student  \\\n",
       "40266            0                  0             0            0   \n",
       "3810             0                  0             0            0   \n",
       "36282            0                  0             0            0   \n",
       "13041            0                  0             1            0   \n",
       "3535             0                  0             0            0   \n",
       "\n",
       "       job_technician  job_unemployed     ...       previous_Never contacted  \\\n",
       "40266               0               0     ...                              1   \n",
       "3810                0               0     ...                              1   \n",
       "36282               0               0     ...                              0   \n",
       "13041               0               0     ...                              1   \n",
       "3535                0               0     ...                              1   \n",
       "\n",
       "       poutcome_nonexistent  poutcome_success       age  campaign  \\\n",
       "40266                     1                 0  1.185580 -0.653353   \n",
       "3810                      1                 0 -0.680838  3.677641   \n",
       "36282                     0                 1 -1.564931 -0.653353   \n",
       "13041                     1                 0  0.890882 -0.220254   \n",
       "3535                      1                 0 -0.582606  1.512144   \n",
       "\n",
       "       emp.var.rate  cons.price.idx  cons.conf.idx  euribor3m  nr.employed  \n",
       "40266     -1.140575        1.103257       0.047113  -1.575965    -2.421780  \n",
       "3810       0.647401        0.719814       0.892724   0.712517     0.331423  \n",
       "36282     -1.906851       -1.069009      -0.061299  -1.360734    -1.253671  \n",
       "13041      0.838970        0.587951      -0.473264   0.771951     0.843679  \n",
       "3535       0.647401        0.719814       0.892724   0.712517     0.331423  \n",
       "\n",
       "[5 rows x 50 columns]"
      ]
     },
     "execution_count": 175,
     "metadata": {},
     "output_type": "execute_result"
    }
   ],
   "source": [
    "X_train.head()"
   ]
  },
  {
   "cell_type": "code",
   "execution_count": 176,
   "metadata": {},
   "outputs": [],
   "source": [
    "# Standardisation continuous features for X_test\n",
    "X_test_df = X_test[['age','campaign','emp.var.rate','cons.price.idx','cons.conf.idx',\n",
    "                    'euribor3m','nr.employed']]"
   ]
  },
  {
   "cell_type": "code",
   "execution_count": 177,
   "metadata": {},
   "outputs": [],
   "source": [
    "std_X_test_df=(X_test_df-X_test_df.mean())/X_test_df.std()"
   ]
  },
  {
   "cell_type": "code",
   "execution_count": 178,
   "metadata": {},
   "outputs": [],
   "source": [
    "X_test = X_test.drop(['age','campaign','emp.var.rate','cons.price.idx','cons.conf.idx',\n",
    "                      'euribor3m','nr.employed'], 1)"
   ]
  },
  {
   "cell_type": "code",
   "execution_count": 179,
   "metadata": {},
   "outputs": [],
   "source": [
    "X_test = pd.concat([X_test,std_X_test_df],axis=1)"
   ]
  },
  {
   "cell_type": "code",
   "execution_count": 180,
   "metadata": {},
   "outputs": [
    {
     "data": {
      "text/html": [
       "<div>\n",
       "<style scoped>\n",
       "    .dataframe tbody tr th:only-of-type {\n",
       "        vertical-align: middle;\n",
       "    }\n",
       "\n",
       "    .dataframe tbody tr th {\n",
       "        vertical-align: top;\n",
       "    }\n",
       "\n",
       "    .dataframe thead th {\n",
       "        text-align: right;\n",
       "    }\n",
       "</style>\n",
       "<table border=\"1\" class=\"dataframe\">\n",
       "  <thead>\n",
       "    <tr style=\"text-align: right;\">\n",
       "      <th></th>\n",
       "      <th>job_blue-collar</th>\n",
       "      <th>job_entrepreneur</th>\n",
       "      <th>job_housemaid</th>\n",
       "      <th>job_management</th>\n",
       "      <th>job_retired</th>\n",
       "      <th>job_self-employed</th>\n",
       "      <th>job_services</th>\n",
       "      <th>job_student</th>\n",
       "      <th>job_technician</th>\n",
       "      <th>job_unemployed</th>\n",
       "      <th>...</th>\n",
       "      <th>previous_Never contacted</th>\n",
       "      <th>poutcome_nonexistent</th>\n",
       "      <th>poutcome_success</th>\n",
       "      <th>age</th>\n",
       "      <th>campaign</th>\n",
       "      <th>emp.var.rate</th>\n",
       "      <th>cons.price.idx</th>\n",
       "      <th>cons.conf.idx</th>\n",
       "      <th>euribor3m</th>\n",
       "      <th>nr.employed</th>\n",
       "    </tr>\n",
       "  </thead>\n",
       "  <tbody>\n",
       "    <tr>\n",
       "      <th>39816</th>\n",
       "      <td>0</td>\n",
       "      <td>0</td>\n",
       "      <td>0</td>\n",
       "      <td>0</td>\n",
       "      <td>0</td>\n",
       "      <td>0</td>\n",
       "      <td>0</td>\n",
       "      <td>0</td>\n",
       "      <td>0</td>\n",
       "      <td>0</td>\n",
       "      <td>...</td>\n",
       "      <td>1</td>\n",
       "      <td>1</td>\n",
       "      <td>0</td>\n",
       "      <td>0.687342</td>\n",
       "      <td>-0.648571</td>\n",
       "      <td>-1.120326</td>\n",
       "      <td>0.833299</td>\n",
       "      <td>0.143180</td>\n",
       "      <td>-1.671321</td>\n",
       "      <td>-2.443182</td>\n",
       "    </tr>\n",
       "    <tr>\n",
       "      <th>13837</th>\n",
       "      <td>0</td>\n",
       "      <td>0</td>\n",
       "      <td>0</td>\n",
       "      <td>0</td>\n",
       "      <td>0</td>\n",
       "      <td>0</td>\n",
       "      <td>0</td>\n",
       "      <td>0</td>\n",
       "      <td>1</td>\n",
       "      <td>0</td>\n",
       "      <td>...</td>\n",
       "      <td>1</td>\n",
       "      <td>1</td>\n",
       "      <td>0</td>\n",
       "      <td>-1.082791</td>\n",
       "      <td>-0.648571</td>\n",
       "      <td>0.839070</td>\n",
       "      <td>0.598915</td>\n",
       "      <td>-0.478569</td>\n",
       "      <td>0.775719</td>\n",
       "      <td>0.848442</td>\n",
       "    </tr>\n",
       "    <tr>\n",
       "      <th>40354</th>\n",
       "      <td>0</td>\n",
       "      <td>0</td>\n",
       "      <td>0</td>\n",
       "      <td>0</td>\n",
       "      <td>0</td>\n",
       "      <td>0</td>\n",
       "      <td>0</td>\n",
       "      <td>0</td>\n",
       "      <td>0</td>\n",
       "      <td>0</td>\n",
       "      <td>...</td>\n",
       "      <td>1</td>\n",
       "      <td>1</td>\n",
       "      <td>0</td>\n",
       "      <td>-0.886109</td>\n",
       "      <td>0.227108</td>\n",
       "      <td>-1.120326</td>\n",
       "      <td>0.785396</td>\n",
       "      <td>0.464774</td>\n",
       "      <td>-1.563126</td>\n",
       "      <td>-2.443182</td>\n",
       "    </tr>\n",
       "    <tr>\n",
       "      <th>5232</th>\n",
       "      <td>0</td>\n",
       "      <td>0</td>\n",
       "      <td>0</td>\n",
       "      <td>0</td>\n",
       "      <td>0</td>\n",
       "      <td>0</td>\n",
       "      <td>0</td>\n",
       "      <td>0</td>\n",
       "      <td>1</td>\n",
       "      <td>0</td>\n",
       "      <td>...</td>\n",
       "      <td>1</td>\n",
       "      <td>1</td>\n",
       "      <td>0</td>\n",
       "      <td>1.867430</td>\n",
       "      <td>-0.210731</td>\n",
       "      <td>0.649451</td>\n",
       "      <td>0.728938</td>\n",
       "      <td>0.872126</td>\n",
       "      <td>0.714716</td>\n",
       "      <td>0.332082</td>\n",
       "    </tr>\n",
       "    <tr>\n",
       "      <th>4352</th>\n",
       "      <td>0</td>\n",
       "      <td>0</td>\n",
       "      <td>0</td>\n",
       "      <td>1</td>\n",
       "      <td>0</td>\n",
       "      <td>0</td>\n",
       "      <td>0</td>\n",
       "      <td>0</td>\n",
       "      <td>0</td>\n",
       "      <td>0</td>\n",
       "      <td>...</td>\n",
       "      <td>1</td>\n",
       "      <td>1</td>\n",
       "      <td>0</td>\n",
       "      <td>1.375727</td>\n",
       "      <td>-0.648571</td>\n",
       "      <td>0.649451</td>\n",
       "      <td>0.728938</td>\n",
       "      <td>0.872126</td>\n",
       "      <td>0.714140</td>\n",
       "      <td>0.332082</td>\n",
       "    </tr>\n",
       "  </tbody>\n",
       "</table>\n",
       "<p>5 rows × 50 columns</p>\n",
       "</div>"
      ],
      "text/plain": [
       "       job_blue-collar  job_entrepreneur  job_housemaid  job_management  \\\n",
       "39816                0                 0              0               0   \n",
       "13837                0                 0              0               0   \n",
       "40354                0                 0              0               0   \n",
       "5232                 0                 0              0               0   \n",
       "4352                 0                 0              0               1   \n",
       "\n",
       "       job_retired  job_self-employed  job_services  job_student  \\\n",
       "39816            0                  0             0            0   \n",
       "13837            0                  0             0            0   \n",
       "40354            0                  0             0            0   \n",
       "5232             0                  0             0            0   \n",
       "4352             0                  0             0            0   \n",
       "\n",
       "       job_technician  job_unemployed     ...       previous_Never contacted  \\\n",
       "39816               0               0     ...                              1   \n",
       "13837               1               0     ...                              1   \n",
       "40354               0               0     ...                              1   \n",
       "5232                1               0     ...                              1   \n",
       "4352                0               0     ...                              1   \n",
       "\n",
       "       poutcome_nonexistent  poutcome_success       age  campaign  \\\n",
       "39816                     1                 0  0.687342 -0.648571   \n",
       "13837                     1                 0 -1.082791 -0.648571   \n",
       "40354                     1                 0 -0.886109  0.227108   \n",
       "5232                      1                 0  1.867430 -0.210731   \n",
       "4352                      1                 0  1.375727 -0.648571   \n",
       "\n",
       "       emp.var.rate  cons.price.idx  cons.conf.idx  euribor3m  nr.employed  \n",
       "39816     -1.120326        0.833299       0.143180  -1.671321    -2.443182  \n",
       "13837      0.839070        0.598915      -0.478569   0.775719     0.848442  \n",
       "40354     -1.120326        0.785396       0.464774  -1.563126    -2.443182  \n",
       "5232       0.649451        0.728938       0.872126   0.714716     0.332082  \n",
       "4352       0.649451        0.728938       0.872126   0.714140     0.332082  \n",
       "\n",
       "[5 rows x 50 columns]"
      ]
     },
     "execution_count": 180,
     "metadata": {},
     "output_type": "execute_result"
    }
   ],
   "source": [
    "X_test.head()"
   ]
  },
  {
   "cell_type": "code",
   "execution_count": 181,
   "metadata": {},
   "outputs": [],
   "source": [
    "import statsmodels.api as sm\n",
    "from sklearn.pipeline import Pipeline\n",
    "from sklearn.decomposition import PCA\n",
    "from sklearn.linear_model import LogisticRegression\n",
    "from sklearn import metrics\n",
    "from sklearn.metrics import confusion_matrix\n",
    "from imblearn.metrics import sensitivity_specificity_support\n",
    "from sklearn.metrics import roc_auc_score\n",
    "from sklearn.model_selection import StratifiedKFold\n",
    "from sklearn.model_selection import GridSearchCV\n",
    "from sklearn.metrics import classification_report, confusion_matrix"
   ]
  },
  {
   "cell_type": "markdown",
   "metadata": {},
   "source": [
    "### Feature Selection"
   ]
  },
  {
   "cell_type": "code",
   "execution_count": 182,
   "metadata": {},
   "outputs": [
    {
     "data": {
      "text/plain": [
       "0    0.887235\n",
       "1    0.112765\n",
       "Name: response, dtype: float64"
      ]
     },
     "execution_count": 182,
     "metadata": {},
     "output_type": "execute_result"
    }
   ],
   "source": [
    "# class imbalance\n",
    "y_train.value_counts()/y_train.shape"
   ]
  },
  {
   "cell_type": "code",
   "execution_count": 183,
   "metadata": {},
   "outputs": [],
   "source": [
    "### Feature Selection Using RFE\n",
    "\n",
    "logreg = LogisticRegression(class_weight='balanced')"
   ]
  },
  {
   "cell_type": "code",
   "execution_count": 184,
   "metadata": {},
   "outputs": [],
   "source": [
    "from sklearn.feature_selection import RFE\n",
    "rfe = RFE(logreg, 15)             # running RFE with 15 variables as output\n",
    "rfe = rfe.fit(X_train, y_train)"
   ]
  },
  {
   "cell_type": "code",
   "execution_count": 185,
   "metadata": {},
   "outputs": [
    {
     "data": {
      "text/plain": [
       "array([False, False, False, False, False, False, False,  True, False,\n",
       "       False, False, False, False, False, False, False, False, False,\n",
       "        True, False, False, False, False,  True,  True,  True, False,\n",
       "        True,  True,  True,  True, False, False, False, False, False,\n",
       "       False, False,  True, False,  True, False,  True, False, False,\n",
       "        True,  True, False,  True, False])"
      ]
     },
     "execution_count": 185,
     "metadata": {},
     "output_type": "execute_result"
    }
   ],
   "source": [
    "rfe.support_"
   ]
  },
  {
   "cell_type": "code",
   "execution_count": 186,
   "metadata": {},
   "outputs": [],
   "source": [
    "list(zip(X_train.columns, rfe.support_, rfe.ranking_))\n",
    "\n",
    "col = X_train.columns[rfe.support_]"
   ]
  },
  {
   "cell_type": "code",
   "execution_count": 187,
   "metadata": {},
   "outputs": [
    {
     "data": {
      "text/plain": [
       "Index(['job_blue-collar', 'job_entrepreneur', 'job_housemaid',\n",
       "       'job_management', 'job_retired', 'job_self-employed', 'job_services',\n",
       "       'job_technician', 'job_unemployed', 'job_unknown', 'marital_married',\n",
       "       'marital_single', 'education_Secondary_Education',\n",
       "       'education_Tertiary_Education', 'education_professional.course',\n",
       "       'education_unknown', 'default_unknown', 'housing_unknown',\n",
       "       'housing_yes', 'loan_unknown', 'loan_yes', 'month_jul', 'month_oct',\n",
       "       'month_sep', 'day_of_week_mon', 'day_of_week_thu', 'day_of_week_tue',\n",
       "       'day_of_week_wed', 'pdays_Contacted_in_first_10days',\n",
       "       'previous_More than_3_times', 'poutcome_nonexistent', 'age', 'campaign',\n",
       "       'cons.conf.idx', 'nr.employed'],\n",
       "      dtype='object')"
      ]
     },
     "execution_count": 187,
     "metadata": {},
     "output_type": "execute_result"
    }
   ],
   "source": [
    "X_train.columns[~rfe.support_]"
   ]
  },
  {
   "cell_type": "code",
   "execution_count": 188,
   "metadata": {},
   "outputs": [
    {
     "data": {
      "text/html": [
       "<table class=\"simpletable\">\n",
       "<caption>Generalized Linear Model Regression Results</caption>\n",
       "<tr>\n",
       "  <th>Dep. Variable:</th>      <td>response</td>     <th>  No. Observations:  </th>  <td> 28821</td>  \n",
       "</tr>\n",
       "<tr>\n",
       "  <th>Model:</th>                 <td>GLM</td>       <th>  Df Residuals:      </th>  <td> 28805</td>  \n",
       "</tr>\n",
       "<tr>\n",
       "  <th>Model Family:</th>       <td>Binomial</td>     <th>  Df Model:          </th>  <td>    15</td>  \n",
       "</tr>\n",
       "<tr>\n",
       "  <th>Link Function:</th>        <td>logit</td>      <th>  Scale:             </th> <td>  1.0000</td> \n",
       "</tr>\n",
       "<tr>\n",
       "  <th>Method:</th>               <td>IRLS</td>       <th>  Log-Likelihood:    </th> <td> -8081.1</td> \n",
       "</tr>\n",
       "<tr>\n",
       "  <th>Date:</th>           <td>Mon, 22 Jul 2019</td> <th>  Deviance:          </th> <td>  16162.</td> \n",
       "</tr>\n",
       "<tr>\n",
       "  <th>Time:</th>               <td>21:02:05</td>     <th>  Pearson chi2:      </th> <td>2.85e+04</td> \n",
       "</tr>\n",
       "<tr>\n",
       "  <th>No. Iterations:</th>        <td>20</td>        <th>  Covariance Type:   </th> <td>nonrobust</td>\n",
       "</tr>\n",
       "</table>\n",
       "<table class=\"simpletable\">\n",
       "<tr>\n",
       "               <td></td>                 <th>coef</th>     <th>std err</th>      <th>z</th>      <th>P>|z|</th>  <th>[0.025</th>    <th>0.975]</th>  \n",
       "</tr>\n",
       "<tr>\n",
       "  <th>const</th>                      <td>   -1.6718</td> <td>    0.220</td> <td>   -7.610</td> <td> 0.000</td> <td>   -2.102</td> <td>   -1.241</td>\n",
       "</tr>\n",
       "<tr>\n",
       "  <th>job_student</th>                <td>    0.2540</td> <td>    0.104</td> <td>    2.438</td> <td> 0.015</td> <td>    0.050</td> <td>    0.458</td>\n",
       "</tr>\n",
       "<tr>\n",
       "  <th>default_yes</th>                <td>  -18.5678</td> <td> 1.68e+04</td> <td>   -0.001</td> <td> 0.999</td> <td> -3.3e+04</td> <td>  3.3e+04</td>\n",
       "</tr>\n",
       "<tr>\n",
       "  <th>contact_telephone</th>          <td>   -0.6326</td> <td>    0.070</td> <td>   -9.032</td> <td> 0.000</td> <td>   -0.770</td> <td>   -0.495</td>\n",
       "</tr>\n",
       "<tr>\n",
       "  <th>month_aug</th>                  <td>    0.5406</td> <td>    0.077</td> <td>    6.997</td> <td> 0.000</td> <td>    0.389</td> <td>    0.692</td>\n",
       "</tr>\n",
       "<tr>\n",
       "  <th>month_dec</th>                  <td>    0.3030</td> <td>    0.196</td> <td>    1.548</td> <td> 0.122</td> <td>   -0.081</td> <td>    0.687</td>\n",
       "</tr>\n",
       "<tr>\n",
       "  <th>month_jun</th>                  <td>   -0.6344</td> <td>    0.082</td> <td>   -7.695</td> <td> 0.000</td> <td>   -0.796</td> <td>   -0.473</td>\n",
       "</tr>\n",
       "<tr>\n",
       "  <th>month_mar</th>                  <td>    1.3769</td> <td>    0.119</td> <td>   11.581</td> <td> 0.000</td> <td>    1.144</td> <td>    1.610</td>\n",
       "</tr>\n",
       "<tr>\n",
       "  <th>month_may</th>                  <td>   -0.5360</td> <td>    0.063</td> <td>   -8.459</td> <td> 0.000</td> <td>   -0.660</td> <td>   -0.412</td>\n",
       "</tr>\n",
       "<tr>\n",
       "  <th>month_nov</th>                  <td>   -0.6370</td> <td>    0.086</td> <td>   -7.401</td> <td> 0.000</td> <td>   -0.806</td> <td>   -0.468</td>\n",
       "</tr>\n",
       "<tr>\n",
       "  <th>pdays_First_time_contacted</th> <td>   -0.8327</td> <td>    0.221</td> <td>   -3.764</td> <td> 0.000</td> <td>   -1.266</td> <td>   -0.399</td>\n",
       "</tr>\n",
       "<tr>\n",
       "  <th>previous_Never contacted</th>   <td>    0.4867</td> <td>    0.067</td> <td>    7.262</td> <td> 0.000</td> <td>    0.355</td> <td>    0.618</td>\n",
       "</tr>\n",
       "<tr>\n",
       "  <th>poutcome_success</th>           <td>    1.0314</td> <td>    0.224</td> <td>    4.604</td> <td> 0.000</td> <td>    0.592</td> <td>    1.470</td>\n",
       "</tr>\n",
       "<tr>\n",
       "  <th>emp.var.rate</th>               <td>   -2.3194</td> <td>    0.150</td> <td>  -15.488</td> <td> 0.000</td> <td>   -2.613</td> <td>   -2.026</td>\n",
       "</tr>\n",
       "<tr>\n",
       "  <th>cons.price.idx</th>             <td>    0.9515</td> <td>    0.057</td> <td>   16.767</td> <td> 0.000</td> <td>    0.840</td> <td>    1.063</td>\n",
       "</tr>\n",
       "<tr>\n",
       "  <th>euribor3m</th>                  <td>    0.9577</td> <td>    0.125</td> <td>    7.647</td> <td> 0.000</td> <td>    0.712</td> <td>    1.203</td>\n",
       "</tr>\n",
       "</table>"
      ],
      "text/plain": [
       "<class 'statsmodels.iolib.summary.Summary'>\n",
       "\"\"\"\n",
       "                 Generalized Linear Model Regression Results                  \n",
       "==============================================================================\n",
       "Dep. Variable:               response   No. Observations:                28821\n",
       "Model:                            GLM   Df Residuals:                    28805\n",
       "Model Family:                Binomial   Df Model:                           15\n",
       "Link Function:                  logit   Scale:                          1.0000\n",
       "Method:                          IRLS   Log-Likelihood:                -8081.1\n",
       "Date:                Mon, 22 Jul 2019   Deviance:                       16162.\n",
       "Time:                        21:02:05   Pearson chi2:                 2.85e+04\n",
       "No. Iterations:                    20   Covariance Type:             nonrobust\n",
       "==============================================================================================\n",
       "                                 coef    std err          z      P>|z|      [0.025      0.975]\n",
       "----------------------------------------------------------------------------------------------\n",
       "const                         -1.6718      0.220     -7.610      0.000      -2.102      -1.241\n",
       "job_student                    0.2540      0.104      2.438      0.015       0.050       0.458\n",
       "default_yes                  -18.5678   1.68e+04     -0.001      0.999    -3.3e+04     3.3e+04\n",
       "contact_telephone             -0.6326      0.070     -9.032      0.000      -0.770      -0.495\n",
       "month_aug                      0.5406      0.077      6.997      0.000       0.389       0.692\n",
       "month_dec                      0.3030      0.196      1.548      0.122      -0.081       0.687\n",
       "month_jun                     -0.6344      0.082     -7.695      0.000      -0.796      -0.473\n",
       "month_mar                      1.3769      0.119     11.581      0.000       1.144       1.610\n",
       "month_may                     -0.5360      0.063     -8.459      0.000      -0.660      -0.412\n",
       "month_nov                     -0.6370      0.086     -7.401      0.000      -0.806      -0.468\n",
       "pdays_First_time_contacted    -0.8327      0.221     -3.764      0.000      -1.266      -0.399\n",
       "previous_Never contacted       0.4867      0.067      7.262      0.000       0.355       0.618\n",
       "poutcome_success               1.0314      0.224      4.604      0.000       0.592       1.470\n",
       "emp.var.rate                  -2.3194      0.150    -15.488      0.000      -2.613      -2.026\n",
       "cons.price.idx                 0.9515      0.057     16.767      0.000       0.840       1.063\n",
       "euribor3m                      0.9577      0.125      7.647      0.000       0.712       1.203\n",
       "==============================================================================================\n",
       "\"\"\""
      ]
     },
     "execution_count": 188,
     "metadata": {},
     "output_type": "execute_result"
    }
   ],
   "source": [
    "##### Assessing the model with StatsModels\n",
    "\n",
    "X_train_sm = sm.add_constant(X_train[col])\n",
    "logm2 = sm.GLM(y_train,X_train_sm, family = sm.families.Binomial())\n",
    "res = logm2.fit()\n",
    "res.summary()"
   ]
  },
  {
   "cell_type": "code",
   "execution_count": 189,
   "metadata": {},
   "outputs": [
    {
     "data": {
      "text/plain": [
       "40266    0.541947\n",
       "3810     0.034870\n",
       "36282    0.695854\n",
       "13041    0.065076\n",
       "3535     0.034870\n",
       "8753     0.043860\n",
       "24889    0.039189\n",
       "6107     0.034833\n",
       "25825    0.038508\n",
       "19899    0.051924\n",
       "dtype: float64"
      ]
     },
     "execution_count": 189,
     "metadata": {},
     "output_type": "execute_result"
    }
   ],
   "source": [
    "# Getting the predicted values on the train set\n",
    "y_train_pred = res.predict(X_train_sm)\n",
    "y_train_pred[:10]"
   ]
  },
  {
   "cell_type": "code",
   "execution_count": 190,
   "metadata": {},
   "outputs": [
    {
     "data": {
      "text/plain": [
       "array([0.54194732, 0.03487006, 0.69585401, 0.06507633, 0.03487006,\n",
       "       0.04385972, 0.03918882, 0.03483288, 0.03850793, 0.05192418])"
      ]
     },
     "execution_count": 190,
     "metadata": {},
     "output_type": "execute_result"
    }
   ],
   "source": [
    "y_train_pred = y_train_pred.values.reshape(-1)\n",
    "y_train_pred[:10]"
   ]
  },
  {
   "cell_type": "code",
   "execution_count": 191,
   "metadata": {},
   "outputs": [
    {
     "data": {
      "text/html": [
       "<div>\n",
       "<style scoped>\n",
       "    .dataframe tbody tr th:only-of-type {\n",
       "        vertical-align: middle;\n",
       "    }\n",
       "\n",
       "    .dataframe tbody tr th {\n",
       "        vertical-align: top;\n",
       "    }\n",
       "\n",
       "    .dataframe thead th {\n",
       "        text-align: right;\n",
       "    }\n",
       "</style>\n",
       "<table border=\"1\" class=\"dataframe\">\n",
       "  <thead>\n",
       "    <tr style=\"text-align: right;\">\n",
       "      <th></th>\n",
       "      <th>actual</th>\n",
       "      <th>pred_prob</th>\n",
       "    </tr>\n",
       "  </thead>\n",
       "  <tbody>\n",
       "    <tr>\n",
       "      <th>0</th>\n",
       "      <td>1</td>\n",
       "      <td>0.541947</td>\n",
       "    </tr>\n",
       "    <tr>\n",
       "      <th>1</th>\n",
       "      <td>0</td>\n",
       "      <td>0.034870</td>\n",
       "    </tr>\n",
       "    <tr>\n",
       "      <th>2</th>\n",
       "      <td>0</td>\n",
       "      <td>0.695854</td>\n",
       "    </tr>\n",
       "    <tr>\n",
       "      <th>3</th>\n",
       "      <td>0</td>\n",
       "      <td>0.065076</td>\n",
       "    </tr>\n",
       "    <tr>\n",
       "      <th>4</th>\n",
       "      <td>0</td>\n",
       "      <td>0.034870</td>\n",
       "    </tr>\n",
       "  </tbody>\n",
       "</table>\n",
       "</div>"
      ],
      "text/plain": [
       "   actual  pred_prob\n",
       "0       1   0.541947\n",
       "1       0   0.034870\n",
       "2       0   0.695854\n",
       "3       0   0.065076\n",
       "4       0   0.034870"
      ]
     },
     "execution_count": 191,
     "metadata": {},
     "output_type": "execute_result"
    }
   ],
   "source": [
    "##### Creating a dataframe with the actual churn flag and the predicted probabilities\n",
    "\n",
    "y_train_pred_final = pd.DataFrame({'actual':y_train.values, 'pred_prob':y_train_pred})\n",
    "#y_train_pred_final['CustID'] = y_train.index\n",
    "y_train_pred_final.head()"
   ]
  },
  {
   "cell_type": "code",
   "execution_count": 192,
   "metadata": {},
   "outputs": [
    {
     "data": {
      "text/html": [
       "<div>\n",
       "<style scoped>\n",
       "    .dataframe tbody tr th:only-of-type {\n",
       "        vertical-align: middle;\n",
       "    }\n",
       "\n",
       "    .dataframe tbody tr th {\n",
       "        vertical-align: top;\n",
       "    }\n",
       "\n",
       "    .dataframe thead th {\n",
       "        text-align: right;\n",
       "    }\n",
       "</style>\n",
       "<table border=\"1\" class=\"dataframe\">\n",
       "  <thead>\n",
       "    <tr style=\"text-align: right;\">\n",
       "      <th></th>\n",
       "      <th>actual</th>\n",
       "      <th>pred_prob</th>\n",
       "      <th>predicted</th>\n",
       "    </tr>\n",
       "  </thead>\n",
       "  <tbody>\n",
       "    <tr>\n",
       "      <th>0</th>\n",
       "      <td>1</td>\n",
       "      <td>0.541947</td>\n",
       "      <td>1</td>\n",
       "    </tr>\n",
       "    <tr>\n",
       "      <th>1</th>\n",
       "      <td>0</td>\n",
       "      <td>0.034870</td>\n",
       "      <td>0</td>\n",
       "    </tr>\n",
       "    <tr>\n",
       "      <th>2</th>\n",
       "      <td>0</td>\n",
       "      <td>0.695854</td>\n",
       "      <td>1</td>\n",
       "    </tr>\n",
       "    <tr>\n",
       "      <th>3</th>\n",
       "      <td>0</td>\n",
       "      <td>0.065076</td>\n",
       "      <td>0</td>\n",
       "    </tr>\n",
       "    <tr>\n",
       "      <th>4</th>\n",
       "      <td>0</td>\n",
       "      <td>0.034870</td>\n",
       "      <td>0</td>\n",
       "    </tr>\n",
       "  </tbody>\n",
       "</table>\n",
       "</div>"
      ],
      "text/plain": [
       "   actual  pred_prob  predicted\n",
       "0       1   0.541947          1\n",
       "1       0   0.034870          0\n",
       "2       0   0.695854          1\n",
       "3       0   0.065076          0\n",
       "4       0   0.034870          0"
      ]
     },
     "execution_count": 192,
     "metadata": {},
     "output_type": "execute_result"
    }
   ],
   "source": [
    "##### Creating new column 'predicted' with 1 if Churn_Prob > 0.5 else 0\n",
    "\n",
    "y_train_pred_final['predicted'] = y_train_pred_final.pred_prob.map(lambda x: 1 if x > 0.5 else 0)\n",
    "\n",
    "# Let's see the head\n",
    "y_train_pred_final.head()"
   ]
  },
  {
   "cell_type": "code",
   "execution_count": 193,
   "metadata": {},
   "outputs": [
    {
     "name": "stdout",
     "output_type": "stream",
     "text": [
      "[[25212   359]\n",
      " [ 2550   700]]\n"
     ]
    }
   ],
   "source": [
    "#from sklearn import metrics\n",
    "\n",
    "# Confusion matrix \n",
    "confusion = metrics.confusion_matrix(y_train_pred_final.actual, y_train_pred_final.predicted )\n",
    "print(confusion)"
   ]
  },
  {
   "cell_type": "code",
   "execution_count": 194,
   "metadata": {},
   "outputs": [
    {
     "name": "stdout",
     "output_type": "stream",
     "text": [
      "0.8990666527878978\n",
      "Sensitivity: \t0.22\n",
      "Specificity: \t0.99\n"
     ]
    }
   ],
   "source": [
    "# Let's check the overall accuracy.\n",
    "print(metrics.accuracy_score(y_train_pred_final.actual, y_train_pred_final.predicted))\n",
    "# check sensitivity and specificity\n",
    "sensitivity, specificity, _ = sensitivity_specificity_support(y_train_pred_final.actual, y_train_pred_final.predicted, average='binary')\n",
    "print(\"Sensitivity: \\t\", round(sensitivity, 2), \"\\n\", \"Specificity: \\t\", round(specificity, 2), sep='')\n"
   ]
  },
  {
   "cell_type": "code",
   "execution_count": 195,
   "metadata": {},
   "outputs": [
    {
     "data": {
      "text/html": [
       "<div>\n",
       "<style scoped>\n",
       "    .dataframe tbody tr th:only-of-type {\n",
       "        vertical-align: middle;\n",
       "    }\n",
       "\n",
       "    .dataframe tbody tr th {\n",
       "        vertical-align: top;\n",
       "    }\n",
       "\n",
       "    .dataframe thead th {\n",
       "        text-align: right;\n",
       "    }\n",
       "</style>\n",
       "<table border=\"1\" class=\"dataframe\">\n",
       "  <thead>\n",
       "    <tr style=\"text-align: right;\">\n",
       "      <th></th>\n",
       "      <th>Features</th>\n",
       "      <th>VIF</th>\n",
       "    </tr>\n",
       "  </thead>\n",
       "  <tbody>\n",
       "    <tr>\n",
       "      <th>12</th>\n",
       "      <td>emp.var.rate</td>\n",
       "      <td>75.47</td>\n",
       "    </tr>\n",
       "    <tr>\n",
       "      <th>14</th>\n",
       "      <td>euribor3m</td>\n",
       "      <td>51.17</td>\n",
       "    </tr>\n",
       "    <tr>\n",
       "      <th>9</th>\n",
       "      <td>pdays_First_time_contacted</td>\n",
       "      <td>14.66</td>\n",
       "    </tr>\n",
       "    <tr>\n",
       "      <th>10</th>\n",
       "      <td>previous_Never contacted</td>\n",
       "      <td>11.82</td>\n",
       "    </tr>\n",
       "    <tr>\n",
       "      <th>13</th>\n",
       "      <td>cons.price.idx</td>\n",
       "      <td>11.23</td>\n",
       "    </tr>\n",
       "    <tr>\n",
       "      <th>2</th>\n",
       "      <td>contact_telephone</td>\n",
       "      <td>4.78</td>\n",
       "    </tr>\n",
       "    <tr>\n",
       "      <th>7</th>\n",
       "      <td>month_may</td>\n",
       "      <td>3.31</td>\n",
       "    </tr>\n",
       "    <tr>\n",
       "      <th>3</th>\n",
       "      <td>month_aug</td>\n",
       "      <td>2.56</td>\n",
       "    </tr>\n",
       "    <tr>\n",
       "      <th>5</th>\n",
       "      <td>month_jun</td>\n",
       "      <td>2.30</td>\n",
       "    </tr>\n",
       "    <tr>\n",
       "      <th>8</th>\n",
       "      <td>month_nov</td>\n",
       "      <td>1.94</td>\n",
       "    </tr>\n",
       "    <tr>\n",
       "      <th>11</th>\n",
       "      <td>poutcome_success</td>\n",
       "      <td>1.31</td>\n",
       "    </tr>\n",
       "    <tr>\n",
       "      <th>6</th>\n",
       "      <td>month_mar</td>\n",
       "      <td>1.11</td>\n",
       "    </tr>\n",
       "    <tr>\n",
       "      <th>0</th>\n",
       "      <td>job_student</td>\n",
       "      <td>1.06</td>\n",
       "    </tr>\n",
       "    <tr>\n",
       "      <th>4</th>\n",
       "      <td>month_dec</td>\n",
       "      <td>1.05</td>\n",
       "    </tr>\n",
       "    <tr>\n",
       "      <th>1</th>\n",
       "      <td>default_yes</td>\n",
       "      <td>1.00</td>\n",
       "    </tr>\n",
       "  </tbody>\n",
       "</table>\n",
       "</div>"
      ],
      "text/plain": [
       "                      Features    VIF\n",
       "12                emp.var.rate  75.47\n",
       "14                   euribor3m  51.17\n",
       "9   pdays_First_time_contacted  14.66\n",
       "10    previous_Never contacted  11.82\n",
       "13              cons.price.idx  11.23\n",
       "2            contact_telephone   4.78\n",
       "7                    month_may   3.31\n",
       "3                    month_aug   2.56\n",
       "5                    month_jun   2.30\n",
       "8                    month_nov   1.94\n",
       "11            poutcome_success   1.31\n",
       "6                    month_mar   1.11\n",
       "0                  job_student   1.06\n",
       "4                    month_dec   1.05\n",
       "1                  default_yes   1.00"
      ]
     },
     "execution_count": 195,
     "metadata": {},
     "output_type": "execute_result"
    }
   ],
   "source": [
    "#### Checking VIFs\n",
    "\n",
    "# Check for the VIF values of the feature variables. \n",
    "from statsmodels.stats.outliers_influence import variance_inflation_factor\n",
    "\n",
    "# Create a dataframe that will contain the names of all the feature variables and their respective VIFs\n",
    "vif = pd.DataFrame()\n",
    "vif['Features'] = X_train[col].columns\n",
    "vif['VIF'] = [variance_inflation_factor(X_train[col].values, i) for i in range(X_train[col].shape[1])]\n",
    "vif['VIF'] = round(vif['VIF'], 2)\n",
    "vif = vif.sort_values(by = \"VIF\", ascending = False)\n",
    "vif"
   ]
  },
  {
   "cell_type": "markdown",
   "metadata": {},
   "source": [
    "There are a few variables with high VIF. It's best to drop these variables as they aren't helping much with \n",
    "prediction and unnecessarily making the model complex."
   ]
  },
  {
   "cell_type": "code",
   "execution_count": 196,
   "metadata": {},
   "outputs": [
    {
     "data": {
      "text/plain": [
       "Index(['job_student', 'default_yes', 'contact_telephone', 'month_aug',\n",
       "       'month_dec', 'month_jun', 'month_mar', 'month_may', 'month_nov',\n",
       "       'pdays_First_time_contacted', 'previous_Never contacted',\n",
       "       'poutcome_success', 'cons.price.idx', 'euribor3m'],\n",
       "      dtype='object')"
      ]
     },
     "execution_count": 196,
     "metadata": {},
     "output_type": "execute_result"
    }
   ],
   "source": [
    "col = col.drop('emp.var.rate', 1)\n",
    "col"
   ]
  },
  {
   "cell_type": "code",
   "execution_count": 197,
   "metadata": {},
   "outputs": [
    {
     "data": {
      "text/html": [
       "<table class=\"simpletable\">\n",
       "<caption>Generalized Linear Model Regression Results</caption>\n",
       "<tr>\n",
       "  <th>Dep. Variable:</th>      <td>response</td>     <th>  No. Observations:  </th>  <td> 28821</td>  \n",
       "</tr>\n",
       "<tr>\n",
       "  <th>Model:</th>                 <td>GLM</td>       <th>  Df Residuals:      </th>  <td> 28806</td>  \n",
       "</tr>\n",
       "<tr>\n",
       "  <th>Model Family:</th>       <td>Binomial</td>     <th>  Df Model:          </th>  <td>    14</td>  \n",
       "</tr>\n",
       "<tr>\n",
       "  <th>Link Function:</th>        <td>logit</td>      <th>  Scale:             </th> <td>  1.0000</td> \n",
       "</tr>\n",
       "<tr>\n",
       "  <th>Method:</th>               <td>IRLS</td>       <th>  Log-Likelihood:    </th> <td> -8197.8</td> \n",
       "</tr>\n",
       "<tr>\n",
       "  <th>Date:</th>           <td>Mon, 22 Jul 2019</td> <th>  Deviance:          </th> <td>  16396.</td> \n",
       "</tr>\n",
       "<tr>\n",
       "  <th>Time:</th>               <td>21:02:05</td>     <th>  Pearson chi2:      </th> <td>3.03e+04</td> \n",
       "</tr>\n",
       "<tr>\n",
       "  <th>No. Iterations:</th>        <td>20</td>        <th>  Covariance Type:   </th> <td>nonrobust</td>\n",
       "</tr>\n",
       "</table>\n",
       "<table class=\"simpletable\">\n",
       "<tr>\n",
       "               <td></td>                 <th>coef</th>     <th>std err</th>      <th>z</th>      <th>P>|z|</th>  <th>[0.025</th>    <th>0.975]</th>  \n",
       "</tr>\n",
       "<tr>\n",
       "  <th>const</th>                      <td>   -1.5619</td> <td>    0.217</td> <td>   -7.195</td> <td> 0.000</td> <td>   -1.987</td> <td>   -1.136</td>\n",
       "</tr>\n",
       "<tr>\n",
       "  <th>job_student</th>                <td>    0.3203</td> <td>    0.103</td> <td>    3.113</td> <td> 0.002</td> <td>    0.119</td> <td>    0.522</td>\n",
       "</tr>\n",
       "<tr>\n",
       "  <th>default_yes</th>                <td>  -18.6789</td> <td> 1.68e+04</td> <td>   -0.001</td> <td> 0.999</td> <td> -3.3e+04</td> <td> 3.29e+04</td>\n",
       "</tr>\n",
       "<tr>\n",
       "  <th>contact_telephone</th>          <td>   -0.2684</td> <td>    0.063</td> <td>   -4.250</td> <td> 0.000</td> <td>   -0.392</td> <td>   -0.145</td>\n",
       "</tr>\n",
       "<tr>\n",
       "  <th>month_aug</th>                  <td>    0.1018</td> <td>    0.070</td> <td>    1.456</td> <td> 0.145</td> <td>   -0.035</td> <td>    0.239</td>\n",
       "</tr>\n",
       "<tr>\n",
       "  <th>month_dec</th>                  <td>    0.5272</td> <td>    0.194</td> <td>    2.719</td> <td> 0.007</td> <td>    0.147</td> <td>    0.907</td>\n",
       "</tr>\n",
       "<tr>\n",
       "  <th>month_jun</th>                  <td>   -0.0467</td> <td>    0.074</td> <td>   -0.631</td> <td> 0.528</td> <td>   -0.192</td> <td>    0.098</td>\n",
       "</tr>\n",
       "<tr>\n",
       "  <th>month_mar</th>                  <td>    0.8843</td> <td>    0.115</td> <td>    7.658</td> <td> 0.000</td> <td>    0.658</td> <td>    1.111</td>\n",
       "</tr>\n",
       "<tr>\n",
       "  <th>month_may</th>                  <td>   -0.9196</td> <td>    0.058</td> <td>  -15.951</td> <td> 0.000</td> <td>   -1.033</td> <td>   -0.807</td>\n",
       "</tr>\n",
       "<tr>\n",
       "  <th>month_nov</th>                  <td>   -0.1698</td> <td>    0.080</td> <td>   -2.127</td> <td> 0.033</td> <td>   -0.326</td> <td>   -0.013</td>\n",
       "</tr>\n",
       "<tr>\n",
       "  <th>pdays_First_time_contacted</th> <td>   -1.0243</td> <td>    0.218</td> <td>   -4.693</td> <td> 0.000</td> <td>   -1.452</td> <td>   -0.597</td>\n",
       "</tr>\n",
       "<tr>\n",
       "  <th>previous_Never contacted</th>   <td>    0.4842</td> <td>    0.066</td> <td>    7.384</td> <td> 0.000</td> <td>    0.356</td> <td>    0.613</td>\n",
       "</tr>\n",
       "<tr>\n",
       "  <th>poutcome_success</th>           <td>    0.9423</td> <td>    0.221</td> <td>    4.264</td> <td> 0.000</td> <td>    0.509</td> <td>    1.375</td>\n",
       "</tr>\n",
       "<tr>\n",
       "  <th>cons.price.idx</th>             <td>    0.1843</td> <td>    0.027</td> <td>    6.931</td> <td> 0.000</td> <td>    0.132</td> <td>    0.236</td>\n",
       "</tr>\n",
       "<tr>\n",
       "  <th>euribor3m</th>                  <td>   -0.9327</td> <td>    0.029</td> <td>  -32.131</td> <td> 0.000</td> <td>   -0.990</td> <td>   -0.876</td>\n",
       "</tr>\n",
       "</table>"
      ],
      "text/plain": [
       "<class 'statsmodels.iolib.summary.Summary'>\n",
       "\"\"\"\n",
       "                 Generalized Linear Model Regression Results                  \n",
       "==============================================================================\n",
       "Dep. Variable:               response   No. Observations:                28821\n",
       "Model:                            GLM   Df Residuals:                    28806\n",
       "Model Family:                Binomial   Df Model:                           14\n",
       "Link Function:                  logit   Scale:                          1.0000\n",
       "Method:                          IRLS   Log-Likelihood:                -8197.8\n",
       "Date:                Mon, 22 Jul 2019   Deviance:                       16396.\n",
       "Time:                        21:02:05   Pearson chi2:                 3.03e+04\n",
       "No. Iterations:                    20   Covariance Type:             nonrobust\n",
       "==============================================================================================\n",
       "                                 coef    std err          z      P>|z|      [0.025      0.975]\n",
       "----------------------------------------------------------------------------------------------\n",
       "const                         -1.5619      0.217     -7.195      0.000      -1.987      -1.136\n",
       "job_student                    0.3203      0.103      3.113      0.002       0.119       0.522\n",
       "default_yes                  -18.6789   1.68e+04     -0.001      0.999    -3.3e+04    3.29e+04\n",
       "contact_telephone             -0.2684      0.063     -4.250      0.000      -0.392      -0.145\n",
       "month_aug                      0.1018      0.070      1.456      0.145      -0.035       0.239\n",
       "month_dec                      0.5272      0.194      2.719      0.007       0.147       0.907\n",
       "month_jun                     -0.0467      0.074     -0.631      0.528      -0.192       0.098\n",
       "month_mar                      0.8843      0.115      7.658      0.000       0.658       1.111\n",
       "month_may                     -0.9196      0.058    -15.951      0.000      -1.033      -0.807\n",
       "month_nov                     -0.1698      0.080     -2.127      0.033      -0.326      -0.013\n",
       "pdays_First_time_contacted    -1.0243      0.218     -4.693      0.000      -1.452      -0.597\n",
       "previous_Never contacted       0.4842      0.066      7.384      0.000       0.356       0.613\n",
       "poutcome_success               0.9423      0.221      4.264      0.000       0.509       1.375\n",
       "cons.price.idx                 0.1843      0.027      6.931      0.000       0.132       0.236\n",
       "euribor3m                     -0.9327      0.029    -32.131      0.000      -0.990      -0.876\n",
       "==============================================================================================\n",
       "\"\"\""
      ]
     },
     "execution_count": 197,
     "metadata": {},
     "output_type": "execute_result"
    }
   ],
   "source": [
    "# Let's re-run the model using the selected variables\n",
    "X_train_sm = sm.add_constant(X_train[col])\n",
    "logm3 = sm.GLM(y_train,X_train_sm, family = sm.families.Binomial())\n",
    "res = logm3.fit()\n",
    "res.summary()"
   ]
  },
  {
   "cell_type": "code",
   "execution_count": 198,
   "metadata": {},
   "outputs": [
    {
     "data": {
      "text/html": [
       "<div>\n",
       "<style scoped>\n",
       "    .dataframe tbody tr th:only-of-type {\n",
       "        vertical-align: middle;\n",
       "    }\n",
       "\n",
       "    .dataframe tbody tr th {\n",
       "        vertical-align: top;\n",
       "    }\n",
       "\n",
       "    .dataframe thead th {\n",
       "        text-align: right;\n",
       "    }\n",
       "</style>\n",
       "<table border=\"1\" class=\"dataframe\">\n",
       "  <thead>\n",
       "    <tr style=\"text-align: right;\">\n",
       "      <th></th>\n",
       "      <th>Features</th>\n",
       "      <th>VIF</th>\n",
       "    </tr>\n",
       "  </thead>\n",
       "  <tbody>\n",
       "    <tr>\n",
       "      <th>9</th>\n",
       "      <td>pdays_First_time_contacted</td>\n",
       "      <td>14.39</td>\n",
       "    </tr>\n",
       "    <tr>\n",
       "      <th>10</th>\n",
       "      <td>previous_Never contacted</td>\n",
       "      <td>11.81</td>\n",
       "    </tr>\n",
       "    <tr>\n",
       "      <th>12</th>\n",
       "      <td>cons.price.idx</td>\n",
       "      <td>3.96</td>\n",
       "    </tr>\n",
       "    <tr>\n",
       "      <th>2</th>\n",
       "      <td>contact_telephone</td>\n",
       "      <td>3.82</td>\n",
       "    </tr>\n",
       "    <tr>\n",
       "      <th>13</th>\n",
       "      <td>euribor3m</td>\n",
       "      <td>3.57</td>\n",
       "    </tr>\n",
       "    <tr>\n",
       "      <th>7</th>\n",
       "      <td>month_may</td>\n",
       "      <td>3.15</td>\n",
       "    </tr>\n",
       "    <tr>\n",
       "      <th>5</th>\n",
       "      <td>month_jun</td>\n",
       "      <td>2.07</td>\n",
       "    </tr>\n",
       "    <tr>\n",
       "      <th>3</th>\n",
       "      <td>month_aug</td>\n",
       "      <td>2.02</td>\n",
       "    </tr>\n",
       "    <tr>\n",
       "      <th>8</th>\n",
       "      <td>month_nov</td>\n",
       "      <td>1.66</td>\n",
       "    </tr>\n",
       "    <tr>\n",
       "      <th>11</th>\n",
       "      <td>poutcome_success</td>\n",
       "      <td>1.30</td>\n",
       "    </tr>\n",
       "    <tr>\n",
       "      <th>6</th>\n",
       "      <td>month_mar</td>\n",
       "      <td>1.08</td>\n",
       "    </tr>\n",
       "    <tr>\n",
       "      <th>0</th>\n",
       "      <td>job_student</td>\n",
       "      <td>1.05</td>\n",
       "    </tr>\n",
       "    <tr>\n",
       "      <th>4</th>\n",
       "      <td>month_dec</td>\n",
       "      <td>1.05</td>\n",
       "    </tr>\n",
       "    <tr>\n",
       "      <th>1</th>\n",
       "      <td>default_yes</td>\n",
       "      <td>1.00</td>\n",
       "    </tr>\n",
       "  </tbody>\n",
       "</table>\n",
       "</div>"
      ],
      "text/plain": [
       "                      Features    VIF\n",
       "9   pdays_First_time_contacted  14.39\n",
       "10    previous_Never contacted  11.81\n",
       "12              cons.price.idx   3.96\n",
       "2            contact_telephone   3.82\n",
       "13                   euribor3m   3.57\n",
       "7                    month_may   3.15\n",
       "5                    month_jun   2.07\n",
       "3                    month_aug   2.02\n",
       "8                    month_nov   1.66\n",
       "11            poutcome_success   1.30\n",
       "6                    month_mar   1.08\n",
       "0                  job_student   1.05\n",
       "4                    month_dec   1.05\n",
       "1                  default_yes   1.00"
      ]
     },
     "execution_count": 198,
     "metadata": {},
     "output_type": "execute_result"
    }
   ],
   "source": [
    "##### Let's check the VIFs again\n",
    "\n",
    "vif = pd.DataFrame()\n",
    "vif['Features'] = X_train[col].columns\n",
    "vif['VIF'] = [variance_inflation_factor(X_train[col].values, i) for i in range(X_train[col].shape[1])]\n",
    "vif['VIF'] = round(vif['VIF'], 2)\n",
    "vif = vif.sort_values(by = \"VIF\", ascending = False)\n",
    "vif"
   ]
  },
  {
   "cell_type": "code",
   "execution_count": 199,
   "metadata": {},
   "outputs": [
    {
     "data": {
      "text/plain": [
       "Index(['job_student', 'contact_telephone', 'month_aug', 'month_dec',\n",
       "       'month_jun', 'month_mar', 'month_may', 'month_nov',\n",
       "       'pdays_First_time_contacted', 'previous_Never contacted',\n",
       "       'poutcome_success', 'cons.price.idx', 'euribor3m'],\n",
       "      dtype='object')"
      ]
     },
     "execution_count": 199,
     "metadata": {},
     "output_type": "execute_result"
    }
   ],
   "source": [
    "# Let's drop default_yes since its insignificant with high p value\n",
    "col = col.drop('default_yes')\n",
    "col"
   ]
  },
  {
   "cell_type": "code",
   "execution_count": 200,
   "metadata": {},
   "outputs": [
    {
     "data": {
      "text/html": [
       "<table class=\"simpletable\">\n",
       "<caption>Generalized Linear Model Regression Results</caption>\n",
       "<tr>\n",
       "  <th>Dep. Variable:</th>      <td>response</td>     <th>  No. Observations:  </th>  <td> 28821</td>  \n",
       "</tr>\n",
       "<tr>\n",
       "  <th>Model:</th>                 <td>GLM</td>       <th>  Df Residuals:      </th>  <td> 28807</td>  \n",
       "</tr>\n",
       "<tr>\n",
       "  <th>Model Family:</th>       <td>Binomial</td>     <th>  Df Model:          </th>  <td>    13</td>  \n",
       "</tr>\n",
       "<tr>\n",
       "  <th>Link Function:</th>        <td>logit</td>      <th>  Scale:             </th> <td>  1.0000</td> \n",
       "</tr>\n",
       "<tr>\n",
       "  <th>Method:</th>               <td>IRLS</td>       <th>  Log-Likelihood:    </th> <td> -8198.0</td> \n",
       "</tr>\n",
       "<tr>\n",
       "  <th>Date:</th>           <td>Mon, 22 Jul 2019</td> <th>  Deviance:          </th> <td>  16396.</td> \n",
       "</tr>\n",
       "<tr>\n",
       "  <th>Time:</th>               <td>21:02:06</td>     <th>  Pearson chi2:      </th> <td>3.03e+04</td> \n",
       "</tr>\n",
       "<tr>\n",
       "  <th>No. Iterations:</th>         <td>6</td>        <th>  Covariance Type:   </th> <td>nonrobust</td>\n",
       "</tr>\n",
       "</table>\n",
       "<table class=\"simpletable\">\n",
       "<tr>\n",
       "               <td></td>                 <th>coef</th>     <th>std err</th>      <th>z</th>      <th>P>|z|</th>  <th>[0.025</th>    <th>0.975]</th>  \n",
       "</tr>\n",
       "<tr>\n",
       "  <th>const</th>                      <td>   -1.5620</td> <td>    0.217</td> <td>   -7.196</td> <td> 0.000</td> <td>   -1.987</td> <td>   -1.137</td>\n",
       "</tr>\n",
       "<tr>\n",
       "  <th>job_student</th>                <td>    0.3203</td> <td>    0.103</td> <td>    3.113</td> <td> 0.002</td> <td>    0.119</td> <td>    0.522</td>\n",
       "</tr>\n",
       "<tr>\n",
       "  <th>contact_telephone</th>          <td>   -0.2683</td> <td>    0.063</td> <td>   -4.249</td> <td> 0.000</td> <td>   -0.392</td> <td>   -0.145</td>\n",
       "</tr>\n",
       "<tr>\n",
       "  <th>month_aug</th>                  <td>    0.1015</td> <td>    0.070</td> <td>    1.452</td> <td> 0.147</td> <td>   -0.036</td> <td>    0.239</td>\n",
       "</tr>\n",
       "<tr>\n",
       "  <th>month_dec</th>                  <td>    0.5271</td> <td>    0.194</td> <td>    2.719</td> <td> 0.007</td> <td>    0.147</td> <td>    0.907</td>\n",
       "</tr>\n",
       "<tr>\n",
       "  <th>month_jun</th>                  <td>   -0.0467</td> <td>    0.074</td> <td>   -0.631</td> <td> 0.528</td> <td>   -0.192</td> <td>    0.098</td>\n",
       "</tr>\n",
       "<tr>\n",
       "  <th>month_mar</th>                  <td>    0.8843</td> <td>    0.115</td> <td>    7.658</td> <td> 0.000</td> <td>    0.658</td> <td>    1.111</td>\n",
       "</tr>\n",
       "<tr>\n",
       "  <th>month_may</th>                  <td>   -0.9197</td> <td>    0.058</td> <td>  -15.951</td> <td> 0.000</td> <td>   -1.033</td> <td>   -0.807</td>\n",
       "</tr>\n",
       "<tr>\n",
       "  <th>month_nov</th>                  <td>   -0.1700</td> <td>    0.080</td> <td>   -2.129</td> <td> 0.033</td> <td>   -0.326</td> <td>   -0.013</td>\n",
       "</tr>\n",
       "<tr>\n",
       "  <th>pdays_First_time_contacted</th> <td>   -1.0245</td> <td>    0.218</td> <td>   -4.694</td> <td> 0.000</td> <td>   -1.452</td> <td>   -0.597</td>\n",
       "</tr>\n",
       "<tr>\n",
       "  <th>previous_Never contacted</th>   <td>    0.4844</td> <td>    0.066</td> <td>    7.387</td> <td> 0.000</td> <td>    0.356</td> <td>    0.613</td>\n",
       "</tr>\n",
       "<tr>\n",
       "  <th>poutcome_success</th>           <td>    0.9423</td> <td>    0.221</td> <td>    4.264</td> <td> 0.000</td> <td>    0.509</td> <td>    1.375</td>\n",
       "</tr>\n",
       "<tr>\n",
       "  <th>cons.price.idx</th>             <td>    0.1843</td> <td>    0.027</td> <td>    6.931</td> <td> 0.000</td> <td>    0.132</td> <td>    0.236</td>\n",
       "</tr>\n",
       "<tr>\n",
       "  <th>euribor3m</th>                  <td>   -0.9327</td> <td>    0.029</td> <td>  -32.134</td> <td> 0.000</td> <td>   -0.990</td> <td>   -0.876</td>\n",
       "</tr>\n",
       "</table>"
      ],
      "text/plain": [
       "<class 'statsmodels.iolib.summary.Summary'>\n",
       "\"\"\"\n",
       "                 Generalized Linear Model Regression Results                  \n",
       "==============================================================================\n",
       "Dep. Variable:               response   No. Observations:                28821\n",
       "Model:                            GLM   Df Residuals:                    28807\n",
       "Model Family:                Binomial   Df Model:                           13\n",
       "Link Function:                  logit   Scale:                          1.0000\n",
       "Method:                          IRLS   Log-Likelihood:                -8198.0\n",
       "Date:                Mon, 22 Jul 2019   Deviance:                       16396.\n",
       "Time:                        21:02:06   Pearson chi2:                 3.03e+04\n",
       "No. Iterations:                     6   Covariance Type:             nonrobust\n",
       "==============================================================================================\n",
       "                                 coef    std err          z      P>|z|      [0.025      0.975]\n",
       "----------------------------------------------------------------------------------------------\n",
       "const                         -1.5620      0.217     -7.196      0.000      -1.987      -1.137\n",
       "job_student                    0.3203      0.103      3.113      0.002       0.119       0.522\n",
       "contact_telephone             -0.2683      0.063     -4.249      0.000      -0.392      -0.145\n",
       "month_aug                      0.1015      0.070      1.452      0.147      -0.036       0.239\n",
       "month_dec                      0.5271      0.194      2.719      0.007       0.147       0.907\n",
       "month_jun                     -0.0467      0.074     -0.631      0.528      -0.192       0.098\n",
       "month_mar                      0.8843      0.115      7.658      0.000       0.658       1.111\n",
       "month_may                     -0.9197      0.058    -15.951      0.000      -1.033      -0.807\n",
       "month_nov                     -0.1700      0.080     -2.129      0.033      -0.326      -0.013\n",
       "pdays_First_time_contacted    -1.0245      0.218     -4.694      0.000      -1.452      -0.597\n",
       "previous_Never contacted       0.4844      0.066      7.387      0.000       0.356       0.613\n",
       "poutcome_success               0.9423      0.221      4.264      0.000       0.509       1.375\n",
       "cons.price.idx                 0.1843      0.027      6.931      0.000       0.132       0.236\n",
       "euribor3m                     -0.9327      0.029    -32.134      0.000      -0.990      -0.876\n",
       "==============================================================================================\n",
       "\"\"\""
      ]
     },
     "execution_count": 200,
     "metadata": {},
     "output_type": "execute_result"
    }
   ],
   "source": [
    "# Let's re-run the model using the selected variables\n",
    "X_train_sm = sm.add_constant(X_train[col])\n",
    "logm4 = sm.GLM(y_train,X_train_sm, family = sm.families.Binomial())\n",
    "res = logm4.fit()\n",
    "res.summary()"
   ]
  },
  {
   "cell_type": "code",
   "execution_count": 201,
   "metadata": {},
   "outputs": [
    {
     "data": {
      "text/html": [
       "<div>\n",
       "<style scoped>\n",
       "    .dataframe tbody tr th:only-of-type {\n",
       "        vertical-align: middle;\n",
       "    }\n",
       "\n",
       "    .dataframe tbody tr th {\n",
       "        vertical-align: top;\n",
       "    }\n",
       "\n",
       "    .dataframe thead th {\n",
       "        text-align: right;\n",
       "    }\n",
       "</style>\n",
       "<table border=\"1\" class=\"dataframe\">\n",
       "  <thead>\n",
       "    <tr style=\"text-align: right;\">\n",
       "      <th></th>\n",
       "      <th>Features</th>\n",
       "      <th>VIF</th>\n",
       "    </tr>\n",
       "  </thead>\n",
       "  <tbody>\n",
       "    <tr>\n",
       "      <th>8</th>\n",
       "      <td>pdays_First_time_contacted</td>\n",
       "      <td>14.39</td>\n",
       "    </tr>\n",
       "    <tr>\n",
       "      <th>9</th>\n",
       "      <td>previous_Never contacted</td>\n",
       "      <td>11.81</td>\n",
       "    </tr>\n",
       "    <tr>\n",
       "      <th>11</th>\n",
       "      <td>cons.price.idx</td>\n",
       "      <td>3.96</td>\n",
       "    </tr>\n",
       "    <tr>\n",
       "      <th>1</th>\n",
       "      <td>contact_telephone</td>\n",
       "      <td>3.82</td>\n",
       "    </tr>\n",
       "    <tr>\n",
       "      <th>12</th>\n",
       "      <td>euribor3m</td>\n",
       "      <td>3.57</td>\n",
       "    </tr>\n",
       "    <tr>\n",
       "      <th>6</th>\n",
       "      <td>month_may</td>\n",
       "      <td>3.15</td>\n",
       "    </tr>\n",
       "    <tr>\n",
       "      <th>4</th>\n",
       "      <td>month_jun</td>\n",
       "      <td>2.07</td>\n",
       "    </tr>\n",
       "    <tr>\n",
       "      <th>2</th>\n",
       "      <td>month_aug</td>\n",
       "      <td>2.02</td>\n",
       "    </tr>\n",
       "    <tr>\n",
       "      <th>7</th>\n",
       "      <td>month_nov</td>\n",
       "      <td>1.66</td>\n",
       "    </tr>\n",
       "    <tr>\n",
       "      <th>10</th>\n",
       "      <td>poutcome_success</td>\n",
       "      <td>1.30</td>\n",
       "    </tr>\n",
       "    <tr>\n",
       "      <th>5</th>\n",
       "      <td>month_mar</td>\n",
       "      <td>1.08</td>\n",
       "    </tr>\n",
       "    <tr>\n",
       "      <th>0</th>\n",
       "      <td>job_student</td>\n",
       "      <td>1.05</td>\n",
       "    </tr>\n",
       "    <tr>\n",
       "      <th>3</th>\n",
       "      <td>month_dec</td>\n",
       "      <td>1.05</td>\n",
       "    </tr>\n",
       "  </tbody>\n",
       "</table>\n",
       "</div>"
      ],
      "text/plain": [
       "                      Features    VIF\n",
       "8   pdays_First_time_contacted  14.39\n",
       "9     previous_Never contacted  11.81\n",
       "11              cons.price.idx   3.96\n",
       "1            contact_telephone   3.82\n",
       "12                   euribor3m   3.57\n",
       "6                    month_may   3.15\n",
       "4                    month_jun   2.07\n",
       "2                    month_aug   2.02\n",
       "7                    month_nov   1.66\n",
       "10            poutcome_success   1.30\n",
       "5                    month_mar   1.08\n",
       "0                  job_student   1.05\n",
       "3                    month_dec   1.05"
      ]
     },
     "execution_count": 201,
     "metadata": {},
     "output_type": "execute_result"
    }
   ],
   "source": [
    "##### Let's now check the VIFs again\n",
    "\n",
    "vif = pd.DataFrame()\n",
    "vif['Features'] = X_train[col].columns\n",
    "vif['VIF'] = [variance_inflation_factor(X_train[col].values, i) for i in range(X_train[col].shape[1])]\n",
    "vif['VIF'] = round(vif['VIF'], 2)\n",
    "vif = vif.sort_values(by = \"VIF\", ascending = False)\n",
    "vif"
   ]
  },
  {
   "cell_type": "code",
   "execution_count": 202,
   "metadata": {},
   "outputs": [
    {
     "data": {
      "text/plain": [
       "Index(['job_student', 'contact_telephone', 'month_aug', 'month_dec',\n",
       "       'month_mar', 'month_may', 'month_nov', 'pdays_First_time_contacted',\n",
       "       'previous_Never contacted', 'poutcome_success', 'cons.price.idx',\n",
       "       'euribor3m'],\n",
       "      dtype='object')"
      ]
     },
     "execution_count": 202,
     "metadata": {},
     "output_type": "execute_result"
    }
   ],
   "source": [
    "# Let's drop month_jun since it has a high p value\n",
    "col = col.drop('month_jun')\n",
    "col"
   ]
  },
  {
   "cell_type": "code",
   "execution_count": 203,
   "metadata": {},
   "outputs": [
    {
     "data": {
      "text/html": [
       "<table class=\"simpletable\">\n",
       "<caption>Generalized Linear Model Regression Results</caption>\n",
       "<tr>\n",
       "  <th>Dep. Variable:</th>      <td>response</td>     <th>  No. Observations:  </th>  <td> 28821</td>  \n",
       "</tr>\n",
       "<tr>\n",
       "  <th>Model:</th>                 <td>GLM</td>       <th>  Df Residuals:      </th>  <td> 28808</td>  \n",
       "</tr>\n",
       "<tr>\n",
       "  <th>Model Family:</th>       <td>Binomial</td>     <th>  Df Model:          </th>  <td>    12</td>  \n",
       "</tr>\n",
       "<tr>\n",
       "  <th>Link Function:</th>        <td>logit</td>      <th>  Scale:             </th> <td>  1.0000</td> \n",
       "</tr>\n",
       "<tr>\n",
       "  <th>Method:</th>               <td>IRLS</td>       <th>  Log-Likelihood:    </th> <td> -8198.2</td> \n",
       "</tr>\n",
       "<tr>\n",
       "  <th>Date:</th>           <td>Mon, 22 Jul 2019</td> <th>  Deviance:          </th> <td>  16396.</td> \n",
       "</tr>\n",
       "<tr>\n",
       "  <th>Time:</th>               <td>21:02:06</td>     <th>  Pearson chi2:      </th> <td>3.03e+04</td> \n",
       "</tr>\n",
       "<tr>\n",
       "  <th>No. Iterations:</th>         <td>6</td>        <th>  Covariance Type:   </th> <td>nonrobust</td>\n",
       "</tr>\n",
       "</table>\n",
       "<table class=\"simpletable\">\n",
       "<tr>\n",
       "               <td></td>                 <th>coef</th>     <th>std err</th>      <th>z</th>      <th>P>|z|</th>  <th>[0.025</th>    <th>0.975]</th>  \n",
       "</tr>\n",
       "<tr>\n",
       "  <th>const</th>                      <td>   -1.5685</td> <td>    0.217</td> <td>   -7.234</td> <td> 0.000</td> <td>   -1.993</td> <td>   -1.144</td>\n",
       "</tr>\n",
       "<tr>\n",
       "  <th>job_student</th>                <td>    0.3206</td> <td>    0.103</td> <td>    3.117</td> <td> 0.002</td> <td>    0.119</td> <td>    0.522</td>\n",
       "</tr>\n",
       "<tr>\n",
       "  <th>contact_telephone</th>          <td>   -0.2812</td> <td>    0.060</td> <td>   -4.696</td> <td> 0.000</td> <td>   -0.399</td> <td>   -0.164</td>\n",
       "</tr>\n",
       "<tr>\n",
       "  <th>month_aug</th>                  <td>    0.1097</td> <td>    0.069</td> <td>    1.595</td> <td> 0.111</td> <td>   -0.025</td> <td>    0.244</td>\n",
       "</tr>\n",
       "<tr>\n",
       "  <th>month_dec</th>                  <td>    0.5364</td> <td>    0.193</td> <td>    2.774</td> <td> 0.006</td> <td>    0.157</td> <td>    0.915</td>\n",
       "</tr>\n",
       "<tr>\n",
       "  <th>month_mar</th>                  <td>    0.8938</td> <td>    0.114</td> <td>    7.807</td> <td> 0.000</td> <td>    0.669</td> <td>    1.118</td>\n",
       "</tr>\n",
       "<tr>\n",
       "  <th>month_may</th>                  <td>   -0.9082</td> <td>    0.055</td> <td>  -16.576</td> <td> 0.000</td> <td>   -1.016</td> <td>   -0.801</td>\n",
       "</tr>\n",
       "<tr>\n",
       "  <th>month_nov</th>                  <td>   -0.1611</td> <td>    0.079</td> <td>   -2.049</td> <td> 0.041</td> <td>   -0.315</td> <td>   -0.007</td>\n",
       "</tr>\n",
       "<tr>\n",
       "  <th>pdays_First_time_contacted</th> <td>   -1.0259</td> <td>    0.218</td> <td>   -4.702</td> <td> 0.000</td> <td>   -1.454</td> <td>   -0.598</td>\n",
       "</tr>\n",
       "<tr>\n",
       "  <th>previous_Never contacted</th>   <td>    0.4839</td> <td>    0.066</td> <td>    7.381</td> <td> 0.000</td> <td>    0.355</td> <td>    0.612</td>\n",
       "</tr>\n",
       "<tr>\n",
       "  <th>poutcome_success</th>           <td>    0.9394</td> <td>    0.221</td> <td>    4.253</td> <td> 0.000</td> <td>    0.506</td> <td>    1.372</td>\n",
       "</tr>\n",
       "<tr>\n",
       "  <th>cons.price.idx</th>             <td>    0.1827</td> <td>    0.026</td> <td>    6.899</td> <td> 0.000</td> <td>    0.131</td> <td>    0.235</td>\n",
       "</tr>\n",
       "<tr>\n",
       "  <th>euribor3m</th>                  <td>   -0.9320</td> <td>    0.029</td> <td>  -32.094</td> <td> 0.000</td> <td>   -0.989</td> <td>   -0.875</td>\n",
       "</tr>\n",
       "</table>"
      ],
      "text/plain": [
       "<class 'statsmodels.iolib.summary.Summary'>\n",
       "\"\"\"\n",
       "                 Generalized Linear Model Regression Results                  \n",
       "==============================================================================\n",
       "Dep. Variable:               response   No. Observations:                28821\n",
       "Model:                            GLM   Df Residuals:                    28808\n",
       "Model Family:                Binomial   Df Model:                           12\n",
       "Link Function:                  logit   Scale:                          1.0000\n",
       "Method:                          IRLS   Log-Likelihood:                -8198.2\n",
       "Date:                Mon, 22 Jul 2019   Deviance:                       16396.\n",
       "Time:                        21:02:06   Pearson chi2:                 3.03e+04\n",
       "No. Iterations:                     6   Covariance Type:             nonrobust\n",
       "==============================================================================================\n",
       "                                 coef    std err          z      P>|z|      [0.025      0.975]\n",
       "----------------------------------------------------------------------------------------------\n",
       "const                         -1.5685      0.217     -7.234      0.000      -1.993      -1.144\n",
       "job_student                    0.3206      0.103      3.117      0.002       0.119       0.522\n",
       "contact_telephone             -0.2812      0.060     -4.696      0.000      -0.399      -0.164\n",
       "month_aug                      0.1097      0.069      1.595      0.111      -0.025       0.244\n",
       "month_dec                      0.5364      0.193      2.774      0.006       0.157       0.915\n",
       "month_mar                      0.8938      0.114      7.807      0.000       0.669       1.118\n",
       "month_may                     -0.9082      0.055    -16.576      0.000      -1.016      -0.801\n",
       "month_nov                     -0.1611      0.079     -2.049      0.041      -0.315      -0.007\n",
       "pdays_First_time_contacted    -1.0259      0.218     -4.702      0.000      -1.454      -0.598\n",
       "previous_Never contacted       0.4839      0.066      7.381      0.000       0.355       0.612\n",
       "poutcome_success               0.9394      0.221      4.253      0.000       0.506       1.372\n",
       "cons.price.idx                 0.1827      0.026      6.899      0.000       0.131       0.235\n",
       "euribor3m                     -0.9320      0.029    -32.094      0.000      -0.989      -0.875\n",
       "==============================================================================================\n",
       "\"\"\""
      ]
     },
     "execution_count": 203,
     "metadata": {},
     "output_type": "execute_result"
    }
   ],
   "source": [
    "# Let's re-run the model using the selected variables\n",
    "X_train_sm = sm.add_constant(X_train[col])\n",
    "logm5 = sm.GLM(y_train,X_train_sm, family = sm.families.Binomial())\n",
    "res = logm5.fit()\n",
    "res.summary()"
   ]
  },
  {
   "cell_type": "code",
   "execution_count": 204,
   "metadata": {},
   "outputs": [
    {
     "data": {
      "text/html": [
       "<div>\n",
       "<style scoped>\n",
       "    .dataframe tbody tr th:only-of-type {\n",
       "        vertical-align: middle;\n",
       "    }\n",
       "\n",
       "    .dataframe tbody tr th {\n",
       "        vertical-align: top;\n",
       "    }\n",
       "\n",
       "    .dataframe thead th {\n",
       "        text-align: right;\n",
       "    }\n",
       "</style>\n",
       "<table border=\"1\" class=\"dataframe\">\n",
       "  <thead>\n",
       "    <tr style=\"text-align: right;\">\n",
       "      <th></th>\n",
       "      <th>Features</th>\n",
       "      <th>VIF</th>\n",
       "    </tr>\n",
       "  </thead>\n",
       "  <tbody>\n",
       "    <tr>\n",
       "      <th>7</th>\n",
       "      <td>pdays_First_time_contacted</td>\n",
       "      <td>13.91</td>\n",
       "    </tr>\n",
       "    <tr>\n",
       "      <th>8</th>\n",
       "      <td>previous_Never contacted</td>\n",
       "      <td>11.81</td>\n",
       "    </tr>\n",
       "    <tr>\n",
       "      <th>10</th>\n",
       "      <td>cons.price.idx</td>\n",
       "      <td>3.75</td>\n",
       "    </tr>\n",
       "    <tr>\n",
       "      <th>11</th>\n",
       "      <td>euribor3m</td>\n",
       "      <td>3.32</td>\n",
       "    </tr>\n",
       "    <tr>\n",
       "      <th>1</th>\n",
       "      <td>contact_telephone</td>\n",
       "      <td>3.24</td>\n",
       "    </tr>\n",
       "    <tr>\n",
       "      <th>5</th>\n",
       "      <td>month_may</td>\n",
       "      <td>2.42</td>\n",
       "    </tr>\n",
       "    <tr>\n",
       "      <th>2</th>\n",
       "      <td>month_aug</td>\n",
       "      <td>2.00</td>\n",
       "    </tr>\n",
       "    <tr>\n",
       "      <th>6</th>\n",
       "      <td>month_nov</td>\n",
       "      <td>1.64</td>\n",
       "    </tr>\n",
       "    <tr>\n",
       "      <th>9</th>\n",
       "      <td>poutcome_success</td>\n",
       "      <td>1.30</td>\n",
       "    </tr>\n",
       "    <tr>\n",
       "      <th>4</th>\n",
       "      <td>month_mar</td>\n",
       "      <td>1.07</td>\n",
       "    </tr>\n",
       "    <tr>\n",
       "      <th>0</th>\n",
       "      <td>job_student</td>\n",
       "      <td>1.05</td>\n",
       "    </tr>\n",
       "    <tr>\n",
       "      <th>3</th>\n",
       "      <td>month_dec</td>\n",
       "      <td>1.04</td>\n",
       "    </tr>\n",
       "  </tbody>\n",
       "</table>\n",
       "</div>"
      ],
      "text/plain": [
       "                      Features    VIF\n",
       "7   pdays_First_time_contacted  13.91\n",
       "8     previous_Never contacted  11.81\n",
       "10              cons.price.idx   3.75\n",
       "11                   euribor3m   3.32\n",
       "1            contact_telephone   3.24\n",
       "5                    month_may   2.42\n",
       "2                    month_aug   2.00\n",
       "6                    month_nov   1.64\n",
       "9             poutcome_success   1.30\n",
       "4                    month_mar   1.07\n",
       "0                  job_student   1.05\n",
       "3                    month_dec   1.04"
      ]
     },
     "execution_count": 204,
     "metadata": {},
     "output_type": "execute_result"
    }
   ],
   "source": [
    "##### Let's now check the VIFs again\n",
    "\n",
    "vif = pd.DataFrame()\n",
    "vif['Features'] = X_train[col].columns\n",
    "vif['VIF'] = [variance_inflation_factor(X_train[col].values, i) for i in range(X_train[col].shape[1])]\n",
    "vif['VIF'] = round(vif['VIF'], 2)\n",
    "vif = vif.sort_values(by = \"VIF\", ascending = False)\n",
    "vif"
   ]
  },
  {
   "cell_type": "code",
   "execution_count": 205,
   "metadata": {},
   "outputs": [
    {
     "data": {
      "text/plain": [
       "Index(['job_student', 'contact_telephone', 'month_aug', 'month_dec',\n",
       "       'month_mar', 'month_may', 'month_nov', 'previous_Never contacted',\n",
       "       'poutcome_success', 'cons.price.idx', 'euribor3m'],\n",
       "      dtype='object')"
      ]
     },
     "execution_count": 205,
     "metadata": {},
     "output_type": "execute_result"
    }
   ],
   "source": [
    "# Let's drop pdays_First_time_contacted since it has a high VIF\n",
    "col = col.drop('pdays_First_time_contacted')\n",
    "col"
   ]
  },
  {
   "cell_type": "code",
   "execution_count": 206,
   "metadata": {},
   "outputs": [
    {
     "data": {
      "text/html": [
       "<table class=\"simpletable\">\n",
       "<caption>Generalized Linear Model Regression Results</caption>\n",
       "<tr>\n",
       "  <th>Dep. Variable:</th>      <td>response</td>     <th>  No. Observations:  </th>  <td> 28821</td>  \n",
       "</tr>\n",
       "<tr>\n",
       "  <th>Model:</th>                 <td>GLM</td>       <th>  Df Residuals:      </th>  <td> 28809</td>  \n",
       "</tr>\n",
       "<tr>\n",
       "  <th>Model Family:</th>       <td>Binomial</td>     <th>  Df Model:          </th>  <td>    11</td>  \n",
       "</tr>\n",
       "<tr>\n",
       "  <th>Link Function:</th>        <td>logit</td>      <th>  Scale:             </th> <td>  1.0000</td> \n",
       "</tr>\n",
       "<tr>\n",
       "  <th>Method:</th>               <td>IRLS</td>       <th>  Log-Likelihood:    </th> <td> -8208.7</td> \n",
       "</tr>\n",
       "<tr>\n",
       "  <th>Date:</th>           <td>Mon, 22 Jul 2019</td> <th>  Deviance:          </th> <td>  16417.</td> \n",
       "</tr>\n",
       "<tr>\n",
       "  <th>Time:</th>               <td>21:02:07</td>     <th>  Pearson chi2:      </th> <td>3.04e+04</td> \n",
       "</tr>\n",
       "<tr>\n",
       "  <th>No. Iterations:</th>         <td>6</td>        <th>  Covariance Type:   </th> <td>nonrobust</td>\n",
       "</tr>\n",
       "</table>\n",
       "<table class=\"simpletable\">\n",
       "<tr>\n",
       "              <td></td>                <th>coef</th>     <th>std err</th>      <th>z</th>      <th>P>|z|</th>  <th>[0.025</th>    <th>0.975]</th>  \n",
       "</tr>\n",
       "<tr>\n",
       "  <th>const</th>                    <td>   -2.5403</td> <td>    0.069</td> <td>  -36.817</td> <td> 0.000</td> <td>   -2.676</td> <td>   -2.405</td>\n",
       "</tr>\n",
       "<tr>\n",
       "  <th>job_student</th>              <td>    0.3446</td> <td>    0.102</td> <td>    3.366</td> <td> 0.001</td> <td>    0.144</td> <td>    0.545</td>\n",
       "</tr>\n",
       "<tr>\n",
       "  <th>contact_telephone</th>        <td>   -0.2828</td> <td>    0.060</td> <td>   -4.722</td> <td> 0.000</td> <td>   -0.400</td> <td>   -0.165</td>\n",
       "</tr>\n",
       "<tr>\n",
       "  <th>month_aug</th>                <td>    0.1266</td> <td>    0.069</td> <td>    1.846</td> <td> 0.065</td> <td>   -0.008</td> <td>    0.261</td>\n",
       "</tr>\n",
       "<tr>\n",
       "  <th>month_dec</th>                <td>    0.5344</td> <td>    0.193</td> <td>    2.769</td> <td> 0.006</td> <td>    0.156</td> <td>    0.913</td>\n",
       "</tr>\n",
       "<tr>\n",
       "  <th>month_mar</th>                <td>    0.8972</td> <td>    0.114</td> <td>    7.845</td> <td> 0.000</td> <td>    0.673</td> <td>    1.121</td>\n",
       "</tr>\n",
       "<tr>\n",
       "  <th>month_may</th>                <td>   -0.9115</td> <td>    0.055</td> <td>  -16.641</td> <td> 0.000</td> <td>   -1.019</td> <td>   -0.804</td>\n",
       "</tr>\n",
       "<tr>\n",
       "  <th>month_nov</th>                <td>   -0.1443</td> <td>    0.078</td> <td>   -1.839</td> <td> 0.066</td> <td>   -0.298</td> <td>    0.009</td>\n",
       "</tr>\n",
       "<tr>\n",
       "  <th>previous_Never contacted</th> <td>    0.4251</td> <td>    0.063</td> <td>    6.695</td> <td> 0.000</td> <td>    0.301</td> <td>    0.550</td>\n",
       "</tr>\n",
       "<tr>\n",
       "  <th>poutcome_success</th>         <td>    1.8952</td> <td>    0.090</td> <td>   21.118</td> <td> 0.000</td> <td>    1.719</td> <td>    2.071</td>\n",
       "</tr>\n",
       "<tr>\n",
       "  <th>cons.price.idx</th>           <td>    0.1938</td> <td>    0.026</td> <td>    7.356</td> <td> 0.000</td> <td>    0.142</td> <td>    0.245</td>\n",
       "</tr>\n",
       "<tr>\n",
       "  <th>euribor3m</th>                <td>   -0.9425</td> <td>    0.029</td> <td>  -32.600</td> <td> 0.000</td> <td>   -0.999</td> <td>   -0.886</td>\n",
       "</tr>\n",
       "</table>"
      ],
      "text/plain": [
       "<class 'statsmodels.iolib.summary.Summary'>\n",
       "\"\"\"\n",
       "                 Generalized Linear Model Regression Results                  \n",
       "==============================================================================\n",
       "Dep. Variable:               response   No. Observations:                28821\n",
       "Model:                            GLM   Df Residuals:                    28809\n",
       "Model Family:                Binomial   Df Model:                           11\n",
       "Link Function:                  logit   Scale:                          1.0000\n",
       "Method:                          IRLS   Log-Likelihood:                -8208.7\n",
       "Date:                Mon, 22 Jul 2019   Deviance:                       16417.\n",
       "Time:                        21:02:07   Pearson chi2:                 3.04e+04\n",
       "No. Iterations:                     6   Covariance Type:             nonrobust\n",
       "============================================================================================\n",
       "                               coef    std err          z      P>|z|      [0.025      0.975]\n",
       "--------------------------------------------------------------------------------------------\n",
       "const                       -2.5403      0.069    -36.817      0.000      -2.676      -2.405\n",
       "job_student                  0.3446      0.102      3.366      0.001       0.144       0.545\n",
       "contact_telephone           -0.2828      0.060     -4.722      0.000      -0.400      -0.165\n",
       "month_aug                    0.1266      0.069      1.846      0.065      -0.008       0.261\n",
       "month_dec                    0.5344      0.193      2.769      0.006       0.156       0.913\n",
       "month_mar                    0.8972      0.114      7.845      0.000       0.673       1.121\n",
       "month_may                   -0.9115      0.055    -16.641      0.000      -1.019      -0.804\n",
       "month_nov                   -0.1443      0.078     -1.839      0.066      -0.298       0.009\n",
       "previous_Never contacted     0.4251      0.063      6.695      0.000       0.301       0.550\n",
       "poutcome_success             1.8952      0.090     21.118      0.000       1.719       2.071\n",
       "cons.price.idx               0.1938      0.026      7.356      0.000       0.142       0.245\n",
       "euribor3m                   -0.9425      0.029    -32.600      0.000      -0.999      -0.886\n",
       "============================================================================================\n",
       "\"\"\""
      ]
     },
     "execution_count": 206,
     "metadata": {},
     "output_type": "execute_result"
    }
   ],
   "source": [
    "# Let's re-run the model using the selected variables\n",
    "X_train_sm = sm.add_constant(X_train[col])\n",
    "logm6 = sm.GLM(y_train,X_train_sm, family = sm.families.Binomial())\n",
    "res = logm6.fit()\n",
    "res.summary()"
   ]
  },
  {
   "cell_type": "code",
   "execution_count": 207,
   "metadata": {},
   "outputs": [
    {
     "data": {
      "text/plain": [
       "0.8990666527878978"
      ]
     },
     "execution_count": 207,
     "metadata": {},
     "output_type": "execute_result"
    }
   ],
   "source": [
    "# Let's check the overall accuracy.\n",
    "metrics.accuracy_score(y_train_pred_final.actual, y_train_pred_final.predicted)"
   ]
  },
  {
   "cell_type": "code",
   "execution_count": 208,
   "metadata": {},
   "outputs": [
    {
     "data": {
      "text/html": [
       "<div>\n",
       "<style scoped>\n",
       "    .dataframe tbody tr th:only-of-type {\n",
       "        vertical-align: middle;\n",
       "    }\n",
       "\n",
       "    .dataframe tbody tr th {\n",
       "        vertical-align: top;\n",
       "    }\n",
       "\n",
       "    .dataframe thead th {\n",
       "        text-align: right;\n",
       "    }\n",
       "</style>\n",
       "<table border=\"1\" class=\"dataframe\">\n",
       "  <thead>\n",
       "    <tr style=\"text-align: right;\">\n",
       "      <th></th>\n",
       "      <th>Features</th>\n",
       "      <th>VIF</th>\n",
       "    </tr>\n",
       "  </thead>\n",
       "  <tbody>\n",
       "    <tr>\n",
       "      <th>9</th>\n",
       "      <td>cons.price.idx</td>\n",
       "      <td>3.70</td>\n",
       "    </tr>\n",
       "    <tr>\n",
       "      <th>1</th>\n",
       "      <td>contact_telephone</td>\n",
       "      <td>3.19</td>\n",
       "    </tr>\n",
       "    <tr>\n",
       "      <th>10</th>\n",
       "      <td>euribor3m</td>\n",
       "      <td>2.91</td>\n",
       "    </tr>\n",
       "    <tr>\n",
       "      <th>7</th>\n",
       "      <td>previous_Never contacted</td>\n",
       "      <td>2.88</td>\n",
       "    </tr>\n",
       "    <tr>\n",
       "      <th>5</th>\n",
       "      <td>month_may</td>\n",
       "      <td>2.26</td>\n",
       "    </tr>\n",
       "    <tr>\n",
       "      <th>2</th>\n",
       "      <td>month_aug</td>\n",
       "      <td>1.83</td>\n",
       "    </tr>\n",
       "    <tr>\n",
       "      <th>6</th>\n",
       "      <td>month_nov</td>\n",
       "      <td>1.45</td>\n",
       "    </tr>\n",
       "    <tr>\n",
       "      <th>8</th>\n",
       "      <td>poutcome_success</td>\n",
       "      <td>1.23</td>\n",
       "    </tr>\n",
       "    <tr>\n",
       "      <th>4</th>\n",
       "      <td>month_mar</td>\n",
       "      <td>1.07</td>\n",
       "    </tr>\n",
       "    <tr>\n",
       "      <th>0</th>\n",
       "      <td>job_student</td>\n",
       "      <td>1.05</td>\n",
       "    </tr>\n",
       "    <tr>\n",
       "      <th>3</th>\n",
       "      <td>month_dec</td>\n",
       "      <td>1.04</td>\n",
       "    </tr>\n",
       "  </tbody>\n",
       "</table>\n",
       "</div>"
      ],
      "text/plain": [
       "                    Features   VIF\n",
       "9             cons.price.idx  3.70\n",
       "1          contact_telephone  3.19\n",
       "10                 euribor3m  2.91\n",
       "7   previous_Never contacted  2.88\n",
       "5                  month_may  2.26\n",
       "2                  month_aug  1.83\n",
       "6                  month_nov  1.45\n",
       "8           poutcome_success  1.23\n",
       "4                  month_mar  1.07\n",
       "0                job_student  1.05\n",
       "3                  month_dec  1.04"
      ]
     },
     "execution_count": 208,
     "metadata": {},
     "output_type": "execute_result"
    }
   ],
   "source": [
    "##### Let's now check the VIFs again\n",
    "\n",
    "vif = pd.DataFrame()\n",
    "vif['Features'] = X_train[col].columns\n",
    "vif['VIF'] = [variance_inflation_factor(X_train[col].values, i) for i in range(X_train[col].shape[1])]\n",
    "vif['VIF'] = round(vif['VIF'], 2)\n",
    "vif = vif.sort_values(by = \"VIF\", ascending = False)\n",
    "vif"
   ]
  },
  {
   "cell_type": "code",
   "execution_count": 209,
   "metadata": {},
   "outputs": [
    {
     "data": {
      "text/plain": [
       "Index(['job_student', 'contact_telephone', 'month_aug', 'month_dec',\n",
       "       'month_mar', 'month_may', 'previous_Never contacted',\n",
       "       'poutcome_success', 'cons.price.idx', 'euribor3m'],\n",
       "      dtype='object')"
      ]
     },
     "execution_count": 209,
     "metadata": {},
     "output_type": "execute_result"
    }
   ],
   "source": [
    "# Let's drop month_nov since it is insignificant\n",
    "col = col.drop('month_nov')\n",
    "col"
   ]
  },
  {
   "cell_type": "code",
   "execution_count": 210,
   "metadata": {},
   "outputs": [
    {
     "data": {
      "text/html": [
       "<table class=\"simpletable\">\n",
       "<caption>Generalized Linear Model Regression Results</caption>\n",
       "<tr>\n",
       "  <th>Dep. Variable:</th>      <td>response</td>     <th>  No. Observations:  </th>  <td> 28821</td>  \n",
       "</tr>\n",
       "<tr>\n",
       "  <th>Model:</th>                 <td>GLM</td>       <th>  Df Residuals:      </th>  <td> 28810</td>  \n",
       "</tr>\n",
       "<tr>\n",
       "  <th>Model Family:</th>       <td>Binomial</td>     <th>  Df Model:          </th>  <td>    10</td>  \n",
       "</tr>\n",
       "<tr>\n",
       "  <th>Link Function:</th>        <td>logit</td>      <th>  Scale:             </th> <td>  1.0000</td> \n",
       "</tr>\n",
       "<tr>\n",
       "  <th>Method:</th>               <td>IRLS</td>       <th>  Log-Likelihood:    </th> <td> -8210.4</td> \n",
       "</tr>\n",
       "<tr>\n",
       "  <th>Date:</th>           <td>Mon, 22 Jul 2019</td> <th>  Deviance:          </th> <td>  16421.</td> \n",
       "</tr>\n",
       "<tr>\n",
       "  <th>Time:</th>               <td>21:02:07</td>     <th>  Pearson chi2:      </th> <td>3.04e+04</td> \n",
       "</tr>\n",
       "<tr>\n",
       "  <th>No. Iterations:</th>         <td>6</td>        <th>  Covariance Type:   </th> <td>nonrobust</td>\n",
       "</tr>\n",
       "</table>\n",
       "<table class=\"simpletable\">\n",
       "<tr>\n",
       "              <td></td>                <th>coef</th>     <th>std err</th>      <th>z</th>      <th>P>|z|</th>  <th>[0.025</th>    <th>0.975]</th>  \n",
       "</tr>\n",
       "<tr>\n",
       "  <th>const</th>                    <td>   -2.5801</td> <td>    0.066</td> <td>  -39.338</td> <td> 0.000</td> <td>   -2.709</td> <td>   -2.452</td>\n",
       "</tr>\n",
       "<tr>\n",
       "  <th>job_student</th>              <td>    0.3441</td> <td>    0.103</td> <td>    3.357</td> <td> 0.001</td> <td>    0.143</td> <td>    0.545</td>\n",
       "</tr>\n",
       "<tr>\n",
       "  <th>contact_telephone</th>        <td>   -0.2755</td> <td>    0.060</td> <td>   -4.606</td> <td> 0.000</td> <td>   -0.393</td> <td>   -0.158</td>\n",
       "</tr>\n",
       "<tr>\n",
       "  <th>month_aug</th>                <td>    0.1641</td> <td>    0.066</td> <td>    2.501</td> <td> 0.012</td> <td>    0.036</td> <td>    0.293</td>\n",
       "</tr>\n",
       "<tr>\n",
       "  <th>month_dec</th>                <td>    0.5625</td> <td>    0.192</td> <td>    2.925</td> <td> 0.003</td> <td>    0.186</td> <td>    0.939</td>\n",
       "</tr>\n",
       "<tr>\n",
       "  <th>month_mar</th>                <td>    0.9189</td> <td>    0.114</td> <td>    8.072</td> <td> 0.000</td> <td>    0.696</td> <td>    1.142</td>\n",
       "</tr>\n",
       "<tr>\n",
       "  <th>month_may</th>                <td>   -0.8862</td> <td>    0.053</td> <td>  -16.689</td> <td> 0.000</td> <td>   -0.990</td> <td>   -0.782</td>\n",
       "</tr>\n",
       "<tr>\n",
       "  <th>previous_Never contacted</th> <td>    0.4362</td> <td>    0.063</td> <td>    6.907</td> <td> 0.000</td> <td>    0.312</td> <td>    0.560</td>\n",
       "</tr>\n",
       "<tr>\n",
       "  <th>poutcome_success</th>         <td>    1.8907</td> <td>    0.090</td> <td>   21.083</td> <td> 0.000</td> <td>    1.715</td> <td>    2.066</td>\n",
       "</tr>\n",
       "<tr>\n",
       "  <th>cons.price.idx</th>           <td>    0.2059</td> <td>    0.025</td> <td>    8.088</td> <td> 0.000</td> <td>    0.156</td> <td>    0.256</td>\n",
       "</tr>\n",
       "<tr>\n",
       "  <th>euribor3m</th>                <td>   -0.9566</td> <td>    0.028</td> <td>  -34.399</td> <td> 0.000</td> <td>   -1.011</td> <td>   -0.902</td>\n",
       "</tr>\n",
       "</table>"
      ],
      "text/plain": [
       "<class 'statsmodels.iolib.summary.Summary'>\n",
       "\"\"\"\n",
       "                 Generalized Linear Model Regression Results                  \n",
       "==============================================================================\n",
       "Dep. Variable:               response   No. Observations:                28821\n",
       "Model:                            GLM   Df Residuals:                    28810\n",
       "Model Family:                Binomial   Df Model:                           10\n",
       "Link Function:                  logit   Scale:                          1.0000\n",
       "Method:                          IRLS   Log-Likelihood:                -8210.4\n",
       "Date:                Mon, 22 Jul 2019   Deviance:                       16421.\n",
       "Time:                        21:02:07   Pearson chi2:                 3.04e+04\n",
       "No. Iterations:                     6   Covariance Type:             nonrobust\n",
       "============================================================================================\n",
       "                               coef    std err          z      P>|z|      [0.025      0.975]\n",
       "--------------------------------------------------------------------------------------------\n",
       "const                       -2.5801      0.066    -39.338      0.000      -2.709      -2.452\n",
       "job_student                  0.3441      0.103      3.357      0.001       0.143       0.545\n",
       "contact_telephone           -0.2755      0.060     -4.606      0.000      -0.393      -0.158\n",
       "month_aug                    0.1641      0.066      2.501      0.012       0.036       0.293\n",
       "month_dec                    0.5625      0.192      2.925      0.003       0.186       0.939\n",
       "month_mar                    0.9189      0.114      8.072      0.000       0.696       1.142\n",
       "month_may                   -0.8862      0.053    -16.689      0.000      -0.990      -0.782\n",
       "previous_Never contacted     0.4362      0.063      6.907      0.000       0.312       0.560\n",
       "poutcome_success             1.8907      0.090     21.083      0.000       1.715       2.066\n",
       "cons.price.idx               0.2059      0.025      8.088      0.000       0.156       0.256\n",
       "euribor3m                   -0.9566      0.028    -34.399      0.000      -1.011      -0.902\n",
       "============================================================================================\n",
       "\"\"\""
      ]
     },
     "execution_count": 210,
     "metadata": {},
     "output_type": "execute_result"
    }
   ],
   "source": [
    "# Let's re-run the model using the selected variables\n",
    "X_train_sm = sm.add_constant(X_train[col])\n",
    "logm7 = sm.GLM(y_train,X_train_sm, family = sm.families.Binomial())\n",
    "res = logm7.fit()\n",
    "res.summary()"
   ]
  },
  {
   "cell_type": "code",
   "execution_count": 211,
   "metadata": {},
   "outputs": [
    {
     "data": {
      "text/html": [
       "<div>\n",
       "<style scoped>\n",
       "    .dataframe tbody tr th:only-of-type {\n",
       "        vertical-align: middle;\n",
       "    }\n",
       "\n",
       "    .dataframe tbody tr th {\n",
       "        vertical-align: top;\n",
       "    }\n",
       "\n",
       "    .dataframe thead th {\n",
       "        text-align: right;\n",
       "    }\n",
       "</style>\n",
       "<table border=\"1\" class=\"dataframe\">\n",
       "  <thead>\n",
       "    <tr style=\"text-align: right;\">\n",
       "      <th></th>\n",
       "      <th>Features</th>\n",
       "      <th>VIF</th>\n",
       "    </tr>\n",
       "  </thead>\n",
       "  <tbody>\n",
       "    <tr>\n",
       "      <th>1</th>\n",
       "      <td>contact_telephone</td>\n",
       "      <td>3.17</td>\n",
       "    </tr>\n",
       "    <tr>\n",
       "      <th>8</th>\n",
       "      <td>cons.price.idx</td>\n",
       "      <td>2.99</td>\n",
       "    </tr>\n",
       "    <tr>\n",
       "      <th>9</th>\n",
       "      <td>euribor3m</td>\n",
       "      <td>2.65</td>\n",
       "    </tr>\n",
       "    <tr>\n",
       "      <th>6</th>\n",
       "      <td>previous_Never contacted</td>\n",
       "      <td>2.48</td>\n",
       "    </tr>\n",
       "    <tr>\n",
       "      <th>5</th>\n",
       "      <td>month_may</td>\n",
       "      <td>2.09</td>\n",
       "    </tr>\n",
       "    <tr>\n",
       "      <th>2</th>\n",
       "      <td>month_aug</td>\n",
       "      <td>1.59</td>\n",
       "    </tr>\n",
       "    <tr>\n",
       "      <th>7</th>\n",
       "      <td>poutcome_success</td>\n",
       "      <td>1.18</td>\n",
       "    </tr>\n",
       "    <tr>\n",
       "      <th>4</th>\n",
       "      <td>month_mar</td>\n",
       "      <td>1.06</td>\n",
       "    </tr>\n",
       "    <tr>\n",
       "      <th>0</th>\n",
       "      <td>job_student</td>\n",
       "      <td>1.05</td>\n",
       "    </tr>\n",
       "    <tr>\n",
       "      <th>3</th>\n",
       "      <td>month_dec</td>\n",
       "      <td>1.04</td>\n",
       "    </tr>\n",
       "  </tbody>\n",
       "</table>\n",
       "</div>"
      ],
      "text/plain": [
       "                   Features   VIF\n",
       "1         contact_telephone  3.17\n",
       "8            cons.price.idx  2.99\n",
       "9                 euribor3m  2.65\n",
       "6  previous_Never contacted  2.48\n",
       "5                 month_may  2.09\n",
       "2                 month_aug  1.59\n",
       "7          poutcome_success  1.18\n",
       "4                 month_mar  1.06\n",
       "0               job_student  1.05\n",
       "3                 month_dec  1.04"
      ]
     },
     "execution_count": 211,
     "metadata": {},
     "output_type": "execute_result"
    }
   ],
   "source": [
    "##### Let's now check the VIFs again\n",
    "\n",
    "vif = pd.DataFrame()\n",
    "vif['Features'] = X_train[col].columns\n",
    "vif['VIF'] = [variance_inflation_factor(X_train[col].values, i) for i in range(X_train[col].shape[1])]\n",
    "vif['VIF'] = round(vif['VIF'], 2)\n",
    "vif = vif.sort_values(by = \"VIF\", ascending = False)\n",
    "vif"
   ]
  },
  {
   "cell_type": "markdown",
   "metadata": {},
   "source": [
    "All variables have a good value of VIF. So we need not drop any more variables \n",
    "and we can proceed with making predictions using this model only"
   ]
  },
  {
   "cell_type": "markdown",
   "metadata": {},
   "source": [
    "### the features that are most significant are:\n",
    "- contact_telephone\t\n",
    "- cons.price.idx\t\n",
    "- euribor3m\n",
    "- previous_Never contacted\n",
    "- month_may\n",
    "- month_aug\n",
    "- poutcome_success\n",
    "- month_mar\n",
    "- job_student\n",
    "- month_dec"
   ]
  },
  {
   "cell_type": "code",
   "execution_count": 212,
   "metadata": {},
   "outputs": [
    {
     "name": "stdout",
     "output_type": "stream",
     "text": [
      "[[25272   299]\n",
      " [ 2623   627]]\n",
      "0.8986155927969189\n",
      "Sensitivity: \t0.19\n",
      "Specificity: \t0.99\n"
     ]
    }
   ],
   "source": [
    "# Getting the predicted values on the train set\n",
    "y_train_pred = res.predict(X_train_sm)\n",
    "y_train_pred[:10]\n",
    "\n",
    "y_train_pred = y_train_pred.values.reshape(-1)\n",
    "y_train_pred[:10]\n",
    "\n",
    "##### Creating a dataframe with the actual churn flag and the predicted probabilities\n",
    "\n",
    "y_train_pred_final = pd.DataFrame({'actual':y_train.values, 'pred_prob':y_train_pred})\n",
    "#y_train_pred_final['CustID'] = y_train.index\n",
    "y_train_pred_final.head()\n",
    "\n",
    "##### Creating new column 'predicted' with 1 if Churn_Prob > 0.5 else 0\n",
    "\n",
    "y_train_pred_final['predicted'] = y_train_pred_final.pred_prob.map(lambda x: 1 if x > 0.5 else 0)\n",
    "\n",
    "# Let's see the head\n",
    "y_train_pred_final.head()\n",
    "\n",
    "#from sklearn import metrics\n",
    "\n",
    "# Confusion matrix \n",
    "confusion = metrics.confusion_matrix(y_train_pred_final.actual, y_train_pred_final.predicted )\n",
    "print(confusion)\n",
    "\n",
    "# Let's check the overall accuracy.\n",
    "print(metrics.accuracy_score(y_train_pred_final.actual, y_train_pred_final.predicted))\n",
    "# check sensitivity and specificity\n",
    "sensitivity, specificity, _ = sensitivity_specificity_support(y_train_pred_final.actual, y_train_pred_final.predicted, average='binary')\n",
    "print(\"Sensitivity: \\t\", round(sensitivity, 2), \"\\n\", \"Specificity: \\t\", round(specificity, 2), sep='')\n"
   ]
  },
  {
   "cell_type": "markdown",
   "metadata": {},
   "source": [
    "We notice that the model gives a very low sensitivity and high specificity, which is not preferred.\n",
    "i.e our true postive rate is very low and true negative rate is high, thus our model wont be able to identify the responders correctly"
   ]
  },
  {
   "cell_type": "code",
   "execution_count": 213,
   "metadata": {},
   "outputs": [
    {
     "data": {
      "text/html": [
       "<div>\n",
       "<style scoped>\n",
       "    .dataframe tbody tr th:only-of-type {\n",
       "        vertical-align: middle;\n",
       "    }\n",
       "\n",
       "    .dataframe tbody tr th {\n",
       "        vertical-align: top;\n",
       "    }\n",
       "\n",
       "    .dataframe thead th {\n",
       "        text-align: right;\n",
       "    }\n",
       "</style>\n",
       "<table border=\"1\" class=\"dataframe\">\n",
       "  <thead>\n",
       "    <tr style=\"text-align: right;\">\n",
       "      <th></th>\n",
       "      <th>job_student</th>\n",
       "      <th>contact_telephone</th>\n",
       "      <th>month_aug</th>\n",
       "      <th>month_dec</th>\n",
       "      <th>month_mar</th>\n",
       "      <th>month_may</th>\n",
       "      <th>previous_Never contacted</th>\n",
       "      <th>poutcome_success</th>\n",
       "      <th>cons.price.idx</th>\n",
       "      <th>euribor3m</th>\n",
       "    </tr>\n",
       "  </thead>\n",
       "  <tbody>\n",
       "    <tr>\n",
       "      <th>39816</th>\n",
       "      <td>0</td>\n",
       "      <td>1</td>\n",
       "      <td>0</td>\n",
       "      <td>0</td>\n",
       "      <td>0</td>\n",
       "      <td>0</td>\n",
       "      <td>1</td>\n",
       "      <td>0</td>\n",
       "      <td>0.833299</td>\n",
       "      <td>-1.671321</td>\n",
       "    </tr>\n",
       "    <tr>\n",
       "      <th>13837</th>\n",
       "      <td>0</td>\n",
       "      <td>0</td>\n",
       "      <td>0</td>\n",
       "      <td>0</td>\n",
       "      <td>0</td>\n",
       "      <td>0</td>\n",
       "      <td>1</td>\n",
       "      <td>0</td>\n",
       "      <td>0.598915</td>\n",
       "      <td>0.775719</td>\n",
       "    </tr>\n",
       "    <tr>\n",
       "      <th>40354</th>\n",
       "      <td>0</td>\n",
       "      <td>0</td>\n",
       "      <td>1</td>\n",
       "      <td>0</td>\n",
       "      <td>0</td>\n",
       "      <td>0</td>\n",
       "      <td>1</td>\n",
       "      <td>0</td>\n",
       "      <td>0.785396</td>\n",
       "      <td>-1.563126</td>\n",
       "    </tr>\n",
       "    <tr>\n",
       "      <th>5232</th>\n",
       "      <td>0</td>\n",
       "      <td>1</td>\n",
       "      <td>0</td>\n",
       "      <td>0</td>\n",
       "      <td>0</td>\n",
       "      <td>1</td>\n",
       "      <td>1</td>\n",
       "      <td>0</td>\n",
       "      <td>0.728938</td>\n",
       "      <td>0.714716</td>\n",
       "    </tr>\n",
       "    <tr>\n",
       "      <th>4352</th>\n",
       "      <td>0</td>\n",
       "      <td>1</td>\n",
       "      <td>0</td>\n",
       "      <td>0</td>\n",
       "      <td>0</td>\n",
       "      <td>1</td>\n",
       "      <td>1</td>\n",
       "      <td>0</td>\n",
       "      <td>0.728938</td>\n",
       "      <td>0.714140</td>\n",
       "    </tr>\n",
       "  </tbody>\n",
       "</table>\n",
       "</div>"
      ],
      "text/plain": [
       "       job_student  contact_telephone  month_aug  month_dec  month_mar  \\\n",
       "39816            0                  1          0          0          0   \n",
       "13837            0                  0          0          0          0   \n",
       "40354            0                  0          1          0          0   \n",
       "5232             0                  1          0          0          0   \n",
       "4352             0                  1          0          0          0   \n",
       "\n",
       "       month_may  previous_Never contacted  poutcome_success  cons.price.idx  \\\n",
       "39816          0                         1                 0        0.833299   \n",
       "13837          0                         1                 0        0.598915   \n",
       "40354          0                         1                 0        0.785396   \n",
       "5232           1                         1                 0        0.728938   \n",
       "4352           1                         1                 0        0.728938   \n",
       "\n",
       "       euribor3m  \n",
       "39816  -1.671321  \n",
       "13837   0.775719  \n",
       "40354  -1.563126  \n",
       "5232    0.714716  \n",
       "4352    0.714140  "
      ]
     },
     "execution_count": 213,
     "metadata": {},
     "output_type": "execute_result"
    }
   ],
   "source": [
    "X_test_nw = X_test[col]\n",
    "X_test_nw.head()"
   ]
  },
  {
   "cell_type": "code",
   "execution_count": 214,
   "metadata": {},
   "outputs": [
    {
     "data": {
      "text/plain": [
       "39816    0.343228\n",
       "13837    0.059377\n",
       "40354    0.420008\n",
       "5232     0.021057\n",
       "4352     0.021069\n",
       "38965    0.326303\n",
       "27154    0.076069\n",
       "1131     0.021069\n",
       "22916    0.059154\n",
       "14765    0.059561\n",
       "dtype: float64"
      ]
     },
     "execution_count": 214,
     "metadata": {},
     "output_type": "execute_result"
    }
   ],
   "source": [
    "X_test_sm = sm.add_constant(X_test_nw)\n",
    "\n",
    "#Making predictions on the test set\n",
    "\n",
    "y_test_pred = res.predict(X_test_sm)\n",
    "\n",
    "y_test_pred[:10]"
   ]
  },
  {
   "cell_type": "code",
   "execution_count": 215,
   "metadata": {},
   "outputs": [
    {
     "data": {
      "text/html": [
       "<div>\n",
       "<style scoped>\n",
       "    .dataframe tbody tr th:only-of-type {\n",
       "        vertical-align: middle;\n",
       "    }\n",
       "\n",
       "    .dataframe tbody tr th {\n",
       "        vertical-align: top;\n",
       "    }\n",
       "\n",
       "    .dataframe thead th {\n",
       "        text-align: right;\n",
       "    }\n",
       "</style>\n",
       "<table border=\"1\" class=\"dataframe\">\n",
       "  <thead>\n",
       "    <tr style=\"text-align: right;\">\n",
       "      <th></th>\n",
       "      <th>0</th>\n",
       "    </tr>\n",
       "  </thead>\n",
       "  <tbody>\n",
       "    <tr>\n",
       "      <th>39816</th>\n",
       "      <td>0.343228</td>\n",
       "    </tr>\n",
       "    <tr>\n",
       "      <th>13837</th>\n",
       "      <td>0.059377</td>\n",
       "    </tr>\n",
       "    <tr>\n",
       "      <th>40354</th>\n",
       "      <td>0.420008</td>\n",
       "    </tr>\n",
       "    <tr>\n",
       "      <th>5232</th>\n",
       "      <td>0.021057</td>\n",
       "    </tr>\n",
       "    <tr>\n",
       "      <th>4352</th>\n",
       "      <td>0.021069</td>\n",
       "    </tr>\n",
       "  </tbody>\n",
       "</table>\n",
       "</div>"
      ],
      "text/plain": [
       "              0\n",
       "39816  0.343228\n",
       "13837  0.059377\n",
       "40354  0.420008\n",
       "5232   0.021057\n",
       "4352   0.021069"
      ]
     },
     "execution_count": 215,
     "metadata": {},
     "output_type": "execute_result"
    }
   ],
   "source": [
    "# Converting y_pred to a dataframe which is an array\n",
    "y_pred_1 = pd.DataFrame(y_test_pred)\n",
    "\n",
    "# Let's see the head\n",
    "y_pred_1.head()"
   ]
  },
  {
   "cell_type": "code",
   "execution_count": 216,
   "metadata": {},
   "outputs": [
    {
     "data": {
      "text/html": [
       "<div>\n",
       "<style scoped>\n",
       "    .dataframe tbody tr th:only-of-type {\n",
       "        vertical-align: middle;\n",
       "    }\n",
       "\n",
       "    .dataframe tbody tr th {\n",
       "        vertical-align: top;\n",
       "    }\n",
       "\n",
       "    .dataframe thead th {\n",
       "        text-align: right;\n",
       "    }\n",
       "</style>\n",
       "<table border=\"1\" class=\"dataframe\">\n",
       "  <thead>\n",
       "    <tr style=\"text-align: right;\">\n",
       "      <th></th>\n",
       "      <th>response</th>\n",
       "    </tr>\n",
       "  </thead>\n",
       "  <tbody>\n",
       "    <tr>\n",
       "      <th>0</th>\n",
       "      <td>1</td>\n",
       "    </tr>\n",
       "    <tr>\n",
       "      <th>1</th>\n",
       "      <td>0</td>\n",
       "    </tr>\n",
       "    <tr>\n",
       "      <th>2</th>\n",
       "      <td>0</td>\n",
       "    </tr>\n",
       "    <tr>\n",
       "      <th>3</th>\n",
       "      <td>0</td>\n",
       "    </tr>\n",
       "    <tr>\n",
       "      <th>4</th>\n",
       "      <td>0</td>\n",
       "    </tr>\n",
       "  </tbody>\n",
       "</table>\n",
       "</div>"
      ],
      "text/plain": [
       "   response\n",
       "0         1\n",
       "1         0\n",
       "2         0\n",
       "3         0\n",
       "4         0"
      ]
     },
     "execution_count": 216,
     "metadata": {},
     "output_type": "execute_result"
    }
   ],
   "source": [
    "# Converting y_test to dataframe\n",
    "y_test_df = pd.DataFrame(y_test)\n",
    "\n",
    "# Putting CustID to index\n",
    "#y_test_df['CustID'] = y_test_df.index\n",
    "\n",
    "# Removing index for both dataframes to append them side by side \n",
    "y_pred_1.reset_index(drop=True, inplace=True)\n",
    "y_test_df.reset_index(drop=True, inplace=True)\n",
    "\n",
    "y_test_df.head()"
   ]
  },
  {
   "cell_type": "code",
   "execution_count": 217,
   "metadata": {},
   "outputs": [
    {
     "data": {
      "text/html": [
       "<div>\n",
       "<style scoped>\n",
       "    .dataframe tbody tr th:only-of-type {\n",
       "        vertical-align: middle;\n",
       "    }\n",
       "\n",
       "    .dataframe tbody tr th {\n",
       "        vertical-align: top;\n",
       "    }\n",
       "\n",
       "    .dataframe thead th {\n",
       "        text-align: right;\n",
       "    }\n",
       "</style>\n",
       "<table border=\"1\" class=\"dataframe\">\n",
       "  <thead>\n",
       "    <tr style=\"text-align: right;\">\n",
       "      <th></th>\n",
       "      <th>response</th>\n",
       "      <th>0</th>\n",
       "    </tr>\n",
       "  </thead>\n",
       "  <tbody>\n",
       "    <tr>\n",
       "      <th>0</th>\n",
       "      <td>1</td>\n",
       "      <td>0.343228</td>\n",
       "    </tr>\n",
       "    <tr>\n",
       "      <th>1</th>\n",
       "      <td>0</td>\n",
       "      <td>0.059377</td>\n",
       "    </tr>\n",
       "    <tr>\n",
       "      <th>2</th>\n",
       "      <td>0</td>\n",
       "      <td>0.420008</td>\n",
       "    </tr>\n",
       "    <tr>\n",
       "      <th>3</th>\n",
       "      <td>0</td>\n",
       "      <td>0.021057</td>\n",
       "    </tr>\n",
       "    <tr>\n",
       "      <th>4</th>\n",
       "      <td>0</td>\n",
       "      <td>0.021069</td>\n",
       "    </tr>\n",
       "  </tbody>\n",
       "</table>\n",
       "</div>"
      ],
      "text/plain": [
       "   response         0\n",
       "0         1  0.343228\n",
       "1         0  0.059377\n",
       "2         0  0.420008\n",
       "3         0  0.021057\n",
       "4         0  0.021069"
      ]
     },
     "execution_count": 217,
     "metadata": {},
     "output_type": "execute_result"
    }
   ],
   "source": [
    "# Appending y_test_df and y_pred_1\n",
    "y_pred_final = pd.concat([y_test_df, y_pred_1],axis=1)\n",
    "\n",
    "y_pred_final.head()"
   ]
  },
  {
   "cell_type": "code",
   "execution_count": 218,
   "metadata": {},
   "outputs": [
    {
     "data": {
      "text/html": [
       "<div>\n",
       "<style scoped>\n",
       "    .dataframe tbody tr th:only-of-type {\n",
       "        vertical-align: middle;\n",
       "    }\n",
       "\n",
       "    .dataframe tbody tr th {\n",
       "        vertical-align: top;\n",
       "    }\n",
       "\n",
       "    .dataframe thead th {\n",
       "        text-align: right;\n",
       "    }\n",
       "</style>\n",
       "<table border=\"1\" class=\"dataframe\">\n",
       "  <thead>\n",
       "    <tr style=\"text-align: right;\">\n",
       "      <th></th>\n",
       "      <th>actual</th>\n",
       "      <th>pred_prob</th>\n",
       "    </tr>\n",
       "  </thead>\n",
       "  <tbody>\n",
       "    <tr>\n",
       "      <th>0</th>\n",
       "      <td>1</td>\n",
       "      <td>0.343228</td>\n",
       "    </tr>\n",
       "    <tr>\n",
       "      <th>1</th>\n",
       "      <td>0</td>\n",
       "      <td>0.059377</td>\n",
       "    </tr>\n",
       "    <tr>\n",
       "      <th>2</th>\n",
       "      <td>0</td>\n",
       "      <td>0.420008</td>\n",
       "    </tr>\n",
       "    <tr>\n",
       "      <th>3</th>\n",
       "      <td>0</td>\n",
       "      <td>0.021057</td>\n",
       "    </tr>\n",
       "    <tr>\n",
       "      <th>4</th>\n",
       "      <td>0</td>\n",
       "      <td>0.021069</td>\n",
       "    </tr>\n",
       "  </tbody>\n",
       "</table>\n",
       "</div>"
      ],
      "text/plain": [
       "   actual  pred_prob\n",
       "0       1   0.343228\n",
       "1       0   0.059377\n",
       "2       0   0.420008\n",
       "3       0   0.021057\n",
       "4       0   0.021069"
      ]
     },
     "execution_count": 218,
     "metadata": {},
     "output_type": "execute_result"
    }
   ],
   "source": [
    "# Renaming the column \n",
    "y_pred_final= y_pred_final.rename(columns={ 0 : 'pred_prob'})\n",
    "y_pred_final= y_pred_final.rename(columns={ 'response' : 'actual'})\n",
    "\n",
    "# Rearranging the columns\n",
    "y_pred_final = y_pred_final.reindex_axis(['actual','pred_prob'], axis=1)\n",
    "\n",
    "# Let's see the head of y_pred_final\n",
    "y_pred_final.head()"
   ]
  },
  {
   "cell_type": "code",
   "execution_count": 219,
   "metadata": {},
   "outputs": [
    {
     "data": {
      "text/plain": [
       "array([[10854,   109],\n",
       "       [ 1112,   277]])"
      ]
     },
     "execution_count": 219,
     "metadata": {},
     "output_type": "execute_result"
    }
   ],
   "source": [
    "y_pred_final['predicted'] = y_pred_final.pred_prob.map(lambda x: 1 if x > 0.5 else 0)\n",
    "\n",
    "y_pred_final.head()\n",
    "\n",
    "# Let's check the overall accuracy.\n",
    "metrics.accuracy_score(y_pred_final.actual, y_pred_final.predicted)\n",
    "\n",
    "confusion2 = metrics.confusion_matrix(y_pred_final.actual, y_pred_final.predicted )\n",
    "confusion2\n"
   ]
  },
  {
   "cell_type": "code",
   "execution_count": 220,
   "metadata": {},
   "outputs": [
    {
     "name": "stdout",
     "output_type": "stream",
     "text": [
      "0.9011496113989638\n",
      "Sensitivity: \t0.2\n",
      "Specificity: \t0.99\n"
     ]
    }
   ],
   "source": [
    "# Let's check the overall accuracy.\n",
    "print(metrics.accuracy_score(y_pred_final.actual, y_pred_final.predicted))\n",
    "# check sensitivity and specificity\n",
    "sensitivity, specificity, _ = sensitivity_specificity_support(y_pred_final.actual, y_pred_final.predicted, average='binary')\n",
    "print(\"Sensitivity: \\t\", round(sensitivity, 2), \"\\n\", \"Specificity: \\t\", round(specificity, 2), sep='')\n"
   ]
  },
  {
   "cell_type": "markdown",
   "metadata": {},
   "source": [
    "After testing on the test set too we receive poor TPR or sensitivity.\n",
    "We will perform pca for feature selection and perform the regression thereafter."
   ]
  },
  {
   "cell_type": "markdown",
   "metadata": {},
   "source": [
    "### Modelling\n",
    "\n",
    "- Logistic Regression + pca"
   ]
  },
  {
   "cell_type": "markdown",
   "metadata": {},
   "source": [
    "#### Logistic Regression"
   ]
  },
  {
   "cell_type": "code",
   "execution_count": 221,
   "metadata": {},
   "outputs": [],
   "source": [
    "# Importing LogisticRegression and metrics from sklearn library\n",
    "from sklearn.linear_model import LogisticRegression\n",
    "from sklearn import metrics"
   ]
  },
  {
   "cell_type": "code",
   "execution_count": 222,
   "metadata": {},
   "outputs": [
    {
     "data": {
      "text/plain": [
       "LogisticRegression(C=1.0, class_weight=None, dual=False, fit_intercept=True,\n",
       "          intercept_scaling=1, max_iter=100, multi_class='warn',\n",
       "          n_jobs=None, penalty='l2', random_state=None, solver='warn',\n",
       "          tol=0.0001, verbose=0, warm_start=False)"
      ]
     },
     "execution_count": 222,
     "metadata": {},
     "output_type": "execute_result"
    }
   ],
   "source": [
    "# Fitting the model\n",
    "logreg = LogisticRegression()\n",
    "logreg.fit(X_train, y_train)"
   ]
  },
  {
   "cell_type": "code",
   "execution_count": 223,
   "metadata": {
    "scrolled": true
   },
   "outputs": [
    {
     "data": {
      "text/html": [
       "<table class=\"simpletable\">\n",
       "<caption>Generalized Linear Model Regression Results</caption>\n",
       "<tr>\n",
       "  <th>Dep. Variable:</th>      <td>response</td>     <th>  No. Observations:  </th>  <td> 28821</td>  \n",
       "</tr>\n",
       "<tr>\n",
       "  <th>Model:</th>                 <td>GLM</td>       <th>  Df Residuals:      </th>  <td> 28772</td>  \n",
       "</tr>\n",
       "<tr>\n",
       "  <th>Model Family:</th>       <td>Binomial</td>     <th>  Df Model:          </th>  <td>    48</td>  \n",
       "</tr>\n",
       "<tr>\n",
       "  <th>Link Function:</th>        <td>logit</td>      <th>  Scale:             </th> <td>  1.0000</td> \n",
       "</tr>\n",
       "<tr>\n",
       "  <th>Method:</th>               <td>IRLS</td>       <th>  Log-Likelihood:    </th> <td> -8010.8</td> \n",
       "</tr>\n",
       "<tr>\n",
       "  <th>Date:</th>           <td>Mon, 22 Jul 2019</td> <th>  Deviance:          </th> <td>  16022.</td> \n",
       "</tr>\n",
       "<tr>\n",
       "  <th>Time:</th>               <td>21:02:09</td>     <th>  Pearson chi2:      </th> <td>2.93e+04</td> \n",
       "</tr>\n",
       "<tr>\n",
       "  <th>No. Iterations:</th>        <td>20</td>        <th>  Covariance Type:   </th> <td>nonrobust</td>\n",
       "</tr>\n",
       "</table>\n",
       "<table class=\"simpletable\">\n",
       "<tr>\n",
       "                 <td></td>                    <th>coef</th>     <th>std err</th>      <th>z</th>      <th>P>|z|</th>  <th>[0.025</th>    <th>0.975]</th>  \n",
       "</tr>\n",
       "<tr>\n",
       "  <th>const</th>                           <td>   -1.7993</td> <td>    0.284</td> <td>   -6.335</td> <td> 0.000</td> <td>   -2.356</td> <td>   -1.243</td>\n",
       "</tr>\n",
       "<tr>\n",
       "  <th>job_blue-collar</th>                 <td>   -0.1674</td> <td>    0.082</td> <td>   -2.039</td> <td> 0.041</td> <td>   -0.328</td> <td>   -0.006</td>\n",
       "</tr>\n",
       "<tr>\n",
       "  <th>job_entrepreneur</th>                <td>   -0.0960</td> <td>    0.128</td> <td>   -0.751</td> <td> 0.452</td> <td>   -0.346</td> <td>    0.154</td>\n",
       "</tr>\n",
       "<tr>\n",
       "  <th>job_housemaid</th>                   <td>   -0.0653</td> <td>    0.150</td> <td>   -0.435</td> <td> 0.663</td> <td>   -0.359</td> <td>    0.229</td>\n",
       "</tr>\n",
       "<tr>\n",
       "  <th>job_management</th>                  <td>   -0.1256</td> <td>    0.091</td> <td>   -1.383</td> <td> 0.167</td> <td>   -0.304</td> <td>    0.052</td>\n",
       "</tr>\n",
       "<tr>\n",
       "  <th>job_retired</th>                     <td>    0.2431</td> <td>    0.110</td> <td>    2.202</td> <td> 0.028</td> <td>    0.027</td> <td>    0.459</td>\n",
       "</tr>\n",
       "<tr>\n",
       "  <th>job_self-employed</th>               <td>   -0.0418</td> <td>    0.117</td> <td>   -0.357</td> <td> 0.721</td> <td>   -0.272</td> <td>    0.188</td>\n",
       "</tr>\n",
       "<tr>\n",
       "  <th>job_services</th>                    <td>   -0.1609</td> <td>    0.090</td> <td>   -1.792</td> <td> 0.073</td> <td>   -0.337</td> <td>    0.015</td>\n",
       "</tr>\n",
       "<tr>\n",
       "  <th>job_student</th>                     <td>    0.2105</td> <td>    0.119</td> <td>    1.774</td> <td> 0.076</td> <td>   -0.022</td> <td>    0.443</td>\n",
       "</tr>\n",
       "<tr>\n",
       "  <th>job_technician</th>                  <td>   -0.0135</td> <td>    0.074</td> <td>   -0.183</td> <td> 0.855</td> <td>   -0.159</td> <td>    0.132</td>\n",
       "</tr>\n",
       "<tr>\n",
       "  <th>job_unemployed</th>                  <td>    0.0418</td> <td>    0.131</td> <td>    0.319</td> <td> 0.750</td> <td>   -0.215</td> <td>    0.299</td>\n",
       "</tr>\n",
       "<tr>\n",
       "  <th>job_unknown</th>                     <td>   -0.1539</td> <td>    0.262</td> <td>   -0.586</td> <td> 0.558</td> <td>   -0.668</td> <td>    0.360</td>\n",
       "</tr>\n",
       "<tr>\n",
       "  <th>marital_married</th>                 <td>    0.0488</td> <td>    0.072</td> <td>    0.681</td> <td> 0.496</td> <td>   -0.092</td> <td>    0.189</td>\n",
       "</tr>\n",
       "<tr>\n",
       "  <th>marital_single</th>                  <td>    0.0898</td> <td>    0.082</td> <td>    1.099</td> <td> 0.272</td> <td>   -0.070</td> <td>    0.250</td>\n",
       "</tr>\n",
       "<tr>\n",
       "  <th>education_Secondary_Education</th>   <td>    0.0615</td> <td>    0.072</td> <td>    0.853</td> <td> 0.394</td> <td>   -0.080</td> <td>    0.203</td>\n",
       "</tr>\n",
       "<tr>\n",
       "  <th>education_Tertiary_Education</th>    <td>    0.1446</td> <td>    0.073</td> <td>    1.989</td> <td> 0.047</td> <td>    0.002</td> <td>    0.287</td>\n",
       "</tr>\n",
       "<tr>\n",
       "  <th>education_professional.course</th>   <td>    0.0643</td> <td>    0.085</td> <td>    0.754</td> <td> 0.451</td> <td>   -0.103</td> <td>    0.231</td>\n",
       "</tr>\n",
       "<tr>\n",
       "  <th>education_unknown</th>               <td>    0.1627</td> <td>    0.111</td> <td>    1.467</td> <td> 0.142</td> <td>   -0.055</td> <td>    0.380</td>\n",
       "</tr>\n",
       "<tr>\n",
       "  <th>default_unknown</th>                 <td>   -0.2995</td> <td>    0.069</td> <td>   -4.330</td> <td> 0.000</td> <td>   -0.435</td> <td>   -0.164</td>\n",
       "</tr>\n",
       "<tr>\n",
       "  <th>default_yes</th>                     <td>  -18.7007</td> <td> 1.68e+04</td> <td>   -0.001</td> <td> 0.999</td> <td> -3.3e+04</td> <td>  3.3e+04</td>\n",
       "</tr>\n",
       "<tr>\n",
       "  <th>housing_unknown</th>                 <td>   -0.0597</td> <td>    0.073</td> <td>   -0.822</td> <td> 0.411</td> <td>   -0.202</td> <td>    0.083</td>\n",
       "</tr>\n",
       "<tr>\n",
       "  <th>housing_yes</th>                     <td>   -0.0339</td> <td>    0.043</td> <td>   -0.790</td> <td> 0.430</td> <td>   -0.118</td> <td>    0.050</td>\n",
       "</tr>\n",
       "<tr>\n",
       "  <th>loan_unknown</th>                    <td>   -0.0597</td> <td>    0.073</td> <td>   -0.822</td> <td> 0.411</td> <td>   -0.202</td> <td>    0.083</td>\n",
       "</tr>\n",
       "<tr>\n",
       "  <th>loan_yes</th>                        <td>   -0.0454</td> <td>    0.060</td> <td>   -0.762</td> <td> 0.446</td> <td>   -0.162</td> <td>    0.071</td>\n",
       "</tr>\n",
       "<tr>\n",
       "  <th>contact_telephone</th>               <td>   -0.6852</td> <td>    0.079</td> <td>   -8.626</td> <td> 0.000</td> <td>   -0.841</td> <td>   -0.530</td>\n",
       "</tr>\n",
       "<tr>\n",
       "  <th>month_aug</th>                       <td>    0.4004</td> <td>    0.129</td> <td>    3.116</td> <td> 0.002</td> <td>    0.149</td> <td>    0.652</td>\n",
       "</tr>\n",
       "<tr>\n",
       "  <th>month_dec</th>                       <td>    0.3242</td> <td>    0.223</td> <td>    1.454</td> <td> 0.146</td> <td>   -0.113</td> <td>    0.761</td>\n",
       "</tr>\n",
       "<tr>\n",
       "  <th>month_jul</th>                       <td>    0.1257</td> <td>    0.099</td> <td>    1.269</td> <td> 0.204</td> <td>   -0.068</td> <td>    0.320</td>\n",
       "</tr>\n",
       "<tr>\n",
       "  <th>month_jun</th>                       <td>   -0.5899</td> <td>    0.132</td> <td>   -4.474</td> <td> 0.000</td> <td>   -0.848</td> <td>   -0.332</td>\n",
       "</tr>\n",
       "<tr>\n",
       "  <th>month_mar</th>                       <td>    1.4802</td> <td>    0.156</td> <td>    9.499</td> <td> 0.000</td> <td>    1.175</td> <td>    1.786</td>\n",
       "</tr>\n",
       "<tr>\n",
       "  <th>month_may</th>                       <td>   -0.3998</td> <td>    0.086</td> <td>   -4.632</td> <td> 0.000</td> <td>   -0.569</td> <td>   -0.231</td>\n",
       "</tr>\n",
       "<tr>\n",
       "  <th>month_nov</th>                       <td>   -0.4635</td> <td>    0.126</td> <td>   -3.678</td> <td> 0.000</td> <td>   -0.711</td> <td>   -0.217</td>\n",
       "</tr>\n",
       "<tr>\n",
       "  <th>month_oct</th>                       <td>    0.0124</td> <td>    0.162</td> <td>    0.077</td> <td> 0.939</td> <td>   -0.304</td> <td>    0.329</td>\n",
       "</tr>\n",
       "<tr>\n",
       "  <th>month_sep</th>                       <td>    0.1869</td> <td>    0.188</td> <td>    0.994</td> <td> 0.320</td> <td>   -0.182</td> <td>    0.556</td>\n",
       "</tr>\n",
       "<tr>\n",
       "  <th>day_of_week_mon</th>                 <td>   -0.1730</td> <td>    0.069</td> <td>   -2.505</td> <td> 0.012</td> <td>   -0.308</td> <td>   -0.038</td>\n",
       "</tr>\n",
       "<tr>\n",
       "  <th>day_of_week_thu</th>                 <td>    0.0956</td> <td>    0.067</td> <td>    1.436</td> <td> 0.151</td> <td>   -0.035</td> <td>    0.226</td>\n",
       "</tr>\n",
       "<tr>\n",
       "  <th>day_of_week_tue</th>                 <td>    0.0683</td> <td>    0.069</td> <td>    0.996</td> <td> 0.319</td> <td>   -0.066</td> <td>    0.203</td>\n",
       "</tr>\n",
       "<tr>\n",
       "  <th>day_of_week_wed</th>                 <td>    0.1509</td> <td>    0.068</td> <td>    2.212</td> <td> 0.027</td> <td>    0.017</td> <td>    0.285</td>\n",
       "</tr>\n",
       "<tr>\n",
       "  <th>pdays_Contacted_in_first_10days</th> <td>    0.0688</td> <td>    0.204</td> <td>    0.337</td> <td> 0.736</td> <td>   -0.331</td> <td>    0.468</td>\n",
       "</tr>\n",
       "<tr>\n",
       "  <th>pdays_First_time_contacted</th>      <td>   -0.7952</td> <td>    0.254</td> <td>   -3.133</td> <td> 0.002</td> <td>   -1.293</td> <td>   -0.298</td>\n",
       "</tr>\n",
       "<tr>\n",
       "  <th>previous_More than_3_times</th>      <td>   -0.2420</td> <td>    0.275</td> <td>   -0.879</td> <td> 0.379</td> <td>   -0.782</td> <td>    0.298</td>\n",
       "</tr>\n",
       "<tr>\n",
       "  <th>previous_Never contacted</th>        <td>    0.2505</td> <td>    0.034</td> <td>    7.383</td> <td> 0.000</td> <td>    0.184</td> <td>    0.317</td>\n",
       "</tr>\n",
       "<tr>\n",
       "  <th>poutcome_nonexistent</th>            <td>    0.2505</td> <td>    0.034</td> <td>    7.383</td> <td> 0.000</td> <td>    0.184</td> <td>    0.317</td>\n",
       "</tr>\n",
       "<tr>\n",
       "  <th>poutcome_success</th>                <td>    0.9640</td> <td>    0.233</td> <td>    4.134</td> <td> 0.000</td> <td>    0.507</td> <td>    1.421</td>\n",
       "</tr>\n",
       "<tr>\n",
       "  <th>age</th>                             <td>    0.0167</td> <td>    0.026</td> <td>    0.631</td> <td> 0.528</td> <td>   -0.035</td> <td>    0.068</td>\n",
       "</tr>\n",
       "<tr>\n",
       "  <th>campaign</th>                        <td>   -0.1037</td> <td>    0.027</td> <td>   -3.844</td> <td> 0.000</td> <td>   -0.157</td> <td>   -0.051</td>\n",
       "</tr>\n",
       "<tr>\n",
       "  <th>emp.var.rate</th>                    <td>   -2.0907</td> <td>    0.230</td> <td>   -9.089</td> <td> 0.000</td> <td>   -2.542</td> <td>   -1.640</td>\n",
       "</tr>\n",
       "<tr>\n",
       "  <th>cons.price.idx</th>                  <td>    1.0900</td> <td>    0.150</td> <td>    7.267</td> <td> 0.000</td> <td>    0.796</td> <td>    1.384</td>\n",
       "</tr>\n",
       "<tr>\n",
       "  <th>cons.conf.idx</th>                   <td>    0.1526</td> <td>    0.038</td> <td>    3.967</td> <td> 0.000</td> <td>    0.077</td> <td>    0.228</td>\n",
       "</tr>\n",
       "<tr>\n",
       "  <th>euribor3m</th>                       <td>    0.2143</td> <td>    0.237</td> <td>    0.904</td> <td> 0.366</td> <td>   -0.250</td> <td>    0.679</td>\n",
       "</tr>\n",
       "<tr>\n",
       "  <th>nr.employed</th>                     <td>    0.4707</td> <td>    0.233</td> <td>    2.016</td> <td> 0.044</td> <td>    0.013</td> <td>    0.928</td>\n",
       "</tr>\n",
       "</table>"
      ],
      "text/plain": [
       "<class 'statsmodels.iolib.summary.Summary'>\n",
       "\"\"\"\n",
       "                 Generalized Linear Model Regression Results                  \n",
       "==============================================================================\n",
       "Dep. Variable:               response   No. Observations:                28821\n",
       "Model:                            GLM   Df Residuals:                    28772\n",
       "Model Family:                Binomial   Df Model:                           48\n",
       "Link Function:                  logit   Scale:                          1.0000\n",
       "Method:                          IRLS   Log-Likelihood:                -8010.8\n",
       "Date:                Mon, 22 Jul 2019   Deviance:                       16022.\n",
       "Time:                        21:02:09   Pearson chi2:                 2.93e+04\n",
       "No. Iterations:                    20   Covariance Type:             nonrobust\n",
       "===================================================================================================\n",
       "                                      coef    std err          z      P>|z|      [0.025      0.975]\n",
       "---------------------------------------------------------------------------------------------------\n",
       "const                              -1.7993      0.284     -6.335      0.000      -2.356      -1.243\n",
       "job_blue-collar                    -0.1674      0.082     -2.039      0.041      -0.328      -0.006\n",
       "job_entrepreneur                   -0.0960      0.128     -0.751      0.452      -0.346       0.154\n",
       "job_housemaid                      -0.0653      0.150     -0.435      0.663      -0.359       0.229\n",
       "job_management                     -0.1256      0.091     -1.383      0.167      -0.304       0.052\n",
       "job_retired                         0.2431      0.110      2.202      0.028       0.027       0.459\n",
       "job_self-employed                  -0.0418      0.117     -0.357      0.721      -0.272       0.188\n",
       "job_services                       -0.1609      0.090     -1.792      0.073      -0.337       0.015\n",
       "job_student                         0.2105      0.119      1.774      0.076      -0.022       0.443\n",
       "job_technician                     -0.0135      0.074     -0.183      0.855      -0.159       0.132\n",
       "job_unemployed                      0.0418      0.131      0.319      0.750      -0.215       0.299\n",
       "job_unknown                        -0.1539      0.262     -0.586      0.558      -0.668       0.360\n",
       "marital_married                     0.0488      0.072      0.681      0.496      -0.092       0.189\n",
       "marital_single                      0.0898      0.082      1.099      0.272      -0.070       0.250\n",
       "education_Secondary_Education       0.0615      0.072      0.853      0.394      -0.080       0.203\n",
       "education_Tertiary_Education        0.1446      0.073      1.989      0.047       0.002       0.287\n",
       "education_professional.course       0.0643      0.085      0.754      0.451      -0.103       0.231\n",
       "education_unknown                   0.1627      0.111      1.467      0.142      -0.055       0.380\n",
       "default_unknown                    -0.2995      0.069     -4.330      0.000      -0.435      -0.164\n",
       "default_yes                       -18.7007   1.68e+04     -0.001      0.999    -3.3e+04     3.3e+04\n",
       "housing_unknown                    -0.0597      0.073     -0.822      0.411      -0.202       0.083\n",
       "housing_yes                        -0.0339      0.043     -0.790      0.430      -0.118       0.050\n",
       "loan_unknown                       -0.0597      0.073     -0.822      0.411      -0.202       0.083\n",
       "loan_yes                           -0.0454      0.060     -0.762      0.446      -0.162       0.071\n",
       "contact_telephone                  -0.6852      0.079     -8.626      0.000      -0.841      -0.530\n",
       "month_aug                           0.4004      0.129      3.116      0.002       0.149       0.652\n",
       "month_dec                           0.3242      0.223      1.454      0.146      -0.113       0.761\n",
       "month_jul                           0.1257      0.099      1.269      0.204      -0.068       0.320\n",
       "month_jun                          -0.5899      0.132     -4.474      0.000      -0.848      -0.332\n",
       "month_mar                           1.4802      0.156      9.499      0.000       1.175       1.786\n",
       "month_may                          -0.3998      0.086     -4.632      0.000      -0.569      -0.231\n",
       "month_nov                          -0.4635      0.126     -3.678      0.000      -0.711      -0.217\n",
       "month_oct                           0.0124      0.162      0.077      0.939      -0.304       0.329\n",
       "month_sep                           0.1869      0.188      0.994      0.320      -0.182       0.556\n",
       "day_of_week_mon                    -0.1730      0.069     -2.505      0.012      -0.308      -0.038\n",
       "day_of_week_thu                     0.0956      0.067      1.436      0.151      -0.035       0.226\n",
       "day_of_week_tue                     0.0683      0.069      0.996      0.319      -0.066       0.203\n",
       "day_of_week_wed                     0.1509      0.068      2.212      0.027       0.017       0.285\n",
       "pdays_Contacted_in_first_10days     0.0688      0.204      0.337      0.736      -0.331       0.468\n",
       "pdays_First_time_contacted         -0.7952      0.254     -3.133      0.002      -1.293      -0.298\n",
       "previous_More than_3_times         -0.2420      0.275     -0.879      0.379      -0.782       0.298\n",
       "previous_Never contacted            0.2505      0.034      7.383      0.000       0.184       0.317\n",
       "poutcome_nonexistent                0.2505      0.034      7.383      0.000       0.184       0.317\n",
       "poutcome_success                    0.9640      0.233      4.134      0.000       0.507       1.421\n",
       "age                                 0.0167      0.026      0.631      0.528      -0.035       0.068\n",
       "campaign                           -0.1037      0.027     -3.844      0.000      -0.157      -0.051\n",
       "emp.var.rate                       -2.0907      0.230     -9.089      0.000      -2.542      -1.640\n",
       "cons.price.idx                      1.0900      0.150      7.267      0.000       0.796       1.384\n",
       "cons.conf.idx                       0.1526      0.038      3.967      0.000       0.077       0.228\n",
       "euribor3m                           0.2143      0.237      0.904      0.366      -0.250       0.679\n",
       "nr.employed                         0.4707      0.233      2.016      0.044       0.013       0.928\n",
       "===================================================================================================\n",
       "\"\"\""
      ]
     },
     "execution_count": 223,
     "metadata": {},
     "output_type": "execute_result"
    }
   ],
   "source": [
    "# Logistic regression model\n",
    "logm1 = sm.GLM(y_train,(sm.add_constant(X_train)), family = sm.families.Binomial())\n",
    "logm1.fit().summary()"
   ]
  },
  {
   "cell_type": "code",
   "execution_count": 224,
   "metadata": {},
   "outputs": [],
   "source": [
    "from sklearn.pipeline import Pipeline\n",
    "from sklearn.decomposition import PCA\n",
    "from sklearn.metrics import confusion_matrix\n",
    "from imblearn.metrics import sensitivity_specificity_support\n",
    "from sklearn.metrics import roc_auc_score\n",
    "from sklearn.model_selection import StratifiedKFold\n",
    "from sklearn.model_selection import GridSearchCV\n",
    "from sklearn.metrics import classification_report, confusion_matrix"
   ]
  },
  {
   "cell_type": "markdown",
   "metadata": {},
   "source": [
    "#### Principal Component Analysis"
   ]
  },
  {
   "cell_type": "code",
   "execution_count": 225,
   "metadata": {},
   "outputs": [],
   "source": [
    "pca = PCA()\n",
    "pca.fit(X_train)\n",
    "churn_pca = pca.fit_transform(X_train)"
   ]
  },
  {
   "cell_type": "code",
   "execution_count": 226,
   "metadata": {},
   "outputs": [
    {
     "name": "stdout",
     "output_type": "stream",
     "text": [
      "0      32.71\n",
      "1      43.46\n",
      "2      52.35\n",
      "3      60.52\n",
      "4      66.34\n",
      "5      69.65\n",
      "6      72.23\n",
      "7      74.58\n",
      "8      76.79\n",
      "9      78.74\n",
      "10     80.63\n",
      "11     82.47\n",
      "12     84.28\n",
      "13     86.05\n",
      "14     87.70\n",
      "15     89.19\n",
      "16     90.45\n",
      "17     91.60\n",
      "18     92.65\n",
      "19     93.40\n",
      "20     94.10\n",
      "21     94.68\n",
      "22     95.20\n",
      "23     95.71\n",
      "24     96.17\n",
      "25     96.57\n",
      "26     96.97\n",
      "27     97.36\n",
      "28     97.70\n",
      "29     98.01\n",
      "30     98.31\n",
      "31     98.57\n",
      "32     98.82\n",
      "33     99.04\n",
      "34     99.21\n",
      "35     99.37\n",
      "36     99.51\n",
      "37     99.63\n",
      "38     99.74\n",
      "39     99.80\n",
      "40     99.86\n",
      "41     99.89\n",
      "42     99.93\n",
      "43     99.95\n",
      "44     99.97\n",
      "45     99.99\n",
      "46    100.00\n",
      "47    100.00\n",
      "48    100.00\n",
      "49    100.00\n",
      "dtype: float64\n"
     ]
    }
   ],
   "source": [
    "print(pd.Series(np.round(pca.explained_variance_ratio_.cumsum(), 4)*100))"
   ]
  },
  {
   "cell_type": "code",
   "execution_count": 227,
   "metadata": {},
   "outputs": [
    {
     "data": {
      "text/plain": [
       "[<matplotlib.lines.Line2D at 0x1c249ee978>]"
      ]
     },
     "execution_count": 227,
     "metadata": {},
     "output_type": "execute_result"
    },
    {
     "data": {
      "image/png": "[encoded data removed]",
      "text/plain": [
       "<Figure size 630x360 with 1 Axes>"
      ]
     },
     "metadata": {},
     "output_type": "display_data"
    }
   ],
   "source": [
    "# plot feature variance\n",
    "features = range(pca.n_components_)\n",
    "cumulative_variance = np.round(np.cumsum(pca.explained_variance_ratio_)*100, decimals=4)\n",
    "plt.figure(figsize=(175/20,100/20)) # 100 elements on y-axis; 175 elements on x-axis; 20 is normalising factor\n",
    "plt.plot(cumulative_variance)"
   ]
  },
  {
   "cell_type": "code",
   "execution_count": 228,
   "metadata": {},
   "outputs": [],
   "source": [
    "# create pipeline\n",
    "PCA_VARS = 16\n",
    "steps = [(\"pca\", PCA(n_components=PCA_VARS)),\n",
    "         (\"logistic\", LogisticRegression(class_weight='balanced'))\n",
    "        ]\n",
    "pipeline = Pipeline(steps)"
   ]
  },
  {
   "cell_type": "code",
   "execution_count": 229,
   "metadata": {},
   "outputs": [
    {
     "data": {
      "text/plain": [
       "0.8156205544568197"
      ]
     },
     "execution_count": 229,
     "metadata": {},
     "output_type": "execute_result"
    }
   ],
   "source": [
    "# fit model\n",
    "pipeline.fit(X_train, y_train)\n",
    "\n",
    "# check score on train data\n",
    "pipeline.score(X_train, y_train)"
   ]
  },
  {
   "cell_type": "code",
   "execution_count": 230,
   "metadata": {},
   "outputs": [],
   "source": [
    "# predict churn on test data\n",
    "y_pred = pipeline.predict(X_test)"
   ]
  },
  {
   "cell_type": "code",
   "execution_count": 231,
   "metadata": {},
   "outputs": [
    {
     "name": "stdout",
     "output_type": "stream",
     "text": [
      "[[9240 1723]\n",
      " [ 503  886]]\n",
      "Sensitivity: \t0.64\n",
      "Specificity: \t0.84\n",
      "AUC:    \t 0.79\n"
     ]
    }
   ],
   "source": [
    "# create onfusion matrix\n",
    "cm = confusion_matrix(y_test, y_pred)\n",
    "print(cm)\n",
    "\n",
    "# check sensitivity and specificity\n",
    "sensitivity, specificity, _ = sensitivity_specificity_support(y_test, y_pred, average='binary')\n",
    "print(\"Sensitivity: \\t\", round(sensitivity, 2), \"\\n\", \"Specificity: \\t\", round(specificity, 2), sep='')\n",
    "\n",
    "# check area under curve\n",
    "y_pred_prob = pipeline.predict_proba(X_test)[:, 1]\n",
    "print(\"AUC:    \\t\", round(roc_auc_score(y_test, y_pred_prob),2))"
   ]
  },
  {
   "cell_type": "code",
   "execution_count": 232,
   "metadata": {},
   "outputs": [
    {
     "data": {
      "text/plain": [
       "0    0.887235\n",
       "1    0.112765\n",
       "Name: response, dtype: float64"
      ]
     },
     "execution_count": 232,
     "metadata": {},
     "output_type": "execute_result"
    }
   ],
   "source": [
    "# class imbalance\n",
    "y_train.value_counts()/y_train.shape"
   ]
  },
  {
   "cell_type": "code",
   "execution_count": 233,
   "metadata": {},
   "outputs": [],
   "source": [
    "# PCA\n",
    "pca = PCA()\n",
    "\n",
    "# logistic regression - the class weight is used to handle class imbalance - it adjusts the cost function\n",
    "logistic = LogisticRegression(class_weight='balanced')\n",
    "\n",
    "# create pipeline\n",
    "steps = [(\"pca\", pca),\n",
    "         (\"logistic\", logistic)\n",
    "        ]\n",
    "\n",
    "# compile pipeline\n",
    "pca_logistic = Pipeline(steps)\n",
    "\n",
    "# hyperparameter space\n",
    "params = {'pca__n_components': [16,17,18,19,20], 'logistic__C': [0.1, 0.5, 1, 2, 3, 4, 5, 10], 'logistic__penalty': ['l1', 'l2']}\n",
    "\n",
    "# create 5 folds\n",
    "folds = StratifiedKFold(n_splits = 5, shuffle = True, random_state = 4)\n",
    "\n",
    "# create gridsearch object\n",
    "model = GridSearchCV(estimator=pca_logistic, cv=folds, param_grid=params, scoring='roc_auc')"
   ]
  },
  {
   "cell_type": "code",
   "execution_count": 234,
   "metadata": {},
   "outputs": [
    {
     "data": {
      "text/plain": [
       "GridSearchCV(cv=StratifiedKFold(n_splits=5, random_state=4, shuffle=True),\n",
       "       error_score='raise-deprecating',\n",
       "       estimator=Pipeline(memory=None,\n",
       "     steps=[('pca', PCA(copy=True, iterated_power='auto', n_components=None, random_state=None,\n",
       "  svd_solver='auto', tol=0.0, whiten=False)), ('logistic', LogisticRegression(C=1.0, class_weight='balanced', dual=False,\n",
       "          fit_intercept=True, intercept_scaling=1, max_iter=100,\n",
       "          multi_class='warn', n_jobs=None, penalty='l2', random_state=None,\n",
       "          solver='warn', tol=0.0001, verbose=0, warm_start=False))]),\n",
       "       fit_params=None, iid='warn', n_jobs=None,\n",
       "       param_grid={'pca__n_components': [16, 17, 18, 19, 20], 'logistic__C': [0.1, 0.5, 1, 2, 3, 4, 5, 10], 'logistic__penalty': ['l1', 'l2']},\n",
       "       pre_dispatch='2*n_jobs', refit=True, return_train_score='warn',\n",
       "       scoring='roc_auc', verbose=0)"
      ]
     },
     "execution_count": 234,
     "metadata": {},
     "output_type": "execute_result"
    }
   ],
   "source": [
    "# fit model\n",
    "model.fit(X_train, y_train)"
   ]
  },
  {
   "cell_type": "code",
   "execution_count": 235,
   "metadata": {},
   "outputs": [
    {
     "name": "stdout",
     "output_type": "stream",
     "text": [
      "Best AUC:  0.7814720081786906\n",
      "Best hyperparameters:  {'logistic__C': 4, 'logistic__penalty': 'l1', 'pca__n_components': 16}\n"
     ]
    }
   ],
   "source": [
    "# print best hyperparameters\n",
    "print(\"Best AUC: \", model.best_score_)\n",
    "print(\"Best hyperparameters: \", model.best_params_)"
   ]
  },
  {
   "cell_type": "code",
   "execution_count": 236,
   "metadata": {},
   "outputs": [
    {
     "name": "stdout",
     "output_type": "stream",
     "text": [
      "[[9240 1723]\n",
      " [ 503  886]]\n",
      "Sensitivity: \t0.64\n",
      "Specificity: \t0.84\n",
      "AUC:    \t 0.79\n"
     ]
    }
   ],
   "source": [
    "# predict churn on test data\n",
    "y_pred = model.predict(X_test)\n",
    "\n",
    "# create confusion matrix\n",
    "cm = confusion_matrix(y_test, y_pred)\n",
    "print(cm)\n",
    "\n",
    "# check sensitivity and specificity\n",
    "sensitivity, specificity, _ = sensitivity_specificity_support(y_test, y_pred, average='binary')\n",
    "print(\"Sensitivity: \\t\", round(sensitivity, 2), \"\\n\", \"Specificity: \\t\", round(specificity, 2), sep='')\n",
    "\n",
    "# check area under curve\n",
    "y_pred_prob = model.predict_proba(X_test)[:, 1]\n",
    "print(\"AUC:    \\t\", round(roc_auc_score(y_test, y_pred_prob),2))"
   ]
  },
  {
   "cell_type": "code",
   "execution_count": 237,
   "metadata": {
    "scrolled": true
   },
   "outputs": [
    {
     "name": "stdout",
     "output_type": "stream",
     "text": [
      "              precision    recall  f1-score   support\n",
      "\n",
      "           0       0.95      0.84      0.89     10963\n",
      "           1       0.34      0.64      0.44      1389\n",
      "\n",
      "   micro avg       0.82      0.82      0.82     12352\n",
      "   macro avg       0.64      0.74      0.67     12352\n",
      "weighted avg       0.88      0.82      0.84     12352\n",
      "\n"
     ]
    }
   ],
   "source": [
    "print(classification_report(y_test,y_pred))"
   ]
  },
  {
   "cell_type": "code",
   "execution_count": 238,
   "metadata": {},
   "outputs": [],
   "source": [
    "pred_prob = pd.DataFrame(pd.Series(y_pred_prob), columns = ['pred_prob'])"
   ]
  },
  {
   "cell_type": "code",
   "execution_count": 239,
   "metadata": {},
   "outputs": [
    {
     "data": {
      "text/html": [
       "<div>\n",
       "<style scoped>\n",
       "    .dataframe tbody tr th:only-of-type {\n",
       "        vertical-align: middle;\n",
       "    }\n",
       "\n",
       "    .dataframe tbody tr th {\n",
       "        vertical-align: top;\n",
       "    }\n",
       "\n",
       "    .dataframe thead th {\n",
       "        text-align: right;\n",
       "    }\n",
       "</style>\n",
       "<table border=\"1\" class=\"dataframe\">\n",
       "  <thead>\n",
       "    <tr style=\"text-align: right;\">\n",
       "      <th></th>\n",
       "      <th>pred_prob</th>\n",
       "    </tr>\n",
       "  </thead>\n",
       "  <tbody>\n",
       "    <tr>\n",
       "      <th>0</th>\n",
       "      <td>0.848758</td>\n",
       "    </tr>\n",
       "    <tr>\n",
       "      <th>1</th>\n",
       "      <td>0.373410</td>\n",
       "    </tr>\n",
       "    <tr>\n",
       "      <th>2</th>\n",
       "      <td>0.913997</td>\n",
       "    </tr>\n",
       "    <tr>\n",
       "      <th>3</th>\n",
       "      <td>0.230920</td>\n",
       "    </tr>\n",
       "    <tr>\n",
       "      <th>4</th>\n",
       "      <td>0.184259</td>\n",
       "    </tr>\n",
       "  </tbody>\n",
       "</table>\n",
       "</div>"
      ],
      "text/plain": [
       "   pred_prob\n",
       "0   0.848758\n",
       "1   0.373410\n",
       "2   0.913997\n",
       "3   0.230920\n",
       "4   0.184259"
      ]
     },
     "execution_count": 239,
     "metadata": {},
     "output_type": "execute_result"
    }
   ],
   "source": [
    "pred_prob.head()"
   ]
  },
  {
   "cell_type": "code",
   "execution_count": 240,
   "metadata": {},
   "outputs": [],
   "source": [
    "decile_df = pd.concat([pd.DataFrame(y_test).reset_index(), pred_prob], ignore_index=True,axis=1)"
   ]
  },
  {
   "cell_type": "code",
   "execution_count": 241,
   "metadata": {},
   "outputs": [
    {
     "data": {
      "text/html": [
       "<div>\n",
       "<style scoped>\n",
       "    .dataframe tbody tr th:only-of-type {\n",
       "        vertical-align: middle;\n",
       "    }\n",
       "\n",
       "    .dataframe tbody tr th {\n",
       "        vertical-align: top;\n",
       "    }\n",
       "\n",
       "    .dataframe thead th {\n",
       "        text-align: right;\n",
       "    }\n",
       "</style>\n",
       "<table border=\"1\" class=\"dataframe\">\n",
       "  <thead>\n",
       "    <tr style=\"text-align: right;\">\n",
       "      <th></th>\n",
       "      <th>0</th>\n",
       "      <th>1</th>\n",
       "      <th>2</th>\n",
       "    </tr>\n",
       "  </thead>\n",
       "  <tbody>\n",
       "    <tr>\n",
       "      <th>0</th>\n",
       "      <td>39816</td>\n",
       "      <td>1</td>\n",
       "      <td>0.848758</td>\n",
       "    </tr>\n",
       "    <tr>\n",
       "      <th>1</th>\n",
       "      <td>13837</td>\n",
       "      <td>0</td>\n",
       "      <td>0.373410</td>\n",
       "    </tr>\n",
       "    <tr>\n",
       "      <th>2</th>\n",
       "      <td>40354</td>\n",
       "      <td>0</td>\n",
       "      <td>0.913997</td>\n",
       "    </tr>\n",
       "    <tr>\n",
       "      <th>3</th>\n",
       "      <td>5232</td>\n",
       "      <td>0</td>\n",
       "      <td>0.230920</td>\n",
       "    </tr>\n",
       "    <tr>\n",
       "      <th>4</th>\n",
       "      <td>4352</td>\n",
       "      <td>0</td>\n",
       "      <td>0.184259</td>\n",
       "    </tr>\n",
       "  </tbody>\n",
       "</table>\n",
       "</div>"
      ],
      "text/plain": [
       "       0  1         2\n",
       "0  39816  1  0.848758\n",
       "1  13837  0  0.373410\n",
       "2  40354  0  0.913997\n",
       "3   5232  0  0.230920\n",
       "4   4352  0  0.184259"
      ]
     },
     "execution_count": 241,
     "metadata": {},
     "output_type": "execute_result"
    }
   ],
   "source": [
    "decile_df.head()"
   ]
  },
  {
   "cell_type": "code",
   "execution_count": 242,
   "metadata": {},
   "outputs": [],
   "source": [
    "decile_df.drop(0, inplace=True, axis = 1)"
   ]
  },
  {
   "cell_type": "code",
   "execution_count": 243,
   "metadata": {},
   "outputs": [],
   "source": [
    "decile_df.rename({1:'actual', 2:'pred_prob'}, axis=1, inplace=True)"
   ]
  },
  {
   "cell_type": "code",
   "execution_count": 244,
   "metadata": {},
   "outputs": [],
   "source": [
    "decile_df['predicted'] = decile_df.pred_prob.map( lambda x: 1 if x > 0.5 else 0)"
   ]
  },
  {
   "cell_type": "code",
   "execution_count": 245,
   "metadata": {},
   "outputs": [
    {
     "data": {
      "text/html": [
       "<div>\n",
       "<style scoped>\n",
       "    .dataframe tbody tr th:only-of-type {\n",
       "        vertical-align: middle;\n",
       "    }\n",
       "\n",
       "    .dataframe tbody tr th {\n",
       "        vertical-align: top;\n",
       "    }\n",
       "\n",
       "    .dataframe thead th {\n",
       "        text-align: right;\n",
       "    }\n",
       "</style>\n",
       "<table border=\"1\" class=\"dataframe\">\n",
       "  <thead>\n",
       "    <tr style=\"text-align: right;\">\n",
       "      <th></th>\n",
       "      <th>actual</th>\n",
       "      <th>pred_prob</th>\n",
       "      <th>predicted</th>\n",
       "    </tr>\n",
       "  </thead>\n",
       "  <tbody>\n",
       "    <tr>\n",
       "      <th>0</th>\n",
       "      <td>1</td>\n",
       "      <td>0.848758</td>\n",
       "      <td>1</td>\n",
       "    </tr>\n",
       "    <tr>\n",
       "      <th>1</th>\n",
       "      <td>0</td>\n",
       "      <td>0.373410</td>\n",
       "      <td>0</td>\n",
       "    </tr>\n",
       "    <tr>\n",
       "      <th>2</th>\n",
       "      <td>0</td>\n",
       "      <td>0.913997</td>\n",
       "      <td>1</td>\n",
       "    </tr>\n",
       "    <tr>\n",
       "      <th>3</th>\n",
       "      <td>0</td>\n",
       "      <td>0.230920</td>\n",
       "      <td>0</td>\n",
       "    </tr>\n",
       "    <tr>\n",
       "      <th>4</th>\n",
       "      <td>0</td>\n",
       "      <td>0.184259</td>\n",
       "      <td>0</td>\n",
       "    </tr>\n",
       "  </tbody>\n",
       "</table>\n",
       "</div>"
      ],
      "text/plain": [
       "   actual  pred_prob  predicted\n",
       "0       1   0.848758          1\n",
       "1       0   0.373410          0\n",
       "2       0   0.913997          1\n",
       "3       0   0.230920          0\n",
       "4       0   0.184259          0"
      ]
     },
     "execution_count": 245,
     "metadata": {},
     "output_type": "execute_result"
    }
   ],
   "source": [
    "decile_df.head()"
   ]
  },
  {
   "cell_type": "code",
   "execution_count": 246,
   "metadata": {},
   "outputs": [
    {
     "data": {
      "text/html": [
       "<div>\n",
       "<style scoped>\n",
       "    .dataframe tbody tr th:only-of-type {\n",
       "        vertical-align: middle;\n",
       "    }\n",
       "\n",
       "    .dataframe tbody tr th {\n",
       "        vertical-align: top;\n",
       "    }\n",
       "\n",
       "    .dataframe thead th {\n",
       "        text-align: right;\n",
       "    }\n",
       "</style>\n",
       "<table border=\"1\" class=\"dataframe\">\n",
       "  <thead>\n",
       "    <tr style=\"text-align: right;\">\n",
       "      <th></th>\n",
       "      <th>actual</th>\n",
       "      <th>pred_prob</th>\n",
       "      <th>predicted</th>\n",
       "      <th>0.0</th>\n",
       "      <th>0.1</th>\n",
       "      <th>0.2</th>\n",
       "      <th>0.3</th>\n",
       "      <th>0.4</th>\n",
       "      <th>0.5</th>\n",
       "      <th>0.6</th>\n",
       "      <th>0.7</th>\n",
       "      <th>0.8</th>\n",
       "      <th>0.9</th>\n",
       "    </tr>\n",
       "  </thead>\n",
       "  <tbody>\n",
       "    <tr>\n",
       "      <th>0</th>\n",
       "      <td>1</td>\n",
       "      <td>0.848758</td>\n",
       "      <td>1</td>\n",
       "      <td>1</td>\n",
       "      <td>1</td>\n",
       "      <td>1</td>\n",
       "      <td>1</td>\n",
       "      <td>1</td>\n",
       "      <td>1</td>\n",
       "      <td>1</td>\n",
       "      <td>1</td>\n",
       "      <td>1</td>\n",
       "      <td>0</td>\n",
       "    </tr>\n",
       "    <tr>\n",
       "      <th>1</th>\n",
       "      <td>0</td>\n",
       "      <td>0.373410</td>\n",
       "      <td>0</td>\n",
       "      <td>1</td>\n",
       "      <td>1</td>\n",
       "      <td>1</td>\n",
       "      <td>1</td>\n",
       "      <td>0</td>\n",
       "      <td>0</td>\n",
       "      <td>0</td>\n",
       "      <td>0</td>\n",
       "      <td>0</td>\n",
       "      <td>0</td>\n",
       "    </tr>\n",
       "    <tr>\n",
       "      <th>2</th>\n",
       "      <td>0</td>\n",
       "      <td>0.913997</td>\n",
       "      <td>1</td>\n",
       "      <td>1</td>\n",
       "      <td>1</td>\n",
       "      <td>1</td>\n",
       "      <td>1</td>\n",
       "      <td>1</td>\n",
       "      <td>1</td>\n",
       "      <td>1</td>\n",
       "      <td>1</td>\n",
       "      <td>1</td>\n",
       "      <td>1</td>\n",
       "    </tr>\n",
       "    <tr>\n",
       "      <th>3</th>\n",
       "      <td>0</td>\n",
       "      <td>0.230920</td>\n",
       "      <td>0</td>\n",
       "      <td>1</td>\n",
       "      <td>1</td>\n",
       "      <td>1</td>\n",
       "      <td>0</td>\n",
       "      <td>0</td>\n",
       "      <td>0</td>\n",
       "      <td>0</td>\n",
       "      <td>0</td>\n",
       "      <td>0</td>\n",
       "      <td>0</td>\n",
       "    </tr>\n",
       "    <tr>\n",
       "      <th>4</th>\n",
       "      <td>0</td>\n",
       "      <td>0.184259</td>\n",
       "      <td>0</td>\n",
       "      <td>1</td>\n",
       "      <td>1</td>\n",
       "      <td>0</td>\n",
       "      <td>0</td>\n",
       "      <td>0</td>\n",
       "      <td>0</td>\n",
       "      <td>0</td>\n",
       "      <td>0</td>\n",
       "      <td>0</td>\n",
       "      <td>0</td>\n",
       "    </tr>\n",
       "  </tbody>\n",
       "</table>\n",
       "</div>"
      ],
      "text/plain": [
       "   actual  pred_prob  predicted  0.0  0.1  0.2  0.3  0.4  0.5  0.6  0.7  0.8  \\\n",
       "0       1   0.848758          1    1    1    1    1    1    1    1    1    1   \n",
       "1       0   0.373410          0    1    1    1    1    0    0    0    0    0   \n",
       "2       0   0.913997          1    1    1    1    1    1    1    1    1    1   \n",
       "3       0   0.230920          0    1    1    1    0    0    0    0    0    0   \n",
       "4       0   0.184259          0    1    1    0    0    0    0    0    0    0   \n",
       "\n",
       "   0.9  \n",
       "0    0  \n",
       "1    0  \n",
       "2    1  \n",
       "3    0  \n",
       "4    0  "
      ]
     },
     "execution_count": 246,
     "metadata": {},
     "output_type": "execute_result"
    }
   ],
   "source": [
    "###  Finding Optimal Cutoff Point\n",
    "\n",
    "#Optimal cutoff probability is that prob where we get balanced sensitivity and specificity\n",
    "\n",
    "# Let's create columns with different probability cutoffs \n",
    "numbers = [float(x)/10 for x in range(10)]\n",
    "for i in numbers:\n",
    "   decile_df[i]= decile_df.pred_prob.map(lambda x: 1 if x > i else 0)\n",
    "decile_df.head()"
   ]
  },
  {
   "cell_type": "code",
   "execution_count": 247,
   "metadata": {},
   "outputs": [
    {
     "name": "stdout",
     "output_type": "stream",
     "text": [
      "     prob  accuracy     sensi     speci\n",
      "0.0   0.0  0.112451  1.000000  0.000000\n",
      "0.1   0.1  0.112532  1.000000  0.000091\n",
      "0.2   0.2  0.222879  0.970482  0.128158\n",
      "0.3   0.3  0.443005  0.882649  0.387303\n",
      "0.4   0.4  0.706363  0.735061  0.702727\n",
      "0.5   0.5  0.819786  0.637869  0.842835\n",
      "0.6   0.6  0.848769  0.596832  0.880690\n",
      "0.7   0.7  0.877186  0.501080  0.924838\n",
      "0.8   0.8  0.885848  0.385889  0.949193\n",
      "0.9   0.9  0.897911  0.164147  0.990878\n"
     ]
    }
   ],
   "source": [
    "# Now let's calculate accuracy sensitivity and specificity for various probability cutoffs.\n",
    "cutoff_df = pd.DataFrame( columns = ['prob','accuracy','sensi','speci'])\n",
    "from sklearn.metrics import confusion_matrix\n",
    "\n",
    "# TP = confusion[1,1] # true positive \n",
    "# TN = confusion[0,0] # true negatives\n",
    "# FP = confusion[0,1] # false positives\n",
    "# FN = confusion[1,0] # false negatives\n",
    "\n",
    "num = [0.0,0.1,0.2,0.3,0.4,0.5,0.6,0.7,0.8,0.9]\n",
    "for i in num:\n",
    "    cm1 = metrics.confusion_matrix(decile_df.actual, decile_df[i] )\n",
    "    total1=sum(sum(cm1))\n",
    "    accuracy = (cm1[0,0]+cm1[1,1])/total1\n",
    "    \n",
    "    speci = cm1[0,0]/(cm1[0,0]+cm1[0,1])\n",
    "    sensi = cm1[1,1]/(cm1[1,0]+cm1[1,1])\n",
    "    cutoff_df.loc[i] =[ i ,accuracy,sensi,speci]\n",
    "print(cutoff_df)"
   ]
  },
  {
   "cell_type": "code",
   "execution_count": 248,
   "metadata": {},
   "outputs": [
    {
     "data": {
      "image/png": "[encoded data removed]",
      "text/plain": [
       "<Figure size 432x288 with 1 Axes>"
      ]
     },
     "metadata": {},
     "output_type": "display_data"
    }
   ],
   "source": [
    "# Let's plot accuracy sensitivity and specificity for various probabilities.\n",
    "cutoff_df.plot.line(x='prob', y=['accuracy','sensi','speci'])\n",
    "plt.show()"
   ]
  },
  {
   "cell_type": "markdown",
   "metadata": {},
   "source": [
    "#### From the curve above, 0.4 is the optimum point to take it as a cutoff probability."
   ]
  },
  {
   "cell_type": "code",
   "execution_count": 249,
   "metadata": {},
   "outputs": [],
   "source": [
    "decile_df_final = pd.concat([pd.DataFrame(y_test).reset_index(), pred_prob], ignore_index=True,axis=1)"
   ]
  },
  {
   "cell_type": "code",
   "execution_count": 250,
   "metadata": {},
   "outputs": [
    {
     "data": {
      "text/html": [
       "<div>\n",
       "<style scoped>\n",
       "    .dataframe tbody tr th:only-of-type {\n",
       "        vertical-align: middle;\n",
       "    }\n",
       "\n",
       "    .dataframe tbody tr th {\n",
       "        vertical-align: top;\n",
       "    }\n",
       "\n",
       "    .dataframe thead th {\n",
       "        text-align: right;\n",
       "    }\n",
       "</style>\n",
       "<table border=\"1\" class=\"dataframe\">\n",
       "  <thead>\n",
       "    <tr style=\"text-align: right;\">\n",
       "      <th></th>\n",
       "      <th>0</th>\n",
       "      <th>1</th>\n",
       "      <th>2</th>\n",
       "    </tr>\n",
       "  </thead>\n",
       "  <tbody>\n",
       "    <tr>\n",
       "      <th>0</th>\n",
       "      <td>39816</td>\n",
       "      <td>1</td>\n",
       "      <td>0.848758</td>\n",
       "    </tr>\n",
       "    <tr>\n",
       "      <th>1</th>\n",
       "      <td>13837</td>\n",
       "      <td>0</td>\n",
       "      <td>0.373410</td>\n",
       "    </tr>\n",
       "    <tr>\n",
       "      <th>2</th>\n",
       "      <td>40354</td>\n",
       "      <td>0</td>\n",
       "      <td>0.913997</td>\n",
       "    </tr>\n",
       "    <tr>\n",
       "      <th>3</th>\n",
       "      <td>5232</td>\n",
       "      <td>0</td>\n",
       "      <td>0.230920</td>\n",
       "    </tr>\n",
       "    <tr>\n",
       "      <th>4</th>\n",
       "      <td>4352</td>\n",
       "      <td>0</td>\n",
       "      <td>0.184259</td>\n",
       "    </tr>\n",
       "  </tbody>\n",
       "</table>\n",
       "</div>"
      ],
      "text/plain": [
       "       0  1         2\n",
       "0  39816  1  0.848758\n",
       "1  13837  0  0.373410\n",
       "2  40354  0  0.913997\n",
       "3   5232  0  0.230920\n",
       "4   4352  0  0.184259"
      ]
     },
     "execution_count": 250,
     "metadata": {},
     "output_type": "execute_result"
    }
   ],
   "source": [
    "decile_df_final.head()"
   ]
  },
  {
   "cell_type": "code",
   "execution_count": 251,
   "metadata": {},
   "outputs": [],
   "source": [
    "decile_df_final.drop(0, inplace=True, axis = 1)"
   ]
  },
  {
   "cell_type": "code",
   "execution_count": 252,
   "metadata": {},
   "outputs": [
    {
     "data": {
      "text/html": [
       "<div>\n",
       "<style scoped>\n",
       "    .dataframe tbody tr th:only-of-type {\n",
       "        vertical-align: middle;\n",
       "    }\n",
       "\n",
       "    .dataframe tbody tr th {\n",
       "        vertical-align: top;\n",
       "    }\n",
       "\n",
       "    .dataframe thead th {\n",
       "        text-align: right;\n",
       "    }\n",
       "</style>\n",
       "<table border=\"1\" class=\"dataframe\">\n",
       "  <thead>\n",
       "    <tr style=\"text-align: right;\">\n",
       "      <th></th>\n",
       "      <th>actual</th>\n",
       "      <th>pred_prob</th>\n",
       "      <th>predicted</th>\n",
       "    </tr>\n",
       "  </thead>\n",
       "  <tbody>\n",
       "    <tr>\n",
       "      <th>0</th>\n",
       "      <td>1</td>\n",
       "      <td>0.848758</td>\n",
       "      <td>1</td>\n",
       "    </tr>\n",
       "    <tr>\n",
       "      <th>1</th>\n",
       "      <td>0</td>\n",
       "      <td>0.373410</td>\n",
       "      <td>0</td>\n",
       "    </tr>\n",
       "    <tr>\n",
       "      <th>2</th>\n",
       "      <td>0</td>\n",
       "      <td>0.913997</td>\n",
       "      <td>1</td>\n",
       "    </tr>\n",
       "    <tr>\n",
       "      <th>3</th>\n",
       "      <td>0</td>\n",
       "      <td>0.230920</td>\n",
       "      <td>0</td>\n",
       "    </tr>\n",
       "    <tr>\n",
       "      <th>4</th>\n",
       "      <td>0</td>\n",
       "      <td>0.184259</td>\n",
       "      <td>0</td>\n",
       "    </tr>\n",
       "  </tbody>\n",
       "</table>\n",
       "</div>"
      ],
      "text/plain": [
       "   actual  pred_prob  predicted\n",
       "0       1   0.848758          1\n",
       "1       0   0.373410          0\n",
       "2       0   0.913997          1\n",
       "3       0   0.230920          0\n",
       "4       0   0.184259          0"
      ]
     },
     "execution_count": 252,
     "metadata": {},
     "output_type": "execute_result"
    }
   ],
   "source": [
    "decile_df_final.rename({1:'actual', 2:'pred_prob'}, axis=1, inplace=True)\n",
    "\n",
    "decile_df_final['predicted'] = decile_df_final.pred_prob.map( lambda x: 1 if x > 0.4 else 0)\n",
    "\n",
    "decile_df_final.head()"
   ]
  },
  {
   "cell_type": "code",
   "execution_count": 253,
   "metadata": {},
   "outputs": [
    {
     "name": "stdout",
     "output_type": "stream",
     "text": [
      "[[7704 3259]\n",
      " [ 368 1021]]\n"
     ]
    }
   ],
   "source": [
    "# create confusion matrix\n",
    "cm = confusion_matrix(decile_df_final['actual'],decile_df_final['predicted'])\n",
    "print(cm)"
   ]
  },
  {
   "cell_type": "code",
   "execution_count": 254,
   "metadata": {},
   "outputs": [
    {
     "name": "stdout",
     "output_type": "stream",
     "text": [
      "Sensitivity: \t0.74\n",
      "Specificity: \t0.7\n"
     ]
    }
   ],
   "source": [
    "# check sensitivity and specificity\n",
    "sensitivity, specificity, _ = sensitivity_specificity_support(decile_df_final['actual'],decile_df_final['predicted'], \n",
    "                                                              average='binary')\n",
    "print(\"Sensitivity: \\t\", round(sensitivity, 2), \"\\n\", \"Specificity: \\t\", round(specificity, 2), sep='')\n"
   ]
  },
  {
   "cell_type": "code",
   "execution_count": 255,
   "metadata": {},
   "outputs": [
    {
     "data": {
      "text/plain": [
       "(12352, 3)"
      ]
     },
     "execution_count": 255,
     "metadata": {},
     "output_type": "execute_result"
    }
   ],
   "source": [
    "decile_df_final.shape"
   ]
  },
  {
   "cell_type": "markdown",
   "metadata": {},
   "source": [
    "#### 3.Create a data frame with the variables prospect ID, actual response, predicted response, predicted probability of response, duration of the call in seconds and cost of the call\n",
    "\n",
    "While creating the data frame, list the cost of call for each prospect in a new column"
   ]
  },
  {
   "cell_type": "markdown",
   "metadata": {},
   "source": [
    "As per the assignment, set the business objective to achieving 80% of total responders at the minimum possible cost. The total number of responders is the total number of prospects who responded, from the available data of about 45,000 prospects.\n",
    "\n",
    "Therefore we now consider the entire dataset and proceed further with the next steps\n"
   ]
  },
  {
   "cell_type": "code",
   "execution_count": 256,
   "metadata": {},
   "outputs": [
    {
     "data": {
      "text/html": [
       "<div>\n",
       "<style scoped>\n",
       "    .dataframe tbody tr th:only-of-type {\n",
       "        vertical-align: middle;\n",
       "    }\n",
       "\n",
       "    .dataframe tbody tr th {\n",
       "        vertical-align: top;\n",
       "    }\n",
       "\n",
       "    .dataframe thead th {\n",
       "        text-align: right;\n",
       "    }\n",
       "</style>\n",
       "<table border=\"1\" class=\"dataframe\">\n",
       "  <thead>\n",
       "    <tr style=\"text-align: right;\">\n",
       "      <th></th>\n",
       "      <th>age</th>\n",
       "      <th>campaign</th>\n",
       "      <th>emp.var.rate</th>\n",
       "      <th>cons.price.idx</th>\n",
       "      <th>cons.conf.idx</th>\n",
       "      <th>euribor3m</th>\n",
       "      <th>nr.employed</th>\n",
       "      <th>job_blue-collar</th>\n",
       "      <th>job_entrepreneur</th>\n",
       "      <th>job_housemaid</th>\n",
       "      <th>...</th>\n",
       "      <th>day_of_week_mon</th>\n",
       "      <th>day_of_week_thu</th>\n",
       "      <th>day_of_week_tue</th>\n",
       "      <th>day_of_week_wed</th>\n",
       "      <th>pdays_Contacted_in_first_10days</th>\n",
       "      <th>pdays_First_time_contacted</th>\n",
       "      <th>previous_More than_3_times</th>\n",
       "      <th>previous_Never contacted</th>\n",
       "      <th>poutcome_nonexistent</th>\n",
       "      <th>poutcome_success</th>\n",
       "    </tr>\n",
       "  </thead>\n",
       "  <tbody>\n",
       "    <tr>\n",
       "      <th>0</th>\n",
       "      <td>56</td>\n",
       "      <td>1</td>\n",
       "      <td>1.1</td>\n",
       "      <td>93.994</td>\n",
       "      <td>-36.4</td>\n",
       "      <td>4.857</td>\n",
       "      <td>5191.0</td>\n",
       "      <td>0</td>\n",
       "      <td>0</td>\n",
       "      <td>1</td>\n",
       "      <td>...</td>\n",
       "      <td>1</td>\n",
       "      <td>0</td>\n",
       "      <td>0</td>\n",
       "      <td>0</td>\n",
       "      <td>0</td>\n",
       "      <td>1</td>\n",
       "      <td>0</td>\n",
       "      <td>1</td>\n",
       "      <td>1</td>\n",
       "      <td>0</td>\n",
       "    </tr>\n",
       "    <tr>\n",
       "      <th>1</th>\n",
       "      <td>57</td>\n",
       "      <td>1</td>\n",
       "      <td>1.1</td>\n",
       "      <td>93.994</td>\n",
       "      <td>-36.4</td>\n",
       "      <td>4.857</td>\n",
       "      <td>5191.0</td>\n",
       "      <td>0</td>\n",
       "      <td>0</td>\n",
       "      <td>0</td>\n",
       "      <td>...</td>\n",
       "      <td>1</td>\n",
       "      <td>0</td>\n",
       "      <td>0</td>\n",
       "      <td>0</td>\n",
       "      <td>0</td>\n",
       "      <td>1</td>\n",
       "      <td>0</td>\n",
       "      <td>1</td>\n",
       "      <td>1</td>\n",
       "      <td>0</td>\n",
       "    </tr>\n",
       "    <tr>\n",
       "      <th>2</th>\n",
       "      <td>37</td>\n",
       "      <td>1</td>\n",
       "      <td>1.1</td>\n",
       "      <td>93.994</td>\n",
       "      <td>-36.4</td>\n",
       "      <td>4.857</td>\n",
       "      <td>5191.0</td>\n",
       "      <td>0</td>\n",
       "      <td>0</td>\n",
       "      <td>0</td>\n",
       "      <td>...</td>\n",
       "      <td>1</td>\n",
       "      <td>0</td>\n",
       "      <td>0</td>\n",
       "      <td>0</td>\n",
       "      <td>0</td>\n",
       "      <td>1</td>\n",
       "      <td>0</td>\n",
       "      <td>1</td>\n",
       "      <td>1</td>\n",
       "      <td>0</td>\n",
       "    </tr>\n",
       "    <tr>\n",
       "      <th>3</th>\n",
       "      <td>40</td>\n",
       "      <td>1</td>\n",
       "      <td>1.1</td>\n",
       "      <td>93.994</td>\n",
       "      <td>-36.4</td>\n",
       "      <td>4.857</td>\n",
       "      <td>5191.0</td>\n",
       "      <td>0</td>\n",
       "      <td>0</td>\n",
       "      <td>0</td>\n",
       "      <td>...</td>\n",
       "      <td>1</td>\n",
       "      <td>0</td>\n",
       "      <td>0</td>\n",
       "      <td>0</td>\n",
       "      <td>0</td>\n",
       "      <td>1</td>\n",
       "      <td>0</td>\n",
       "      <td>1</td>\n",
       "      <td>1</td>\n",
       "      <td>0</td>\n",
       "    </tr>\n",
       "    <tr>\n",
       "      <th>4</th>\n",
       "      <td>56</td>\n",
       "      <td>1</td>\n",
       "      <td>1.1</td>\n",
       "      <td>93.994</td>\n",
       "      <td>-36.4</td>\n",
       "      <td>4.857</td>\n",
       "      <td>5191.0</td>\n",
       "      <td>0</td>\n",
       "      <td>0</td>\n",
       "      <td>0</td>\n",
       "      <td>...</td>\n",
       "      <td>1</td>\n",
       "      <td>0</td>\n",
       "      <td>0</td>\n",
       "      <td>0</td>\n",
       "      <td>0</td>\n",
       "      <td>1</td>\n",
       "      <td>0</td>\n",
       "      <td>1</td>\n",
       "      <td>1</td>\n",
       "      <td>0</td>\n",
       "    </tr>\n",
       "  </tbody>\n",
       "</table>\n",
       "<p>5 rows × 50 columns</p>\n",
       "</div>"
      ],
      "text/plain": [
       "   age  campaign  emp.var.rate  cons.price.idx  cons.conf.idx  euribor3m  \\\n",
       "0   56         1           1.1          93.994          -36.4      4.857   \n",
       "1   57         1           1.1          93.994          -36.4      4.857   \n",
       "2   37         1           1.1          93.994          -36.4      4.857   \n",
       "3   40         1           1.1          93.994          -36.4      4.857   \n",
       "4   56         1           1.1          93.994          -36.4      4.857   \n",
       "\n",
       "   nr.employed  job_blue-collar  job_entrepreneur  job_housemaid  \\\n",
       "0       5191.0                0                 0              1   \n",
       "1       5191.0                0                 0              0   \n",
       "2       5191.0                0                 0              0   \n",
       "3       5191.0                0                 0              0   \n",
       "4       5191.0                0                 0              0   \n",
       "\n",
       "         ...         day_of_week_mon  day_of_week_thu  day_of_week_tue  \\\n",
       "0        ...                       1                0                0   \n",
       "1        ...                       1                0                0   \n",
       "2        ...                       1                0                0   \n",
       "3        ...                       1                0                0   \n",
       "4        ...                       1                0                0   \n",
       "\n",
       "   day_of_week_wed  pdays_Contacted_in_first_10days  \\\n",
       "0                0                                0   \n",
       "1                0                                0   \n",
       "2                0                                0   \n",
       "3                0                                0   \n",
       "4                0                                0   \n",
       "\n",
       "   pdays_First_time_contacted  previous_More than_3_times  \\\n",
       "0                           1                           0   \n",
       "1                           1                           0   \n",
       "2                           1                           0   \n",
       "3                           1                           0   \n",
       "4                           1                           0   \n",
       "\n",
       "   previous_Never contacted  poutcome_nonexistent  poutcome_success  \n",
       "0                         1                     1                 0  \n",
       "1                         1                     1                 0  \n",
       "2                         1                     1                 0  \n",
       "3                         1                     1                 0  \n",
       "4                         1                     1                 0  \n",
       "\n",
       "[5 rows x 50 columns]"
      ]
     },
     "execution_count": 256,
     "metadata": {},
     "output_type": "execute_result"
    }
   ],
   "source": [
    "X.head()"
   ]
  },
  {
   "cell_type": "code",
   "execution_count": 257,
   "metadata": {},
   "outputs": [
    {
     "data": {
      "text/plain": [
       "0    0\n",
       "1    0\n",
       "2    0\n",
       "3    0\n",
       "4    0\n",
       "Name: response, dtype: int64"
      ]
     },
     "execution_count": 257,
     "metadata": {},
     "output_type": "execute_result"
    }
   ],
   "source": [
    "y.head()"
   ]
  },
  {
   "cell_type": "code",
   "execution_count": 258,
   "metadata": {},
   "outputs": [
    {
     "name": "stdout",
     "output_type": "stream",
     "text": [
      "(41173, 50)\n",
      "(41173,)\n"
     ]
    }
   ],
   "source": [
    "print(X.shape)\n",
    "print(y.shape)"
   ]
  },
  {
   "cell_type": "markdown",
   "metadata": {},
   "source": [
    "#### Standardization"
   ]
  },
  {
   "cell_type": "code",
   "execution_count": 259,
   "metadata": {},
   "outputs": [],
   "source": [
    "# Standardisation continuous features for X\n",
    "\n",
    "X_df= X[['age','campaign','emp.var.rate','cons.price.idx','cons.conf.idx',\n",
    "           'euribor3m','nr.employed']]"
   ]
  },
  {
   "cell_type": "code",
   "execution_count": 260,
   "metadata": {},
   "outputs": [],
   "source": [
    "std_X_df=(X_df-X_df.mean())/X_df.std()"
   ]
  },
  {
   "cell_type": "code",
   "execution_count": 261,
   "metadata": {},
   "outputs": [],
   "source": [
    "X = X.drop(['age','campaign','emp.var.rate','cons.price.idx','cons.conf.idx',\n",
    "                        'euribor3m','nr.employed'], 1)"
   ]
  },
  {
   "cell_type": "code",
   "execution_count": 262,
   "metadata": {},
   "outputs": [],
   "source": [
    "X = pd.concat([X,std_X_df],axis=1)"
   ]
  },
  {
   "cell_type": "code",
   "execution_count": 263,
   "metadata": {},
   "outputs": [
    {
     "data": {
      "text/html": [
       "<div>\n",
       "<style scoped>\n",
       "    .dataframe tbody tr th:only-of-type {\n",
       "        vertical-align: middle;\n",
       "    }\n",
       "\n",
       "    .dataframe tbody tr th {\n",
       "        vertical-align: top;\n",
       "    }\n",
       "\n",
       "    .dataframe thead th {\n",
       "        text-align: right;\n",
       "    }\n",
       "</style>\n",
       "<table border=\"1\" class=\"dataframe\">\n",
       "  <thead>\n",
       "    <tr style=\"text-align: right;\">\n",
       "      <th></th>\n",
       "      <th>job_blue-collar</th>\n",
       "      <th>job_entrepreneur</th>\n",
       "      <th>job_housemaid</th>\n",
       "      <th>job_management</th>\n",
       "      <th>job_retired</th>\n",
       "      <th>job_self-employed</th>\n",
       "      <th>job_services</th>\n",
       "      <th>job_student</th>\n",
       "      <th>job_technician</th>\n",
       "      <th>job_unemployed</th>\n",
       "      <th>...</th>\n",
       "      <th>previous_Never contacted</th>\n",
       "      <th>poutcome_nonexistent</th>\n",
       "      <th>poutcome_success</th>\n",
       "      <th>age</th>\n",
       "      <th>campaign</th>\n",
       "      <th>emp.var.rate</th>\n",
       "      <th>cons.price.idx</th>\n",
       "      <th>cons.conf.idx</th>\n",
       "      <th>euribor3m</th>\n",
       "      <th>nr.employed</th>\n",
       "    </tr>\n",
       "  </thead>\n",
       "  <tbody>\n",
       "    <tr>\n",
       "      <th>0</th>\n",
       "      <td>0</td>\n",
       "      <td>0</td>\n",
       "      <td>1</td>\n",
       "      <td>0</td>\n",
       "      <td>0</td>\n",
       "      <td>0</td>\n",
       "      <td>0</td>\n",
       "      <td>0</td>\n",
       "      <td>0</td>\n",
       "      <td>0</td>\n",
       "      <td>...</td>\n",
       "      <td>1</td>\n",
       "      <td>1</td>\n",
       "      <td>0</td>\n",
       "      <td>1.576690</td>\n",
       "      <td>-0.65192</td>\n",
       "      <td>0.648016</td>\n",
       "      <td>0.722543</td>\n",
       "      <td>0.886484</td>\n",
       "      <td>0.712377</td>\n",
       "      <td>0.331621</td>\n",
       "    </tr>\n",
       "    <tr>\n",
       "      <th>1</th>\n",
       "      <td>0</td>\n",
       "      <td>0</td>\n",
       "      <td>0</td>\n",
       "      <td>0</td>\n",
       "      <td>0</td>\n",
       "      <td>0</td>\n",
       "      <td>1</td>\n",
       "      <td>0</td>\n",
       "      <td>0</td>\n",
       "      <td>0</td>\n",
       "      <td>...</td>\n",
       "      <td>1</td>\n",
       "      <td>1</td>\n",
       "      <td>0</td>\n",
       "      <td>1.674955</td>\n",
       "      <td>-0.65192</td>\n",
       "      <td>0.648016</td>\n",
       "      <td>0.722543</td>\n",
       "      <td>0.886484</td>\n",
       "      <td>0.712377</td>\n",
       "      <td>0.331621</td>\n",
       "    </tr>\n",
       "    <tr>\n",
       "      <th>2</th>\n",
       "      <td>0</td>\n",
       "      <td>0</td>\n",
       "      <td>0</td>\n",
       "      <td>0</td>\n",
       "      <td>0</td>\n",
       "      <td>0</td>\n",
       "      <td>1</td>\n",
       "      <td>0</td>\n",
       "      <td>0</td>\n",
       "      <td>0</td>\n",
       "      <td>...</td>\n",
       "      <td>1</td>\n",
       "      <td>1</td>\n",
       "      <td>0</td>\n",
       "      <td>-0.290355</td>\n",
       "      <td>-0.65192</td>\n",
       "      <td>0.648016</td>\n",
       "      <td>0.722543</td>\n",
       "      <td>0.886484</td>\n",
       "      <td>0.712377</td>\n",
       "      <td>0.331621</td>\n",
       "    </tr>\n",
       "    <tr>\n",
       "      <th>3</th>\n",
       "      <td>0</td>\n",
       "      <td>0</td>\n",
       "      <td>0</td>\n",
       "      <td>0</td>\n",
       "      <td>0</td>\n",
       "      <td>0</td>\n",
       "      <td>0</td>\n",
       "      <td>0</td>\n",
       "      <td>0</td>\n",
       "      <td>0</td>\n",
       "      <td>...</td>\n",
       "      <td>1</td>\n",
       "      <td>1</td>\n",
       "      <td>0</td>\n",
       "      <td>0.004442</td>\n",
       "      <td>-0.65192</td>\n",
       "      <td>0.648016</td>\n",
       "      <td>0.722543</td>\n",
       "      <td>0.886484</td>\n",
       "      <td>0.712377</td>\n",
       "      <td>0.331621</td>\n",
       "    </tr>\n",
       "    <tr>\n",
       "      <th>4</th>\n",
       "      <td>0</td>\n",
       "      <td>0</td>\n",
       "      <td>0</td>\n",
       "      <td>0</td>\n",
       "      <td>0</td>\n",
       "      <td>0</td>\n",
       "      <td>1</td>\n",
       "      <td>0</td>\n",
       "      <td>0</td>\n",
       "      <td>0</td>\n",
       "      <td>...</td>\n",
       "      <td>1</td>\n",
       "      <td>1</td>\n",
       "      <td>0</td>\n",
       "      <td>1.576690</td>\n",
       "      <td>-0.65192</td>\n",
       "      <td>0.648016</td>\n",
       "      <td>0.722543</td>\n",
       "      <td>0.886484</td>\n",
       "      <td>0.712377</td>\n",
       "      <td>0.331621</td>\n",
       "    </tr>\n",
       "  </tbody>\n",
       "</table>\n",
       "<p>5 rows × 50 columns</p>\n",
       "</div>"
      ],
      "text/plain": [
       "   job_blue-collar  job_entrepreneur  job_housemaid  job_management  \\\n",
       "0                0                 0              1               0   \n",
       "1                0                 0              0               0   \n",
       "2                0                 0              0               0   \n",
       "3                0                 0              0               0   \n",
       "4                0                 0              0               0   \n",
       "\n",
       "   job_retired  job_self-employed  job_services  job_student  job_technician  \\\n",
       "0            0                  0             0            0               0   \n",
       "1            0                  0             1            0               0   \n",
       "2            0                  0             1            0               0   \n",
       "3            0                  0             0            0               0   \n",
       "4            0                  0             1            0               0   \n",
       "\n",
       "   job_unemployed     ...       previous_Never contacted  \\\n",
       "0               0     ...                              1   \n",
       "1               0     ...                              1   \n",
       "2               0     ...                              1   \n",
       "3               0     ...                              1   \n",
       "4               0     ...                              1   \n",
       "\n",
       "   poutcome_nonexistent  poutcome_success       age  campaign  emp.var.rate  \\\n",
       "0                     1                 0  1.576690  -0.65192      0.648016   \n",
       "1                     1                 0  1.674955  -0.65192      0.648016   \n",
       "2                     1                 0 -0.290355  -0.65192      0.648016   \n",
       "3                     1                 0  0.004442  -0.65192      0.648016   \n",
       "4                     1                 0  1.576690  -0.65192      0.648016   \n",
       "\n",
       "   cons.price.idx  cons.conf.idx  euribor3m  nr.employed  \n",
       "0        0.722543       0.886484   0.712377     0.331621  \n",
       "1        0.722543       0.886484   0.712377     0.331621  \n",
       "2        0.722543       0.886484   0.712377     0.331621  \n",
       "3        0.722543       0.886484   0.712377     0.331621  \n",
       "4        0.722543       0.886484   0.712377     0.331621  \n",
       "\n",
       "[5 rows x 50 columns]"
      ]
     },
     "execution_count": 263,
     "metadata": {},
     "output_type": "execute_result"
    }
   ],
   "source": [
    "X.head()"
   ]
  },
  {
   "cell_type": "code",
   "execution_count": 264,
   "metadata": {},
   "outputs": [],
   "source": [
    "# predict churn on test data\n",
    "y_pred = model.predict(X)"
   ]
  },
  {
   "cell_type": "code",
   "execution_count": 265,
   "metadata": {},
   "outputs": [
    {
     "name": "stdout",
     "output_type": "stream",
     "text": [
      "[[30732  5802]\n",
      " [ 1734  2905]]\n"
     ]
    }
   ],
   "source": [
    "# create confusion matrix\n",
    "cm = confusion_matrix(y, y_pred)\n",
    "print(cm)"
   ]
  },
  {
   "cell_type": "code",
   "execution_count": 266,
   "metadata": {},
   "outputs": [
    {
     "name": "stdout",
     "output_type": "stream",
     "text": [
      "Sensitivity: \t0.63\n",
      "Specificity: \t0.84\n"
     ]
    }
   ],
   "source": [
    "# check sensitivity and specificity\n",
    "sensitivity, specificity, _ = sensitivity_specificity_support(y, y_pred, average='binary')\n",
    "print(\"Sensitivity: \\t\", round(sensitivity, 2), \"\\n\", \"Specificity: \\t\", round(specificity, 2), sep='')"
   ]
  },
  {
   "cell_type": "code",
   "execution_count": 267,
   "metadata": {},
   "outputs": [
    {
     "name": "stdout",
     "output_type": "stream",
     "text": [
      "AUC:    \t 0.79\n"
     ]
    }
   ],
   "source": [
    "# check area under curve\n",
    "y_pred_prob = model.predict_proba(X)[:, 1]\n",
    "print(\"AUC:    \\t\", round(roc_auc_score(y, y_pred_prob),2))"
   ]
  },
  {
   "cell_type": "code",
   "execution_count": 268,
   "metadata": {},
   "outputs": [
    {
     "name": "stdout",
     "output_type": "stream",
     "text": [
      "              precision    recall  f1-score   support\n",
      "\n",
      "           0       0.95      0.84      0.89     36534\n",
      "           1       0.33      0.63      0.44      4639\n",
      "\n",
      "   micro avg       0.82      0.82      0.82     41173\n",
      "   macro avg       0.64      0.73      0.66     41173\n",
      "weighted avg       0.88      0.82      0.84     41173\n",
      "\n"
     ]
    }
   ],
   "source": [
    "print(classification_report(y,y_pred))"
   ]
  },
  {
   "cell_type": "code",
   "execution_count": 269,
   "metadata": {},
   "outputs": [
    {
     "data": {
      "text/html": [
       "<div>\n",
       "<style scoped>\n",
       "    .dataframe tbody tr th:only-of-type {\n",
       "        vertical-align: middle;\n",
       "    }\n",
       "\n",
       "    .dataframe tbody tr th {\n",
       "        vertical-align: top;\n",
       "    }\n",
       "\n",
       "    .dataframe thead th {\n",
       "        text-align: right;\n",
       "    }\n",
       "</style>\n",
       "<table border=\"1\" class=\"dataframe\">\n",
       "  <thead>\n",
       "    <tr style=\"text-align: right;\">\n",
       "      <th></th>\n",
       "      <th>pred_prob</th>\n",
       "    </tr>\n",
       "  </thead>\n",
       "  <tbody>\n",
       "    <tr>\n",
       "      <th>0</th>\n",
       "      <td>0.193433</td>\n",
       "    </tr>\n",
       "    <tr>\n",
       "      <th>1</th>\n",
       "      <td>0.166432</td>\n",
       "    </tr>\n",
       "    <tr>\n",
       "      <th>2</th>\n",
       "      <td>0.179122</td>\n",
       "    </tr>\n",
       "    <tr>\n",
       "      <th>3</th>\n",
       "      <td>0.188982</td>\n",
       "    </tr>\n",
       "    <tr>\n",
       "      <th>4</th>\n",
       "      <td>0.187349</td>\n",
       "    </tr>\n",
       "  </tbody>\n",
       "</table>\n",
       "</div>"
      ],
      "text/plain": [
       "   pred_prob\n",
       "0   0.193433\n",
       "1   0.166432\n",
       "2   0.179122\n",
       "3   0.188982\n",
       "4   0.187349"
      ]
     },
     "execution_count": 269,
     "metadata": {},
     "output_type": "execute_result"
    }
   ],
   "source": [
    "pred_prob = pd.DataFrame(pd.Series(y_pred_prob), columns = ['pred_prob'])\n",
    "pred_prob.head()"
   ]
  },
  {
   "cell_type": "code",
   "execution_count": 270,
   "metadata": {},
   "outputs": [
    {
     "data": {
      "text/html": [
       "<div>\n",
       "<style scoped>\n",
       "    .dataframe tbody tr th:only-of-type {\n",
       "        vertical-align: middle;\n",
       "    }\n",
       "\n",
       "    .dataframe tbody tr th {\n",
       "        vertical-align: top;\n",
       "    }\n",
       "\n",
       "    .dataframe thead th {\n",
       "        text-align: right;\n",
       "    }\n",
       "</style>\n",
       "<table border=\"1\" class=\"dataframe\">\n",
       "  <thead>\n",
       "    <tr style=\"text-align: right;\">\n",
       "      <th></th>\n",
       "      <th>0</th>\n",
       "      <th>1</th>\n",
       "      <th>2</th>\n",
       "    </tr>\n",
       "  </thead>\n",
       "  <tbody>\n",
       "    <tr>\n",
       "      <th>0</th>\n",
       "      <td>0</td>\n",
       "      <td>0</td>\n",
       "      <td>0.193433</td>\n",
       "    </tr>\n",
       "    <tr>\n",
       "      <th>1</th>\n",
       "      <td>1</td>\n",
       "      <td>0</td>\n",
       "      <td>0.166432</td>\n",
       "    </tr>\n",
       "    <tr>\n",
       "      <th>2</th>\n",
       "      <td>2</td>\n",
       "      <td>0</td>\n",
       "      <td>0.179122</td>\n",
       "    </tr>\n",
       "    <tr>\n",
       "      <th>3</th>\n",
       "      <td>3</td>\n",
       "      <td>0</td>\n",
       "      <td>0.188982</td>\n",
       "    </tr>\n",
       "    <tr>\n",
       "      <th>4</th>\n",
       "      <td>4</td>\n",
       "      <td>0</td>\n",
       "      <td>0.187349</td>\n",
       "    </tr>\n",
       "  </tbody>\n",
       "</table>\n",
       "</div>"
      ],
      "text/plain": [
       "   0  1         2\n",
       "0  0  0  0.193433\n",
       "1  1  0  0.166432\n",
       "2  2  0  0.179122\n",
       "3  3  0  0.188982\n",
       "4  4  0  0.187349"
      ]
     },
     "execution_count": 270,
     "metadata": {},
     "output_type": "execute_result"
    }
   ],
   "source": [
    "decile_df = pd.concat([pd.DataFrame(y).reset_index(), pred_prob], ignore_index=True,axis=1)\n",
    "\n",
    "decile_df.head()"
   ]
  },
  {
   "cell_type": "code",
   "execution_count": 271,
   "metadata": {},
   "outputs": [
    {
     "data": {
      "text/html": [
       "<div>\n",
       "<style scoped>\n",
       "    .dataframe tbody tr th:only-of-type {\n",
       "        vertical-align: middle;\n",
       "    }\n",
       "\n",
       "    .dataframe tbody tr th {\n",
       "        vertical-align: top;\n",
       "    }\n",
       "\n",
       "    .dataframe thead th {\n",
       "        text-align: right;\n",
       "    }\n",
       "</style>\n",
       "<table border=\"1\" class=\"dataframe\">\n",
       "  <thead>\n",
       "    <tr style=\"text-align: right;\">\n",
       "      <th></th>\n",
       "      <th>actual</th>\n",
       "      <th>pred_prob</th>\n",
       "      <th>predicted</th>\n",
       "    </tr>\n",
       "  </thead>\n",
       "  <tbody>\n",
       "    <tr>\n",
       "      <th>0</th>\n",
       "      <td>0</td>\n",
       "      <td>0.193433</td>\n",
       "      <td>0</td>\n",
       "    </tr>\n",
       "    <tr>\n",
       "      <th>1</th>\n",
       "      <td>0</td>\n",
       "      <td>0.166432</td>\n",
       "      <td>0</td>\n",
       "    </tr>\n",
       "    <tr>\n",
       "      <th>2</th>\n",
       "      <td>0</td>\n",
       "      <td>0.179122</td>\n",
       "      <td>0</td>\n",
       "    </tr>\n",
       "    <tr>\n",
       "      <th>3</th>\n",
       "      <td>0</td>\n",
       "      <td>0.188982</td>\n",
       "      <td>0</td>\n",
       "    </tr>\n",
       "    <tr>\n",
       "      <th>4</th>\n",
       "      <td>0</td>\n",
       "      <td>0.187349</td>\n",
       "      <td>0</td>\n",
       "    </tr>\n",
       "  </tbody>\n",
       "</table>\n",
       "</div>"
      ],
      "text/plain": [
       "   actual  pred_prob  predicted\n",
       "0       0   0.193433          0\n",
       "1       0   0.166432          0\n",
       "2       0   0.179122          0\n",
       "3       0   0.188982          0\n",
       "4       0   0.187349          0"
      ]
     },
     "execution_count": 271,
     "metadata": {},
     "output_type": "execute_result"
    }
   ],
   "source": [
    "decile_df.drop(0, inplace=True, axis = 1)\n",
    "\n",
    "decile_df.rename({1:'actual', 2:'pred_prob'}, axis=1, inplace=True)\n",
    "\n",
    "decile_df['predicted'] = decile_df.pred_prob.map( lambda x: 1 if x > 0.4 else 0)\n",
    "\n",
    "decile_df.head()"
   ]
  },
  {
   "cell_type": "code",
   "execution_count": 272,
   "metadata": {},
   "outputs": [
    {
     "name": "stdout",
     "output_type": "stream",
     "text": [
      "[[25725 10809]\n",
      " [ 1268  3371]]\n"
     ]
    }
   ],
   "source": [
    "# create confusion matrix\n",
    "cm = confusion_matrix(decile_df['actual'],decile_df['predicted'])\n",
    "print(cm)"
   ]
  },
  {
   "cell_type": "code",
   "execution_count": 273,
   "metadata": {},
   "outputs": [
    {
     "name": "stdout",
     "output_type": "stream",
     "text": [
      "Sensitivity: \t0.73\n",
      "Specificity: \t0.7\n"
     ]
    }
   ],
   "source": [
    "# check sensitivity and specificity\n",
    "sensitivity, specificity, _ = sensitivity_specificity_support(decile_df['actual'],decile_df['predicted'], \n",
    "                                                              average='binary')\n",
    "print(\"Sensitivity: \\t\", round(sensitivity, 2), \"\\n\", \"Specificity: \\t\", round(specificity, 2), sep='')\n"
   ]
  },
  {
   "cell_type": "code",
   "execution_count": 274,
   "metadata": {},
   "outputs": [
    {
     "data": {
      "text/plain": [
       "(41173, 3)"
      ]
     },
     "execution_count": 274,
     "metadata": {},
     "output_type": "execute_result"
    }
   ],
   "source": [
    "decile_df.shape"
   ]
  },
  {
   "cell_type": "code",
   "execution_count": 275,
   "metadata": {},
   "outputs": [],
   "source": [
    "duration.reset_index(drop=True, inplace=True)\n",
    "prospect_id.reset_index(drop=True, inplace=True)"
   ]
  },
  {
   "cell_type": "code",
   "execution_count": 276,
   "metadata": {},
   "outputs": [],
   "source": [
    "decile_df_final = pd.concat([decile_df,prospect_id],axis=1)"
   ]
  },
  {
   "cell_type": "code",
   "execution_count": 277,
   "metadata": {},
   "outputs": [],
   "source": [
    "decile_df_final = pd.concat([decile_df_final,duration],axis=1)"
   ]
  },
  {
   "cell_type": "code",
   "execution_count": 278,
   "metadata": {},
   "outputs": [
    {
     "data": {
      "text/html": [
       "<div>\n",
       "<style scoped>\n",
       "    .dataframe tbody tr th:only-of-type {\n",
       "        vertical-align: middle;\n",
       "    }\n",
       "\n",
       "    .dataframe tbody tr th {\n",
       "        vertical-align: top;\n",
       "    }\n",
       "\n",
       "    .dataframe thead th {\n",
       "        text-align: right;\n",
       "    }\n",
       "</style>\n",
       "<table border=\"1\" class=\"dataframe\">\n",
       "  <thead>\n",
       "    <tr style=\"text-align: right;\">\n",
       "      <th></th>\n",
       "      <th>actual</th>\n",
       "      <th>pred_prob</th>\n",
       "      <th>predicted</th>\n",
       "      <th>prospect_id</th>\n",
       "      <th>duration</th>\n",
       "    </tr>\n",
       "  </thead>\n",
       "  <tbody>\n",
       "    <tr>\n",
       "      <th>0</th>\n",
       "      <td>0</td>\n",
       "      <td>0.193433</td>\n",
       "      <td>0</td>\n",
       "      <td>1</td>\n",
       "      <td>261</td>\n",
       "    </tr>\n",
       "    <tr>\n",
       "      <th>1</th>\n",
       "      <td>0</td>\n",
       "      <td>0.166432</td>\n",
       "      <td>0</td>\n",
       "      <td>2</td>\n",
       "      <td>149</td>\n",
       "    </tr>\n",
       "    <tr>\n",
       "      <th>2</th>\n",
       "      <td>0</td>\n",
       "      <td>0.179122</td>\n",
       "      <td>0</td>\n",
       "      <td>3</td>\n",
       "      <td>226</td>\n",
       "    </tr>\n",
       "    <tr>\n",
       "      <th>3</th>\n",
       "      <td>0</td>\n",
       "      <td>0.188982</td>\n",
       "      <td>0</td>\n",
       "      <td>4</td>\n",
       "      <td>151</td>\n",
       "    </tr>\n",
       "    <tr>\n",
       "      <th>4</th>\n",
       "      <td>0</td>\n",
       "      <td>0.187349</td>\n",
       "      <td>0</td>\n",
       "      <td>5</td>\n",
       "      <td>307</td>\n",
       "    </tr>\n",
       "  </tbody>\n",
       "</table>\n",
       "</div>"
      ],
      "text/plain": [
       "   actual  pred_prob  predicted  prospect_id  duration\n",
       "0       0   0.193433          0            1       261\n",
       "1       0   0.166432          0            2       149\n",
       "2       0   0.179122          0            3       226\n",
       "3       0   0.188982          0            4       151\n",
       "4       0   0.187349          0            5       307"
      ]
     },
     "execution_count": 278,
     "metadata": {},
     "output_type": "execute_result"
    }
   ],
   "source": [
    "decile_df_final.head()"
   ]
  },
  {
   "cell_type": "code",
   "execution_count": 279,
   "metadata": {},
   "outputs": [],
   "source": [
    "#assuming cost of call = $1 per 60 secs\n",
    "decile_df_final['call_cost']=round(decile_df_final['duration']/60,2)"
   ]
  },
  {
   "cell_type": "code",
   "execution_count": 280,
   "metadata": {},
   "outputs": [
    {
     "data": {
      "text/html": [
       "<div>\n",
       "<style scoped>\n",
       "    .dataframe tbody tr th:only-of-type {\n",
       "        vertical-align: middle;\n",
       "    }\n",
       "\n",
       "    .dataframe tbody tr th {\n",
       "        vertical-align: top;\n",
       "    }\n",
       "\n",
       "    .dataframe thead th {\n",
       "        text-align: right;\n",
       "    }\n",
       "</style>\n",
       "<table border=\"1\" class=\"dataframe\">\n",
       "  <thead>\n",
       "    <tr style=\"text-align: right;\">\n",
       "      <th></th>\n",
       "      <th>actual</th>\n",
       "      <th>pred_prob</th>\n",
       "      <th>predicted</th>\n",
       "      <th>prospect_id</th>\n",
       "      <th>duration</th>\n",
       "      <th>call_cost</th>\n",
       "    </tr>\n",
       "  </thead>\n",
       "  <tbody>\n",
       "    <tr>\n",
       "      <th>0</th>\n",
       "      <td>0</td>\n",
       "      <td>0.193433</td>\n",
       "      <td>0</td>\n",
       "      <td>1</td>\n",
       "      <td>261</td>\n",
       "      <td>4.35</td>\n",
       "    </tr>\n",
       "    <tr>\n",
       "      <th>1</th>\n",
       "      <td>0</td>\n",
       "      <td>0.166432</td>\n",
       "      <td>0</td>\n",
       "      <td>2</td>\n",
       "      <td>149</td>\n",
       "      <td>2.48</td>\n",
       "    </tr>\n",
       "    <tr>\n",
       "      <th>2</th>\n",
       "      <td>0</td>\n",
       "      <td>0.179122</td>\n",
       "      <td>0</td>\n",
       "      <td>3</td>\n",
       "      <td>226</td>\n",
       "      <td>3.77</td>\n",
       "    </tr>\n",
       "    <tr>\n",
       "      <th>3</th>\n",
       "      <td>0</td>\n",
       "      <td>0.188982</td>\n",
       "      <td>0</td>\n",
       "      <td>4</td>\n",
       "      <td>151</td>\n",
       "      <td>2.52</td>\n",
       "    </tr>\n",
       "    <tr>\n",
       "      <th>4</th>\n",
       "      <td>0</td>\n",
       "      <td>0.187349</td>\n",
       "      <td>0</td>\n",
       "      <td>5</td>\n",
       "      <td>307</td>\n",
       "      <td>5.12</td>\n",
       "    </tr>\n",
       "  </tbody>\n",
       "</table>\n",
       "</div>"
      ],
      "text/plain": [
       "   actual  pred_prob  predicted  prospect_id  duration  call_cost\n",
       "0       0   0.193433          0            1       261       4.35\n",
       "1       0   0.166432          0            2       149       2.48\n",
       "2       0   0.179122          0            3       226       3.77\n",
       "3       0   0.188982          0            4       151       2.52\n",
       "4       0   0.187349          0            5       307       5.12"
      ]
     },
     "execution_count": 280,
     "metadata": {},
     "output_type": "execute_result"
    }
   ],
   "source": [
    "decile_df_final.head()"
   ]
  },
  {
   "cell_type": "markdown",
   "metadata": {},
   "source": [
    "#### 4.Find the number of top X% prospects you should target to meet the business objective\n",
    "\n",
    "Report the average call duration for targeting the top X% prospects to the CMO\n",
    "business objective to achieving 80% of total responders at the minimum possible cost"
   ]
  },
  {
   "cell_type": "code",
   "execution_count": 281,
   "metadata": {},
   "outputs": [],
   "source": [
    "decile_df_final['decile'] = pd.qcut(decile_df_final['pred_prob'], 10, labels=np.arange(10, 0, -1))"
   ]
  },
  {
   "cell_type": "code",
   "execution_count": 282,
   "metadata": {},
   "outputs": [],
   "source": [
    "lift_df = decile_df_final.groupby('decile')['pred_prob'].count().reset_index()"
   ]
  },
  {
   "cell_type": "code",
   "execution_count": 283,
   "metadata": {},
   "outputs": [],
   "source": [
    "lift_df.rename({'pred_prob':'total'}, axis=1, inplace=True)"
   ]
  },
  {
   "cell_type": "code",
   "execution_count": 284,
   "metadata": {},
   "outputs": [],
   "source": [
    "lift_df_pred = decile_df_final[decile_df_final['actual']==1].groupby('decile')['actual'].count().reset_index()"
   ]
  },
  {
   "cell_type": "code",
   "execution_count": 285,
   "metadata": {},
   "outputs": [],
   "source": [
    "lift_df_duration = decile_df_final[decile_df_final['actual']==1].groupby('decile')['duration'].mean().reset_index()"
   ]
  },
  {
   "cell_type": "code",
   "execution_count": 286,
   "metadata": {},
   "outputs": [],
   "source": [
    "lift_df_cost = decile_df_final[decile_df_final['actual']==1].groupby('decile')['call_cost'].sum().reset_index()"
   ]
  },
  {
   "cell_type": "code",
   "execution_count": 287,
   "metadata": {},
   "outputs": [],
   "source": [
    "lift_df_final = lift_df.merge(lift_df_pred,on = 'decile')"
   ]
  },
  {
   "cell_type": "code",
   "execution_count": 288,
   "metadata": {},
   "outputs": [],
   "source": [
    "lift_df_final = lift_df_final.merge(lift_df_duration,on = 'decile')"
   ]
  },
  {
   "cell_type": "code",
   "execution_count": 289,
   "metadata": {},
   "outputs": [],
   "source": [
    "lift_df_final = lift_df_final.merge(lift_df_cost,on = 'decile')"
   ]
  },
  {
   "cell_type": "code",
   "execution_count": 290,
   "metadata": {},
   "outputs": [],
   "source": [
    "lift_df_final = lift_df_final.sort_values(['decile'], ascending=False)"
   ]
  },
  {
   "cell_type": "code",
   "execution_count": 291,
   "metadata": {},
   "outputs": [
    {
     "data": {
      "text/html": [
       "<div>\n",
       "<style scoped>\n",
       "    .dataframe tbody tr th:only-of-type {\n",
       "        vertical-align: middle;\n",
       "    }\n",
       "\n",
       "    .dataframe tbody tr th {\n",
       "        vertical-align: top;\n",
       "    }\n",
       "\n",
       "    .dataframe thead th {\n",
       "        text-align: right;\n",
       "    }\n",
       "</style>\n",
       "<table border=\"1\" class=\"dataframe\">\n",
       "  <thead>\n",
       "    <tr style=\"text-align: right;\">\n",
       "      <th></th>\n",
       "      <th>decile</th>\n",
       "      <th>total</th>\n",
       "      <th>actual</th>\n",
       "      <th>duration</th>\n",
       "      <th>call_cost</th>\n",
       "    </tr>\n",
       "  </thead>\n",
       "  <tbody>\n",
       "    <tr>\n",
       "      <th>9</th>\n",
       "      <td>1</td>\n",
       "      <td>4118</td>\n",
       "      <td>1925</td>\n",
       "      <td>367.198961</td>\n",
       "      <td>11780.78</td>\n",
       "    </tr>\n",
       "    <tr>\n",
       "      <th>8</th>\n",
       "      <td>2</td>\n",
       "      <td>4116</td>\n",
       "      <td>919</td>\n",
       "      <td>413.793254</td>\n",
       "      <td>6337.91</td>\n",
       "    </tr>\n",
       "    <tr>\n",
       "      <th>7</th>\n",
       "      <td>3</td>\n",
       "      <td>4118</td>\n",
       "      <td>395</td>\n",
       "      <td>661.468354</td>\n",
       "      <td>4354.57</td>\n",
       "    </tr>\n",
       "    <tr>\n",
       "      <th>6</th>\n",
       "      <td>4</td>\n",
       "      <td>4117</td>\n",
       "      <td>284</td>\n",
       "      <td>749.116197</td>\n",
       "      <td>3545.80</td>\n",
       "    </tr>\n",
       "    <tr>\n",
       "      <th>5</th>\n",
       "      <td>5</td>\n",
       "      <td>4117</td>\n",
       "      <td>238</td>\n",
       "      <td>815.869748</td>\n",
       "      <td>3236.16</td>\n",
       "    </tr>\n",
       "    <tr>\n",
       "      <th>4</th>\n",
       "      <td>6</td>\n",
       "      <td>4118</td>\n",
       "      <td>235</td>\n",
       "      <td>779.497872</td>\n",
       "      <td>3052.90</td>\n",
       "    </tr>\n",
       "    <tr>\n",
       "      <th>3</th>\n",
       "      <td>7</td>\n",
       "      <td>4115</td>\n",
       "      <td>192</td>\n",
       "      <td>775.515625</td>\n",
       "      <td>2481.57</td>\n",
       "    </tr>\n",
       "    <tr>\n",
       "      <th>2</th>\n",
       "      <td>8</td>\n",
       "      <td>4119</td>\n",
       "      <td>191</td>\n",
       "      <td>825.759162</td>\n",
       "      <td>2628.60</td>\n",
       "    </tr>\n",
       "    <tr>\n",
       "      <th>1</th>\n",
       "      <td>9</td>\n",
       "      <td>4117</td>\n",
       "      <td>144</td>\n",
       "      <td>878.319444</td>\n",
       "      <td>2107.89</td>\n",
       "    </tr>\n",
       "    <tr>\n",
       "      <th>0</th>\n",
       "      <td>10</td>\n",
       "      <td>4118</td>\n",
       "      <td>116</td>\n",
       "      <td>852.163793</td>\n",
       "      <td>1647.46</td>\n",
       "    </tr>\n",
       "  </tbody>\n",
       "</table>\n",
       "</div>"
      ],
      "text/plain": [
       "  decile  total  actual    duration  call_cost\n",
       "9      1   4118    1925  367.198961   11780.78\n",
       "8      2   4116     919  413.793254    6337.91\n",
       "7      3   4118     395  661.468354    4354.57\n",
       "6      4   4117     284  749.116197    3545.80\n",
       "5      5   4117     238  815.869748    3236.16\n",
       "4      6   4118     235  779.497872    3052.90\n",
       "3      7   4115     192  775.515625    2481.57\n",
       "2      8   4119     191  825.759162    2628.60\n",
       "1      9   4117     144  878.319444    2107.89\n",
       "0     10   4118     116  852.163793    1647.46"
      ]
     },
     "execution_count": 291,
     "metadata": {},
     "output_type": "execute_result"
    }
   ],
   "source": [
    "lift_df_final"
   ]
  },
  {
   "cell_type": "code",
   "execution_count": 292,
   "metadata": {},
   "outputs": [],
   "source": [
    "lift_df_final['cumresp'] = lift_df_final['actual'].cumsum()"
   ]
  },
  {
   "cell_type": "code",
   "execution_count": 293,
   "metadata": {},
   "outputs": [],
   "source": [
    "lift_df_final['gain'] = 100*(lift_df_final['cumresp']/sum(lift_df_final['actual']))"
   ]
  },
  {
   "cell_type": "code",
   "execution_count": 294,
   "metadata": {},
   "outputs": [],
   "source": [
    "lift_df_final['cumlift'] = lift_df_final['gain']/(lift_df_final['decile'].astype('int')*(100/10))"
   ]
  },
  {
   "cell_type": "code",
   "execution_count": 295,
   "metadata": {},
   "outputs": [
    {
     "data": {
      "text/html": [
       "<div>\n",
       "<style scoped>\n",
       "    .dataframe tbody tr th:only-of-type {\n",
       "        vertical-align: middle;\n",
       "    }\n",
       "\n",
       "    .dataframe tbody tr th {\n",
       "        vertical-align: top;\n",
       "    }\n",
       "\n",
       "    .dataframe thead th {\n",
       "        text-align: right;\n",
       "    }\n",
       "</style>\n",
       "<table border=\"1\" class=\"dataframe\">\n",
       "  <thead>\n",
       "    <tr style=\"text-align: right;\">\n",
       "      <th></th>\n",
       "      <th>decile</th>\n",
       "      <th>total</th>\n",
       "      <th>actual</th>\n",
       "      <th>duration</th>\n",
       "      <th>call_cost</th>\n",
       "      <th>cumresp</th>\n",
       "      <th>gain</th>\n",
       "      <th>cumlift</th>\n",
       "    </tr>\n",
       "  </thead>\n",
       "  <tbody>\n",
       "    <tr>\n",
       "      <th>9</th>\n",
       "      <td>1</td>\n",
       "      <td>4118</td>\n",
       "      <td>1925</td>\n",
       "      <td>367.198961</td>\n",
       "      <td>11780.78</td>\n",
       "      <td>1925</td>\n",
       "      <td>41.496012</td>\n",
       "      <td>4.149601</td>\n",
       "    </tr>\n",
       "    <tr>\n",
       "      <th>8</th>\n",
       "      <td>2</td>\n",
       "      <td>4116</td>\n",
       "      <td>919</td>\n",
       "      <td>413.793254</td>\n",
       "      <td>6337.91</td>\n",
       "      <td>2844</td>\n",
       "      <td>61.306316</td>\n",
       "      <td>3.065316</td>\n",
       "    </tr>\n",
       "    <tr>\n",
       "      <th>7</th>\n",
       "      <td>3</td>\n",
       "      <td>4118</td>\n",
       "      <td>395</td>\n",
       "      <td>661.468354</td>\n",
       "      <td>4354.57</td>\n",
       "      <td>3239</td>\n",
       "      <td>69.821082</td>\n",
       "      <td>2.327369</td>\n",
       "    </tr>\n",
       "    <tr>\n",
       "      <th>6</th>\n",
       "      <td>4</td>\n",
       "      <td>4117</td>\n",
       "      <td>284</td>\n",
       "      <td>749.116197</td>\n",
       "      <td>3545.80</td>\n",
       "      <td>3523</td>\n",
       "      <td>75.943091</td>\n",
       "      <td>1.898577</td>\n",
       "    </tr>\n",
       "    <tr>\n",
       "      <th>5</th>\n",
       "      <td>5</td>\n",
       "      <td>4117</td>\n",
       "      <td>238</td>\n",
       "      <td>815.869748</td>\n",
       "      <td>3236.16</td>\n",
       "      <td>3761</td>\n",
       "      <td>81.073507</td>\n",
       "      <td>1.621470</td>\n",
       "    </tr>\n",
       "    <tr>\n",
       "      <th>4</th>\n",
       "      <td>6</td>\n",
       "      <td>4118</td>\n",
       "      <td>235</td>\n",
       "      <td>779.497872</td>\n",
       "      <td>3052.90</td>\n",
       "      <td>3996</td>\n",
       "      <td>86.139254</td>\n",
       "      <td>1.435654</td>\n",
       "    </tr>\n",
       "    <tr>\n",
       "      <th>3</th>\n",
       "      <td>7</td>\n",
       "      <td>4115</td>\n",
       "      <td>192</td>\n",
       "      <td>775.515625</td>\n",
       "      <td>2481.57</td>\n",
       "      <td>4188</td>\n",
       "      <td>90.278077</td>\n",
       "      <td>1.289687</td>\n",
       "    </tr>\n",
       "    <tr>\n",
       "      <th>2</th>\n",
       "      <td>8</td>\n",
       "      <td>4119</td>\n",
       "      <td>191</td>\n",
       "      <td>825.759162</td>\n",
       "      <td>2628.60</td>\n",
       "      <td>4379</td>\n",
       "      <td>94.395344</td>\n",
       "      <td>1.179942</td>\n",
       "    </tr>\n",
       "    <tr>\n",
       "      <th>1</th>\n",
       "      <td>9</td>\n",
       "      <td>4117</td>\n",
       "      <td>144</td>\n",
       "      <td>878.319444</td>\n",
       "      <td>2107.89</td>\n",
       "      <td>4523</td>\n",
       "      <td>97.499461</td>\n",
       "      <td>1.083327</td>\n",
       "    </tr>\n",
       "    <tr>\n",
       "      <th>0</th>\n",
       "      <td>10</td>\n",
       "      <td>4118</td>\n",
       "      <td>116</td>\n",
       "      <td>852.163793</td>\n",
       "      <td>1647.46</td>\n",
       "      <td>4639</td>\n",
       "      <td>100.000000</td>\n",
       "      <td>1.000000</td>\n",
       "    </tr>\n",
       "  </tbody>\n",
       "</table>\n",
       "</div>"
      ],
      "text/plain": [
       "  decile  total  actual    duration  call_cost  cumresp        gain   cumlift\n",
       "9      1   4118    1925  367.198961   11780.78     1925   41.496012  4.149601\n",
       "8      2   4116     919  413.793254    6337.91     2844   61.306316  3.065316\n",
       "7      3   4118     395  661.468354    4354.57     3239   69.821082  2.327369\n",
       "6      4   4117     284  749.116197    3545.80     3523   75.943091  1.898577\n",
       "5      5   4117     238  815.869748    3236.16     3761   81.073507  1.621470\n",
       "4      6   4118     235  779.497872    3052.90     3996   86.139254  1.435654\n",
       "3      7   4115     192  775.515625    2481.57     4188   90.278077  1.289687\n",
       "2      8   4119     191  825.759162    2628.60     4379   94.395344  1.179942\n",
       "1      9   4117     144  878.319444    2107.89     4523   97.499461  1.083327\n",
       "0     10   4118     116  852.163793    1647.46     4639  100.000000  1.000000"
      ]
     },
     "execution_count": 295,
     "metadata": {},
     "output_type": "execute_result"
    }
   ],
   "source": [
    "lift_df_final"
   ]
  },
  {
   "cell_type": "markdown",
   "metadata": {},
   "source": [
    "Note that you can attain 80% of total conversions by targeting only 50% of the total client base. This can be used in cost optimization and depending on the cost per call, we can determine, how many people should be part of the tele marketing campaign"
   ]
  },
  {
   "cell_type": "code",
   "execution_count": 296,
   "metadata": {},
   "outputs": [
    {
     "data": {
      "text/plain": [
       "601.4893028176105"
      ]
     },
     "execution_count": 296,
     "metadata": {},
     "output_type": "execute_result"
    }
   ],
   "source": [
    "#average call duration for targeting the top 50% prospects to the CMO\n",
    "avg_call_duration = (lift_df_final['duration'][0:5]).mean()\n",
    "avg_call_duration"
   ]
  },
  {
   "cell_type": "markdown",
   "metadata": {},
   "source": [
    "#### 5.Create a lift chart\n",
    "\n",
    "The x-axis should show the number of prospects contacted; the y-axis should show the ratio of the response rate using the model and the response rate without using the model\n"
   ]
  },
  {
   "cell_type": "code",
   "execution_count": 297,
   "metadata": {},
   "outputs": [
    {
     "data": {
      "text/plain": [
       "<matplotlib.axes._subplots.AxesSubplot at 0x1c26bb2fd0>"
      ]
     },
     "execution_count": 297,
     "metadata": {},
     "output_type": "execute_result"
    },
    {
     "data": {
      "image/png": "[encoded data removed]",
      "text/plain": [
       "<Figure size 432x288 with 1 Axes>"
      ]
     },
     "metadata": {},
     "output_type": "display_data"
    }
   ],
   "source": [
    "lift_df_final.plot.line(x='decile', y=['gain'])"
   ]
  },
  {
   "cell_type": "code",
   "execution_count": 298,
   "metadata": {},
   "outputs": [
    {
     "data": {
      "image/png": "[encoded data removed]",
      "text/plain": [
       "<Figure size 432x288 with 1 Axes>"
      ]
     },
     "metadata": {},
     "output_type": "display_data"
    }
   ],
   "source": [
    "ax=lift_df_final.plot.line(x='decile', y=['cumlift'])\n",
    "ax.set(xlabel=\"%population\", ylabel=\"cumlift\")\n",
    "plt.show()"
   ]
  },
  {
   "cell_type": "markdown",
   "metadata": {},
   "source": [
    "#### 6.Determine the cost of acquisition\n",
    "\n",
    "Consider cost = 1*number of contacts made in the current campaign; determine the cost incurred \n",
    "for acquiring 80% of customers using the predictive model"
   ]
  },
  {
   "cell_type": "code",
   "execution_count": 299,
   "metadata": {
    "scrolled": true
   },
   "outputs": [
    {
     "name": "stdout",
     "output_type": "stream",
     "text": [
      "Total cost is : 174562.17\n",
      "Cost incurred for acquiring 80% of customer using predictive model is : 29255.22\n",
      "Percentage of cost of acquisition saved : 83.24\n"
     ]
    }
   ],
   "source": [
    "cost=round(duration.sum()/60,2)\n",
    "print(\"Total cost is :\",cost)\n",
    "cost_incurred=round(lift_df_final['call_cost'][0:5].sum(),2)\n",
    "print(\"Cost incurred for acquiring 80% of customer using predictive model is :\",cost_incurred)\n",
    "percent_saved=round(((cost-cost_incurred)/cost)*100,2)\n",
    "print(\"Percentage of cost of acquisition saved :\",percent_saved)"
   ]
  },
  {
   "cell_type": "markdown",
   "metadata": {},
   "source": [
    "We are able to save 83.23% of fund using the predictive model"
   ]
  },
  {
   "cell_type": "code",
   "execution_count": null,
   "metadata": {},
   "outputs": [],
   "source": []
  }
 ],
 "metadata": {
  "kernelspec": {
   "display_name": "Python 3",
   "language": "python",
   "name": "python3"
  },
  "language_info": {
   "codemirror_mode": {
    "name": "ipython",
    "version": 3
   },
   "file_extension": ".py",
   "mimetype": "text/x-python",
   "name": "python",
   "nbconvert_exporter": "python",
   "pygments_lexer": "ipython3",
   "version": "3.6.5"
  }
 },
 "nbformat": 4,
 "nbformat_minor": 2
}
